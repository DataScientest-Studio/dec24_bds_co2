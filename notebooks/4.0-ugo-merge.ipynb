{
 "cells": [
  {
   "cell_type": "code",
   "execution_count": 1,
   "metadata": {},
   "outputs": [],
   "source": [
    "#Importation des bibliothèqes\n",
    "import pandas as pd\n",
    "import numpy as np"
   ]
  },
  {
   "cell_type": "code",
   "execution_count": 207,
   "metadata": {},
   "outputs": [
    {
     "name": "stderr",
     "output_type": "stream",
     "text": [
      "C:\\Users\\UGO\\Anaconda3\\lib\\site-packages\\IPython\\core\\interactiveshell.py:2785: DtypeWarning: Columns (7,15) have mixed types. Specify dtype option on import or set low_memory=False.\n",
      "  interactivity=interactivity, compiler=compiler, result=result)\n"
     ]
    },
    {
     "name": "stdout",
     "output_type": "stream",
     "text": [
      "(65948, 39)\n",
      "Index(['lib_mrq', 'lib_mod_doss', 'lib_mod', 'dscom', 'cod_cbr', 'hybride',\n",
      "       'puiss_admin_98', 'puiss_max', 'typ_boite_nb_rapp', 'conso_urb',\n",
      "       'conso_exurb', 'conso_mixte', 'co2', 'co_typ_1', 'nox', 'ptcl',\n",
      "       'masse_ordma_min', 'masse_ordma_max', 'champ_v9', 'Carrosserie',\n",
      "       'gamme', 'Country', 'Mp', 'Mh', 'Man', 'MMS', 'Tan', 'Cn', 'Ct', 'r',\n",
      "       'm (kg)', 'Enedc (g/km)', 'W (mm)', 'At1 (mm)', 'At2 (mm)', 'Ft', 'Fm',\n",
      "       'ec (cm3)', 'ep (KW)'],\n",
      "      dtype='object')\n",
      "      lib_mrq lib_mod_doss lib_mod                        dscom cod_cbr  \\\n",
      "0  ALFA-ROMEO          159     159         159 2.0 JTDm (170ch)      GO   \n",
      "1  ALFA-ROMEO          159     159     159 2.0 JTDm (170ch) ECO      GO   \n",
      "2  ALFA-ROMEO          159     159      159 SW 2.0 JTDm (170ch)      GO   \n",
      "3  ALFA-ROMEO          159     159      159 SW 2.0 JTDm (170ch)      GO   \n",
      "4  ALFA-ROMEO          159     159  159 SW 2.0 JTDm (170ch) ECO      GO   \n",
      "\n",
      "  hybride  puiss_admin_98 puiss_max typ_boite_nb_rapp    conso_urb   ...    r  \\\n",
      "0     non               9       125               M 6  6,900000095   ...    2   \n",
      "1     non               9       125               M 6  6,599999905   ...    2   \n",
      "2     non               9       125               M 6  7,099999905   ...    4   \n",
      "3     non               9       125               M 6  7,099999905   ...    1   \n",
      "4     non               9       125               M 6  6,699999809   ...    3   \n",
      "\n",
      "   m (kg)  Enedc (g/km)  W (mm) At1 (mm) At2 (mm)      Ft  Fm ec (cm3) ep (KW)  \n",
      "0  1578.0         142.0  2703.0   1579.0   1559.0  diesel   M   1956.0     NaN  \n",
      "1  1565.0         136.0  2703.0   1593.0   1575.0  Diesel   M   1956.0     NaN  \n",
      "2  1628.0         145.0  2703.0   1579.0   1559.0  diesel   M   1956.0     NaN  \n",
      "3  1627.0         145.0  2703.0   1579.0   1559.0  diesel   M   1956.0     NaN  \n",
      "4  1615.0         139.0  2703.0   1593.0   1575.0  Diesel   M   1956.0     NaN  \n",
      "\n",
      "[5 rows x 39 columns]\n",
      "<class 'pandas.core.frame.DataFrame'>\n",
      "RangeIndex: 65948 entries, 0 to 65947\n",
      "Data columns (total 39 columns):\n",
      "lib_mrq              65948 non-null object\n",
      "lib_mod_doss         65948 non-null object\n",
      "lib_mod              65948 non-null object\n",
      "dscom                65948 non-null object\n",
      "cod_cbr              65948 non-null object\n",
      "hybride              65948 non-null object\n",
      "puiss_admin_98       65948 non-null int64\n",
      "puiss_max            65948 non-null object\n",
      "typ_boite_nb_rapp    65948 non-null object\n",
      "conso_urb            65791 non-null object\n",
      "conso_exurb          65791 non-null object\n",
      "conso_mixte          65791 non-null object\n",
      "co2                  65791 non-null float64\n",
      "co_typ_1             65779 non-null object\n",
      "nox                  65779 non-null object\n",
      "ptcl                 49211 non-null object\n",
      "masse_ordma_min      65948 non-null int64\n",
      "masse_ordma_max      65948 non-null int64\n",
      "champ_v9             65791 non-null object\n",
      "Carrosserie          65948 non-null object\n",
      "gamme                65948 non-null object\n",
      "Country              65948 non-null object\n",
      "Mp                   40301 non-null object\n",
      "Mh                   65948 non-null object\n",
      "Man                  65948 non-null object\n",
      "MMS                  55839 non-null object\n",
      "Tan                  57867 non-null object\n",
      "Cn                   65842 non-null object\n",
      "Ct                   65864 non-null object\n",
      "r                    65948 non-null int64\n",
      "m (kg)               65871 non-null float64\n",
      "Enedc (g/km)         65931 non-null float64\n",
      "W (mm)               65225 non-null float64\n",
      "At1 (mm)             64743 non-null float64\n",
      "At2 (mm)             59805 non-null float64\n",
      "Ft                   64783 non-null object\n",
      "Fm                   64641 non-null object\n",
      "ec (cm3)             65077 non-null float64\n",
      "ep (KW)              49842 non-null float64\n",
      "dtypes: float64(8), int64(4), object(27)\n",
      "memory usage: 12.8+ MB\n",
      "None\n"
     ]
    }
   ],
   "source": [
    "df = pd.read_csv(\"../data/data_merge.csv\")\n",
    "\n",
    "print(df.shape)\n",
    "print(df.columns)\n",
    "print(df.head())\n",
    "print(df.info())"
   ]
  },
  {
   "cell_type": "markdown",
   "metadata": {},
   "source": [
    "**Etude de lib_mrq**"
   ]
  },
  {
   "cell_type": "code",
   "execution_count": 9,
   "metadata": {},
   "outputs": [
    {
     "data": {
      "text/plain": [
       "RENAULT         19378\n",
       "CITROEN         15371\n",
       "PEUGEOT         11825\n",
       "DACIA            8960\n",
       "VOLVO            5908\n",
       "FIAT             2930\n",
       "ALFA-ROMEO        952\n",
       "NISSAN            430\n",
       "OPEL               26\n",
       "SKODA              23\n",
       "JAGUAR             13\n",
       "VOLKSWAGEN         13\n",
       "SUZUKI             13\n",
       "LAMBORGHINI        12\n",
       "LEXUS              12\n",
       "MITSUBISHI         10\n",
       "INFINITI            9\n",
       "LANCIA              9\n",
       "MIA                 8\n",
       "LOTUS               8\n",
       "ASTON MARTIN        6\n",
       "SUBARU              6\n",
       "LAND ROVER          4\n",
       "MERCEDES            4\n",
       "CHEVROLET           4\n",
       "FERRARI             4\n",
       "MASERATI            3\n",
       "HONDA               2\n",
       "KIA                 2\n",
       "JEEP                1\n",
       "CADILLAC            1\n",
       "HYUNDAI             1\n",
       "Name: lib_mrq, dtype: int64"
      ]
     },
     "execution_count": 9,
     "metadata": {},
     "output_type": "execute_result"
    }
   ],
   "source": [
    "df[\"lib_mrq\"].value_counts()"
   ]
  },
  {
   "cell_type": "markdown",
   "metadata": {},
   "source": [
    "**Etude de lib_mod_doss**"
   ]
  },
  {
   "cell_type": "code",
   "execution_count": 13,
   "metadata": {},
   "outputs": [
    {
     "name": "stdout",
     "output_type": "stream",
     "text": [
      "CLIO                 6132\n",
      "MEGANE               5642\n",
      "MEGANE SCENIC        3497\n",
      "LODGY                3102\n",
      "SANDERO              3073\n",
      "C5                   2830\n",
      "CAPTUR               2098\n",
      "208                  1855\n",
      "BERLINGO             1845\n",
      "DS3                  1808\n",
      "508                  1800\n",
      "C3                   1785\n",
      "C4                   1671\n",
      "500                  1368\n",
      "DUSTER               1280\n",
      "V40                  1253\n",
      "5008                 1222\n",
      "C3 PICASSO           1208\n",
      "3008                 1135\n",
      "308                  1117\n",
      "DOKKER               1074\n",
      "C4 PICASSO           1029\n",
      "PARTNER              1025\n",
      "XC60                 1010\n",
      "RCZ                   852\n",
      "V60                   805\n",
      "C1                    773\n",
      "S60                   760\n",
      "DS4                   727\n",
      "ESPACE                703\n",
      "                     ... \n",
      "GRANTURISMO             2\n",
      "XK COUPE                2\n",
      "ALTO                    2\n",
      "370Z ROADSTER           2\n",
      "LEAF                    2\n",
      "SPLASH                  2\n",
      "RX450H                  2\n",
      "IS250                   2\n",
      "PAJERO                  2\n",
      "CR-V                    2\n",
      "XK CONVERTIBLE          2\n",
      "AR8C SPIDER             1\n",
      "QUATTROPORTE S Q4       1\n",
      "I 20                    1\n",
      "CEE'D                   1\n",
      "SOUL                    1\n",
      "COMPASS                 1\n",
      "RX350                   1\n",
      "TRAX                    1\n",
      "MOKKA                   1\n",
      "IS200                   1\n",
      "IS F                    1\n",
      "CTS-V                   1\n",
      "ASTRA                   1\n",
      "COLT                    1\n",
      "CLASSE A                1\n",
      "LS460                   1\n",
      "XKR-S COUPE             1\n",
      "SUPERB                  1\n",
      "GS450                   1\n",
      "Name: lib_mod_doss, Length: 142, dtype: int64\n",
      "142\n"
     ]
    }
   ],
   "source": [
    "print(df[\"lib_mod_doss\"].value_counts())"
   ]
  },
  {
   "cell_type": "code",
   "execution_count": 14,
   "metadata": {},
   "outputs": [
    {
     "name": "stdout",
     "output_type": "stream",
     "text": [
      "CLIO            6132\n",
      "MEGANE          5642\n",
      "SCENIC          3497\n",
      "LODGY           3102\n",
      "SANDERO         3073\n",
      "C5              2830\n",
      "CAPTUR          2098\n",
      "208             1855\n",
      "BERLINGO        1845\n",
      "V40             1824\n",
      "DS3             1808\n",
      "508             1800\n",
      "C3              1785\n",
      "C4              1671\n",
      "500             1371\n",
      "DUSTER          1280\n",
      "5008            1222\n",
      "C3 PICASSO      1208\n",
      "3008            1135\n",
      "308             1117\n",
      "DOKKER          1074\n",
      "C4 PICASSO      1029\n",
      "PARTNER         1025\n",
      "XC60            1010\n",
      "RCZ              852\n",
      "V60              838\n",
      "C1               773\n",
      "S60              760\n",
      "DS4              727\n",
      "ESPACE           703\n",
      "                ... \n",
      "MURANO             3\n",
      "RX                 3\n",
      "QX50               3\n",
      "PHAETON            3\n",
      "DUCATO             3\n",
      "Q60                3\n",
      "C 220              2\n",
      "SX4                2\n",
      "370Z               2\n",
      "LEAF               2\n",
      "GRANTURISMO        2\n",
      "PAJERO             2\n",
      "CR-V               2\n",
      "SPLASH             2\n",
      "ALTO               2\n",
      "COLT               1\n",
      "QUATTROPORTE       1\n",
      "I 20               1\n",
      "SUPERB             1\n",
      "COMPASS            1\n",
      "SOUL               1\n",
      "8C SPIDER          1\n",
      "TRAX               1\n",
      "GS                 1\n",
      "C 180              1\n",
      "A 180              1\n",
      "MOKKA              1\n",
      "ASTRA              1\n",
      "CTS                1\n",
      "CEE'D              1\n",
      "Name: lib_mod, Length: 130, dtype: int64\n",
      "130\n"
     ]
    }
   ],
   "source": [
    "print(df[\"lib_mod\"].value_counts())"
   ]
  },
  {
   "cell_type": "code",
   "execution_count": 20,
   "metadata": {},
   "outputs": [
    {
     "name": "stdout",
     "output_type": "stream",
     "text": [
      "MEGANE Estate Nouvelle EnergydCi (110ch) eco2          978\n",
      "Nouvelle CLIO Nouvelle 1.2 16V (75ch)                  944\n",
      "MEGANE Berline Nouvelle EnergydCi (110ch) eco2         785\n",
      "LODGY dCi (110ch) eco2 7PL                             728\n",
      "BERLINGO Hdi (90ch) BVM5                               725\n",
      "CAPTUR EnergydCi (90ch) eco2                           697\n",
      "LODGY dCi (90ch) eco2 7PL                              664\n",
      "CAPTUR EnergyTCe (90ch) eco2                           645\n",
      "Nouvelle CLIO Graphite EnergydCi (90ch) eco2           644\n",
      "Nouvelle SANDERO Stepway dCi (90ch) eco2               641\n",
      "LODGY dCi (90ch) eco2 5PL                              603\n",
      "Nouvelle CLIO Graphite EnergyTCe (90ch) eco2           586\n",
      "Nouvelle CLIO Graphite dCi (75ch) eco2                 568\n",
      "Nouvelle SANDERO Stepway TCe (90ch)                    544\n",
      "MEGANE Berline Nouvelle EnergyTCe (115ch) eco2         539\n",
      "MEGANE Estate Nouvelle EnergyTCe (115ch) eco2          524\n",
      "LODGY dCi (110ch) eco2 5PL                             522\n",
      "DOKKER Embleme dCi (90ch) eco2                         499\n",
      "Nouvelle SANDERO TCe (90ch) eco2                       497\n",
      "SCENIC Bose« 2014 EnergydCi (110ch) eco2               487\n",
      "CAPTUR TCe (120ch) EDC                                 471\n",
      "C3 PICASSO VTi (95ch)                                  437\n",
      "DUSTER dCi (110ch) 4x4                                 431\n",
      "C4 HDi (90ch) FAP BVM5                                 428\n",
      "Nouvelle SANDERO 1.2 16V (75ch)                        421\n",
      "MEGANE Coupé EnergydCi (110ch) eco2                    402\n",
      "C4 VTi BVM5 (120ch)                                    384\n",
      "DS3 VTI (120ch) BVM5                                   380\n",
      "SCENIC Nouvelle EnergyTCe (115ch)                      369\n",
      "DOKKER dCi (75ch) eco2                                 369\n",
      "                                                      ... \n",
      "COMPASS 2.2 L CRD BMV6                                   1\n",
      "OUTLANDER 2.2 DI-D Instyle TC-SST                        1\n",
      "XKR-S V8 5L Essence Suralimenté (550ch) CEE - Coupé      1\n",
      "NV400 COMBI 3T5 8 PL 2.3 dCi (125ch) E5b+ BVM6 L2H2      1\n",
      "Evora (2+2)                                              1\n",
      "MURANO 2.5 dCi                                           1\n",
      "Musa 1.3 MultiJet 16v (95ch) DPF Stop&Start D.F.S        1\n",
      "AGILA 1.2 BVM5                                           1\n",
      "FABIA BERLINE 1.6L (75ch)                                1\n",
      "8C SPIDER                                                1\n",
      "COLT CLEARTEC 1.3L Invite                                1\n",
      "V40 D3 (150ch) Stop&Start et/ou 19'' Geartronic 6        1\n",
      "308 CC 1.6 e-Hdi FAP BVM6                                1\n",
      "IS 250 V6 2.5L                                           1\n",
      "AGILA 1.2 Start/Stop BVM5                                1\n",
      "ROOMSTER 1.2L TSI (85ch) BVM5                            1\n",
      "500 Abarth Esseesse Euro 5                               1\n",
      "IS 200d 2.2L                                             1\n",
      "SOUL 1.6 Diesel CRDi (128ch) BVM 6                       1\n",
      "FABIA COMBI 1.2L TSI (105ch) DGS7                        1\n",
      "A 180 CDI BVM6 FAP                                       1\n",
      "PANDA 1.2 (69ch) 5PL                                     1\n",
      "Q60 3.7 Cabriolet                                        1\n",
      "370Z ROADSTER BVA7                                       1\n",
      "AGILA 1.0 ecoFLEX Start/Stop BVM5                        1\n",
      "159 2.0 JTDm (170ch)                                     1\n",
      "NEMO COMBI HDi (75ch) BMP5 Confort                       1\n",
      "159 2.0 JTDm (136ch)                                     1\n",
      "FABIA BERLINE 1.6 TDI (90ch) FAP                         1\n",
      "FREELANDER 2 TD4 (150ch) 5PL BVA                         1\n",
      "Name: dscom, Length: 847, dtype: int64\n"
     ]
    }
   ],
   "source": [
    "print(df[\"dscom\"].value_counts())"
   ]
  },
  {
   "cell_type": "code",
   "execution_count": 22,
   "metadata": {},
   "outputs": [
    {
     "name": "stdout",
     "output_type": "stream",
     "text": [
      "GO       39348\n",
      "ES       25315\n",
      "GH         433\n",
      "GP/ES      325\n",
      "ES/GP      325\n",
      "EL         157\n",
      "GL          33\n",
      "EH           6\n",
      "ES/GN        3\n",
      "GN/ES        3\n",
      "Name: cod_cbr, dtype: int64\n"
     ]
    }
   ],
   "source": [
    "print(df[\"cod_cbr\"].value_counts())"
   ]
  },
  {
   "cell_type": "code",
   "execution_count": null,
   "metadata": {},
   "outputs": [],
   "source": []
  },
  {
   "cell_type": "code",
   "execution_count": 23,
   "metadata": {},
   "outputs": [
    {
     "name": "stdout",
     "output_type": "stream",
     "text": [
      "non    65476\n",
      "oui      472\n",
      "Name: hybride, dtype: int64\n"
     ]
    }
   ],
   "source": [
    "print(df[\"hybride\"].value_counts())"
   ]
  },
  {
   "cell_type": "code",
   "execution_count": 25,
   "metadata": {},
   "outputs": [
    {
     "name": "stdout",
     "output_type": "stream",
     "text": [
      "count    65948.000000\n",
      "mean         6.481607\n",
      "std          2.665410\n",
      "min          1.000000\n",
      "25%          5.000000\n",
      "50%          6.000000\n",
      "75%          8.000000\n",
      "max         50.000000\n",
      "Name: puiss_admin_98, dtype: float64\n"
     ]
    }
   ],
   "source": [
    "print(df[\"puiss_admin_98\"].describe())"
   ]
  },
  {
   "cell_type": "code",
   "execution_count": 213,
   "metadata": {},
   "outputs": [
    {
     "name": "stdout",
     "output_type": "stream",
     "text": [
      "66             8803\n",
      "81             4442\n",
      "88             3233\n",
      "84             2931\n",
      "55             2706\n",
      "85             2660\n",
      "68             2578\n",
      "120            2421\n",
      "115            1936\n",
      "110            1798\n",
      "50             1736\n",
      "158            1722\n",
      "96             1695\n",
      "88             1610\n",
      "68             1546\n",
      "50             1491\n",
      "84             1443\n",
      "54             1320\n",
      "79             1250\n",
      "120            1240\n",
      "97             1134\n",
      "51             1087\n",
      "133             932\n",
      "70              886\n",
      "115             804\n",
      "60              772\n",
      "147             729\n",
      "80              718\n",
      "100             682\n",
      "127             659\n",
      "               ... \n",
      "290               3\n",
      "313,2000122       3\n",
      "44                2\n",
      "183               2\n",
      "187               2\n",
      "241               2\n",
      "298               2\n",
      "175               2\n",
      "90                2\n",
      "176               2\n",
      "153               2\n",
      "188               2\n",
      "170               2\n",
      "118               2\n",
      "320,7000122       2\n",
      "287               1\n",
      "139,5             1\n",
      "48                1\n",
      "218               1\n",
      "191               1\n",
      "331               1\n",
      "204               1\n",
      "270               1\n",
      "380               1\n",
      "127               1\n",
      "415               1\n",
      "246               1\n",
      "149               1\n",
      "302               1\n",
      "311               1\n",
      "Name: puiss_max, Length: 132, dtype: int64\n",
      "0\n",
      "65943    224\n",
      "65944    224\n",
      "65945    224\n",
      "65946    224\n",
      "65947    224\n",
      "Name: puiss_max, dtype: object\n",
      "[224 224 224 224 224]\n"
     ]
    }
   ],
   "source": [
    "print(df[\"puiss_max\"].value_counts())\n",
    "print(df[\"puiss_max\"].isnull().sum())\n",
    "print(df[\"puiss_max\"].tail())\n",
    "print(df[\"puiss_max\"].tail().values)"
   ]
  },
  {
   "cell_type": "code",
   "execution_count": 202,
   "metadata": {},
   "outputs": [],
   "source": [
    "df[\"puiss_max\"] = df[\"puiss_max\"].str.replace(\",\",\".\").astype(\"float64\")"
   ]
  },
  {
   "cell_type": "code",
   "execution_count": 205,
   "metadata": {},
   "outputs": [
    {
     "name": "stdout",
     "output_type": "stream",
     "text": [
      "count    16384.000000\n",
      "mean        83.279523\n",
      "std         30.101897\n",
      "min         10.000000\n",
      "25%         68.000000\n",
      "50%         77.000000\n",
      "75%        100.000000\n",
      "max        419.000000\n",
      "Name: puiss_max, dtype: float64\n",
      "49564\n",
      "68.000000     2578\n",
      "88.000000     1610\n",
      "50.000000     1491\n",
      "84.000000     1443\n",
      "120.000000    1240\n",
      "51.000000     1087\n",
      "70.000000      886\n",
      "115.000000     804\n",
      "103.000000     494\n",
      "110.000000     487\n",
      "125.000000     481\n",
      "73.500000      477\n",
      "85.000000      440\n",
      "60.000000      355\n",
      "77.000000      349\n",
      "150.000000     280\n",
      "55.000000      264\n",
      "57.000000      256\n",
      "72.000000      204\n",
      "62.500000      190\n",
      "62.000000      155\n",
      "100.000000     130\n",
      "99.000000      118\n",
      "86.000000       81\n",
      "172.500000      60\n",
      "121.000000      53\n",
      "66.000000       43\n",
      "147.000000      37\n",
      "94.000000       37\n",
      "99.199997       26\n",
      "              ... \n",
      "313.200012       3\n",
      "290.000000       3\n",
      "118.000000       2\n",
      "320.700012       2\n",
      "188.000000       2\n",
      "170.000000       2\n",
      "183.000000       2\n",
      "175.000000       2\n",
      "298.000000       2\n",
      "90.000000        2\n",
      "176.000000       2\n",
      "187.000000       2\n",
      "153.000000       2\n",
      "241.000000       2\n",
      "44.000000        2\n",
      "311.000000       1\n",
      "191.000000       1\n",
      "380.000000       1\n",
      "287.000000       1\n",
      "302.000000       1\n",
      "218.000000       1\n",
      "139.500000       1\n",
      "149.000000       1\n",
      "331.000000       1\n",
      "246.000000       1\n",
      "270.000000       1\n",
      "204.000000       1\n",
      "415.000000       1\n",
      "127.000000       1\n",
      "48.000000        1\n",
      "Name: puiss_max, Length: 87, dtype: int64\n",
      "65943   NaN\n",
      "65944   NaN\n",
      "65945   NaN\n",
      "65946   NaN\n",
      "65947   NaN\n",
      "Name: puiss_max, dtype: float64\n"
     ]
    }
   ],
   "source": [
    "print(df[\"puiss_max\"].describe())\n",
    "print(df[\"puiss_max\"].isnull().sum())\n",
    "print(df[\"puiss_max\"].value_counts())\n",
    "print(df[\"puiss_max\"].tail())"
   ]
  },
  {
   "cell_type": "code",
   "execution_count": 36,
   "metadata": {},
   "outputs": [
    {
     "name": "stdout",
     "output_type": "stream",
     "text": [
      "M 5    26812\n",
      "M 6    24814\n",
      "A 6    11735\n",
      "A 4      765\n",
      "D 5      620\n",
      "A 5      557\n",
      "A 8      417\n",
      "V 0      168\n",
      "D 6       32\n",
      "A 7       21\n",
      "D 7        4\n",
      "N 0        2\n",
      "S 6        1\n",
      "Name: typ_boite_nb_rapp, dtype: int64\n"
     ]
    }
   ],
   "source": [
    "print(df[\"typ_boite_nb_rapp\"].value_counts())"
   ]
  },
  {
   "cell_type": "code",
   "execution_count": 40,
   "metadata": {},
   "outputs": [],
   "source": [
    "df[\"conso_urb\"] = df[\"conso_urb\"].str.replace(\",\",\".\").astype(\"float64\")"
   ]
  },
  {
   "cell_type": "code",
   "execution_count": 41,
   "metadata": {},
   "outputs": [
    {
     "name": "stdout",
     "output_type": "stream",
     "text": [
      "count    65791.000000\n",
      "mean         6.285644\n",
      "std          1.841416\n",
      "min          0.000000\n",
      "25%          4.900000\n",
      "50%          5.900000\n",
      "75%          7.600000\n",
      "max         24.400000\n",
      "Name: conso_urb, dtype: float64\n"
     ]
    }
   ],
   "source": [
    "print(df[\"conso_urb\"].describe())"
   ]
  },
  {
   "cell_type": "code",
   "execution_count": 42,
   "metadata": {},
   "outputs": [],
   "source": [
    "df[\"conso_exurb\"] = df[\"conso_exurb\"].str.replace(\",\",\".\").astype(\"float64\")"
   ]
  },
  {
   "cell_type": "code",
   "execution_count": 43,
   "metadata": {},
   "outputs": [
    {
     "name": "stdout",
     "output_type": "stream",
     "text": [
      "3.2     4575\n",
      "4.3     4056\n",
      "4.6     3869\n",
      "3.8     3846\n",
      "4.0     3752\n",
      "3.9     3696\n",
      "4.7     3339\n",
      "4.1     2989\n",
      "5.0     2984\n",
      "4.9     2854\n",
      "5.1     2484\n",
      "3.7     2438\n",
      "4.8     2431\n",
      "4.5     2286\n",
      "3.6     2284\n",
      "3.4     1957\n",
      "4.2     1929\n",
      "3.5     1347\n",
      "4.4     1281\n",
      "5.6     1238\n",
      "5.2     1224\n",
      "5.5     1107\n",
      "5.8     1032\n",
      "3.3     1003\n",
      "5.3      977\n",
      "5.4      951\n",
      "6.0      773\n",
      "3.0      545\n",
      "6.2      466\n",
      "3.1      366\n",
      "        ... \n",
      "7.3       88\n",
      "6.3       70\n",
      "2.9       52\n",
      "7.5       48\n",
      "6.4       44\n",
      "7.0       11\n",
      "8.6       11\n",
      "8.4        8\n",
      "8.0        7\n",
      "9.4        7\n",
      "9.2        5\n",
      "9.3        4\n",
      "8.3        4\n",
      "7.1        4\n",
      "7.4        3\n",
      "7.2        3\n",
      "6.9        3\n",
      "6.6        2\n",
      "7.8        2\n",
      "9.7        2\n",
      "10.0       2\n",
      "9.6        2\n",
      "10.2       2\n",
      "8.5        1\n",
      "10.4       1\n",
      "11.7       1\n",
      "11.5       1\n",
      "9.8        1\n",
      "7.6        1\n",
      "11.6       1\n",
      "Name: conso_exurb, Length: 68, dtype: int64\n"
     ]
    }
   ],
   "source": [
    "print(df[\"conso_exurb\"].value_counts())"
   ]
  },
  {
   "cell_type": "code",
   "execution_count": 44,
   "metadata": {},
   "outputs": [],
   "source": [
    "df[\"conso_mixte\"] = df[\"conso_mixte\"].str.replace(\",\",\".\").astype(\"float64\")"
   ]
  },
  {
   "cell_type": "code",
   "execution_count": 46,
   "metadata": {},
   "outputs": [
    {
     "name": "stdout",
     "output_type": "stream",
     "text": [
      "count    65791.000000\n",
      "mean         5.069351\n",
      "std          1.152650\n",
      "min          1.800000\n",
      "25%          4.200000\n",
      "50%          4.900000\n",
      "75%          5.900000\n",
      "max         16.400000\n",
      "Name: conso_mixte, dtype: float64\n"
     ]
    }
   ],
   "source": [
    "print(df[\"conso_mixte\"].describe())"
   ]
  },
  {
   "cell_type": "code",
   "execution_count": 53,
   "metadata": {},
   "outputs": [
    {
     "name": "stdout",
     "output_type": "stream",
     "text": [
      "count    65791.000000\n",
      "mean       125.227904\n",
      "std         25.593656\n",
      "min         48.000000\n",
      "25%        105.000000\n",
      "50%        120.000000\n",
      "75%        140.000000\n",
      "max        388.000000\n",
      "Name: co2, dtype: float64\n"
     ]
    }
   ],
   "source": [
    "print(df[\"co2\"].describe())"
   ]
  },
  {
   "cell_type": "code",
   "execution_count": 54,
   "metadata": {},
   "outputs": [],
   "source": [
    "df[\"co_typ_1\"] = df[\"co_typ_1\"].str.replace(\",\",\".\").astype(\"float64\")"
   ]
  },
  {
   "cell_type": "code",
   "execution_count": 55,
   "metadata": {},
   "outputs": [
    {
     "name": "stdout",
     "output_type": "stream",
     "text": [
      "count    65779.000000\n",
      "mean         0.304562\n",
      "std          0.140076\n",
      "min          0.020000\n",
      "25%          0.213000\n",
      "50%          0.274000\n",
      "75%          0.349000\n",
      "max          0.931000\n",
      "Name: co_typ_1, dtype: float64\n"
     ]
    }
   ],
   "source": [
    "print(df[\"co_typ_1\"].describe())"
   ]
  },
  {
   "cell_type": "code",
   "execution_count": 57,
   "metadata": {},
   "outputs": [],
   "source": [
    "df[\"nox\"] = df[\"nox\"].str.replace(\",\",\".\").astype(\"float64\")"
   ]
  },
  {
   "cell_type": "code",
   "execution_count": 59,
   "metadata": {},
   "outputs": [
    {
     "name": "stdout",
     "output_type": "stream",
     "text": [
      "count    65779.000000\n",
      "mean         0.097032\n",
      "std          0.062838\n",
      "min          0.001000\n",
      "25%          0.027000\n",
      "50%          0.119000\n",
      "75%          0.148000\n",
      "max          0.259000\n",
      "Name: nox, dtype: float64\n"
     ]
    }
   ],
   "source": [
    "print(df[\"nox\"].describe())"
   ]
  },
  {
   "cell_type": "code",
   "execution_count": 64,
   "metadata": {},
   "outputs": [],
   "source": [
    "df[\"ptcl\"] = df[\"ptcl\"].str.replace(\",\",\".\").astype(\"float64\")"
   ]
  },
  {
   "cell_type": "code",
   "execution_count": 65,
   "metadata": {},
   "outputs": [
    {
     "name": "stdout",
     "output_type": "stream",
     "text": [
      "count    48845.000000\n",
      "mean         0.000741\n",
      "std          0.000823\n",
      "min          0.000000\n",
      "25%          0.000000\n",
      "50%          0.001000\n",
      "75%          0.001000\n",
      "max          0.023000\n",
      "Name: ptcl, dtype: float64\n"
     ]
    }
   ],
   "source": [
    "print(df[\"ptcl\"].describe())"
   ]
  },
  {
   "cell_type": "code",
   "execution_count": 60,
   "metadata": {},
   "outputs": [
    {
     "name": "stdout",
     "output_type": "stream",
     "text": [
      "count    65948.000000\n",
      "mean      1365.596531\n",
      "std        246.705918\n",
      "min        875.000000\n",
      "25%       1165.000000\n",
      "50%       1350.000000\n",
      "75%       1505.000000\n",
      "max       2475.000000\n",
      "Name: masse_ordma_min, dtype: float64\n"
     ]
    }
   ],
   "source": [
    "print(df[\"masse_ordma_min\"].describe())"
   ]
  },
  {
   "cell_type": "code",
   "execution_count": 61,
   "metadata": {},
   "outputs": [
    {
     "name": "stdout",
     "output_type": "stream",
     "text": [
      "count    65948.000000\n",
      "mean      1382.619913\n",
      "std        245.609113\n",
      "min        890.000000\n",
      "25%       1194.000000\n",
      "50%       1383.000000\n",
      "75%       1505.000000\n",
      "max       2525.000000\n",
      "Name: masse_ordma_max, dtype: float64\n"
     ]
    }
   ],
   "source": [
    "print(df[\"masse_ordma_max\"].describe())"
   ]
  },
  {
   "cell_type": "code",
   "execution_count": 67,
   "metadata": {},
   "outputs": [
    {
     "name": "stdout",
     "output_type": "stream",
     "text": [
      "715/2007*630/2012EURO5     23542\n",
      "715/2007*195/2013EURO5     15920\n",
      "\"715/2007*630/2012EURO5     8744\n",
      "\"715/2007*195/2013EURO5     6533\n",
      "715/2007*566/2011EURO5      5746\n",
      "715/2007*692/2008EURO5      3234\n",
      "715/2007*195/2013EURO6       822\n",
      "715/2007*459/2012EURO5       407\n",
      "715/2007*630/2012EURO6       216\n",
      "\"715/2007*630/2012EURO6      191\n",
      "\"715/2007*566/2011EURO5      156\n",
      "\"715/2007*459/2012EURO5      154\n",
      "\"715/2007*195/2013EURO6       57\n",
      "715/2007*459/2012EURO6        46\n",
      "\"715/2007*692/2008EURO5       23\n",
      "Name: champ_v9, dtype: int64\n",
      "0\n"
     ]
    }
   ],
   "source": [
    "print(df[\"champ_v9\"].value_counts())\n",
    "print(df.duplicated().sum())"
   ]
  },
  {
   "cell_type": "code",
   "execution_count": 73,
   "metadata": {},
   "outputs": [
    {
     "name": "stdout",
     "output_type": "stream",
     "text": [
      "715/2007*630/2012EURO5    32286\n",
      "715/2007*195/2013EURO5    22453\n",
      "715/2007*566/2011EURO5     5902\n",
      "715/2007*692/2008EURO5     3257\n",
      "715/2007*195/2013EURO6      879\n",
      "715/2007*459/2012EURO5      561\n",
      "715/2007*630/2012EURO6      407\n",
      "715/2007*459/2012EURO6       46\n",
      "Name: champ_v9, dtype: int64\n",
      "0\n"
     ]
    }
   ],
   "source": [
    "to_replace = ['\"715/2007*630/2012EURO5','\"715/2007*195/2013EURO5','\"715/2007*630/2012EURO6','\"715/2007*566/2011EURO5',\n",
    "              '\"715/2007*459/2012EURO5','\"715/2007*195/2013EURO6','\"715/2007*692/2008EURO5']\n",
    "value = ['715/2007*630/2012EURO5','715/2007*195/2013EURO5','715/2007*630/2012EURO6','715/2007*566/2011EURO5',\n",
    "              '715/2007*459/2012EURO5','715/2007*195/2013EURO6','715/2007*692/2008EURO5']\n",
    "df[\"champ_v9\"] = df[\"champ_v9\"].replace(to_replace=to_replace,value=value)\n",
    "print(df[\"champ_v9\"].value_counts())\n",
    "print(df.duplicated().sum())"
   ]
  },
  {
   "cell_type": "code",
   "execution_count": 74,
   "metadata": {},
   "outputs": [
    {
     "name": "stdout",
     "output_type": "stream",
     "text": [
      "BERLINE                29250\n",
      "BREAK                   8948\n",
      "MONOSPACE COMPACT       8850\n",
      "TS TERRAINS/CHEMINS     6664\n",
      "COMBISPACE              4317\n",
      "COUPE                   2231\n",
      "MINIBUS                 1835\n",
      "MINISPACE               1467\n",
      "CABRIOLET               1294\n",
      "MONOSPACE               1092\n",
      "Name: Carrosserie, dtype: int64\n"
     ]
    }
   ],
   "source": [
    "print(df[\"Carrosserie\"].value_counts())"
   ]
  },
  {
   "cell_type": "code",
   "execution_count": 75,
   "metadata": {},
   "outputs": [
    {
     "name": "stdout",
     "output_type": "stream",
     "text": [
      "INFERIEURE        26020\n",
      "MOY-INFER         23445\n",
      "MOY-SUPER          7547\n",
      "SUPERIEURE         4796\n",
      "ECONOMIQUE         3619\n",
      "LUXE                487\n",
      "MOY-INFERIEURE       34\n",
      "Name: gamme, dtype: int64\n"
     ]
    }
   ],
   "source": [
    "print(df[\"gamme\"].value_counts())"
   ]
  },
  {
   "cell_type": "code",
   "execution_count": 76,
   "metadata": {},
   "outputs": [
    {
     "name": "stdout",
     "output_type": "stream",
     "text": [
      "GB    9958\n",
      "PL    6464\n",
      "AT    6366\n",
      "DE    5599\n",
      "BE    4844\n",
      "ES    4155\n",
      "IT    3062\n",
      "FR    2905\n",
      "LU    2659\n",
      "DK    2504\n",
      "SK    2325\n",
      "PT    1953\n",
      "CZ    1933\n",
      "SE    1617\n",
      "FI    1470\n",
      "HU    1399\n",
      "EE     876\n",
      "NL     846\n",
      "RO     737\n",
      "BG     668\n",
      "IE     525\n",
      "GR     508\n",
      "SI     506\n",
      "HR     503\n",
      "LT     485\n",
      "MT     453\n",
      "LV     410\n",
      "CY     218\n",
      "Name: Country, dtype: int64\n"
     ]
    }
   ],
   "source": [
    "print(df[\"Country\"].value_counts())"
   ]
  },
  {
   "cell_type": "code",
   "execution_count": 77,
   "metadata": {},
   "outputs": [
    {
     "name": "stdout",
     "output_type": "stream",
     "text": [
      "POOL RENAULT                  28264\n",
      "na                            10758\n",
      "FIAT GROUP AUTOMOBILES SPA     1212\n",
      "VW Group PC                      31\n",
      "TJL                              10\n",
      "MITSUBISHI POOL                   7\n",
      "JLT POOL                          7\n",
      "DAIMLER AG                        4\n",
      "GENERAL MOTORS                    3\n",
      "MITSUBISHI MOTORS                 3\n",
      "HONDA MOTOR EUROPE LTD            2\n",
      "Name: Mp, dtype: int64\n"
     ]
    }
   ],
   "source": [
    "print(df[\"Mp\"].value_counts())"
   ]
  },
  {
   "cell_type": "code",
   "execution_count": 78,
   "metadata": {},
   "outputs": [
    {
     "name": "stdout",
     "output_type": "stream",
     "text": [
      "RENAULT                              19373\n",
      "CITROEN                              15308\n",
      "AUTOMOBILES PEUGEOT                  11767\n",
      "DACIA                                 8950\n",
      "VOLVO                                 5894\n",
      "FIAT GROUP AUTOMOBILES SPA            2659\n",
      "FIAT GROUP                            1211\n",
      "NISSAN                                 400\n",
      "AA-IVA                                 140\n",
      "NISSAN INTERNATIONAL SA                 38\n",
      "OPEL                                    26\n",
      "SKODA                                   23\n",
      "MAGYAR SUZUKI CORPORATION LTD           22\n",
      "VOLKSWAGEN                              13\n",
      "TOYOTA MOTOR EUROPE                     12\n",
      "LAMBORGHINI                             12\n",
      "LOTUS                                    8\n",
      "MIA                                      8\n",
      "JAGUAR CARS LTD                          7\n",
      "AA-NSS                                   7\n",
      "SUZUKI MOTOR CORPORATION                 7\n",
      "MITSUBISHI MOTORS CORPORATION MMC        6\n",
      "JAGUAR                                   6\n",
      "UNKNOWN                                  5\n",
      "OUT OF SCOPE                             5\n",
      "GM KOREA                                 4\n",
      "FUJI HEAVY INDUSTRIES LTD                4\n",
      "LAND ROVER                               4\n",
      "FERRARI                                  4\n",
      "DAIMLER AG                               4\n",
      "ASTON MARTIN LAGONDA LTD                 3\n",
      "MITSUBISHI MOTORS CORPORATION            3\n",
      "HONDA UK                                 2\n",
      "MASERATI                                 2\n",
      "MARUTI SUZUKI INDIA LTD                  2\n",
      "KIA                                      2\n",
      "FUJI HEAVY INDUSTRIES                    2\n",
      "MITSUBISHI MOTORS EUROPE BV MME          1\n",
      "HYUNDAI ASSAN                            1\n",
      "GENERAL MOTORS COMPANY                   1\n",
      "MASERATI SPA                             1\n",
      "CHRYSLER GROUP LLC                       1\n",
      "Name: Mh, dtype: int64\n"
     ]
    }
   ],
   "source": [
    "print(df[\"Mh\"].value_counts())\n"
   ]
  },
  {
   "cell_type": "code",
   "execution_count": 79,
   "metadata": {},
   "outputs": [
    {
     "name": "stdout",
     "output_type": "stream",
     "text": [
      "RENAULT SAS                          16602\n",
      "CITROEN                              15308\n",
      "AUTOMOBILES PEUGEOT                  11721\n",
      "AUTOMOBILE DACIA SA                   8953\n",
      "VOLVO CAR CORPORATION                 5804\n",
      "FIAT GROUP AUTOMOBILES SPA            3871\n",
      "RENAULT                               2773\n",
      "NISSAN INTERNATIONAL SA                433\n",
      "AA-IVA                                  76\n",
      "VOLVO                                   71\n",
      "AA_IVA                                  64\n",
      "PEUGEOT                                 44\n",
      "SKODA AUTO AS                           23\n",
      "ADAM OPEL AG                            20\n",
      "MAGYAR SUZUKI                           16\n",
      "VOLVO CAR CORP.                         14\n",
      "JAGUAR CARS LTD                         13\n",
      "TOYOTA MOTOR EUROPE                     12\n",
      "MITSUBISHI MOTORS CORPORTION MMC         9\n",
      "VOLKSWAGEN                               9\n",
      "LAMBORGHINI                              8\n",
      "MIA ELECTRIC SAS                         8\n",
      "LOTUS CARS LIMITED                       8\n",
      "AA-NSS                                   7\n",
      "SUZUKI MOTOR CORPORATION                 7\n",
      "ADAM OPEL GMBH                           6\n",
      "MAGYAR SUZUKI CORPORATION LTD            6\n",
      "FUJI HEAVY INDUSTRIES LTD                6\n",
      "ASTON MARTIN LAGONDA LTD                 6\n",
      "Volvo Car Corporation                    5\n",
      "NISSAN                                   5\n",
      "VOLKSWAGEN AG                            4\n",
      "LAND ROVER                               4\n",
      "GM KOREA COMPANY                         4\n",
      "FERRARI                                  4\n",
      "AUTOMOBILI LAMBORGHINI SPA               4\n",
      "DAIMLER AG                               3\n",
      "MASERATI SPA                             3\n",
      "MARUTI SUZUKI INDIA LTD                  2\n",
      "AUTOMOBILIES PEUGEOT                     2\n",
      "KIA MOTORS CORPORATION                   2\n",
      "HONDA OF THE UK MANUFACTURING LTD        2\n",
      "DAIMLER AG STUTTGART                     1\n",
      "AUDI AG                                  1\n",
      "HYUNDAI ASSAN OTOMOTIV SANAYI VE         1\n",
      "MITSUBISHI MOTORS EUROPE BV MME          1\n",
      "GENERAL MOTORS COMPANY                   1\n",
      "CHRYSLER GROUP LLC                       1\n",
      "Name: Man, dtype: int64\n"
     ]
    }
   ],
   "source": [
    "print(df[\"Man\"].value_counts())"
   ]
  },
  {
   "cell_type": "code",
   "execution_count": 80,
   "metadata": {},
   "outputs": [
    {
     "name": "stdout",
     "output_type": "stream",
     "text": [
      "RENAULT                                                           13419\n",
      "CITROEN                                                            9731\n",
      "AUTOMOBILE DACIA                                                   4615\n",
      "AUTOMOBILES PEUGEOT                                                4039\n",
      "PEUGEOT                                                            3261\n",
      "FIAT                                                               3069\n",
      "RENAULT S.A.S.                                                     2705\n",
      "DACIA                                                              1866\n",
      "VOLVO CAR CORPORATION                                              1821\n",
      "VOLVO                                                              1512\n",
      "RENAULT SAS                                                        1475\n",
      "CITROEN (F)                                                        1438\n",
      "VOLVO (S)                                                          1176\n",
      "AUTOMOBILE DACIA SA                                                1172\n",
      "PEUGEOT (F)                                                        1028\n",
      "RENAULT (F)                                                         809\n",
      "ALFA-ROMEO                                                          639\n",
      "DACIA (RO)                                                          289\n",
      "AUTOMOBILES DACIA SA                                                287\n",
      "AUTOMOBILE DACIA S.A.                                               199\n",
      "NISSAN INTERNATIONAL SA                                             149\n",
      "FIAT GROUP AUTOMOBILES SPA                                          108\n",
      "AUTOMOBILES DACIA S.A.                                              102\n",
      "AUTOMOBILES CITROEN, 6, Rue Fructidor, 75017 PARIS, FRANCUSKA        95\n",
      "NISSAN (CH)                                                          87\n",
      "AA_IVA                                                               78\n",
      "NISSAN                                                               74\n",
      "VOLVO CAR CORPORATION, SE 40531 Gothenburg, Å VEDSKA                 67\n",
      "NISSAN INTERNATIONAL, S.A.                                           51\n",
      "Automobiles Peugeot, 75 avenue de la Grande Armee, 75116 Paris       48\n",
      "                                                                  ...  \n",
      "AUTOMOBILES CITROEN 7J5FK0                                            1\n",
      "AUTOMOBILES CITROEN SC5FS9                                            1\n",
      "AUTOMOBILES PEUGEOT EBRHH8                                            1\n",
      "CHRYSLER GROUP LLC                                                    1\n",
      "AUTOMOBILES CITROEN SC9HP0                                            1\n",
      "KIA MOTORS SLOVAKIA S.R.O.                                            1\n",
      "KIA MOTOR CORP                                                        1\n",
      "AUTOMOBILES CITROEN EBRHD8                                            1\n",
      "AUTOMOBILES PEUGEOT 4J5FU8                                            1\n",
      "AUTOMOBILES CITROEN RW5FV8                                            1\n",
      "AUTOMOBILES PEUGEOT 0U5FV8/1                                          1\n",
      "AUTOMOBILES PEUGEOT WA8HR0/1                                          1\n",
      "AUTOMOBILES PEUGEOT WC8HR0/1                                          1\n",
      "AUTOMOBILES CITROEN SC9HP0/1                                          1\n",
      "HYUNDAI ASSAN OTOMOTIV SANAYI VE TICARET A.S.                         1\n",
      "AUTOMOBILES CITROEN RW9HL0                                            1\n",
      "AUTOMOBILES CITROEN SA5FS9/1                                          1\n",
      "MASERATI                                                              1\n",
      "AUTOMOBILES PEUGEOT WB9HR8/1                                          1\n",
      "AUTOMOBILES CITROEN SC5FS0                                            1\n",
      "AUTOMOBILES PEUGEOT 0ERHE8/1                                          1\n",
      "VOLVO CAR GERMANY GMBH                                                1\n",
      "DANGEL                                                                1\n",
      "AUTOMOBILES CITROEN SA5FS0                                            1\n",
      "CITA SECONDA                                                          1\n",
      "AUTOMOBILES PEUGEOT 7J5FS0                                            1\n",
      "AUTOMOBILES PEUGEOT 4J5FV8                                            1\n",
      "AUTOMOBILES PEUGEOT 0A5FS0/1                                          1\n",
      "AUTOMOBILES CITROEN 7J5FS0                                            1\n",
      "AUTOMOBILES PEUGEOT 4JRHH8                                            1\n",
      "Name: MMS, Length: 109, dtype: int64\n"
     ]
    }
   ],
   "source": [
    "print(df[\"MMS\"].value_counts())"
   ]
  },
  {
   "cell_type": "code",
   "execution_count": 81,
   "metadata": {},
   "outputs": [
    {
     "name": "stdout",
     "output_type": "stream",
     "text": [
      "e2*2001/116*0314*70      865\n",
      "e2*2001/116*0314*68      768\n",
      "e2*2001/116*0314*66      715\n",
      "e2*2001/116*0327*58      671\n",
      "e2*2001/116*0327*56      635\n",
      "e2*2001/116*0327*57      530\n",
      "e2*2001/116*0314*67      507\n",
      "e2*2001/116*0314*65      480\n",
      "e2*2001/116*0327*55      479\n",
      "e2*2001/116*0314*71      479\n",
      "e2*2001/116*0314*63      462\n",
      "e2*2001/116*0327*54      460\n",
      "e2*2001/116*0327*59      460\n",
      "e2*2001/116*0327*60      449\n",
      "e2*2001/116*0314*69      446\n",
      "e2*2001/116*0314*72      435\n",
      "e2*2001/116*0314*64      431\n",
      "e2*2001/116*0327*53      413\n",
      "e2*2001/116*0327*61      380\n",
      "e2*2007/46*0070*11       367\n",
      "e2*2001/116*0373*46      346\n",
      "e2*2001/116*0327*63      334\n",
      "e2*2001/116*0373*49      328\n",
      "e2*2001/116*0314*73      327\n",
      "e2*2001/116*0373*43      326\n",
      "e2*2001/116*0327*62      322\n",
      "e2*2001/116*0327*64      318\n",
      "e2*2001/116*0314*61      316\n",
      "e2*2001/116*0327*65      310\n",
      "e2*2001/116*0314*62      305\n",
      "                        ... \n",
      "e11*2001/116*0326*20       1\n",
      "e2*2001/116*0366*21m1      1\n",
      "e11*2001/116/0237*         1\n",
      "zy025694                   1\n",
      "E11*2007/46*0223*04        1\n",
      "e9*2001/116*0065*00        1\n",
      "e2*01/116*0362*36          1\n",
      "e9*2001/116*0057*02        1\n",
      "e2*2001/116*0371*06        1\n",
      "E4*2001/116*0040*13        1\n",
      "E4*2002/116*0076*31        1\n",
      "zy043277                   1\n",
      "e2*98/14*0254*25           1\n",
      "e2*2001/116*0302*01        1\n",
      "E2*2001/116*0363*28        1\n",
      "e4*2001/116*0040*09        1\n",
      "E2*2001/116*0377*03        1\n",
      "E2*98/14*0238*03           1\n",
      "e2*2007/46*0142*13         1\n",
      "E2*2007/46*0440*00         1\n",
      "e2*01/116*0350*20          1\n",
      "e9*2001/116*0068*          1\n",
      "E2*2001/116*0379*26        1\n",
      "E1*2001/116*0237*09        1\n",
      "e11*2007/46*0726*00        1\n",
      "TD-5AS-027-90/12/13        1\n",
      "iva05/09/13zy043190        1\n",
      "e2*2007/46*007*08          1\n",
      "E4*2007/46*0496*04         1\n",
      "e2*2001/116*0366*08        1\n",
      "Name: Tan, Length: 1780, dtype: int64\n"
     ]
    }
   ],
   "source": [
    "print(df[\"Tan\"].value_counts())"
   ]
  },
  {
   "cell_type": "code",
   "execution_count": 82,
   "metadata": {},
   "outputs": [
    {
     "name": "stdout",
     "output_type": "stream",
     "text": [
      "CLIO                                       6155\n",
      "MEGANE                                     5642\n",
      "MEGANE SCENIC                              3497\n",
      "LODGY                                      3102\n",
      "SANDERO                                    3073\n",
      "C5                                         2132\n",
      "CAPTUR                                     2074\n",
      "C4                                         1810\n",
      "C3                                         1685\n",
      "508                                        1552\n",
      "208                                        1402\n",
      "BERLINGO                                   1291\n",
      "DUSTER                                     1280\n",
      "V40                                        1083\n",
      "DOKKER                                     1074\n",
      "5008                                       1071\n",
      "DS3                                        1063\n",
      "3008                                       1050\n",
      "308                                         860\n",
      "C3 PICASSO                                  706\n",
      "ESPACE                                      698\n",
      "XC60                                        676\n",
      "PARTNER                                     651\n",
      "V60                                         642\n",
      "S60                                         617\n",
      "C4 PICASSO                                  589\n",
      "LAGUNA                                      578\n",
      "DS4                                         554\n",
      "RCZ                                         545\n",
      "DS5                                         542\n",
      "                                           ... \n",
      "NGC4P                                         1\n",
      "RCZ 1.6 HDI 160 FAP                           1\n",
      "PARTNER MOBILITY TREND AVH/P 7J5              1\n",
      "V60 AUTHORITIES D5                            1\n",
      "DS3C                                          1\n",
      "XC60 T5 DRIVE-E                               1\n",
      "DS3 THP 155 DSPORT 2DR                        1\n",
      "208 ALL VTI 120 3T                            1\n",
      "DISPATCH HDI125 L1 H1 COMBI SX 9 SEAT 4       1\n",
      "DS5 HY4 SPORT CHIC                            1\n",
      "508 ACT E-HDI 115                             1\n",
      "XC60 R-DESIGN NAV D5 AWD                      1\n",
      "500 / 1.4 / 16V C                             1\n",
      "N C4 1.6 HDI 90 SELECTION                     1\n",
      "PART ACT 1.6 VTI 120                          1\n",
      "C4 PICASSO VTI120 SE                          1\n",
      "C4 AIRCROSS HDI115 2                          1\n",
      "208 GTI THP 200                               1\n",
      "S60 S T                                       1\n",
      "308 / CABRIOLET 2.0 / HDI                     1\n",
      "I20                                           1\n",
      "S60 D3 SE 4DR                                 1\n",
      "V60 SE LUX D2 AUTO                            1\n",
      "DS5 HDI160 DSPORT 4DR                         1\n",
      "208 ACTIVE 1.2 4DR                            1\n",
      "S60 SE LUX D5                                 1\n",
      "308 / CABRIOLET 2.0 / HDI AUT.                1\n",
      "V60 R-DESIGN LUX NAV D5                       1\n",
      "208 ACT PT 68 5T                              1\n",
      "XC70 SE NAV D4 AUTO                           1\n",
      "Name: Cn, Length: 1832, dtype: int64\n"
     ]
    }
   ],
   "source": [
    "print(df[\"Cn\"].value_counts())"
   ]
  },
  {
   "cell_type": "code",
   "execution_count": 83,
   "metadata": {},
   "outputs": [
    {
     "name": "stdout",
     "output_type": "stream",
     "text": [
      "M1     65721\n",
      "M1G      143\n",
      "Name: Ct, dtype: int64\n"
     ]
    }
   ],
   "source": [
    "print(df[\"Ct\"].value_counts())"
   ]
  },
  {
   "cell_type": "code",
   "execution_count": 84,
   "metadata": {},
   "outputs": [
    {
     "name": "stdout",
     "output_type": "stream",
     "text": [
      "1       21480\n",
      "2        7351\n",
      "3        4231\n",
      "4        2889\n",
      "5        2219\n",
      "6        1817\n",
      "7        1444\n",
      "8        1272\n",
      "9        1096\n",
      "10        967\n",
      "11        866\n",
      "12        748\n",
      "13        686\n",
      "14        629\n",
      "15        561\n",
      "17        520\n",
      "16        511\n",
      "18        459\n",
      "19        426\n",
      "21        382\n",
      "20        380\n",
      "22        352\n",
      "24        345\n",
      "23        316\n",
      "25        304\n",
      "27        286\n",
      "28        275\n",
      "26        257\n",
      "30        229\n",
      "29        224\n",
      "        ...  \n",
      "1182        1\n",
      "1118        1\n",
      "2017        1\n",
      "418         1\n",
      "1765        1\n",
      "610         1\n",
      "1317        1\n",
      "997         1\n",
      "869         1\n",
      "1828        1\n",
      "1380        1\n",
      "1188        1\n",
      "1060        1\n",
      "932         1\n",
      "2917        1\n",
      "2853        1\n",
      "2725        1\n",
      "611         1\n",
      "4385        1\n",
      "1954        1\n",
      "3683        1\n",
      "1378        1\n",
      "1186        1\n",
      "1058        1\n",
      "994         1\n",
      "930         1\n",
      "866         1\n",
      "738         1\n",
      "674         1\n",
      "4098        1\n",
      "Name: r, Length: 1402, dtype: int64\n"
     ]
    }
   ],
   "source": [
    "print(df[\"r\"].value_counts())"
   ]
  },
  {
   "cell_type": "code",
   "execution_count": 104,
   "metadata": {},
   "outputs": [
    {
     "name": "stdout",
     "output_type": "stream",
     "text": [
      "             m (kg)  masse_ordma_min  masse_ordma_max\n",
      "count  65871.000000     65948.000000     65948.000000\n",
      "mean    1412.249108      1365.596531      1382.619913\n",
      "std      264.228032       246.705918       245.609113\n",
      "min      401.000000       875.000000       890.000000\n",
      "25%     1217.000000      1165.000000      1194.000000\n",
      "50%     1383.000000      1350.000000      1383.000000\n",
      "75%     1596.000000      1505.000000      1505.000000\n",
      "max     3055.000000      2475.000000      2525.000000\n",
      "53751\n",
      "31411\n",
      "27853\n",
      "32055\n",
      "27209\n",
      "   m (kg)  masse_ordma_min  masse_ordma_max\n",
      "0  1578.0             1565             1565\n",
      "1  1565.0             1565             1565\n",
      "2  1628.0             1615             1615\n",
      "3  1627.0             1615             1615\n",
      "4  1615.0             1615             1615\n"
     ]
    },
    {
     "data": {
      "text/plain": [
       "4614"
      ]
     },
     "execution_count": 104,
     "metadata": {},
     "output_type": "execute_result"
    }
   ],
   "source": [
    "print(df[[\"m (kg)\",\"masse_ordma_min\",\"masse_ordma_max\"]].describe())\n",
    "print((df[\"masse_ordma_min\"] == df[\"masse_ordma_max\"]).sum())\n",
    "print(((df[\"m (kg)\"] == df[\"masse_ordma_min\"])).sum())\n",
    "print(((df[\"m (kg)\"] == df[\"masse_ordma_max\"])).sum())\n",
    "print(((df[\"m (kg)\"] == df[\"masse_ordma_min\"])|(df[\"m (kg)\"] == df[\"masse_ordma_max\"])).sum())\n",
    "print(((df[\"m (kg)\"] == df[\"masse_ordma_min\"])&(df[\"m (kg)\"] == df[\"masse_ordma_max\"])).sum())\n",
    "\n",
    "print(df[[\"m (kg)\",\"masse_ordma_min\",\"masse_ordma_max\"]].head())\n",
    "\n",
    "df_sans_masse = df.drop([\"m (kg)\",\"masse_ordma_min\",\"masse_ordma_max\"],axis=1)\n",
    "df_sans_masse.duplicated().sum()"
   ]
  },
  {
   "cell_type": "code",
   "execution_count": 121,
   "metadata": {},
   "outputs": [
    {
     "name": "stdout",
     "output_type": "stream",
     "text": [
      "       Enedc (g/km)           co2\n",
      "count  65931.000000  65791.000000\n",
      "mean     125.841091    125.227904\n",
      "std       27.068669     25.593656\n",
      "min        0.000000     48.000000\n",
      "25%      105.000000    105.000000\n",
      "50%      120.000000    120.000000\n",
      "75%      143.000000    140.000000\n",
      "max      571.000000    388.000000\n",
      "53164\n",
      "0      3.0\n",
      "2      3.0\n",
      "3      3.0\n",
      "777    2.0\n",
      "778    2.0\n",
      "779    2.0\n",
      "780    2.0\n",
      "785    2.0\n",
      "928    5.0\n",
      "929    5.0\n",
      "dtype: float64\n",
      "count    12610.000000\n",
      "mean         7.326963\n",
      "std          9.081224\n",
      "min          1.000000\n",
      "25%          4.000000\n",
      "50%          5.000000\n",
      "75%          9.000000\n",
      "max        427.000000\n",
      "dtype: float64\n",
      "4988\n"
     ]
    }
   ],
   "source": [
    "print(df[[\"Enedc (g/km)\",\"co2\"]].describe())\n",
    "print((df[\"Enedc (g/km)\"] == df[\"co2\"]).sum())\n",
    "\n",
    "df_different_co2 = df[[\"Enedc (g/km)\",\"co2\"]].loc[df[\"Enedc (g/km)\"] != df[\"co2\"]]\n",
    "df_different_co2 = np.abs(df_different_co2[\"Enedc (g/km)\"]-df_different_co2[\"co2\"])\n",
    "print(df_different_co2.head(10))\n",
    "print(df_different_co2.describe())\n",
    "print((df_different_co2 > 5).sum())"
   ]
  },
  {
   "cell_type": "code",
   "execution_count": 122,
   "metadata": {},
   "outputs": [
    {
     "name": "stdout",
     "output_type": "stream",
     "text": [
      "count    65225.000000\n",
      "mean      2654.869145\n",
      "std        182.310538\n",
      "min        695.000000\n",
      "25%       2589.000000\n",
      "50%       2641.000000\n",
      "75%       2774.000000\n",
      "max       4813.000000\n",
      "Name: W (mm), dtype: float64\n"
     ]
    }
   ],
   "source": [
    "print(df[\"W (mm)\"].describe())"
   ]
  },
  {
   "cell_type": "code",
   "execution_count": 125,
   "metadata": {},
   "outputs": [
    {
     "name": "stdout",
     "output_type": "stream",
     "text": [
      "           At1 (mm)      At2 (mm)\n",
      "count  64743.000000  59805.000000\n",
      "mean    1542.755587   1535.646234\n",
      "std      137.715460    133.410412\n",
      "min      695.000000    850.000000\n",
      "25%     1497.000000   1486.000000\n",
      "50%     1532.000000   1529.000000\n",
      "75%     1570.000000   1556.000000\n",
      "max     3122.000000   3122.000000\n"
     ]
    }
   ],
   "source": [
    "print(df[[\"At1 (mm)\",\"At2 (mm)\"]].describe())"
   ]
  },
  {
   "cell_type": "code",
   "execution_count": null,
   "metadata": {},
   "outputs": [],
   "source": []
  },
  {
   "cell_type": "code",
   "execution_count": 129,
   "metadata": {},
   "outputs": [
    {
     "name": "stdout",
     "output_type": "stream",
     "text": [
      "Diesel             32157\n",
      "Petrol             18291\n",
      "DIESEL              3907\n",
      "petrol              3831\n",
      "diesel              2859\n",
      "PETROL              2843\n",
      "LPG                  678\n",
      "Electric             122\n",
      "Diesel-Electric       41\n",
      "electric              21\n",
      "ELECTRIC              21\n",
      "NG-Biomethane          6\n",
      "                       3\n",
      "Biodiesel              1\n",
      "petrol-electric        1\n",
      "DIESEL-ELECTRIC        1\n",
      "Name: Ft, dtype: int64\n"
     ]
    }
   ],
   "source": [
    "print(df[\"Ft\"].value_counts())\n",
    "#print(df[\"cod_cbr\"].value_counts())"
   ]
  },
  {
   "cell_type": "code",
   "execution_count": 131,
   "metadata": {},
   "outputs": [
    {
     "name": "stdout",
     "output_type": "stream",
     "text": [
      "Diesel             38923\n",
      "Petrol             24965\n",
      "LPG                  678\n",
      "Electric             143\n",
      "Diesel-Electric       42\n",
      "ELECTRIC              21\n",
      "NG-Biomethane          6\n",
      "                       3\n",
      "Biodiesel              1\n",
      "petrol-electric        1\n",
      "Name: Ft, dtype: int64\n",
      "GO       39348\n",
      "ES       25315\n",
      "GH         433\n",
      "GP/ES      325\n",
      "ES/GP      325\n",
      "EL         157\n",
      "GL          33\n",
      "EH           6\n",
      "ES/GN        3\n",
      "GN/ES        3\n",
      "Name: cod_cbr, dtype: int64\n"
     ]
    }
   ],
   "source": [
    "to_replace = [\"DIESEL\",\"petrol\",\"diesel\",\"PETROL\",\"electric\",\"ELECTRIC\",\"DIESEL-ELECTRIC\"]\n",
    "value = [\"Diesel\",\"Petrol\",\"Diesel\",\"Petrol\",\"Electric\",\"ELECTRIC\",\"Diesel-Electric\"]\n",
    "df[\"Ft\"] = df[\"Ft\"].replace(to_replace=to_replace,value=value)\n",
    "print(df[\"Ft\"].value_counts())\n",
    "print(df[\"cod_cbr\"].value_counts())"
   ]
  },
  {
   "cell_type": "code",
   "execution_count": 132,
   "metadata": {},
   "outputs": [
    {
     "name": "stdout",
     "output_type": "stream",
     "text": [
      "M    63830\n",
      "B      701\n",
      "E      109\n",
      "F        1\n",
      "Name: Fm, dtype: int64\n"
     ]
    }
   ],
   "source": [
    "print(df[\"Fm\"].value_counts())\n"
   ]
  },
  {
   "cell_type": "code",
   "execution_count": 189,
   "metadata": {},
   "outputs": [
    {
     "name": "stdout",
     "output_type": "stream",
     "text": [
      "count    65077.000000\n",
      "mean      1545.786668\n",
      "std        368.061556\n",
      "min          0.000000\n",
      "25%       1368.000000\n",
      "50%       1560.000000\n",
      "75%       1598.000000\n",
      "max       8400.000000\n",
      "Name: ec (cm3), dtype: float64\n",
      "230.0\n",
      "1023.0\n",
      "1943.0\n",
      "29\n",
      "464\n"
     ]
    }
   ],
   "source": [
    "print(df[\"ec (cm3)\"].describe())\n",
    "\n",
    "\n",
    "Q1 = df[\"ec (cm3)\"].describe()[\"25%\"]\n",
    "Q3 = df[\"ec (cm3)\"].describe()[\"75%\"]\n",
    "IQR = Q3-Q1\n",
    "print(IQR)\n",
    "limit_basse = Q1-IQR*1.5\n",
    "limit_haute = Q3+IQR*1.5\n",
    "print(limit_basse)\n",
    "print(limit_haute)\n",
    "df_ec_faible = df.loc[df[\"ec (cm3)\"] < 850]\n",
    "print(df_ec_faible.shape[0])\n",
    "df_ec_haute = df.loc[df[\"ec (cm3)\"] > 2500]\n",
    "print(df_ec_haute.shape[0])"
   ]
  },
  {
   "cell_type": "code",
   "execution_count": 197,
   "metadata": {},
   "outputs": [
    {
     "name": "stdout",
     "output_type": "stream",
     "text": [
      "count    49842.000000\n",
      "mean        86.598652\n",
      "std         29.399505\n",
      "min         10.000000\n",
      "25%         66.000000\n",
      "50%         81.000000\n",
      "75%         97.000000\n",
      "max        419.000000\n",
      "Name: ep (KW), dtype: float64\n",
      "count    16384.000000\n",
      "mean        83.279523\n",
      "std         30.101897\n",
      "min         10.000000\n",
      "25%         68.000000\n",
      "50%         77.000000\n",
      "75%        100.000000\n",
      "max        419.000000\n",
      "Name: puiss_max, dtype: float64\n",
      "       ep (KW)  puiss_max\n",
      "0          NaN      125.0\n",
      "1          NaN      125.0\n",
      "2          NaN      125.0\n",
      "3          NaN      125.0\n",
      "4          NaN      125.0\n",
      "5          NaN      331.0\n",
      "6          NaN      147.0\n",
      "7          NaN      147.0\n",
      "8          NaN      147.0\n",
      "9          NaN      147.0\n",
      "10         NaN      147.0\n",
      "11         NaN      147.0\n",
      "12         NaN      147.0\n",
      "13         NaN      147.0\n",
      "14         NaN      147.0\n",
      "15         NaN      147.0\n",
      "16         NaN      147.0\n",
      "17         NaN      125.0\n",
      "18         NaN      125.0\n",
      "19         NaN      125.0\n",
      "20         NaN      125.0\n",
      "21         NaN      125.0\n",
      "22         NaN      125.0\n",
      "23         NaN      125.0\n",
      "24         NaN      125.0\n",
      "25         NaN      125.0\n",
      "26         NaN      125.0\n",
      "27         NaN      125.0\n",
      "28         NaN      125.0\n",
      "29         NaN      125.0\n",
      "...        ...        ...\n",
      "65918    224.0        NaN\n",
      "65919    224.0        NaN\n",
      "65920    224.0        NaN\n",
      "65921    224.0        NaN\n",
      "65922    224.0        NaN\n",
      "65923    224.0        NaN\n",
      "65924    224.0        NaN\n",
      "65925    224.0        NaN\n",
      "65926    224.0        NaN\n",
      "65927    224.0        NaN\n",
      "65928    224.0        NaN\n",
      "65929    242.0        NaN\n",
      "65930      NaN        NaN\n",
      "65931    224.0        NaN\n",
      "65932    224.0        NaN\n",
      "65933    224.0        NaN\n",
      "65934    224.0        NaN\n",
      "65935    224.0        NaN\n",
      "65936    224.0        NaN\n",
      "65937    224.0        NaN\n",
      "65938    224.0        NaN\n",
      "65939    224.0        NaN\n",
      "65940    224.0        NaN\n",
      "65941    224.0        NaN\n",
      "65942    224.0        NaN\n",
      "65943    224.0        NaN\n",
      "65944    224.0        NaN\n",
      "65945    224.0        NaN\n",
      "65946    224.0        NaN\n",
      "65947    224.0        NaN\n",
      "\n",
      "[65948 rows x 2 columns]\n",
      "ep (KW)      16106\n",
      "puiss_max    49564\n",
      "dtype: int64\n"
     ]
    }
   ],
   "source": [
    "print(df[\"ep (KW)\"].describe())\n",
    "print(df[\"puiss_max\"].describe())\n",
    "\n",
    "print(df[[\"ep (KW)\",\"puiss_max\"]])\n",
    "print(df[[\"ep (KW)\",\"puiss_max\"]].isnull().sum())"
   ]
  },
  {
   "cell_type": "code",
   "execution_count": null,
   "metadata": {},
   "outputs": [],
   "source": []
  }
 ],
 "metadata": {
  "kernelspec": {
   "display_name": "Python 3",
   "language": "python",
   "name": "python3"
  },
  "language_info": {
   "codemirror_mode": {
    "name": "ipython",
    "version": 3
   },
   "file_extension": ".py",
   "mimetype": "text/x-python",
   "name": "python",
   "nbconvert_exporter": "python",
   "pygments_lexer": "ipython3",
   "version": "3.6.5"
  }
 },
 "nbformat": 4,
 "nbformat_minor": 2
}
