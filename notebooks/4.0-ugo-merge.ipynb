{
 "cells": [
  {
   "cell_type": "code",
   "execution_count": 560,
   "metadata": {},
   "outputs": [],
   "source": [
    "#Importation des bibliothèqes\n",
    "import pandas as pd\n",
    "import numpy as np\n",
    "\n",
    "import matplotlib.pyplot as plt\n",
    "import seaborn as sns"
   ]
  },
  {
   "cell_type": "code",
   "execution_count": 561,
   "metadata": {},
   "outputs": [
    {
     "name": "stderr",
     "output_type": "stream",
     "text": [
      "C:\\Users\\UGO\\Anaconda3\\lib\\site-packages\\IPython\\core\\interactiveshell.py:2785: DtypeWarning: Columns (7,15) have mixed types. Specify dtype option on import or set low_memory=False.\n",
      "  interactivity=interactivity, compiler=compiler, result=result)\n"
     ]
    },
    {
     "name": "stdout",
     "output_type": "stream",
     "text": [
      "(65948, 39)\n",
      "Index(['lib_mrq', 'lib_mod_doss', 'lib_mod', 'dscom', 'cod_cbr', 'hybride',\n",
      "       'puiss_admin_98', 'puiss_max', 'typ_boite_nb_rapp', 'conso_urb',\n",
      "       'conso_exurb', 'conso_mixte', 'co2', 'co_typ_1', 'nox', 'ptcl',\n",
      "       'masse_ordma_min', 'masse_ordma_max', 'champ_v9', 'Carrosserie',\n",
      "       'gamme', 'Country', 'Mp', 'Mh', 'Man', 'MMS', 'Tan', 'Cn', 'Ct', 'r',\n",
      "       'm (kg)', 'Enedc (g/km)', 'W (mm)', 'At1 (mm)', 'At2 (mm)', 'Ft', 'Fm',\n",
      "       'ec (cm3)', 'ep (KW)'],\n",
      "      dtype='object')\n",
      "      lib_mrq lib_mod_doss lib_mod                        dscom cod_cbr  \\\n",
      "0  ALFA-ROMEO          159     159         159 2.0 JTDm (170ch)      GO   \n",
      "1  ALFA-ROMEO          159     159     159 2.0 JTDm (170ch) ECO      GO   \n",
      "2  ALFA-ROMEO          159     159      159 SW 2.0 JTDm (170ch)      GO   \n",
      "3  ALFA-ROMEO          159     159      159 SW 2.0 JTDm (170ch)      GO   \n",
      "4  ALFA-ROMEO          159     159  159 SW 2.0 JTDm (170ch) ECO      GO   \n",
      "\n",
      "  hybride  puiss_admin_98 puiss_max typ_boite_nb_rapp    conso_urb   ...    r  \\\n",
      "0     non               9       125               M 6  6,900000095   ...    2   \n",
      "1     non               9       125               M 6  6,599999905   ...    2   \n",
      "2     non               9       125               M 6  7,099999905   ...    4   \n",
      "3     non               9       125               M 6  7,099999905   ...    1   \n",
      "4     non               9       125               M 6  6,699999809   ...    3   \n",
      "\n",
      "   m (kg)  Enedc (g/km)  W (mm) At1 (mm) At2 (mm)      Ft  Fm ec (cm3) ep (KW)  \n",
      "0  1578.0         142.0  2703.0   1579.0   1559.0  diesel   M   1956.0     NaN  \n",
      "1  1565.0         136.0  2703.0   1593.0   1575.0  Diesel   M   1956.0     NaN  \n",
      "2  1628.0         145.0  2703.0   1579.0   1559.0  diesel   M   1956.0     NaN  \n",
      "3  1627.0         145.0  2703.0   1579.0   1559.0  diesel   M   1956.0     NaN  \n",
      "4  1615.0         139.0  2703.0   1593.0   1575.0  Diesel   M   1956.0     NaN  \n",
      "\n",
      "[5 rows x 39 columns]\n",
      "<class 'pandas.core.frame.DataFrame'>\n",
      "RangeIndex: 65948 entries, 0 to 65947\n",
      "Data columns (total 39 columns):\n",
      "lib_mrq              65948 non-null object\n",
      "lib_mod_doss         65948 non-null object\n",
      "lib_mod              65948 non-null object\n",
      "dscom                65948 non-null object\n",
      "cod_cbr              65948 non-null object\n",
      "hybride              65948 non-null object\n",
      "puiss_admin_98       65948 non-null int64\n",
      "puiss_max            65948 non-null object\n",
      "typ_boite_nb_rapp    65948 non-null object\n",
      "conso_urb            65791 non-null object\n",
      "conso_exurb          65791 non-null object\n",
      "conso_mixte          65791 non-null object\n",
      "co2                  65791 non-null float64\n",
      "co_typ_1             65779 non-null object\n",
      "nox                  65779 non-null object\n",
      "ptcl                 49211 non-null object\n",
      "masse_ordma_min      65948 non-null int64\n",
      "masse_ordma_max      65948 non-null int64\n",
      "champ_v9             65791 non-null object\n",
      "Carrosserie          65948 non-null object\n",
      "gamme                65948 non-null object\n",
      "Country              65948 non-null object\n",
      "Mp                   40301 non-null object\n",
      "Mh                   65948 non-null object\n",
      "Man                  65948 non-null object\n",
      "MMS                  55839 non-null object\n",
      "Tan                  57867 non-null object\n",
      "Cn                   65842 non-null object\n",
      "Ct                   65864 non-null object\n",
      "r                    65948 non-null int64\n",
      "m (kg)               65871 non-null float64\n",
      "Enedc (g/km)         65931 non-null float64\n",
      "W (mm)               65225 non-null float64\n",
      "At1 (mm)             64743 non-null float64\n",
      "At2 (mm)             59805 non-null float64\n",
      "Ft                   64783 non-null object\n",
      "Fm                   64641 non-null object\n",
      "ec (cm3)             65077 non-null float64\n",
      "ep (KW)              49842 non-null float64\n",
      "dtypes: float64(8), int64(4), object(27)\n",
      "memory usage: 12.8+ MB\n",
      "None\n"
     ]
    }
   ],
   "source": [
    "df = pd.read_csv(\"../data/data_merge.csv\")\n",
    "\n",
    "print(df.shape)\n",
    "print(df.columns)\n",
    "print(df.head())\n",
    "print(df.info())"
   ]
  },
  {
   "cell_type": "markdown",
   "metadata": {},
   "source": [
    "**Transformation des données quantitatives**\n",
    "\n",
    "Le type de certaines données quantitatives sont des chaînes de caractères alors que cela devrait être des flottants.\n",
    "Ainsi on change le type de ces données (il faut également transformer le '.' en ','."
   ]
  },
  {
   "cell_type": "code",
   "execution_count": 562,
   "metadata": {},
   "outputs": [],
   "source": [
    "df[\"puiss_max\"] = df[\"puiss_max\"].apply(lambda x: str(x).replace(\",\", \".\")).astype(\"float64\")\n",
    "df[\"conso_urb\"] = df[\"conso_urb\"].apply(lambda x: str(x).replace(\",\", \".\")).astype(\"float64\")\n",
    "df[\"conso_exurb\"] = df[\"conso_exurb\"].apply(lambda x: str(x).replace(\",\", \".\")).astype(\"float64\")\n",
    "df[\"conso_mixte\"] = df[\"conso_mixte\"].apply(lambda x: str(x).replace(\",\", \".\")).astype(\"float64\")\n",
    "df[\"co_typ_1\"] = df[\"co_typ_1\"].apply(lambda x: str(x).replace(\",\", \".\")).astype(\"float64\")\n",
    "df[\"nox\"] = df[\"nox\"].apply(lambda x: str(x).replace(\",\", \".\")).astype(\"float64\")\n",
    "df[\"ptcl\"] = df[\"ptcl\"].apply(lambda x: str(x).replace(\",\", \".\")).astype(\"float64\")"
   ]
  },
  {
   "cell_type": "markdown",
   "metadata": {},
   "source": [
    "**Etude de \"r\"**"
   ]
  },
  {
   "cell_type": "code",
   "execution_count": 563,
   "metadata": {},
   "outputs": [
    {
     "name": "stdout",
     "output_type": "stream",
     "text": [
      "(65948, 39)\n",
      "(65948, 38)\n"
     ]
    }
   ],
   "source": [
    "print(df.shape)\n",
    "df = df.drop([\"r\"],axis=1)\n",
    "print(df.shape)"
   ]
  },
  {
   "cell_type": "code",
   "execution_count": 564,
   "metadata": {},
   "outputs": [
    {
     "name": "stdout",
     "output_type": "stream",
     "text": [
      "(65948, 38)\n",
      "12012\n",
      "(53936, 38)\n",
      "0\n"
     ]
    }
   ],
   "source": [
    "print(df.shape)\n",
    "print(df.duplicated().sum())\n",
    "df = df.drop_duplicates()\n",
    "print(df.shape)\n",
    "print(df.duplicated().sum())"
   ]
  },
  {
   "cell_type": "markdown",
   "metadata": {},
   "source": [
    "**Etude de \"ep (kW)\" et \"puiss_max\"**\n",
    "\n",
    "Ces 2 variables sont similaires et donnent des informations sur la puissance maximale du moteur."
   ]
  },
  {
   "cell_type": "code",
   "execution_count": 568,
   "metadata": {},
   "outputs": [
    {
     "name": "stdout",
     "output_type": "stream",
     "text": [
      "ep (KW)      12814\n",
      "puiss_max        0\n",
      "dtype: int64\n",
      "            ep (KW)     puiss_max\n",
      "count  41122.000000  53936.000000\n",
      "mean      87.583362     88.544946\n",
      "std       29.689369     30.793590\n",
      "min       10.000000     10.000000\n",
      "25%       66.000000     66.000000\n",
      "50%       81.000000     84.000000\n",
      "75%       97.000000    103.000000\n",
      "max      419.000000    419.000000\n",
      "       ep (KW)  puiss_max\n",
      "0          NaN      125.0\n",
      "1          NaN      125.0\n",
      "2          NaN      125.0\n",
      "3          NaN      125.0\n",
      "4          NaN      125.0\n",
      "5          NaN      331.0\n",
      "6          NaN      147.0\n",
      "7          NaN      147.0\n",
      "8          NaN      147.0\n",
      "9          NaN      147.0\n",
      "11         NaN      147.0\n",
      "12         NaN      147.0\n",
      "13         NaN      147.0\n",
      "16         NaN      147.0\n",
      "17         NaN      125.0\n",
      "18         NaN      125.0\n",
      "19         NaN      125.0\n",
      "20         NaN      125.0\n",
      "21         NaN      125.0\n",
      "25         NaN      125.0\n",
      "26         NaN      125.0\n",
      "27         NaN      125.0\n",
      "28         NaN      125.0\n",
      "29         NaN      125.0\n",
      "30         NaN      125.0\n",
      "31         NaN      125.0\n",
      "32         NaN      125.0\n",
      "33         NaN      125.0\n",
      "34         NaN      125.0\n",
      "35         NaN      125.0\n",
      "...        ...        ...\n",
      "65916    224.0      224.0\n",
      "65917    224.0      224.0\n",
      "65919    224.0      224.0\n",
      "65920    224.0      224.0\n",
      "65921    224.0      224.0\n",
      "65922    224.0      224.0\n",
      "65923    224.0      224.0\n",
      "65924    224.0      224.0\n",
      "65925    224.0      224.0\n",
      "65926    224.0      224.0\n",
      "65927    224.0      224.0\n",
      "65928    224.0      224.0\n",
      "65929    242.0      224.0\n",
      "65930      NaN      224.0\n",
      "65931    224.0      224.0\n",
      "65932    224.0      224.0\n",
      "65933    224.0      224.0\n",
      "65934    224.0      224.0\n",
      "65935    224.0      224.0\n",
      "65937    224.0      224.0\n",
      "65938    224.0      224.0\n",
      "65939    224.0      224.0\n",
      "65940    224.0      224.0\n",
      "65941    224.0      224.0\n",
      "65942    224.0      224.0\n",
      "65943    224.0      224.0\n",
      "65944    224.0      224.0\n",
      "65945    224.0      224.0\n",
      "65946    224.0      224.0\n",
      "65947    224.0      224.0\n",
      "\n",
      "[53936 rows x 2 columns]\n"
     ]
    }
   ],
   "source": [
    "print(df[[\"ep (KW)\",\"puiss_max\"]].isnull().sum())\n",
    "print(df[[\"ep (KW)\",\"puiss_max\"]].describe())\n",
    "\n",
    "print(df[[\"ep (KW)\",\"puiss_max\"]])"
   ]
  },
  {
   "cell_type": "code",
   "execution_count": 569,
   "metadata": {},
   "outputs": [
    {
     "name": "stdout",
     "output_type": "stream",
     "text": [
      "ep (KW)      0\n",
      "puiss_max    0\n",
      "dtype: int64\n",
      "(41122, 2)\n",
      "40254\n",
      "count    41122.000000\n",
      "mean         0.147118\n",
      "std          1.911414\n",
      "min          0.000000\n",
      "25%          0.000000\n",
      "50%          0.000000\n",
      "75%          0.000000\n",
      "max        100.000000\n",
      "dtype: float64\n",
      "196\n"
     ]
    }
   ],
   "source": [
    "df_ep_not_null = df[[\"ep (KW)\",\"puiss_max\"]].loc[~df[\"ep (KW)\"].isnull()]\n",
    "print(df_ep_not_null.isnull().sum())\n",
    "print(df_ep_not_null.shape)\n",
    "print((df_ep_not_null[\"ep (KW)\"] == df_ep_not_null[\"puiss_max\"]).sum())\n",
    "print((np.abs(df_ep_not_null[\"ep (KW)\"] - df_ep_not_null[\"puiss_max\"])).describe())\n",
    "print((np.abs(df_ep_not_null[\"ep (KW)\"] - df_ep_not_null[\"puiss_max\"]) > 10).sum())"
   ]
  },
  {
   "cell_type": "code",
   "execution_count": 570,
   "metadata": {},
   "outputs": [
    {
     "name": "stdout",
     "output_type": "stream",
     "text": [
      "(53936, 38)\n",
      "(53722, 38)\n",
      "(53722, 37)\n"
     ]
    }
   ],
   "source": [
    "print(df.shape)\n",
    "df = df.loc[(np.abs(df[\"ep (KW)\"] - df[\"puiss_max\"]) < 10) | (df[\"ep (KW)\"].isnull())]\n",
    "print(df.shape)\n",
    "df = df.drop([\"ep (KW)\"],axis=1)\n",
    "print(df.shape)"
   ]
  },
  {
   "cell_type": "markdown",
   "metadata": {},
   "source": [
    "**Etude de \"ec (cm3)\"**\n",
    "\n",
    "On supprime les valeurs considérées comme extrêmes"
   ]
  },
  {
   "cell_type": "code",
   "execution_count": 572,
   "metadata": {},
   "outputs": [
    {
     "name": "stdout",
     "output_type": "stream",
     "text": [
      "757\n",
      "count    52965.000000\n",
      "mean      1561.698065\n",
      "std        373.368484\n",
      "min          0.000000\n",
      "25%       1398.000000\n",
      "50%       1560.000000\n",
      "75%       1598.000000\n",
      "max       8400.000000\n",
      "Name: ec (cm3), dtype: float64\n",
      "200.0\n",
      "1098.0\n",
      "1898.0\n",
      "14\n",
      "75\n"
     ]
    }
   ],
   "source": [
    "print(df[\"ec (cm3)\"].isnull().sum())\n",
    "print(df[\"ec (cm3)\"].describe())\n",
    "\n",
    "\n",
    "Q1 = df[\"ec (cm3)\"].describe()[\"25%\"]\n",
    "Q3 = df[\"ec (cm3)\"].describe()[\"75%\"]\n",
    "IQR = Q3-Q1\n",
    "print(IQR)\n",
    "limit_basse = Q1-IQR*1.5\n",
    "limit_haute = Q3+IQR*1.5\n",
    "print(limit_basse)\n",
    "print(limit_haute)\n",
    "df_ec_faible = df.loc[df[\"ec (cm3)\"] < 800]\n",
    "print(df_ec_faible.shape[0])\n",
    "df_ec_haute = df.loc[df[\"ec (cm3)\"] > 3000]\n",
    "print(df_ec_haute.shape[0])"
   ]
  },
  {
   "cell_type": "code",
   "execution_count": 573,
   "metadata": {},
   "outputs": [
    {
     "data": {
      "text/plain": [
       "<matplotlib.axes._subplots.AxesSubplot at 0xa0b6e10>"
      ]
     },
     "execution_count": 573,
     "metadata": {},
     "output_type": "execute_result"
    },
    {
     "data": {
      "image/png": "[encoded data removed]",
      "text/plain": [
       "<Figure size 432x288 with 1 Axes>"
      ]
     },
     "metadata": {},
     "output_type": "display_data"
    }
   ],
   "source": [
    "sns.boxplot(y=df[\"ec (cm3)\"])"
   ]
  },
  {
   "cell_type": "code",
   "execution_count": 574,
   "metadata": {},
   "outputs": [
    {
     "name": "stdout",
     "output_type": "stream",
     "text": [
      "(53722, 37)\n",
      "(52965, 37)\n"
     ]
    },
    {
     "data": {
      "text/plain": [
       "(array([1.3000e+01, 1.0000e+00, 1.1440e+04, 2.9705e+04, 8.8380e+03,\n",
       "        2.5230e+03, 1.0000e+01, 3.6200e+02, 2.5000e+01, 1.0000e+00,\n",
       "        9.0000e+00, 2.3000e+01, 1.2000e+01, 0.0000e+00, 2.0000e+00,\n",
       "        0.0000e+00, 0.0000e+00, 0.0000e+00, 0.0000e+00, 1.0000e+00]),\n",
       " array([   0.,  420.,  840., 1260., 1680., 2100., 2520., 2940., 3360.,\n",
       "        3780., 4200., 4620., 5040., 5460., 5880., 6300., 6720., 7140.,\n",
       "        7560., 7980., 8400.]),\n",
       " <a list of 20 Patch objects>)"
      ]
     },
     "execution_count": 574,
     "metadata": {},
     "output_type": "execute_result"
    },
    {
     "data": {
      "image/png": "[encoded data removed]",
      "text/plain": [
       "<Figure size 432x288 with 1 Axes>"
      ]
     },
     "metadata": {},
     "output_type": "display_data"
    }
   ],
   "source": [
    "print(df.shape)\n",
    "df = df.loc[~df[\"ec (cm3)\"].isnull()]\n",
    "print(df.shape)\n",
    "plt.hist(df[\"ec (cm3)\"],bins=20)"
   ]
  },
  {
   "cell_type": "code",
   "execution_count": 575,
   "metadata": {},
   "outputs": [
    {
     "name": "stdout",
     "output_type": "stream",
     "text": [
      "(52965, 37)\n",
      "(52876, 37)\n"
     ]
    }
   ],
   "source": [
    "print(df.shape)\n",
    "df = df.loc[(df[\"ec (cm3)\"] > 800) & (df[\"ec (cm3)\"] < 3000)]\n",
    "print(df.shape)"
   ]
  },
  {
   "cell_type": "markdown",
   "metadata": {},
   "source": [
    "**Etude de \"Ft\" et \"cod_cbr\", puis 'Fm'**"
   ]
  },
  {
   "cell_type": "code",
   "execution_count": 576,
   "metadata": {},
   "outputs": [
    {
     "name": "stdout",
     "output_type": "stream",
     "text": [
      "Diesel             26479\n",
      "Petrol             14350\n",
      "DIESEL              3169\n",
      "petrol              2648\n",
      "PETROL              2350\n",
      "diesel              2208\n",
      "LPG                  598\n",
      "Diesel-Electric       40\n",
      "NG-Biomethane          6\n",
      "ELECTRIC               4\n",
      "                       3\n",
      "Electric               3\n",
      "DIESEL-ELECTRIC        1\n",
      "Biodiesel              1\n",
      "petrol-electric        1\n",
      "Name: Ft, dtype: int64\n",
      "GO       32272\n",
      "ES       19649\n",
      "GH         347\n",
      "GP/ES      285\n",
      "ES/GP      285\n",
      "GL          32\n",
      "GN/ES        3\n",
      "ES/GN        3\n",
      "Name: cod_cbr, dtype: int64\n"
     ]
    }
   ],
   "source": [
    "print(df[\"Ft\"].value_counts())\n",
    "print(df[\"cod_cbr\"].value_counts())"
   ]
  },
  {
   "cell_type": "code",
   "execution_count": 577,
   "metadata": {},
   "outputs": [
    {
     "name": "stdout",
     "output_type": "stream",
     "text": [
      "Diesel             31856\n",
      "Petrol             19348\n",
      "LPG                  598\n",
      "Diesel-Electric       41\n",
      "Electric               7\n",
      "NG-Biomethane          6\n",
      "                       3\n",
      "Biodiesel              1\n",
      "petrol-electric        1\n",
      "Name: Ft, dtype: int64\n",
      "GO       32272\n",
      "ES       19649\n",
      "GH         347\n",
      "GP/ES      285\n",
      "ES/GP      285\n",
      "GL          32\n",
      "GN/ES        3\n",
      "ES/GN        3\n",
      "Name: cod_cbr, dtype: int64\n",
      "Ft         1015\n",
      "cod_cbr       0\n",
      "dtype: int64\n"
     ]
    }
   ],
   "source": [
    "to_replace = [\"DIESEL\",\"petrol\",\"diesel\",\"PETROL\",\"electric\",\"ELECTRIC\",\"DIESEL-ELECTRIC\"]\n",
    "value = [\"Diesel\",\"Petrol\",\"Diesel\",\"Petrol\",\"Electric\",\"Electric\",\"Diesel-Electric\"]\n",
    "df[\"Ft\"] = df[\"Ft\"].replace(to_replace=to_replace,value=value)\n",
    "print(df[\"Ft\"].value_counts())\n",
    "print(df[\"cod_cbr\"].value_counts())\n",
    "print(df[[\"Ft\",\"cod_cbr\"]].isnull().sum())"
   ]
  },
  {
   "cell_type": "code",
   "execution_count": 578,
   "metadata": {},
   "outputs": [
    {
     "data": {
      "text/html": [
       "<div>\n",
       "<style scoped>\n",
       "    .dataframe tbody tr th:only-of-type {\n",
       "        vertical-align: middle;\n",
       "    }\n",
       "\n",
       "    .dataframe tbody tr th {\n",
       "        vertical-align: top;\n",
       "    }\n",
       "\n",
       "    .dataframe thead th {\n",
       "        text-align: right;\n",
       "    }\n",
       "</style>\n",
       "<table border=\"1\" class=\"dataframe\">\n",
       "  <thead>\n",
       "    <tr style=\"text-align: right;\">\n",
       "      <th>cod_cbr</th>\n",
       "      <th>ES</th>\n",
       "      <th>ES/GN</th>\n",
       "      <th>ES/GP</th>\n",
       "      <th>GH</th>\n",
       "      <th>GL</th>\n",
       "      <th>GN/ES</th>\n",
       "      <th>GO</th>\n",
       "      <th>GP/ES</th>\n",
       "    </tr>\n",
       "    <tr>\n",
       "      <th>Ft</th>\n",
       "      <th></th>\n",
       "      <th></th>\n",
       "      <th></th>\n",
       "      <th></th>\n",
       "      <th></th>\n",
       "      <th></th>\n",
       "      <th></th>\n",
       "      <th></th>\n",
       "    </tr>\n",
       "  </thead>\n",
       "  <tbody>\n",
       "    <tr>\n",
       "      <th></th>\n",
       "      <td>1</td>\n",
       "      <td>0</td>\n",
       "      <td>0</td>\n",
       "      <td>0</td>\n",
       "      <td>0</td>\n",
       "      <td>0</td>\n",
       "      <td>2</td>\n",
       "      <td>0</td>\n",
       "    </tr>\n",
       "    <tr>\n",
       "      <th>Biodiesel</th>\n",
       "      <td>0</td>\n",
       "      <td>0</td>\n",
       "      <td>0</td>\n",
       "      <td>0</td>\n",
       "      <td>0</td>\n",
       "      <td>0</td>\n",
       "      <td>1</td>\n",
       "      <td>0</td>\n",
       "    </tr>\n",
       "    <tr>\n",
       "      <th>Diesel</th>\n",
       "      <td>72</td>\n",
       "      <td>0</td>\n",
       "      <td>0</td>\n",
       "      <td>305</td>\n",
       "      <td>1</td>\n",
       "      <td>0</td>\n",
       "      <td>31478</td>\n",
       "      <td>0</td>\n",
       "    </tr>\n",
       "    <tr>\n",
       "      <th>Diesel-Electric</th>\n",
       "      <td>0</td>\n",
       "      <td>0</td>\n",
       "      <td>0</td>\n",
       "      <td>14</td>\n",
       "      <td>27</td>\n",
       "      <td>0</td>\n",
       "      <td>0</td>\n",
       "      <td>0</td>\n",
       "    </tr>\n",
       "    <tr>\n",
       "      <th>Electric</th>\n",
       "      <td>1</td>\n",
       "      <td>0</td>\n",
       "      <td>0</td>\n",
       "      <td>5</td>\n",
       "      <td>1</td>\n",
       "      <td>0</td>\n",
       "      <td>0</td>\n",
       "      <td>0</td>\n",
       "    </tr>\n",
       "    <tr>\n",
       "      <th>LPG</th>\n",
       "      <td>28</td>\n",
       "      <td>0</td>\n",
       "      <td>285</td>\n",
       "      <td>0</td>\n",
       "      <td>0</td>\n",
       "      <td>0</td>\n",
       "      <td>0</td>\n",
       "      <td>285</td>\n",
       "    </tr>\n",
       "    <tr>\n",
       "      <th>NG-Biomethane</th>\n",
       "      <td>0</td>\n",
       "      <td>3</td>\n",
       "      <td>0</td>\n",
       "      <td>0</td>\n",
       "      <td>0</td>\n",
       "      <td>3</td>\n",
       "      <td>0</td>\n",
       "      <td>0</td>\n",
       "    </tr>\n",
       "    <tr>\n",
       "      <th>Petrol</th>\n",
       "      <td>19279</td>\n",
       "      <td>0</td>\n",
       "      <td>0</td>\n",
       "      <td>1</td>\n",
       "      <td>2</td>\n",
       "      <td>0</td>\n",
       "      <td>66</td>\n",
       "      <td>0</td>\n",
       "    </tr>\n",
       "    <tr>\n",
       "      <th>petrol-electric</th>\n",
       "      <td>0</td>\n",
       "      <td>0</td>\n",
       "      <td>0</td>\n",
       "      <td>0</td>\n",
       "      <td>1</td>\n",
       "      <td>0</td>\n",
       "      <td>0</td>\n",
       "      <td>0</td>\n",
       "    </tr>\n",
       "  </tbody>\n",
       "</table>\n",
       "</div>"
      ],
      "text/plain": [
       "cod_cbr             ES  ES/GN  ES/GP   GH  GL  GN/ES     GO  GP/ES\n",
       "Ft                                                                \n",
       "                     1      0      0    0   0      0      2      0\n",
       "Biodiesel            0      0      0    0   0      0      1      0\n",
       "Diesel              72      0      0  305   1      0  31478      0\n",
       "Diesel-Electric      0      0      0   14  27      0      0      0\n",
       "Electric             1      0      0    5   1      0      0      0\n",
       "LPG                 28      0    285    0   0      0      0    285\n",
       "NG-Biomethane        0      3      0    0   0      3      0      0\n",
       "Petrol           19279      0      0    1   2      0     66      0\n",
       "petrol-electric      0      0      0    0   1      0      0      0"
      ]
     },
     "execution_count": 578,
     "metadata": {},
     "output_type": "execute_result"
    }
   ],
   "source": [
    "pd.crosstab(df[\"Ft\"],df['cod_cbr'])"
   ]
  },
  {
   "cell_type": "code",
   "execution_count": 579,
   "metadata": {},
   "outputs": [
    {
     "name": "stdout",
     "output_type": "stream",
     "text": [
      "M    51155\n",
      "B      611\n",
      "F        1\n",
      "Name: Fm, dtype: int64\n"
     ]
    }
   ],
   "source": [
    "print(df[\"Fm\"].value_counts())"
   ]
  },
  {
   "cell_type": "code",
   "execution_count": 580,
   "metadata": {},
   "outputs": [
    {
     "name": "stdout",
     "output_type": "stream",
     "text": [
      "(52876, 37)\n",
      "(52876, 35)\n"
     ]
    }
   ],
   "source": [
    "print(df.shape)\n",
    "df = df.drop([\"Ft\",\"Fm\"],axis=1)\n",
    "print(df.shape)\n"
   ]
  },
  {
   "cell_type": "code",
   "execution_count": 581,
   "metadata": {},
   "outputs": [
    {
     "name": "stdout",
     "output_type": "stream",
     "text": [
      "0\n"
     ]
    }
   ],
   "source": [
    "print(df[\"cod_cbr\"].isnull().sum())"
   ]
  },
  {
   "cell_type": "markdown",
   "metadata": {},
   "source": [
    "**Etude \"W (mm)\", \"At1 (mm)\" et \"At2 (mm)\"**"
   ]
  },
  {
   "cell_type": "code",
   "execution_count": 587,
   "metadata": {},
   "outputs": [
    {
     "name": "stdout",
     "output_type": "stream",
     "text": [
      "count    52303.000000\n",
      "mean      2663.086400\n",
      "std        186.366912\n",
      "min        695.000000\n",
      "25%       2589.000000\n",
      "50%       2647.000000\n",
      "75%       2776.000000\n",
      "max       4813.000000\n",
      "Name: W (mm), dtype: float64\n",
      "573\n"
     ]
    }
   ],
   "source": [
    "print(df[\"W (mm)\"].describe())\n",
    "print(df[\"W (mm)\"].isnull().sum())"
   ]
  },
  {
   "cell_type": "code",
   "execution_count": 588,
   "metadata": {},
   "outputs": [
    {
     "name": "stdout",
     "output_type": "stream",
     "text": [
      "(52876, 35)\n",
      "(52303, 35)\n"
     ]
    }
   ],
   "source": [
    "print(df.shape)\n",
    "df = df.loc[~df[\"W (mm)\"].isnull()]\n",
    "print(df.shape)"
   ]
  },
  {
   "cell_type": "code",
   "execution_count": 589,
   "metadata": {},
   "outputs": [
    {
     "data": {
      "text/plain": [
       "<matplotlib.axes._subplots.AxesSubplot at 0xc26a1d0>"
      ]
     },
     "execution_count": 589,
     "metadata": {},
     "output_type": "execute_result"
    },
    {
     "data": {
      "image/png": "[encoded data removed]",
      "text/plain": [
       "<Figure size 432x288 with 1 Axes>"
      ]
     },
     "metadata": {},
     "output_type": "display_data"
    }
   ],
   "source": [
    "sns.boxplot(y=df[\"W (mm)\"])"
   ]
  },
  {
   "cell_type": "code",
   "execution_count": 590,
   "metadata": {},
   "outputs": [
    {
     "name": "stdout",
     "output_type": "stream",
     "text": [
      "           At1 (mm)      At2 (mm)\n",
      "count  51874.000000  47839.000000\n",
      "mean    1546.515287   1539.379753\n",
      "std      143.420817    140.905959\n",
      "min      695.000000    850.000000\n",
      "25%     1497.000000   1486.000000\n",
      "50%     1536.000000   1531.000000\n",
      "75%     1574.000000   1556.000000\n",
      "max     3122.000000   3122.000000\n",
      "At1 (mm)     429\n",
      "At2 (mm)    4464\n",
      "dtype: int64\n"
     ]
    }
   ],
   "source": [
    "print(df[[\"At1 (mm)\",\"At2 (mm)\"]].isnull().sum())\n",
    "print(df[[\"At1 (mm)\",\"At2 (mm)\"]].describe())"
   ]
  },
  {
   "cell_type": "code",
   "execution_count": 585,
   "metadata": {},
   "outputs": [
    {
     "data": {
      "text/plain": [
       "<matplotlib.axes._subplots.AxesSubplot at 0xc3ef210>"
      ]
     },
     "execution_count": 585,
     "metadata": {},
     "output_type": "execute_result"
    },
    {
     "data": {
      "image/png": "[encoded data removed]",
      "text/plain": [
       "<Figure size 720x432 with 2 Axes>"
      ]
     },
     "metadata": {},
     "output_type": "display_data"
    }
   ],
   "source": [
    "plt.figure(figsize=(10,6))\n",
    "plt.subplot(1,2,1)\n",
    "sns.boxplot(y=df[\"At1 (mm)\"])\n",
    "plt.subplot(1,2,2)\n",
    "sns.boxplot(y=df[\"At2 (mm)\"])"
   ]
  },
  {
   "cell_type": "code",
   "execution_count": 586,
   "metadata": {},
   "outputs": [
    {
     "name": "stdout",
     "output_type": "stream",
     "text": [
      "count    47839.000000\n",
      "mean        13.019064\n",
      "std         23.317744\n",
      "min          0.000000\n",
      "25%          2.000000\n",
      "50%          6.000000\n",
      "75%         14.000000\n",
      "max       1156.000000\n",
      "dtype: float64\n",
      "16\n"
     ]
    }
   ],
   "source": [
    "axle_diff = np.abs(df[\"At2 (mm)\"]-df[\"At1 (mm)\"])\n",
    "print(axle_diff.describe())\n",
    "print((axle_diff > 500).sum())"
   ]
  },
  {
   "cell_type": "code",
   "execution_count": 591,
   "metadata": {},
   "outputs": [
    {
     "name": "stdout",
     "output_type": "stream",
     "text": [
      "(52303, 35)\n",
      "(51874, 35)\n"
     ]
    }
   ],
   "source": [
    "print(df.shape)\n",
    "df = df.loc[~df[\"At1 (mm)\"].isnull()]\n",
    "print(df.shape)"
   ]
  },
  {
   "cell_type": "code",
   "execution_count": 596,
   "metadata": {},
   "outputs": [
    {
     "name": "stdout",
     "output_type": "stream",
     "text": [
      "At1 (mm)       0\n",
      "At2 (mm)    4041\n",
      "dtype: int64\n",
      "At1 (mm)    0\n",
      "At2 (mm)    0\n",
      "dtype: int64\n"
     ]
    }
   ],
   "source": [
    "print(df[[\"At1 (mm)\",\"At2 (mm)\"]].isnull().sum())\n",
    "df[\"At2 (mm)\"].loc[df[\"At2 (mm)\"].isnull()] = df[\"At1 (mm)\"].loc[df[\"At2 (mm)\"].isnull()]\n",
    "print(df[[\"At1 (mm)\",\"At2 (mm)\"]].isnull().sum())"
   ]
  },
  {
   "cell_type": "markdown",
   "metadata": {},
   "source": [
    "**Etude de \"Enedc (g/km)\" et \"co2\"**"
   ]
  },
  {
   "cell_type": "code",
   "execution_count": 598,
   "metadata": {},
   "outputs": [
    {
     "name": "stdout",
     "output_type": "stream",
     "text": [
      "       Enedc (g/km)           co2\n",
      "count  51863.000000  51874.000000\n",
      "mean     126.415865    125.556560\n",
      "std       26.123749     25.326957\n",
      "min       48.000000     48.000000\n",
      "25%      105.000000    105.000000\n",
      "50%      120.000000    120.000000\n",
      "75%      144.000000    140.000000\n",
      "max      571.000000    250.000000\n",
      "42261\n",
      "Enedc (g/km)    11\n",
      "co2              0\n",
      "dtype: int64\n"
     ]
    }
   ],
   "source": [
    "print(df[[\"Enedc (g/km)\",\"co2\"]].describe())\n",
    "print((df[\"Enedc (g/km)\"] == df[\"co2\"]).sum())\n",
    "print(df[[\"Enedc (g/km)\",\"co2\"]].isnull().sum())\n"
   ]
  },
  {
   "cell_type": "code",
   "execution_count": 599,
   "metadata": {},
   "outputs": [
    {
     "data": {
      "text/plain": [
       "<matplotlib.axes._subplots.AxesSubplot at 0xc3c4bb0>"
      ]
     },
     "execution_count": 599,
     "metadata": {},
     "output_type": "execute_result"
    },
    {
     "data": {
      "image/png": "[encoded data removed]",
      "text/plain": [
       "<Figure size 432x288 with 1 Axes>"
      ]
     },
     "metadata": {},
     "output_type": "display_data"
    }
   ],
   "source": [
    "sns.boxplot(y=df[\"Enedc (g/km)\"])"
   ]
  },
  {
   "cell_type": "code",
   "execution_count": 600,
   "metadata": {},
   "outputs": [
    {
     "data": {
      "text/plain": [
       "<matplotlib.axes._subplots.AxesSubplot at 0xc3547b0>"
      ]
     },
     "execution_count": 600,
     "metadata": {},
     "output_type": "execute_result"
    },
    {
     "data": {
      "image/png": "[encoded data removed]",
      "text/plain": [
       "<Figure size 432x288 with 1 Axes>"
      ]
     },
     "metadata": {},
     "output_type": "display_data"
    }
   ],
   "source": [
    "sns.boxplot(y=df[\"co2\"])"
   ]
  },
  {
   "cell_type": "code",
   "execution_count": 601,
   "metadata": {},
   "outputs": [
    {
     "name": "stdout",
     "output_type": "stream",
     "text": [
      "0      3.0\n",
      "2      3.0\n",
      "3      3.0\n",
      "777    2.0\n",
      "778    2.0\n",
      "dtype: float64\n",
      "count    9602.000000\n",
      "mean        7.595084\n",
      "std         9.572802\n",
      "min         1.000000\n",
      "25%         4.000000\n",
      "50%         5.000000\n",
      "75%        10.000000\n",
      "max       427.000000\n",
      "dtype: float64\n",
      "325\n",
      "AxesSubplot(0.125,0.125;0.775x0.755)\n"
     ]
    },
    {
     "data": {
      "image/png": "[encoded data removed]",
      "text/plain": [
       "<Figure size 432x288 with 1 Axes>"
      ]
     },
     "metadata": {},
     "output_type": "display_data"
    }
   ],
   "source": [
    "df_different_co2 = df[[\"Enedc (g/km)\",\"co2\"]].loc[df[\"Enedc (g/km)\"] != df[\"co2\"]]\n",
    "df_different_co2 = np.abs(df_different_co2[\"Enedc (g/km)\"]-df_different_co2[\"co2\"])\n",
    "print(df_different_co2.head())\n",
    "print(df_different_co2.describe())\n",
    "print((df_different_co2 > 20).sum())\n",
    "\n",
    "print(sns.boxplot(y=df_different_co2))"
   ]
  },
  {
   "cell_type": "code",
   "execution_count": 602,
   "metadata": {},
   "outputs": [
    {
     "name": "stdout",
     "output_type": "stream",
     "text": [
      "(51874, 35)\n",
      "(51401, 35)\n",
      "(51401, 34)\n"
     ]
    }
   ],
   "source": [
    "print(df.shape)\n",
    "df = df.loc[(np.abs(df[\"Enedc (g/km)\"] - df[\"co2\"]) < 20) ]\n",
    "print(df.shape)\n",
    "df = df.drop([\"Enedc (g/km)\"],axis=1)\n",
    "print(df.shape)"
   ]
  },
  {
   "cell_type": "code",
   "execution_count": 603,
   "metadata": {},
   "outputs": [
    {
     "name": "stdout",
     "output_type": "stream",
     "text": [
      "count    51401.000000\n",
      "mean       125.394272\n",
      "std         25.297110\n",
      "min         48.000000\n",
      "25%        105.000000\n",
      "50%        120.000000\n",
      "75%        140.000000\n",
      "max        250.000000\n",
      "Name: co2, dtype: float64\n",
      "0\n"
     ]
    }
   ],
   "source": [
    "print(df[\"co2\"].describe())\n",
    "print(df[\"co2\"].isnull().sum())"
   ]
  },
  {
   "cell_type": "markdown",
   "metadata": {},
   "source": [
    "**Etude de \"m (kg)\",\"masse_ordma_min\" et \"masse_ordma_max\"**"
   ]
  },
  {
   "cell_type": "code",
   "execution_count": 604,
   "metadata": {},
   "outputs": [
    {
     "name": "stdout",
     "output_type": "stream",
     "text": [
      "             m (kg)  masse_ordma_min  masse_ordma_max\n",
      "count  51332.000000     51401.000000     51401.000000\n",
      "mean    1422.072275      1373.089473      1392.477967\n",
      "std      261.909109       245.337518       244.035535\n",
      "min      401.000000       875.000000       925.000000\n",
      "25%     1227.000000      1176.000000      1210.000000\n",
      "50%     1390.000000      1359.000000      1387.000000\n",
      "75%     1600.000000      1505.000000      1505.000000\n",
      "max     3055.000000      2315.000000      2355.000000\n",
      "40842\n",
      "23338\n",
      "20356\n",
      "23916\n",
      "19778\n",
      "    m (kg)  masse_ordma_min  masse_ordma_max\n",
      "0   1578.0             1565             1565\n",
      "1   1565.0             1565             1565\n",
      "2   1628.0             1615             1615\n",
      "3   1627.0             1615             1615\n",
      "4   1615.0             1615             1615\n",
      "6   1533.0             1505             1505\n",
      "7   1505.0             1505             1505\n",
      "8   1536.0             1505             1505\n",
      "9   1547.0             1505             1505\n",
      "11  1553.0             1505             1505\n"
     ]
    }
   ],
   "source": [
    "print(df[[\"m (kg)\",\"masse_ordma_min\",\"masse_ordma_max\"]].describe())\n",
    "print((df[\"masse_ordma_min\"] == df[\"masse_ordma_max\"]).sum())\n",
    "print(((df[\"m (kg)\"] == df[\"masse_ordma_min\"])).sum())\n",
    "print(((df[\"m (kg)\"] == df[\"masse_ordma_max\"])).sum())\n",
    "print(((df[\"m (kg)\"] == df[\"masse_ordma_min\"])|(df[\"m (kg)\"] == df[\"masse_ordma_max\"])).sum())\n",
    "print(((df[\"m (kg)\"] == df[\"masse_ordma_min\"])&(df[\"m (kg)\"] == df[\"masse_ordma_max\"])).sum())\n",
    "\n",
    "print(df[[\"m (kg)\",\"masse_ordma_min\",\"masse_ordma_max\"]].head(10))"
   ]
  },
  {
   "cell_type": "code",
   "execution_count": 605,
   "metadata": {},
   "outputs": [
    {
     "name": "stdout",
     "output_type": "stream",
     "text": [
      "count    51401.000000\n",
      "mean        19.388494\n",
      "std         42.742956\n",
      "min          0.000000\n",
      "25%          0.000000\n",
      "50%          0.000000\n",
      "75%          0.000000\n",
      "max        322.000000\n",
      "dtype: float64\n",
      "10559\n",
      "4494\n"
     ]
    }
   ],
   "source": [
    "diff_masse = np.abs(df[\"masse_ordma_min\"]-df[\"masse_ordma_max\"])\n",
    "print(diff_masse.describe())\n",
    "print((diff_masse > 1).sum())\n",
    "print((diff_masse > 100).sum())"
   ]
  },
  {
   "cell_type": "code",
   "execution_count": 606,
   "metadata": {},
   "outputs": [
    {
     "data": {
      "text/plain": [
       "9025"
      ]
     },
     "execution_count": 606,
     "metadata": {},
     "output_type": "execute_result"
    }
   ],
   "source": [
    "#df_sans_masse = df.drop([\"m (kg)\",\"masse_ordma_min\",\"masse_ordma_max\"],axis=1)\n",
    "df_sans_masse = df.drop([\"m (kg)\"],axis=1)\n",
    "df_sans_masse.duplicated().sum()"
   ]
  },
  {
   "cell_type": "code",
   "execution_count": 607,
   "metadata": {},
   "outputs": [
    {
     "name": "stdout",
     "output_type": "stream",
     "text": [
      "(51401, 34)\n",
      "(51401, 33)\n"
     ]
    }
   ],
   "source": [
    "print(df.shape)\n",
    "df = df.drop([\"m (kg)\"],axis=1)\n",
    "print(df.shape)"
   ]
  },
  {
   "cell_type": "code",
   "execution_count": 608,
   "metadata": {},
   "outputs": [
    {
     "name": "stdout",
     "output_type": "stream",
     "text": [
      "(51401, 33)\n",
      "9025\n",
      "(42376, 33)\n",
      "0\n"
     ]
    }
   ],
   "source": [
    "print(df.shape)\n",
    "print(df.duplicated().sum())\n",
    "df = df.drop_duplicates()\n",
    "print(df.shape)\n",
    "print(df.duplicated().sum())"
   ]
  },
  {
   "cell_type": "code",
   "execution_count": 610,
   "metadata": {},
   "outputs": [
    {
     "name": "stdout",
     "output_type": "stream",
     "text": [
      "masse_ordma_min    0\n",
      "masse_ordma_max    0\n",
      "dtype: int64\n"
     ]
    }
   ],
   "source": [
    "print(df[[\"masse_ordma_min\",\"masse_ordma_max\"]].isnull().sum())"
   ]
  },
  {
   "cell_type": "markdown",
   "metadata": {},
   "source": [
    "**Etude de \"Ct\"**\n",
    "\n",
    "Selon ChatGPT\n",
    "\n",
    "Un véhicule de type M1 correspond à une voiture particulière selon la classification de la Commission économique pour l’Europe des Nations Unies (CEE-ONU) et la réglementation européenne.\n",
    "\n",
    "Définition d’un véhicule M1 :\n",
    "Il s'agit d’un véhicule conçu et construit pour le transport de passagers, ayant au maximum 8 places assises en plus du siège du conducteur.\n",
    "\n",
    "Une voiture de type M1G est une voiture particulière tout-terrain."
   ]
  },
  {
   "cell_type": "code",
   "execution_count": 611,
   "metadata": {},
   "outputs": [
    {
     "name": "stdout",
     "output_type": "stream",
     "text": [
      "M1     42242\n",
      "M1G      133\n",
      "Name: Ct, dtype: int64\n",
      "1\n"
     ]
    }
   ],
   "source": [
    "#Category of the vehicle type approved\n",
    "print(df[\"Ct\"].value_counts())\n",
    "print(df[\"Ct\"].isnull().sum())"
   ]
  },
  {
   "cell_type": "code",
   "execution_count": 612,
   "metadata": {},
   "outputs": [
    {
     "name": "stdout",
     "output_type": "stream",
     "text": [
      "(42376, 33)\n",
      "(42375, 33)\n"
     ]
    }
   ],
   "source": [
    "print(df.shape)\n",
    "df = df.loc[~df[\"Ct\"].isnull()]\n",
    "print(df.shape)"
   ]
  },
  {
   "cell_type": "markdown",
   "metadata": {},
   "source": [
    "**Etude des marques : (\"lib_mrq\",\"lib_mod_doss\",\"lib_mod\",\"dscom\",\"Mp\",\"Mh\",\"Man\",\"MMS\",\"Cn\")**\n",
    "\n"
   ]
  },
  {
   "cell_type": "code",
   "execution_count": 613,
   "metadata": {},
   "outputs": [
    {
     "name": "stdout",
     "output_type": "stream",
     "text": [
      "lib_mrq             0\n",
      "lib_mod_doss        0\n",
      "lib_mod             0\n",
      "dscom               0\n",
      "Mp              15134\n",
      "Mh                  0\n",
      "Man                 0\n",
      "MMS              6674\n",
      "Cn                  8\n",
      "dtype: int64\n",
      "       lib_mrq lib_mod_doss    lib_mod                                  dscom  \\\n",
      "0   ALFA-ROMEO          159        159                   159 2.0 JTDm (170ch)   \n",
      "1   ALFA-ROMEO          159        159               159 2.0 JTDm (170ch) ECO   \n",
      "2   ALFA-ROMEO          159        159                159 SW 2.0 JTDm (170ch)   \n",
      "4   ALFA-ROMEO          159        159            159 SW 2.0 JTDm (170ch) ECO   \n",
      "6   ALFA-ROMEO        BRERA      BRERA                 BRERA 1750 TBI (200ch)   \n",
      "7   ALFA-ROMEO        BRERA      BRERA                 BRERA 1750 TBI (200ch)   \n",
      "17  ALFA-ROMEO        BRERA      BRERA                 BRERA 2.0 JTDm (170ch)   \n",
      "18  ALFA-ROMEO        BRERA      BRERA                 BRERA 2.0 JTDm (170ch)   \n",
      "25  ALFA-ROMEO    GIULIETTA  GIULIETTA  GIULIETTA 1.4 TB MultiAir (170ch) S/S   \n",
      "27  ALFA-ROMEO    GIULIETTA  GIULIETTA  GIULIETTA 1.4 TB MultiAir (170ch) S/S   \n",
      "\n",
      "     Mp                          Mh                         Man         MMS  \\\n",
      "0   NaN  FIAT GROUP AUTOMOBILES SPA  FIAT GROUP AUTOMOBILES SPA  ALFA-ROMEO   \n",
      "1   NaN  FIAT GROUP AUTOMOBILES SPA  FIAT GROUP AUTOMOBILES SPA         NaN   \n",
      "2   NaN  FIAT GROUP AUTOMOBILES SPA  FIAT GROUP AUTOMOBILES SPA  ALFA-ROMEO   \n",
      "4   NaN  FIAT GROUP AUTOMOBILES SPA  FIAT GROUP AUTOMOBILES SPA         NaN   \n",
      "6   NaN  FIAT GROUP AUTOMOBILES SPA  FIAT GROUP AUTOMOBILES SPA  ALFA-ROMEO   \n",
      "7   NaN  FIAT GROUP AUTOMOBILES SPA  FIAT GROUP AUTOMOBILES SPA  ALFA-ROMEO   \n",
      "17  NaN  FIAT GROUP AUTOMOBILES SPA  FIAT GROUP AUTOMOBILES SPA  ALFA-ROMEO   \n",
      "18  NaN  FIAT GROUP AUTOMOBILES SPA  FIAT GROUP AUTOMOBILES SPA  ALFA-ROMEO   \n",
      "25  NaN  FIAT GROUP AUTOMOBILES SPA  FIAT GROUP AUTOMOBILES SPA  ALFA-ROMEO   \n",
      "27  NaN  FIAT GROUP AUTOMOBILES SPA  FIAT GROUP AUTOMOBILES SPA  ALFA-ROMEO   \n",
      "\n",
      "                           Cn  \n",
      "0      159 LUSSO 16V JTDM 170  \n",
      "1           159 / 2.0 / M-JET  \n",
      "2      159 LUSSO 16V JTDM 170  \n",
      "4        159 / SW 2.0 / M-JET  \n",
      "6              BRERA 1750 TBI  \n",
      "7              BRERA 1750 TBI  \n",
      "17             BRERA JTDM 16V  \n",
      "18             BRERA JTDM 16V  \n",
      "25   GIULIETTA LUSSO M-AIR TB  \n",
      "27  GIULIETTA VELOCE M-AIR TB  \n"
     ]
    }
   ],
   "source": [
    "df_marque = df[[\"lib_mrq\",\"lib_mod_doss\",\"lib_mod\",\"dscom\",\"Mp\",\"Mh\",\"Man\",\"MMS\",\"Cn\"]]\n",
    "print(df_marque.isnull().sum())\n",
    "print(df_marque.head(10))"
   ]
  },
  {
   "cell_type": "code",
   "execution_count": 614,
   "metadata": {},
   "outputs": [
    {
     "data": {
      "text/plain": [
       "RENAULT       13031\n",
       "CITROEN       10440\n",
       "PEUGEOT        7734\n",
       "VOLVO          5083\n",
       "DACIA          5010\n",
       "FIAT            541\n",
       "NISSAN          329\n",
       "ALFA-ROMEO      104\n",
       "SKODA            22\n",
       "OPEL             18\n",
       "VOLKSWAGEN       12\n",
       "LANCIA            9\n",
       "MITSUBISHI        8\n",
       "SUZUKI            7\n",
       "LAND ROVER        4\n",
       "SUBARU            4\n",
       "CHEVROLET         4\n",
       "MERCEDES          3\n",
       "LEXUS             3\n",
       "HONDA             2\n",
       "KIA               2\n",
       "INFINITI          2\n",
       "JEEP              1\n",
       "MASERATI          1\n",
       "HYUNDAI           1\n",
       "Name: lib_mrq, dtype: int64"
      ]
     },
     "execution_count": 614,
     "metadata": {},
     "output_type": "execute_result"
    }
   ],
   "source": [
    "df[\"lib_mrq\"].value_counts()"
   ]
  },
  {
   "cell_type": "markdown",
   "metadata": {},
   "source": [
    "**Etude Norme**"
   ]
  },
  {
   "cell_type": "code",
   "execution_count": 619,
   "metadata": {},
   "outputs": [
    {
     "name": "stdout",
     "output_type": "stream",
     "text": [
      "715/2007*630/2012EURO5    21788\n",
      "715/2007*195/2013EURO5    15042\n",
      "715/2007*566/2011EURO5     3603\n",
      "715/2007*195/2013EURO6      649\n",
      "715/2007*692/2008EURO5      563\n",
      "715/2007*459/2012EURO5      446\n",
      "715/2007*630/2012EURO6      280\n",
      "715/2007*459/2012EURO6        4\n",
      "Name: champ_v9, dtype: int64\n",
      "0\n",
      "0\n"
     ]
    }
   ],
   "source": [
    "print(df[\"champ_v9\"].value_counts())\n",
    "print(df.duplicated().sum())\n",
    "print(df[\"champ_v9\"].isnull().sum())"
   ]
  },
  {
   "cell_type": "code",
   "execution_count": 620,
   "metadata": {},
   "outputs": [
    {
     "name": "stdout",
     "output_type": "stream",
     "text": [
      "715/2007*630/2012EURO5    21788\n",
      "715/2007*195/2013EURO5    15042\n",
      "715/2007*566/2011EURO5     3603\n",
      "715/2007*195/2013EURO6      649\n",
      "715/2007*692/2008EURO5      563\n",
      "715/2007*459/2012EURO5      446\n",
      "715/2007*630/2012EURO6      280\n",
      "715/2007*459/2012EURO6        4\n",
      "Name: champ_v9, dtype: int64\n",
      "0\n"
     ]
    }
   ],
   "source": [
    "to_replace = ['\"715/2007*630/2012EURO5','\"715/2007*195/2013EURO5','\"715/2007*630/2012EURO6','\"715/2007*566/2011EURO5',\n",
    "              '\"715/2007*459/2012EURO5','\"715/2007*195/2013EURO6','\"715/2007*692/2008EURO5']\n",
    "value = ['715/2007*630/2012EURO5','715/2007*195/2013EURO5','715/2007*630/2012EURO6','715/2007*566/2011EURO5',\n",
    "              '715/2007*459/2012EURO5','715/2007*195/2013EURO6','715/2007*692/2008EURO5']\n",
    "df[\"champ_v9\"] = df[\"champ_v9\"].replace(to_replace=to_replace,value=value)\n",
    "print(df[\"champ_v9\"].value_counts())\n",
    "print(df.duplicated().sum())"
   ]
  },
  {
   "cell_type": "code",
   "execution_count": 621,
   "metadata": {},
   "outputs": [
    {
     "name": "stdout",
     "output_type": "stream",
     "text": [
      "e2*2001/116*0314*68    451\n",
      "e2*2001/116*0327*58    436\n",
      "e2*2001/116*0327*56    412\n",
      "e2*2001/116*0327*57    364\n",
      "e2*2001/116*0314*66    353\n",
      "Name: Tan, dtype: int64\n",
      "3183\n"
     ]
    }
   ],
   "source": [
    "print(df[\"Tan\"].value_counts().head())\n",
    "print(df[\"Tan\"].isnull().sum())"
   ]
  },
  {
   "cell_type": "code",
   "execution_count": null,
   "metadata": {},
   "outputs": [],
   "source": []
  },
  {
   "cell_type": "code",
   "execution_count": null,
   "metadata": {},
   "outputs": [],
   "source": []
  },
  {
   "cell_type": "code",
   "execution_count": null,
   "metadata": {},
   "outputs": [],
   "source": []
  },
  {
   "cell_type": "code",
   "execution_count": null,
   "metadata": {},
   "outputs": [],
   "source": []
  },
  {
   "cell_type": "code",
   "execution_count": null,
   "metadata": {},
   "outputs": [],
   "source": []
  },
  {
   "cell_type": "code",
   "execution_count": null,
   "metadata": {},
   "outputs": [],
   "source": []
  },
  {
   "cell_type": "code",
   "execution_count": null,
   "metadata": {},
   "outputs": [],
   "source": []
  },
  {
   "cell_type": "code",
   "execution_count": null,
   "metadata": {},
   "outputs": [],
   "source": []
  },
  {
   "cell_type": "code",
   "execution_count": null,
   "metadata": {},
   "outputs": [],
   "source": []
  },
  {
   "cell_type": "code",
   "execution_count": null,
   "metadata": {},
   "outputs": [],
   "source": []
  },
  {
   "cell_type": "code",
   "execution_count": null,
   "metadata": {},
   "outputs": [],
   "source": []
  },
  {
   "cell_type": "code",
   "execution_count": null,
   "metadata": {},
   "outputs": [],
   "source": []
  },
  {
   "cell_type": "markdown",
   "metadata": {},
   "source": [
    "**Etude hybride**"
   ]
  },
  {
   "cell_type": "code",
   "execution_count": 622,
   "metadata": {},
   "outputs": [
    {
     "name": "stdout",
     "output_type": "stream",
     "text": [
      "non    42047\n",
      "oui      328\n",
      "Name: hybride, dtype: int64\n",
      "0\n"
     ]
    }
   ],
   "source": [
    "print(df[\"hybride\"].value_counts())\n",
    "print(df[\"hybride\"].isnull().sum())"
   ]
  },
  {
   "cell_type": "markdown",
   "metadata": {},
   "source": [
    "**Etude de \"puiss_admin_98\"**"
   ]
  },
  {
   "cell_type": "code",
   "execution_count": 623,
   "metadata": {},
   "outputs": [
    {
     "name": "stdout",
     "output_type": "stream",
     "text": [
      "count    42375.000000\n",
      "mean         6.662065\n",
      "std          2.608349\n",
      "min          3.000000\n",
      "25%          5.000000\n",
      "50%          6.000000\n",
      "75%          8.000000\n",
      "max         31.000000\n",
      "Name: puiss_admin_98, dtype: float64\n",
      "0\n"
     ]
    }
   ],
   "source": [
    "print(df[\"puiss_admin_98\"].describe())\n",
    "print(df[\"puiss_admin_98\"].isnull().sum())"
   ]
  },
  {
   "cell_type": "code",
   "execution_count": 624,
   "metadata": {},
   "outputs": [
    {
     "data": {
      "text/plain": [
       "<matplotlib.axes._subplots.AxesSubplot at 0xc7207d0>"
      ]
     },
     "execution_count": 624,
     "metadata": {},
     "output_type": "execute_result"
    },
    {
     "data": {
      "image/png": "[encoded data removed]",
      "text/plain": [
       "<Figure size 432x288 with 1 Axes>"
      ]
     },
     "metadata": {},
     "output_type": "display_data"
    }
   ],
   "source": [
    "sns.boxplot(y=df[\"puiss_admin_98\"])"
   ]
  },
  {
   "cell_type": "code",
   "execution_count": 625,
   "metadata": {},
   "outputs": [
    {
     "data": {
      "text/plain": [
       "(array([7.9180e+03, 8.5230e+03, 1.4281e+04, 2.7720e+03, 4.1730e+03,\n",
       "        2.1340e+03, 1.0530e+03, 8.6600e+02, 1.3400e+02, 3.0000e+02,\n",
       "        0.0000e+00, 3.0000e+00, 2.1700e+02, 0.0000e+00, 0.0000e+00,\n",
       "        0.0000e+00, 0.0000e+00, 0.0000e+00, 0.0000e+00, 1.0000e+00]),\n",
       " array([ 3. ,  4.4,  5.8,  7.2,  8.6, 10. , 11.4, 12.8, 14.2, 15.6, 17. ,\n",
       "        18.4, 19.8, 21.2, 22.6, 24. , 25.4, 26.8, 28.2, 29.6, 31. ]),\n",
       " <a list of 20 Patch objects>)"
      ]
     },
     "execution_count": 625,
     "metadata": {},
     "output_type": "execute_result"
    },
    {
     "data": {
      "image/png": "[encoded data removed]",
      "text/plain": [
       "<Figure size 432x288 with 1 Axes>"
      ]
     },
     "metadata": {},
     "output_type": "display_data"
    }
   ],
   "source": [
    "plt.hist(df[\"puiss_admin_98\"],bins=20)"
   ]
  },
  {
   "cell_type": "code",
   "execution_count": 626,
   "metadata": {},
   "outputs": [
    {
     "data": {
      "text/plain": [
       "1"
      ]
     },
     "execution_count": 626,
     "metadata": {},
     "output_type": "execute_result"
    }
   ],
   "source": [
    "(df[\"puiss_admin_98\"] > 30).sum()"
   ]
  },
  {
   "cell_type": "markdown",
   "metadata": {},
   "source": [
    "**Etude de 'typ_boite_nb_rapp'**"
   ]
  },
  {
   "cell_type": "code",
   "execution_count": 627,
   "metadata": {},
   "outputs": [
    {
     "name": "stdout",
     "output_type": "stream",
     "text": [
      "M 5    16144\n",
      "M 6    15992\n",
      "A 6     8863\n",
      "A 4      493\n",
      "A 8      380\n",
      "A 5      368\n",
      "D 5      115\n",
      "A 7       10\n",
      "V 0        5\n",
      "D 6        4\n",
      "S 6        1\n",
      "Name: typ_boite_nb_rapp, dtype: int64\n",
      "0\n"
     ]
    }
   ],
   "source": [
    "print(df[\"typ_boite_nb_rapp\"].value_counts())\n",
    "print(df[\"typ_boite_nb_rapp\"].isnull().sum())"
   ]
  },
  {
   "cell_type": "code",
   "execution_count": 628,
   "metadata": {},
   "outputs": [
    {
     "name": "stdout",
     "output_type": "stream",
     "text": [
      "(42375, 33)\n",
      "(42369, 33)\n"
     ]
    }
   ],
   "source": [
    "print(df.shape)\n",
    "df = df.loc[~((df[\"typ_boite_nb_rapp\"] == \"V 0\")|(df[\"typ_boite_nb_rapp\"] == \"S 6\"))]\n",
    "print(df.shape)"
   ]
  },
  {
   "cell_type": "code",
   "execution_count": 629,
   "metadata": {},
   "outputs": [
    {
     "name": "stdout",
     "output_type": "stream",
     "text": [
      "M 5    16144\n",
      "M 6    15992\n",
      "A 6     8863\n",
      "A 4      493\n",
      "A 8      380\n",
      "A 5      368\n",
      "D 5      115\n",
      "A 7       10\n",
      "D 6        4\n",
      "Name: typ_boite_nb_rapp, dtype: int64\n"
     ]
    }
   ],
   "source": [
    "print(df[\"typ_boite_nb_rapp\"].value_counts())"
   ]
  },
  {
   "cell_type": "code",
   "execution_count": 630,
   "metadata": {},
   "outputs": [
    {
     "name": "stdout",
     "output_type": "stream",
     "text": [
      "(42369, 33)\n",
      "(42369, 35)\n",
      "  typ_boite nb_rapp\n",
      "0         M       6\n",
      "1         M       6\n",
      "2         M       6\n",
      "4         M       6\n",
      "6         M       6\n"
     ]
    }
   ],
   "source": [
    "print(df.shape)\n",
    "df[\"typ_boite\"] = df[\"typ_boite_nb_rapp\"].str[0]\n",
    "df[\"nb_rapp\"] = df[\"typ_boite_nb_rapp\"].str[2]\n",
    "print(df.shape)\n",
    "\n",
    "print(df[[\"typ_boite\",\"nb_rapp\"]].head())"
   ]
  },
  {
   "cell_type": "code",
   "execution_count": 631,
   "metadata": {},
   "outputs": [
    {
     "name": "stdout",
     "output_type": "stream",
     "text": [
      "(42369, 35)\n",
      "(42369, 34)\n"
     ]
    }
   ],
   "source": [
    "print(df.shape)\n",
    "df = df.drop([\"typ_boite_nb_rapp\"], axis = 1)\n",
    "print(df.shape)\n"
   ]
  },
  {
   "cell_type": "markdown",
   "metadata": {},
   "source": [
    "**Etude des consos : (\"conso_urb\",\"conso_exurb\",\"conso_mixte\")**"
   ]
  },
  {
   "cell_type": "code",
   "execution_count": 633,
   "metadata": {},
   "outputs": [
    {
     "name": "stdout",
     "output_type": "stream",
     "text": [
      "          conso_urb   conso_exurb   conso_mixte\n",
      "count  42369.000000  42369.000000  42369.000000\n",
      "mean       6.306491      4.391388      5.083575\n",
      "std        1.847801      0.817115      1.160692\n",
      "min        0.000000      2.900000      1.800000\n",
      "25%        4.900000      3.800000      4.200000\n",
      "50%        6.000000      4.300000      4.900000\n",
      "75%        7.600000      4.900000      5.900000\n",
      "max       15.800000      8.400000     10.700000\n",
      "conso_urb      0\n",
      "conso_exurb    0\n",
      "conso_mixte    0\n",
      "dtype: int64\n"
     ]
    }
   ],
   "source": [
    "print(df[[\"conso_urb\",\"conso_exurb\",\"conso_mixte\"]].describe())\n",
    "print(df[[\"conso_urb\",\"conso_exurb\",\"conso_mixte\"]].isnull().sum())"
   ]
  },
  {
   "cell_type": "code",
   "execution_count": 634,
   "metadata": {},
   "outputs": [
    {
     "data": {
      "text/plain": [
       "<matplotlib.axes._subplots.AxesSubplot at 0xcbdc630>"
      ]
     },
     "execution_count": 634,
     "metadata": {},
     "output_type": "execute_result"
    },
    {
     "data": {
      "image/png": "[encoded data removed]",
      "text/plain": [
       "<Figure size 432x288 with 1 Axes>"
      ]
     },
     "metadata": {},
     "output_type": "display_data"
    }
   ],
   "source": [
    "sns.boxplot(y=df[\"conso_urb\"])"
   ]
  },
  {
   "cell_type": "code",
   "execution_count": 635,
   "metadata": {},
   "outputs": [
    {
     "name": "stdout",
     "output_type": "stream",
     "text": [
      "30\n",
      "(42369, 34)\n",
      "(42339, 34)\n"
     ]
    }
   ],
   "source": [
    "print((df[\"conso_urb\"] < 1).sum())\n",
    "print(df.shape)\n",
    "df = df.loc[df[\"conso_urb\"] > 1]\n",
    "print(df.shape)"
   ]
  },
  {
   "cell_type": "code",
   "execution_count": 636,
   "metadata": {},
   "outputs": [
    {
     "data": {
      "text/plain": [
       "<matplotlib.axes._subplots.AxesSubplot at 0xab13ff0>"
      ]
     },
     "execution_count": 636,
     "metadata": {},
     "output_type": "execute_result"
    },
    {
     "data": {
      "image/png": "[encoded data removed]",
      "text/plain": [
       "<Figure size 432x288 with 1 Axes>"
      ]
     },
     "metadata": {},
     "output_type": "display_data"
    }
   ],
   "source": [
    "sns.boxplot(y=df[\"conso_exurb\"])"
   ]
  },
  {
   "cell_type": "code",
   "execution_count": 637,
   "metadata": {},
   "outputs": [
    {
     "data": {
      "text/plain": [
       "<matplotlib.axes._subplots.AxesSubplot at 0xac4ff30>"
      ]
     },
     "execution_count": 637,
     "metadata": {},
     "output_type": "execute_result"
    },
    {
     "data": {
      "image/png": "[encoded data removed]",
      "text/plain": [
       "<Figure size 432x288 with 1 Axes>"
      ]
     },
     "metadata": {},
     "output_type": "display_data"
    }
   ],
   "source": [
    "sns.boxplot(y=df[\"conso_mixte\"])"
   ]
  },
  {
   "cell_type": "markdown",
   "metadata": {},
   "source": [
    "**Etude des résultats d'essai : (\"co_typ_1\",\"nox\",\"ptcl\")**"
   ]
  },
  {
   "cell_type": "code",
   "execution_count": 638,
   "metadata": {},
   "outputs": [
    {
     "name": "stdout",
     "output_type": "stream",
     "text": [
      "           co_typ_1           nox          ptcl\n",
      "count  42339.000000  42339.000000  33099.000000\n",
      "mean       0.302117      0.098326      0.000742\n",
      "std        0.142965      0.062209      0.000802\n",
      "min        0.056000      0.001000      0.000000\n",
      "25%        0.212000      0.027000      0.000000\n",
      "50%        0.273000      0.120000      0.001000\n",
      "75%        0.348000      0.147000      0.001000\n",
      "max        0.931000      0.259000      0.010000\n",
      "co_typ_1       0\n",
      "nox            0\n",
      "ptcl        9240\n",
      "dtype: int64\n"
     ]
    }
   ],
   "source": [
    "print(df[[\"co_typ_1\",\"nox\",\"ptcl\"]].describe())\n",
    "print(df[[\"co_typ_1\",\"nox\",\"ptcl\"]].isnull().sum())"
   ]
  },
  {
   "cell_type": "code",
   "execution_count": 639,
   "metadata": {},
   "outputs": [
    {
     "data": {
      "text/plain": [
       "<matplotlib.axes._subplots.AxesSubplot at 0xc95ae10>"
      ]
     },
     "execution_count": 639,
     "metadata": {},
     "output_type": "execute_result"
    },
    {
     "data": {
      "image/png": "[encoded data removed]",
      "text/plain": [
       "<Figure size 432x288 with 1 Axes>"
      ]
     },
     "metadata": {},
     "output_type": "display_data"
    }
   ],
   "source": [
    "sns.boxplot(y=df[\"co_typ_1\"])"
   ]
  },
  {
   "cell_type": "code",
   "execution_count": 640,
   "metadata": {},
   "outputs": [
    {
     "data": {
      "text/plain": [
       "<matplotlib.axes._subplots.AxesSubplot at 0xc98fe10>"
      ]
     },
     "execution_count": 640,
     "metadata": {},
     "output_type": "execute_result"
    },
    {
     "data": {
      "image/png": "[encoded data removed]",
      "text/plain": [
       "<Figure size 432x288 with 1 Axes>"
      ]
     },
     "metadata": {},
     "output_type": "display_data"
    }
   ],
   "source": [
    "sns.boxplot(y=df[\"nox\"])"
   ]
  },
  {
   "cell_type": "code",
   "execution_count": 641,
   "metadata": {},
   "outputs": [
    {
     "data": {
      "text/plain": [
       "<matplotlib.axes._subplots.AxesSubplot at 0xc9c7a90>"
      ]
     },
     "execution_count": 641,
     "metadata": {},
     "output_type": "execute_result"
    },
    {
     "data": {
      "image/png": "[encoded data removed]",
      "text/plain": [
       "<Figure size 432x288 with 1 Axes>"
      ]
     },
     "metadata": {},
     "output_type": "display_data"
    }
   ],
   "source": [
    "sns.boxplot(y=df[\"ptcl\"])"
   ]
  },
  {
   "cell_type": "markdown",
   "metadata": {},
   "source": [
    "**Etude de la Carosserie **"
   ]
  },
  {
   "cell_type": "code",
   "execution_count": 642,
   "metadata": {},
   "outputs": [
    {
     "name": "stdout",
     "output_type": "stream",
     "text": [
      "BERLINE                18135\n",
      "BREAK                   6478\n",
      "MONOSPACE COMPACT       5706\n",
      "TS TERRAINS/CHEMINS     4107\n",
      "COMBISPACE              2691\n",
      "COUPE                   1536\n",
      "MINIBUS                 1331\n",
      "CABRIOLET                869\n",
      "MINISPACE                860\n",
      "MONOSPACE                626\n",
      "Name: Carrosserie, dtype: int64\n",
      "0\n"
     ]
    }
   ],
   "source": [
    "print(df[\"Carrosserie\"].value_counts())\n",
    "print(df[\"Carrosserie\"].isnull().sum())"
   ]
  },
  {
   "cell_type": "markdown",
   "metadata": {},
   "source": [
    "**Etude de la gamme**"
   ]
  },
  {
   "cell_type": "code",
   "execution_count": 643,
   "metadata": {},
   "outputs": [
    {
     "name": "stdout",
     "output_type": "stream",
     "text": [
      "INFERIEURE        16460\n",
      "MOY-INFER         15054\n",
      "MOY-SUPER          5601\n",
      "SUPERIEURE         3695\n",
      "ECONOMIQUE         1124\n",
      "LUXE                374\n",
      "MOY-INFERIEURE       31\n",
      "Name: gamme, dtype: int64\n",
      "0\n"
     ]
    }
   ],
   "source": [
    "print(df[\"gamme\"].value_counts())\n",
    "print(df[\"gamme\"].isnull().sum())"
   ]
  },
  {
   "cell_type": "markdown",
   "metadata": {},
   "source": [
    "**Conclusion**"
   ]
  },
  {
   "cell_type": "code",
   "execution_count": 644,
   "metadata": {},
   "outputs": [
    {
     "name": "stdout",
     "output_type": "stream",
     "text": [
      "(42339, 34)\n",
      "Index(['lib_mrq', 'lib_mod_doss', 'lib_mod', 'dscom', 'cod_cbr', 'hybride',\n",
      "       'puiss_admin_98', 'puiss_max', 'conso_urb', 'conso_exurb',\n",
      "       'conso_mixte', 'co2', 'co_typ_1', 'nox', 'ptcl', 'masse_ordma_min',\n",
      "       'masse_ordma_max', 'champ_v9', 'Carrosserie', 'gamme', 'Country', 'Mp',\n",
      "       'Mh', 'Man', 'MMS', 'Tan', 'Cn', 'Ct', 'W (mm)', 'At1 (mm)', 'At2 (mm)',\n",
      "       'ec (cm3)', 'typ_boite', 'nb_rapp'],\n",
      "      dtype='object')\n"
     ]
    }
   ],
   "source": [
    "print(df.shape)\n",
    "print(df.columns)"
   ]
  }
 ],
 "metadata": {
  "kernelspec": {
   "display_name": "Python 3",
   "language": "python",
   "name": "python3"
  },
  "language_info": {
   "codemirror_mode": {
    "name": "ipython",
    "version": 3
   },
   "file_extension": ".py",
   "mimetype": "text/x-python",
   "name": "python",
   "nbconvert_exporter": "python",
   "pygments_lexer": "ipython3",
   "version": "3.6.5"
  }
 },
 "nbformat": 4,
 "nbformat_minor": 2
}
