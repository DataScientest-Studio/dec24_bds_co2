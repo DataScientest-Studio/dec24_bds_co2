{
 "cells": [
  {
   "cell_type": "code",
   "execution_count": 1,
   "metadata": {},
   "outputs": [],
   "source": [
    "#Importation des bibliothèqes\n",
    "import pandas as pd\n",
    "import numpy as np\n",
    "\n",
    "import matplotlib.pyplot as plt\n",
    "import seaborn as sns"
   ]
  },
  {
   "cell_type": "code",
   "execution_count": 2,
   "metadata": {},
   "outputs": [
    {
     "name": "stderr",
     "output_type": "stream",
     "text": [
      "C:\\Users\\UGO\\Anaconda3\\lib\\site-packages\\IPython\\core\\interactiveshell.py:2785: DtypeWarning: Columns (7) have mixed types. Specify dtype option on import or set low_memory=False.\n",
      "  interactivity=interactivity, compiler=compiler, result=result)\n"
     ]
    },
    {
     "name": "stdout",
     "output_type": "stream",
     "text": [
      "(53936, 38)\n",
      "Index(['lib_mrq', 'lib_mod_doss', 'lib_mod', 'dscom', 'cod_cbr', 'hybride',\n",
      "       'puiss_admin_98', 'puiss_max', 'typ_boite_nb_rapp', 'conso_urb',\n",
      "       'conso_exurb', 'conso_mixte', 'co2', 'co_typ_1', 'nox', 'ptcl',\n",
      "       'masse_ordma_min', 'masse_ordma_max', 'champ_v9', 'Carrosserie',\n",
      "       'gamme', 'Country', 'Mp', 'Mh', 'Man', 'MMS', 'Tan', 'Cn', 'Ct',\n",
      "       'm (kg)', 'Enedc (g/km)', 'W (mm)', 'At1 (mm)', 'At2 (mm)', 'Ft', 'Fm',\n",
      "       'ec (cm3)', 'ep (KW)'],\n",
      "      dtype='object')\n",
      "      lib_mrq lib_mod_doss lib_mod                        dscom cod_cbr  \\\n",
      "0  ALFA-ROMEO          159     159         159 2.0 JTDm (170ch)      GO   \n",
      "1  ALFA-ROMEO          159     159     159 2.0 JTDm (170ch) ECO      GO   \n",
      "2  ALFA-ROMEO          159     159      159 SW 2.0 JTDm (170ch)      GO   \n",
      "3  ALFA-ROMEO          159     159      159 SW 2.0 JTDm (170ch)      GO   \n",
      "4  ALFA-ROMEO          159     159  159 SW 2.0 JTDm (170ch) ECO      GO   \n",
      "\n",
      "  hybride  puiss_admin_98 puiss_max typ_boite_nb_rapp    conso_urb   ...    \\\n",
      "0     non               9       125               M 6  6,900000095   ...     \n",
      "1     non               9       125               M 6  6,599999905   ...     \n",
      "2     non               9       125               M 6  7,099999905   ...     \n",
      "3     non               9       125               M 6  7,099999905   ...     \n",
      "4     non               9       125               M 6  6,699999809   ...     \n",
      "\n",
      "   Ct  m (kg)  Enedc (g/km)  W (mm) At1 (mm) At2 (mm)      Ft  Fm ec (cm3)  \\\n",
      "0  M1  1578.0         142.0  2703.0   1579.0   1559.0  diesel   M   1956.0   \n",
      "1  M1  1565.0         136.0  2703.0   1593.0   1575.0  Diesel   M   1956.0   \n",
      "2  M1  1628.0         145.0  2703.0   1579.0   1559.0  diesel   M   1956.0   \n",
      "3  M1  1627.0         145.0  2703.0   1579.0   1559.0  diesel   M   1956.0   \n",
      "4  M1  1615.0         139.0  2703.0   1593.0   1575.0  Diesel   M   1956.0   \n",
      "\n",
      "  ep (KW)  \n",
      "0     NaN  \n",
      "1     NaN  \n",
      "2     NaN  \n",
      "3     NaN  \n",
      "4     NaN  \n",
      "\n",
      "[5 rows x 38 columns]\n",
      "<class 'pandas.core.frame.DataFrame'>\n",
      "RangeIndex: 53936 entries, 0 to 53935\n",
      "Data columns (total 38 columns):\n",
      "lib_mrq              53936 non-null object\n",
      "lib_mod_doss         53936 non-null object\n",
      "lib_mod              53936 non-null object\n",
      "dscom                53936 non-null object\n",
      "cod_cbr              53936 non-null object\n",
      "hybride              53936 non-null object\n",
      "puiss_admin_98       53936 non-null int64\n",
      "puiss_max            53936 non-null object\n",
      "typ_boite_nb_rapp    53936 non-null object\n",
      "conso_urb            53836 non-null object\n",
      "conso_exurb          53836 non-null object\n",
      "conso_mixte          53836 non-null object\n",
      "co2                  53836 non-null float64\n",
      "co_typ_1             53824 non-null object\n",
      "nox                  53824 non-null object\n",
      "ptcl                 41105 non-null object\n",
      "masse_ordma_min      53936 non-null int64\n",
      "masse_ordma_max      53936 non-null int64\n",
      "champ_v9             53836 non-null object\n",
      "Carrosserie          53936 non-null object\n",
      "gamme                53936 non-null object\n",
      "Country              53936 non-null object\n",
      "Mp                   33241 non-null object\n",
      "Mh                   53936 non-null object\n",
      "Man                  53936 non-null object\n",
      "MMS                  44850 non-null object\n",
      "Tan                  47678 non-null object\n",
      "Cn                   53832 non-null object\n",
      "Ct                   53852 non-null object\n",
      "m (kg)               53862 non-null float64\n",
      "Enedc (g/km)         53922 non-null float64\n",
      "W (mm)               53285 non-null float64\n",
      "At1 (mm)             52961 non-null float64\n",
      "At2 (mm)             48653 non-null float64\n",
      "Ft                   52886 non-null object\n",
      "Fm                   52744 non-null object\n",
      "ec (cm3)             53179 non-null float64\n",
      "ep (KW)              41122 non-null float64\n",
      "dtypes: float64(8), int64(3), object(27)\n",
      "memory usage: 10.1+ MB\n",
      "None\n"
     ]
    }
   ],
   "source": [
    "df = pd.read_csv(\"../data/data_merge.csv\")\n",
    "\n",
    "print(df.shape)\n",
    "print(df.columns)\n",
    "print(df.head())\n",
    "print(df.info())"
   ]
  },
  {
   "cell_type": "markdown",
   "metadata": {},
   "source": [
    "**Transformation des données quantitatives**\n",
    "\n",
    "Le type de certaines données quantitatives sont des chaînes de caractères alors que cela devrait être des flottants.\n",
    "Ainsi on change le type de ces données (il faut également transformer le '.' en ','."
   ]
  },
  {
   "cell_type": "code",
   "execution_count": 3,
   "metadata": {},
   "outputs": [],
   "source": [
    "df[\"puiss_max\"] = df[\"puiss_max\"].apply(lambda x: str(x).replace(\",\", \".\")).astype(\"float64\")\n",
    "df[\"conso_urb\"] = df[\"conso_urb\"].apply(lambda x: str(x).replace(\",\", \".\")).astype(\"float64\")\n",
    "df[\"conso_exurb\"] = df[\"conso_exurb\"].apply(lambda x: str(x).replace(\",\", \".\")).astype(\"float64\")\n",
    "df[\"conso_mixte\"] = df[\"conso_mixte\"].apply(lambda x: str(x).replace(\",\", \".\")).astype(\"float64\")\n",
    "df[\"co_typ_1\"] = df[\"co_typ_1\"].apply(lambda x: str(x).replace(\",\", \".\")).astype(\"float64\")\n",
    "df[\"nox\"] = df[\"nox\"].apply(lambda x: str(x).replace(\",\", \".\")).astype(\"float64\")\n",
    "df[\"ptcl\"] = df[\"ptcl\"].apply(lambda x: str(x).replace(\",\", \".\")).astype(\"float64\")"
   ]
  },
  {
   "cell_type": "markdown",
   "metadata": {},
   "source": [
    "**Etude de \"ep (kW)\" et \"puiss_max\"**\n",
    "\n",
    "Ces 2 variables sont similaires et donnent des informations sur la puissance maximale du moteur."
   ]
  },
  {
   "cell_type": "code",
   "execution_count": 4,
   "metadata": {},
   "outputs": [
    {
     "name": "stdout",
     "output_type": "stream",
     "text": [
      "ep (KW)      12814\n",
      "puiss_max        0\n",
      "dtype: int64\n",
      "            ep (KW)     puiss_max\n",
      "count  41122.000000  53936.000000\n",
      "mean      87.583362     88.544946\n",
      "std       29.689369     30.793590\n",
      "min       10.000000     10.000000\n",
      "25%       66.000000     66.000000\n",
      "50%       81.000000     84.000000\n",
      "75%       97.000000    103.000000\n",
      "max      419.000000    419.000000\n",
      "       ep (KW)  puiss_max\n",
      "0          NaN      125.0\n",
      "1          NaN      125.0\n",
      "2          NaN      125.0\n",
      "3          NaN      125.0\n",
      "4          NaN      125.0\n",
      "5          NaN      331.0\n",
      "6          NaN      147.0\n",
      "7          NaN      147.0\n",
      "8          NaN      147.0\n",
      "9          NaN      147.0\n",
      "10         NaN      147.0\n",
      "11         NaN      147.0\n",
      "12         NaN      147.0\n",
      "13         NaN      147.0\n",
      "14         NaN      125.0\n",
      "15         NaN      125.0\n",
      "16         NaN      125.0\n",
      "17         NaN      125.0\n",
      "18         NaN      125.0\n",
      "19         NaN      125.0\n",
      "20         NaN      125.0\n",
      "21         NaN      125.0\n",
      "22         NaN      125.0\n",
      "23         NaN      125.0\n",
      "24         NaN      125.0\n",
      "25         NaN      125.0\n",
      "26         NaN      125.0\n",
      "27         NaN      125.0\n",
      "28         NaN      125.0\n",
      "29         NaN      125.0\n",
      "...        ...        ...\n",
      "53906    224.0      224.0\n",
      "53907    224.0      224.0\n",
      "53908    224.0      224.0\n",
      "53909    224.0      224.0\n",
      "53910    224.0      224.0\n",
      "53911    224.0      224.0\n",
      "53912    224.0      224.0\n",
      "53913    224.0      224.0\n",
      "53914    224.0      224.0\n",
      "53915    224.0      224.0\n",
      "53916    224.0      224.0\n",
      "53917    224.0      224.0\n",
      "53918    242.0      224.0\n",
      "53919      NaN      224.0\n",
      "53920    224.0      224.0\n",
      "53921    224.0      224.0\n",
      "53922    224.0      224.0\n",
      "53923    224.0      224.0\n",
      "53924    224.0      224.0\n",
      "53925    224.0      224.0\n",
      "53926    224.0      224.0\n",
      "53927    224.0      224.0\n",
      "53928    224.0      224.0\n",
      "53929    224.0      224.0\n",
      "53930    224.0      224.0\n",
      "53931    224.0      224.0\n",
      "53932    224.0      224.0\n",
      "53933    224.0      224.0\n",
      "53934    224.0      224.0\n",
      "53935    224.0      224.0\n",
      "\n",
      "[53936 rows x 2 columns]\n"
     ]
    }
   ],
   "source": [
    "print(df[[\"ep (KW)\",\"puiss_max\"]].isnull().sum())\n",
    "print(df[[\"ep (KW)\",\"puiss_max\"]].describe())\n",
    "\n",
    "print(df[[\"ep (KW)\",\"puiss_max\"]])"
   ]
  },
  {
   "cell_type": "code",
   "execution_count": 5,
   "metadata": {},
   "outputs": [
    {
     "name": "stdout",
     "output_type": "stream",
     "text": [
      "ep (KW)      0\n",
      "puiss_max    0\n",
      "dtype: int64\n",
      "(41122, 2)\n",
      "40254\n",
      "count    41122.000000\n",
      "mean         0.147118\n",
      "std          1.911414\n",
      "min          0.000000\n",
      "25%          0.000000\n",
      "50%          0.000000\n",
      "75%          0.000000\n",
      "max        100.000000\n",
      "dtype: float64\n",
      "196\n"
     ]
    }
   ],
   "source": [
    "df_ep_not_null = df[[\"ep (KW)\",\"puiss_max\"]].loc[~df[\"ep (KW)\"].isnull()]\n",
    "print(df_ep_not_null.isnull().sum())\n",
    "print(df_ep_not_null.shape)\n",
    "print((df_ep_not_null[\"ep (KW)\"] == df_ep_not_null[\"puiss_max\"]).sum())\n",
    "print((np.abs(df_ep_not_null[\"ep (KW)\"] - df_ep_not_null[\"puiss_max\"])).describe())\n",
    "print((np.abs(df_ep_not_null[\"ep (KW)\"] - df_ep_not_null[\"puiss_max\"]) > 10).sum())"
   ]
  },
  {
   "cell_type": "code",
   "execution_count": 6,
   "metadata": {},
   "outputs": [
    {
     "name": "stdout",
     "output_type": "stream",
     "text": [
      "(53936, 38)\n",
      "(53722, 38)\n",
      "(53722, 37)\n"
     ]
    }
   ],
   "source": [
    "print(df.shape)\n",
    "df = df.loc[(np.abs(df[\"ep (KW)\"] - df[\"puiss_max\"]) < 10) | (df[\"ep (KW)\"].isnull())]\n",
    "print(df.shape)\n",
    "df = df.drop([\"ep (KW)\"],axis=1)\n",
    "print(df.shape)"
   ]
  },
  {
   "cell_type": "markdown",
   "metadata": {},
   "source": [
    "**Etude de \"ec (cm3)\"**\n",
    "\n",
    "On supprime les valeurs considérées comme extrêmes"
   ]
  },
  {
   "cell_type": "code",
   "execution_count": 7,
   "metadata": {},
   "outputs": [
    {
     "name": "stdout",
     "output_type": "stream",
     "text": [
      "757\n",
      "count    52965.000000\n",
      "mean      1561.698065\n",
      "std        373.368484\n",
      "min          0.000000\n",
      "25%       1398.000000\n",
      "50%       1560.000000\n",
      "75%       1598.000000\n",
      "max       8400.000000\n",
      "Name: ec (cm3), dtype: float64\n",
      "200.0\n",
      "1098.0\n",
      "1898.0\n",
      "14\n",
      "1\n"
     ]
    }
   ],
   "source": [
    "print(df[\"ec (cm3)\"].isnull().sum())\n",
    "print(df[\"ec (cm3)\"].describe())\n",
    "\n",
    "\n",
    "Q1 = df[\"ec (cm3)\"].describe()[\"25%\"]\n",
    "Q3 = df[\"ec (cm3)\"].describe()[\"75%\"]\n",
    "IQR = Q3-Q1\n",
    "print(IQR)\n",
    "limit_basse = Q1-IQR*1.5\n",
    "limit_haute = Q3+IQR*1.5\n",
    "print(limit_basse)\n",
    "print(limit_haute)\n",
    "df_ec_faible = df.loc[df[\"ec (cm3)\"] < 800]\n",
    "print(df_ec_faible.shape[0])\n",
    "df_ec_haute = df.loc[df[\"ec (cm3)\"] > 7000]\n",
    "print(df_ec_haute.shape[0])"
   ]
  },
  {
   "cell_type": "code",
   "execution_count": 8,
   "metadata": {},
   "outputs": [
    {
     "data": {
      "text/plain": [
       "<matplotlib.axes._subplots.AxesSubplot at 0xa8b5bf0>"
      ]
     },
     "execution_count": 8,
     "metadata": {},
     "output_type": "execute_result"
    },
    {
     "data": {
      "image/png": "[encoded data removed]",
      "text/plain": [
       "<Figure size 432x288 with 1 Axes>"
      ]
     },
     "metadata": {},
     "output_type": "display_data"
    }
   ],
   "source": [
    "sns.boxplot(y=df[\"ec (cm3)\"])"
   ]
  },
  {
   "cell_type": "code",
   "execution_count": 9,
   "metadata": {},
   "outputs": [
    {
     "name": "stdout",
     "output_type": "stream",
     "text": [
      "(53722, 37)\n",
      "(52965, 37)\n"
     ]
    },
    {
     "data": {
      "text/plain": [
       "(array([1.3000e+01, 1.0000e+00, 1.1440e+04, 2.9705e+04, 8.8380e+03,\n",
       "        2.5230e+03, 1.0000e+01, 3.6200e+02, 2.5000e+01, 1.0000e+00,\n",
       "        9.0000e+00, 2.3000e+01, 1.2000e+01, 0.0000e+00, 2.0000e+00,\n",
       "        0.0000e+00, 0.0000e+00, 0.0000e+00, 0.0000e+00, 1.0000e+00]),\n",
       " array([   0.,  420.,  840., 1260., 1680., 2100., 2520., 2940., 3360.,\n",
       "        3780., 4200., 4620., 5040., 5460., 5880., 6300., 6720., 7140.,\n",
       "        7560., 7980., 8400.]),\n",
       " <a list of 20 Patch objects>)"
      ]
     },
     "execution_count": 9,
     "metadata": {},
     "output_type": "execute_result"
    },
    {
     "data": {
      "image/png": "[encoded data removed]",
      "text/plain": [
       "<Figure size 432x288 with 1 Axes>"
      ]
     },
     "metadata": {},
     "output_type": "display_data"
    }
   ],
   "source": [
    "print(df.shape)\n",
    "df = df.loc[~df[\"ec (cm3)\"].isnull()]\n",
    "print(df.shape)\n",
    "plt.hist(df[\"ec (cm3)\"],bins=20)"
   ]
  },
  {
   "cell_type": "code",
   "execution_count": 10,
   "metadata": {},
   "outputs": [
    {
     "name": "stdout",
     "output_type": "stream",
     "text": [
      "(52965, 37)\n",
      "(52950, 37)\n"
     ]
    }
   ],
   "source": [
    "print(df.shape)\n",
    "df = df.loc[(df[\"ec (cm3)\"] > 800) & (df[\"ec (cm3)\"] < 7000)]\n",
    "print(df.shape)"
   ]
  },
  {
   "cell_type": "markdown",
   "metadata": {},
   "source": [
    "**Etude de \"Ft\" et \"cod_cbr\", puis 'Fm'**"
   ]
  },
  {
   "cell_type": "code",
   "execution_count": 11,
   "metadata": {},
   "outputs": [
    {
     "name": "stdout",
     "output_type": "stream",
     "text": [
      "Diesel             26482\n",
      "Petrol             14414\n",
      "DIESEL              3169\n",
      "petrol              2652\n",
      "PETROL              2350\n",
      "diesel              2208\n",
      "LPG                  598\n",
      "Diesel-Electric       40\n",
      "NG-Biomethane          6\n",
      "ELECTRIC               4\n",
      "Electric               3\n",
      "                       3\n",
      "Biodiesel              1\n",
      "DIESEL-ELECTRIC        1\n",
      "petrol-electric        1\n",
      "Name: Ft, dtype: int64\n",
      "GO       32276\n",
      "ES       19714\n",
      "GH         347\n",
      "GP/ES      285\n",
      "ES/GP      285\n",
      "GL          32\n",
      "EH           5\n",
      "ES/GN        3\n",
      "GN/ES        3\n",
      "Name: cod_cbr, dtype: int64\n"
     ]
    }
   ],
   "source": [
    "print(df[\"Ft\"].value_counts())\n",
    "print(df[\"cod_cbr\"].value_counts())"
   ]
  },
  {
   "cell_type": "code",
   "execution_count": 12,
   "metadata": {},
   "outputs": [
    {
     "name": "stdout",
     "output_type": "stream",
     "text": [
      "Diesel             31859\n",
      "Petrol             19416\n",
      "LPG                  598\n",
      "Diesel-Electric       41\n",
      "Electric               7\n",
      "NG-Biomethane          6\n",
      "                       3\n",
      "Biodiesel              1\n",
      "petrol-electric        1\n",
      "Name: Ft, dtype: int64\n",
      "GO       32276\n",
      "ES       19714\n",
      "GH         347\n",
      "GP/ES      285\n",
      "ES/GP      285\n",
      "GL          32\n",
      "EH           5\n",
      "ES/GN        3\n",
      "GN/ES        3\n",
      "Name: cod_cbr, dtype: int64\n",
      "Ft         1018\n",
      "cod_cbr       0\n",
      "dtype: int64\n"
     ]
    }
   ],
   "source": [
    "to_replace = [\"DIESEL\",\"petrol\",\"diesel\",\"PETROL\",\"electric\",\"ELECTRIC\",\"DIESEL-ELECTRIC\"]\n",
    "value = [\"Diesel\",\"Petrol\",\"Diesel\",\"Petrol\",\"Electric\",\"Electric\",\"Diesel-Electric\"]\n",
    "df[\"Ft\"] = df[\"Ft\"].replace(to_replace=to_replace,value=value)\n",
    "print(df[\"Ft\"].value_counts())\n",
    "print(df[\"cod_cbr\"].value_counts())\n",
    "print(df[[\"Ft\",\"cod_cbr\"]].isnull().sum())"
   ]
  },
  {
   "cell_type": "code",
   "execution_count": 13,
   "metadata": {},
   "outputs": [
    {
     "data": {
      "text/html": [
       "<div>\n",
       "<style scoped>\n",
       "    .dataframe tbody tr th:only-of-type {\n",
       "        vertical-align: middle;\n",
       "    }\n",
       "\n",
       "    .dataframe tbody tr th {\n",
       "        vertical-align: top;\n",
       "    }\n",
       "\n",
       "    .dataframe thead th {\n",
       "        text-align: right;\n",
       "    }\n",
       "</style>\n",
       "<table border=\"1\" class=\"dataframe\">\n",
       "  <thead>\n",
       "    <tr style=\"text-align: right;\">\n",
       "      <th>cod_cbr</th>\n",
       "      <th>EH</th>\n",
       "      <th>ES</th>\n",
       "      <th>ES/GN</th>\n",
       "      <th>ES/GP</th>\n",
       "      <th>GH</th>\n",
       "      <th>GL</th>\n",
       "      <th>GN/ES</th>\n",
       "      <th>GO</th>\n",
       "      <th>GP/ES</th>\n",
       "    </tr>\n",
       "    <tr>\n",
       "      <th>Ft</th>\n",
       "      <th></th>\n",
       "      <th></th>\n",
       "      <th></th>\n",
       "      <th></th>\n",
       "      <th></th>\n",
       "      <th></th>\n",
       "      <th></th>\n",
       "      <th></th>\n",
       "      <th></th>\n",
       "    </tr>\n",
       "  </thead>\n",
       "  <tbody>\n",
       "    <tr>\n",
       "      <th></th>\n",
       "      <td>0</td>\n",
       "      <td>1</td>\n",
       "      <td>0</td>\n",
       "      <td>0</td>\n",
       "      <td>0</td>\n",
       "      <td>0</td>\n",
       "      <td>0</td>\n",
       "      <td>2</td>\n",
       "      <td>0</td>\n",
       "    </tr>\n",
       "    <tr>\n",
       "      <th>Biodiesel</th>\n",
       "      <td>0</td>\n",
       "      <td>0</td>\n",
       "      <td>0</td>\n",
       "      <td>0</td>\n",
       "      <td>0</td>\n",
       "      <td>0</td>\n",
       "      <td>0</td>\n",
       "      <td>1</td>\n",
       "      <td>0</td>\n",
       "    </tr>\n",
       "    <tr>\n",
       "      <th>Diesel</th>\n",
       "      <td>0</td>\n",
       "      <td>72</td>\n",
       "      <td>0</td>\n",
       "      <td>0</td>\n",
       "      <td>305</td>\n",
       "      <td>1</td>\n",
       "      <td>0</td>\n",
       "      <td>31481</td>\n",
       "      <td>0</td>\n",
       "    </tr>\n",
       "    <tr>\n",
       "      <th>Diesel-Electric</th>\n",
       "      <td>0</td>\n",
       "      <td>0</td>\n",
       "      <td>0</td>\n",
       "      <td>0</td>\n",
       "      <td>14</td>\n",
       "      <td>27</td>\n",
       "      <td>0</td>\n",
       "      <td>0</td>\n",
       "      <td>0</td>\n",
       "    </tr>\n",
       "    <tr>\n",
       "      <th>Electric</th>\n",
       "      <td>0</td>\n",
       "      <td>1</td>\n",
       "      <td>0</td>\n",
       "      <td>0</td>\n",
       "      <td>5</td>\n",
       "      <td>1</td>\n",
       "      <td>0</td>\n",
       "      <td>0</td>\n",
       "      <td>0</td>\n",
       "    </tr>\n",
       "    <tr>\n",
       "      <th>LPG</th>\n",
       "      <td>0</td>\n",
       "      <td>28</td>\n",
       "      <td>0</td>\n",
       "      <td>285</td>\n",
       "      <td>0</td>\n",
       "      <td>0</td>\n",
       "      <td>0</td>\n",
       "      <td>0</td>\n",
       "      <td>285</td>\n",
       "    </tr>\n",
       "    <tr>\n",
       "      <th>NG-Biomethane</th>\n",
       "      <td>0</td>\n",
       "      <td>0</td>\n",
       "      <td>3</td>\n",
       "      <td>0</td>\n",
       "      <td>0</td>\n",
       "      <td>0</td>\n",
       "      <td>3</td>\n",
       "      <td>0</td>\n",
       "      <td>0</td>\n",
       "    </tr>\n",
       "    <tr>\n",
       "      <th>Petrol</th>\n",
       "      <td>5</td>\n",
       "      <td>19342</td>\n",
       "      <td>0</td>\n",
       "      <td>0</td>\n",
       "      <td>1</td>\n",
       "      <td>2</td>\n",
       "      <td>0</td>\n",
       "      <td>66</td>\n",
       "      <td>0</td>\n",
       "    </tr>\n",
       "    <tr>\n",
       "      <th>petrol-electric</th>\n",
       "      <td>0</td>\n",
       "      <td>0</td>\n",
       "      <td>0</td>\n",
       "      <td>0</td>\n",
       "      <td>0</td>\n",
       "      <td>1</td>\n",
       "      <td>0</td>\n",
       "      <td>0</td>\n",
       "      <td>0</td>\n",
       "    </tr>\n",
       "  </tbody>\n",
       "</table>\n",
       "</div>"
      ],
      "text/plain": [
       "cod_cbr          EH     ES  ES/GN  ES/GP   GH  GL  GN/ES     GO  GP/ES\n",
       "Ft                                                                    \n",
       "                  0      1      0      0    0   0      0      2      0\n",
       "Biodiesel         0      0      0      0    0   0      0      1      0\n",
       "Diesel            0     72      0      0  305   1      0  31481      0\n",
       "Diesel-Electric   0      0      0      0   14  27      0      0      0\n",
       "Electric          0      1      0      0    5   1      0      0      0\n",
       "LPG               0     28      0    285    0   0      0      0    285\n",
       "NG-Biomethane     0      0      3      0    0   0      3      0      0\n",
       "Petrol            5  19342      0      0    1   2      0     66      0\n",
       "petrol-electric   0      0      0      0    0   1      0      0      0"
      ]
     },
     "execution_count": 13,
     "metadata": {},
     "output_type": "execute_result"
    }
   ],
   "source": [
    "pd.crosstab(df[\"Ft\"],df['cod_cbr'])"
   ]
  },
  {
   "cell_type": "code",
   "execution_count": 14,
   "metadata": {},
   "outputs": [
    {
     "name": "stdout",
     "output_type": "stream",
     "text": [
      "M    51221\n",
      "B      616\n",
      "F        1\n",
      "Name: Fm, dtype: int64\n"
     ]
    }
   ],
   "source": [
    "print(df[\"Fm\"].value_counts())"
   ]
  },
  {
   "cell_type": "code",
   "execution_count": 15,
   "metadata": {},
   "outputs": [
    {
     "name": "stdout",
     "output_type": "stream",
     "text": [
      "(52950, 37)\n",
      "(52950, 35)\n"
     ]
    }
   ],
   "source": [
    "print(df.shape)\n",
    "df = df.drop([\"Ft\",\"Fm\"],axis=1)\n",
    "print(df.shape)\n"
   ]
  },
  {
   "cell_type": "code",
   "execution_count": 16,
   "metadata": {},
   "outputs": [
    {
     "name": "stdout",
     "output_type": "stream",
     "text": [
      "0\n"
     ]
    }
   ],
   "source": [
    "print(df[\"cod_cbr\"].isnull().sum())"
   ]
  },
  {
   "cell_type": "markdown",
   "metadata": {},
   "source": [
    "**Etude \"W (mm)\", \"At1 (mm)\" et \"At2 (mm)\"**"
   ]
  },
  {
   "cell_type": "code",
   "execution_count": 17,
   "metadata": {},
   "outputs": [
    {
     "name": "stdout",
     "output_type": "stream",
     "text": [
      "count    52373.000000\n",
      "mean      2663.134898\n",
      "std        186.319019\n",
      "min        695.000000\n",
      "25%       2589.000000\n",
      "50%       2647.000000\n",
      "75%       2776.000000\n",
      "max       4813.000000\n",
      "Name: W (mm), dtype: float64\n",
      "577\n"
     ]
    }
   ],
   "source": [
    "print(df[\"W (mm)\"].describe())\n",
    "print(df[\"W (mm)\"].isnull().sum())"
   ]
  },
  {
   "cell_type": "code",
   "execution_count": 18,
   "metadata": {},
   "outputs": [
    {
     "name": "stdout",
     "output_type": "stream",
     "text": [
      "(52950, 35)\n",
      "(52373, 35)\n"
     ]
    }
   ],
   "source": [
    "print(df.shape)\n",
    "df = df.loc[~df[\"W (mm)\"].isnull()]\n",
    "print(df.shape)"
   ]
  },
  {
   "cell_type": "code",
   "execution_count": 19,
   "metadata": {},
   "outputs": [
    {
     "data": {
      "text/plain": [
       "<matplotlib.axes._subplots.AxesSubplot at 0xa8d8d50>"
      ]
     },
     "execution_count": 19,
     "metadata": {},
     "output_type": "execute_result"
    },
    {
     "data": {
      "image/png": "[encoded data removed]",
      "text/plain": [
       "<Figure size 432x288 with 1 Axes>"
      ]
     },
     "metadata": {},
     "output_type": "display_data"
    }
   ],
   "source": [
    "sns.boxplot(y=df[\"W (mm)\"])"
   ]
  },
  {
   "cell_type": "code",
   "execution_count": 20,
   "metadata": {},
   "outputs": [
    {
     "name": "stdout",
     "output_type": "stream",
     "text": [
      "At1 (mm)     430\n",
      "At2 (mm)    4464\n",
      "dtype: int64\n",
      "           At1 (mm)      At2 (mm)\n",
      "count  51943.000000  47909.000000\n",
      "mean    1546.561827   1539.451898\n",
      "std      143.337370    140.820673\n",
      "min      695.000000    850.000000\n",
      "25%     1497.000000   1486.000000\n",
      "50%     1536.000000   1531.000000\n",
      "75%     1574.000000   1556.000000\n",
      "max     3122.000000   3122.000000\n"
     ]
    }
   ],
   "source": [
    "print(df[[\"At1 (mm)\",\"At2 (mm)\"]].isnull().sum())\n",
    "print(df[[\"At1 (mm)\",\"At2 (mm)\"]].describe())"
   ]
  },
  {
   "cell_type": "code",
   "execution_count": 21,
   "metadata": {},
   "outputs": [
    {
     "data": {
      "text/plain": [
       "<matplotlib.axes._subplots.AxesSubplot at 0xa649170>"
      ]
     },
     "execution_count": 21,
     "metadata": {},
     "output_type": "execute_result"
    },
    {
     "data": {
      "image/png": "[encoded data removed]",
      "text/plain": [
       "<Figure size 720x432 with 2 Axes>"
      ]
     },
     "metadata": {},
     "output_type": "display_data"
    }
   ],
   "source": [
    "plt.figure(figsize=(10,6))\n",
    "plt.subplot(1,2,1)\n",
    "sns.boxplot(y=df[\"At1 (mm)\"])\n",
    "plt.subplot(1,2,2)\n",
    "sns.boxplot(y=df[\"At2 (mm)\"])"
   ]
  },
  {
   "cell_type": "code",
   "execution_count": 22,
   "metadata": {},
   "outputs": [
    {
     "name": "stdout",
     "output_type": "stream",
     "text": [
      "count    47902.000000\n",
      "mean        13.032441\n",
      "std         23.314820\n",
      "min          0.000000\n",
      "25%          2.000000\n",
      "50%          6.000000\n",
      "75%         14.000000\n",
      "max       1156.000000\n",
      "dtype: float64\n",
      "16\n"
     ]
    }
   ],
   "source": [
    "axle_diff = np.abs(df[\"At2 (mm)\"]-df[\"At1 (mm)\"])\n",
    "print(axle_diff.describe())\n",
    "print((axle_diff > 500).sum())"
   ]
  },
  {
   "cell_type": "code",
   "execution_count": 23,
   "metadata": {},
   "outputs": [
    {
     "name": "stdout",
     "output_type": "stream",
     "text": [
      "(52373, 35)\n",
      "(51943, 35)\n"
     ]
    }
   ],
   "source": [
    "print(df.shape)\n",
    "df = df.loc[~df[\"At1 (mm)\"].isnull()]\n",
    "print(df.shape)"
   ]
  },
  {
   "cell_type": "code",
   "execution_count": 24,
   "metadata": {},
   "outputs": [
    {
     "name": "stdout",
     "output_type": "stream",
     "text": [
      "At1 (mm)       0\n",
      "At2 (mm)    4041\n",
      "dtype: int64\n",
      "At1 (mm)    0\n",
      "At2 (mm)    0\n",
      "dtype: int64\n"
     ]
    }
   ],
   "source": [
    "print(df[[\"At1 (mm)\",\"At2 (mm)\"]].isnull().sum())\n",
    "df[\"At2 (mm)\"].loc[df[\"At2 (mm)\"].isnull()] = df[\"At1 (mm)\"].loc[df[\"At2 (mm)\"].isnull()]\n",
    "print(df[[\"At1 (mm)\",\"At2 (mm)\"]].isnull().sum())"
   ]
  },
  {
   "cell_type": "markdown",
   "metadata": {},
   "source": [
    "**Etude de \"Enedc (g/km)\" et \"co2\"**"
   ]
  },
  {
   "cell_type": "code",
   "execution_count": 25,
   "metadata": {},
   "outputs": [
    {
     "name": "stdout",
     "output_type": "stream",
     "text": [
      "       Enedc (g/km)           co2\n",
      "count  51932.000000  51943.000000\n",
      "mean     126.605754    125.746164\n",
      "std       26.706802     25.928443\n",
      "min       48.000000     48.000000\n",
      "25%      105.000000    105.000000\n",
      "50%      120.000000    120.000000\n",
      "75%      144.000000    140.000000\n",
      "max      571.000000    388.000000\n",
      "42318\n",
      "Enedc (g/km)    11\n",
      "co2              0\n",
      "dtype: int64\n"
     ]
    }
   ],
   "source": [
    "print(df[[\"Enedc (g/km)\",\"co2\"]].describe())\n",
    "print((df[\"Enedc (g/km)\"] == df[\"co2\"]).sum())\n",
    "print(df[[\"Enedc (g/km)\",\"co2\"]].isnull().sum())\n"
   ]
  },
  {
   "cell_type": "code",
   "execution_count": 26,
   "metadata": {},
   "outputs": [
    {
     "data": {
      "text/plain": [
       "<matplotlib.axes._subplots.AxesSubplot at 0xa627870>"
      ]
     },
     "execution_count": 26,
     "metadata": {},
     "output_type": "execute_result"
    },
    {
     "data": {
      "image/png": "[encoded data removed]",
      "text/plain": [
       "<Figure size 432x288 with 1 Axes>"
      ]
     },
     "metadata": {},
     "output_type": "display_data"
    }
   ],
   "source": [
    "sns.boxplot(y=df[\"Enedc (g/km)\"])"
   ]
  },
  {
   "cell_type": "code",
   "execution_count": 27,
   "metadata": {},
   "outputs": [
    {
     "data": {
      "text/plain": [
       "<matplotlib.axes._subplots.AxesSubplot at 0xa8076d0>"
      ]
     },
     "execution_count": 27,
     "metadata": {},
     "output_type": "execute_result"
    },
    {
     "data": {
      "image/png": "[encoded data removed]",
      "text/plain": [
       "<Figure size 432x288 with 1 Axes>"
      ]
     },
     "metadata": {},
     "output_type": "display_data"
    }
   ],
   "source": [
    "sns.boxplot(y=df[\"co2\"])"
   ]
  },
  {
   "cell_type": "code",
   "execution_count": 28,
   "metadata": {},
   "outputs": [
    {
     "name": "stdout",
     "output_type": "stream",
     "text": [
      "0      3.0\n",
      "2      3.0\n",
      "3      3.0\n",
      "409    2.0\n",
      "410    2.0\n",
      "dtype: float64\n",
      "count    9614.000000\n",
      "mean        7.594342\n",
      "std         9.568686\n",
      "min         1.000000\n",
      "25%         4.000000\n",
      "50%         5.000000\n",
      "75%        10.000000\n",
      "max       427.000000\n",
      "dtype: float64\n",
      "325\n",
      "AxesSubplot(0.125,0.125;0.775x0.755)\n"
     ]
    },
    {
     "data": {
      "image/png": "[encoded data removed]",
      "text/plain": [
       "<Figure size 432x288 with 1 Axes>"
      ]
     },
     "metadata": {},
     "output_type": "display_data"
    }
   ],
   "source": [
    "df_different_co2 = df[[\"Enedc (g/km)\",\"co2\"]].loc[df[\"Enedc (g/km)\"] != df[\"co2\"]]\n",
    "df_different_co2 = np.abs(df_different_co2[\"Enedc (g/km)\"]-df_different_co2[\"co2\"])\n",
    "print(df_different_co2.head())\n",
    "print(df_different_co2.describe())\n",
    "print((df_different_co2 > 20).sum())\n",
    "\n",
    "print(sns.boxplot(y=df_different_co2))"
   ]
  },
  {
   "cell_type": "code",
   "execution_count": 29,
   "metadata": {},
   "outputs": [
    {
     "name": "stdout",
     "output_type": "stream",
     "text": [
      "(51943, 35)\n",
      "(51469, 35)\n",
      "(51469, 34)\n"
     ]
    }
   ],
   "source": [
    "print(df.shape)\n",
    "df = df.loc[(np.abs(df[\"Enedc (g/km)\"] - df[\"co2\"]) < 20) ]\n",
    "print(df.shape)\n",
    "df = df.drop([\"Enedc (g/km)\"],axis=1)\n",
    "print(df.shape)"
   ]
  },
  {
   "cell_type": "code",
   "execution_count": 30,
   "metadata": {},
   "outputs": [
    {
     "name": "stdout",
     "output_type": "stream",
     "text": [
      "count    51469.000000\n",
      "mean       125.584099\n",
      "std         25.903242\n",
      "min         48.000000\n",
      "25%        105.000000\n",
      "50%        120.000000\n",
      "75%        140.000000\n",
      "max        388.000000\n",
      "Name: co2, dtype: float64\n",
      "0\n"
     ]
    }
   ],
   "source": [
    "print(df[\"co2\"].describe())\n",
    "print(df[\"co2\"].isnull().sum())"
   ]
  },
  {
   "cell_type": "markdown",
   "metadata": {},
   "source": [
    "**Etude de \"m (kg)\",\"masse_ordma_min\" et \"masse_ordma_max\"**"
   ]
  },
  {
   "cell_type": "code",
   "execution_count": 31,
   "metadata": {},
   "outputs": [
    {
     "name": "stdout",
     "output_type": "stream",
     "text": [
      "             m (kg)  masse_ordma_min  masse_ordma_max\n",
      "count  51400.000000     51469.000000     51469.000000\n",
      "mean    1422.545895      1373.601139      1392.986069\n",
      "std      262.244670       245.754499       244.478502\n",
      "min      401.000000       875.000000       925.000000\n",
      "25%     1227.000000      1176.000000      1210.000000\n",
      "50%     1390.000000      1359.000000      1387.000000\n",
      "75%     1600.000000      1505.000000      1505.000000\n",
      "max     3055.000000      2475.000000      2525.000000\n",
      "40890\n",
      "23383\n",
      "20416\n",
      "23976\n",
      "19823\n",
      "   m (kg)  masse_ordma_min  masse_ordma_max\n",
      "0  1578.0             1565             1565\n",
      "1  1565.0             1565             1565\n",
      "2  1628.0             1615             1615\n",
      "3  1627.0             1615             1615\n",
      "4  1615.0             1615             1615\n",
      "5  1750.0             1750             1750\n",
      "6  1533.0             1505             1505\n",
      "7  1505.0             1505             1505\n",
      "8  1536.0             1505             1505\n",
      "9  1547.0             1505             1505\n"
     ]
    }
   ],
   "source": [
    "print(df[[\"m (kg)\",\"masse_ordma_min\",\"masse_ordma_max\"]].describe())\n",
    "print((df[\"masse_ordma_min\"] == df[\"masse_ordma_max\"]).sum())\n",
    "print(((df[\"m (kg)\"] == df[\"masse_ordma_min\"])).sum())\n",
    "print(((df[\"m (kg)\"] == df[\"masse_ordma_max\"])).sum())\n",
    "print(((df[\"m (kg)\"] == df[\"masse_ordma_min\"])|(df[\"m (kg)\"] == df[\"masse_ordma_max\"])).sum())\n",
    "print(((df[\"m (kg)\"] == df[\"masse_ordma_min\"])&(df[\"m (kg)\"] == df[\"masse_ordma_max\"])).sum())\n",
    "\n",
    "print(df[[\"m (kg)\",\"masse_ordma_min\",\"masse_ordma_max\"]].head(10))"
   ]
  },
  {
   "cell_type": "code",
   "execution_count": 32,
   "metadata": {},
   "outputs": [
    {
     "name": "stdout",
     "output_type": "stream",
     "text": [
      "count    51469.000000\n",
      "mean        19.384931\n",
      "std         42.729641\n",
      "min          0.000000\n",
      "25%          0.000000\n",
      "50%          0.000000\n",
      "75%          0.000000\n",
      "max        322.000000\n",
      "dtype: float64\n",
      "10579\n",
      "4497\n"
     ]
    }
   ],
   "source": [
    "diff_masse = np.abs(df[\"masse_ordma_min\"]-df[\"masse_ordma_max\"])\n",
    "print(diff_masse.describe())\n",
    "print((diff_masse > 1).sum())\n",
    "print((diff_masse > 100).sum())"
   ]
  },
  {
   "cell_type": "code",
   "execution_count": 33,
   "metadata": {},
   "outputs": [
    {
     "data": {
      "text/plain": [
       "9028"
      ]
     },
     "execution_count": 33,
     "metadata": {},
     "output_type": "execute_result"
    }
   ],
   "source": [
    "#df_sans_masse = df.drop([\"m (kg)\",\"masse_ordma_min\",\"masse_ordma_max\"],axis=1)\n",
    "df_sans_masse = df.drop([\"m (kg)\"],axis=1)\n",
    "df_sans_masse.duplicated().sum()"
   ]
  },
  {
   "cell_type": "code",
   "execution_count": 34,
   "metadata": {},
   "outputs": [
    {
     "name": "stdout",
     "output_type": "stream",
     "text": [
      "(51469, 34)\n",
      "(51469, 33)\n"
     ]
    }
   ],
   "source": [
    "print(df.shape)\n",
    "df = df.drop([\"m (kg)\"],axis=1)\n",
    "print(df.shape)"
   ]
  },
  {
   "cell_type": "code",
   "execution_count": 35,
   "metadata": {},
   "outputs": [
    {
     "name": "stdout",
     "output_type": "stream",
     "text": [
      "(51469, 33)\n",
      "9028\n",
      "(42441, 33)\n",
      "0\n"
     ]
    }
   ],
   "source": [
    "print(df.shape)\n",
    "print(df.duplicated().sum())\n",
    "df = df.drop_duplicates()\n",
    "print(df.shape)\n",
    "print(df.duplicated().sum())"
   ]
  },
  {
   "cell_type": "code",
   "execution_count": 36,
   "metadata": {},
   "outputs": [
    {
     "name": "stdout",
     "output_type": "stream",
     "text": [
      "masse_ordma_min    0\n",
      "masse_ordma_max    0\n",
      "dtype: int64\n"
     ]
    }
   ],
   "source": [
    "print(df[[\"masse_ordma_min\",\"masse_ordma_max\"]].isnull().sum())"
   ]
  },
  {
   "cell_type": "markdown",
   "metadata": {},
   "source": [
    "**Etude de \"Ct\"**\n",
    "\n",
    "Selon ChatGPT\n",
    "\n",
    "Un véhicule de type M1 correspond à une voiture particulière selon la classification de la Commission économique pour l’Europe des Nations Unies (CEE-ONU) et la réglementation européenne.\n",
    "\n",
    "Définition d’un véhicule M1 :\n",
    "Il s'agit d’un véhicule conçu et construit pour le transport de passagers, ayant au maximum 8 places assises en plus du siège du conducteur.\n",
    "\n",
    "Une voiture de type M1G est une voiture particulière tout-terrain."
   ]
  },
  {
   "cell_type": "code",
   "execution_count": 37,
   "metadata": {},
   "outputs": [
    {
     "name": "stdout",
     "output_type": "stream",
     "text": [
      "M1     42307\n",
      "M1G      133\n",
      "Name: Ct, dtype: int64\n",
      "1\n"
     ]
    }
   ],
   "source": [
    "#Category of the vehicle type approved\n",
    "print(df[\"Ct\"].value_counts())\n",
    "print(df[\"Ct\"].isnull().sum())"
   ]
  },
  {
   "cell_type": "code",
   "execution_count": 38,
   "metadata": {},
   "outputs": [
    {
     "name": "stdout",
     "output_type": "stream",
     "text": [
      "(42441, 33)\n",
      "(42440, 33)\n"
     ]
    }
   ],
   "source": [
    "print(df.shape)\n",
    "df = df.loc[~df[\"Ct\"].isnull()]\n",
    "print(df.shape)"
   ]
  },
  {
   "cell_type": "markdown",
   "metadata": {},
   "source": [
    "**Etude des marques : (\"lib_mrq\",\"lib_mod_doss\",\"lib_mod\",\"dscom\",\"Mp\",\"Mh\",\"Man\",\"MMS\",\"Cn\")**\n",
    "\n"
   ]
  },
  {
   "cell_type": "code",
   "execution_count": 39,
   "metadata": {},
   "outputs": [
    {
     "name": "stdout",
     "output_type": "stream",
     "text": [
      "lib_mrq             0\n",
      "lib_mod_doss        0\n",
      "lib_mod             0\n",
      "dscom               0\n",
      "Mp              15178\n",
      "Mh                  0\n",
      "Man                 0\n",
      "MMS              6674\n",
      "Cn                  8\n",
      "dtype: int64\n",
      "       lib_mrq lib_mod_doss    lib_mod                                  dscom  \\\n",
      "0   ALFA-ROMEO          159        159                   159 2.0 JTDm (170ch)   \n",
      "1   ALFA-ROMEO          159        159               159 2.0 JTDm (170ch) ECO   \n",
      "2   ALFA-ROMEO          159        159                159 SW 2.0 JTDm (170ch)   \n",
      "4   ALFA-ROMEO          159        159            159 SW 2.0 JTDm (170ch) ECO   \n",
      "5   ALFA-ROMEO  AR8C SPIDER  8C SPIDER                              8C SPIDER   \n",
      "6   ALFA-ROMEO        BRERA      BRERA                 BRERA 1750 TBI (200ch)   \n",
      "7   ALFA-ROMEO        BRERA      BRERA                 BRERA 1750 TBI (200ch)   \n",
      "14  ALFA-ROMEO        BRERA      BRERA                 BRERA 2.0 JTDm (170ch)   \n",
      "15  ALFA-ROMEO        BRERA      BRERA                 BRERA 2.0 JTDm (170ch)   \n",
      "19  ALFA-ROMEO    GIULIETTA  GIULIETTA  GIULIETTA 1.4 TB MultiAir (170ch) S/S   \n",
      "\n",
      "                            Mp                          Mh  \\\n",
      "0                          NaN  FIAT GROUP AUTOMOBILES SPA   \n",
      "1                          NaN  FIAT GROUP AUTOMOBILES SPA   \n",
      "2                          NaN  FIAT GROUP AUTOMOBILES SPA   \n",
      "4                          NaN  FIAT GROUP AUTOMOBILES SPA   \n",
      "5   FIAT GROUP AUTOMOBILES SPA                  FIAT GROUP   \n",
      "6                          NaN  FIAT GROUP AUTOMOBILES SPA   \n",
      "7                          NaN  FIAT GROUP AUTOMOBILES SPA   \n",
      "14                         NaN  FIAT GROUP AUTOMOBILES SPA   \n",
      "15                         NaN  FIAT GROUP AUTOMOBILES SPA   \n",
      "19                         NaN  FIAT GROUP AUTOMOBILES SPA   \n",
      "\n",
      "                           Man         MMS                        Cn  \n",
      "0   FIAT GROUP AUTOMOBILES SPA  ALFA-ROMEO    159 LUSSO 16V JTDM 170  \n",
      "1   FIAT GROUP AUTOMOBILES SPA         NaN         159 / 2.0 / M-JET  \n",
      "2   FIAT GROUP AUTOMOBILES SPA  ALFA-ROMEO    159 LUSSO 16V JTDM 170  \n",
      "4   FIAT GROUP AUTOMOBILES SPA         NaN      159 / SW 2.0 / M-JET  \n",
      "5   FIAT GROUP AUTOMOBILES SPA        FIAT            Alfa 8C Spider  \n",
      "6   FIAT GROUP AUTOMOBILES SPA  ALFA-ROMEO            BRERA 1750 TBI  \n",
      "7   FIAT GROUP AUTOMOBILES SPA  ALFA-ROMEO            BRERA 1750 TBI  \n",
      "14  FIAT GROUP AUTOMOBILES SPA  ALFA-ROMEO            BRERA JTDM 16V  \n",
      "15  FIAT GROUP AUTOMOBILES SPA  ALFA-ROMEO            BRERA JTDM 16V  \n",
      "19  FIAT GROUP AUTOMOBILES SPA  ALFA-ROMEO  GIULIETTA LUSSO M-AIR TB  \n"
     ]
    }
   ],
   "source": [
    "df_marque = df[[\"lib_mrq\",\"lib_mod_doss\",\"lib_mod\",\"dscom\",\"Mp\",\"Mh\",\"Man\",\"MMS\",\"Cn\"]]\n",
    "print(df_marque.isnull().sum())\n",
    "print(df_marque.head(10))"
   ]
  },
  {
   "cell_type": "code",
   "execution_count": 40,
   "metadata": {},
   "outputs": [
    {
     "data": {
      "text/plain": [
       "RENAULT         13031\n",
       "CITROEN         10441\n",
       "PEUGEOT          7736\n",
       "VOLVO            5083\n",
       "DACIA            5010\n",
       "FIAT              541\n",
       "NISSAN            332\n",
       "ALFA-ROMEO        105\n",
       "SKODA              22\n",
       "OPEL               18\n",
       "VOLKSWAGEN         13\n",
       "JAGUAR             13\n",
       "LAMBORGHINI        12\n",
       "LEXUS              11\n",
       "MITSUBISHI         10\n",
       "LANCIA              9\n",
       "LOTUS               8\n",
       "INFINITI            7\n",
       "SUZUKI              7\n",
       "ASTON MARTIN        6\n",
       "SUBARU              4\n",
       "CHEVROLET           4\n",
       "LAND ROVER          4\n",
       "MASERATI            3\n",
       "MERCEDES            3\n",
       "KIA                 2\n",
       "HONDA               2\n",
       "HYUNDAI             1\n",
       "JEEP                1\n",
       "CADILLAC            1\n",
       "Name: lib_mrq, dtype: int64"
      ]
     },
     "execution_count": 40,
     "metadata": {},
     "output_type": "execute_result"
    }
   ],
   "source": [
    "df[\"lib_mrq\"].value_counts()"
   ]
  },
  {
   "cell_type": "markdown",
   "metadata": {},
   "source": [
    "**Etude Norme**"
   ]
  },
  {
   "cell_type": "code",
   "execution_count": 41,
   "metadata": {},
   "outputs": [
    {
     "name": "stdout",
     "output_type": "stream",
     "text": [
      "715/2007*630/2012EURO5     15842\n",
      "715/2007*195/2013EURO5     10618\n",
      "\"715/2007*630/2012EURO5     5956\n",
      "\"715/2007*195/2013EURO5     4436\n",
      "715/2007*566/2011EURO5      3514\n",
      "715/2007*195/2013EURO6       600\n",
      "715/2007*692/2008EURO5       563\n",
      "715/2007*459/2012EURO5       344\n",
      "\"715/2007*630/2012EURO6      159\n",
      "715/2007*630/2012EURO6       121\n",
      "\"715/2007*459/2012EURO5      108\n",
      "\"715/2007*566/2011EURO5      103\n",
      "\"715/2007*195/2013EURO6       49\n",
      "\"715/2007*692/2008EURO5       23\n",
      "715/2007*459/2012EURO6         4\n",
      "Name: champ_v9, dtype: int64\n",
      "0\n",
      "0\n"
     ]
    }
   ],
   "source": [
    "print(df[\"champ_v9\"].value_counts())\n",
    "print(df.duplicated().sum())\n",
    "print(df[\"champ_v9\"].isnull().sum())"
   ]
  },
  {
   "cell_type": "code",
   "execution_count": 42,
   "metadata": {},
   "outputs": [
    {
     "name": "stdout",
     "output_type": "stream",
     "text": [
      "715/2007*630/2012EURO5    21798\n",
      "715/2007*195/2013EURO5    15054\n",
      "715/2007*566/2011EURO5     3617\n",
      "715/2007*195/2013EURO6      649\n",
      "715/2007*692/2008EURO5      586\n",
      "715/2007*459/2012EURO5      452\n",
      "715/2007*630/2012EURO6      280\n",
      "715/2007*459/2012EURO6        4\n",
      "Name: champ_v9, dtype: int64\n",
      "0\n"
     ]
    }
   ],
   "source": [
    "to_replace = ['\"715/2007*630/2012EURO5','\"715/2007*195/2013EURO5','\"715/2007*630/2012EURO6','\"715/2007*566/2011EURO5',\n",
    "              '\"715/2007*459/2012EURO5','\"715/2007*195/2013EURO6','\"715/2007*692/2008EURO5']\n",
    "value = ['715/2007*630/2012EURO5','715/2007*195/2013EURO5','715/2007*630/2012EURO6','715/2007*566/2011EURO5',\n",
    "              '715/2007*459/2012EURO5','715/2007*195/2013EURO6','715/2007*692/2008EURO5']\n",
    "df[\"champ_v9\"] = df[\"champ_v9\"].replace(to_replace=to_replace,value=value)\n",
    "print(df[\"champ_v9\"].value_counts())\n",
    "print(df.duplicated().sum())"
   ]
  },
  {
   "cell_type": "code",
   "execution_count": 43,
   "metadata": {},
   "outputs": [
    {
     "name": "stdout",
     "output_type": "stream",
     "text": [
      "e2*2001/116*0314*68    451\n",
      "e2*2001/116*0327*58    436\n",
      "e2*2001/116*0327*56    412\n",
      "e2*2001/116*0327*57    364\n",
      "e2*2001/116*0314*66    353\n",
      "Name: Tan, dtype: int64\n",
      "3221\n"
     ]
    }
   ],
   "source": [
    "print(df[\"Tan\"].value_counts().head())\n",
    "print(df[\"Tan\"].isnull().sum())"
   ]
  },
  {
   "cell_type": "code",
   "execution_count": null,
   "metadata": {},
   "outputs": [],
   "source": []
  },
  {
   "cell_type": "code",
   "execution_count": null,
   "metadata": {},
   "outputs": [],
   "source": []
  },
  {
   "cell_type": "code",
   "execution_count": null,
   "metadata": {},
   "outputs": [],
   "source": []
  },
  {
   "cell_type": "code",
   "execution_count": null,
   "metadata": {},
   "outputs": [],
   "source": []
  },
  {
   "cell_type": "code",
   "execution_count": null,
   "metadata": {},
   "outputs": [],
   "source": []
  },
  {
   "cell_type": "code",
   "execution_count": null,
   "metadata": {},
   "outputs": [],
   "source": []
  },
  {
   "cell_type": "code",
   "execution_count": null,
   "metadata": {},
   "outputs": [],
   "source": []
  },
  {
   "cell_type": "code",
   "execution_count": null,
   "metadata": {},
   "outputs": [],
   "source": []
  },
  {
   "cell_type": "code",
   "execution_count": null,
   "metadata": {},
   "outputs": [],
   "source": []
  },
  {
   "cell_type": "code",
   "execution_count": null,
   "metadata": {},
   "outputs": [],
   "source": []
  },
  {
   "cell_type": "code",
   "execution_count": null,
   "metadata": {},
   "outputs": [],
   "source": []
  },
  {
   "cell_type": "code",
   "execution_count": null,
   "metadata": {},
   "outputs": [],
   "source": []
  },
  {
   "cell_type": "markdown",
   "metadata": {},
   "source": [
    "**Etude hybride**"
   ]
  },
  {
   "cell_type": "code",
   "execution_count": 44,
   "metadata": {},
   "outputs": [
    {
     "name": "stdout",
     "output_type": "stream",
     "text": [
      "non    42107\n",
      "oui      333\n",
      "Name: hybride, dtype: int64\n",
      "0\n"
     ]
    }
   ],
   "source": [
    "print(df[\"hybride\"].value_counts())\n",
    "print(df[\"hybride\"].isnull().sum())"
   ]
  },
  {
   "cell_type": "markdown",
   "metadata": {},
   "source": [
    "**Etude de \"puiss_admin_98\"**"
   ]
  },
  {
   "cell_type": "code",
   "execution_count": 45,
   "metadata": {},
   "outputs": [
    {
     "name": "stdout",
     "output_type": "stream",
     "text": [
      "count    42440.000000\n",
      "mean         6.700730\n",
      "std          2.831416\n",
      "min          3.000000\n",
      "25%          5.000000\n",
      "50%          6.000000\n",
      "75%          8.000000\n",
      "max         50.000000\n",
      "Name: puiss_admin_98, dtype: float64\n",
      "0\n"
     ]
    }
   ],
   "source": [
    "print(df[\"puiss_admin_98\"].describe())\n",
    "print(df[\"puiss_admin_98\"].isnull().sum())"
   ]
  },
  {
   "cell_type": "code",
   "execution_count": 46,
   "metadata": {},
   "outputs": [
    {
     "data": {
      "text/plain": [
       "<matplotlib.axes._subplots.AxesSubplot at 0xa52eb70>"
      ]
     },
     "execution_count": 46,
     "metadata": {},
     "output_type": "execute_result"
    },
    {
     "data": {
      "image/png": "[encoded data removed]",
      "text/plain": [
       "<Figure size 432x288 with 1 Axes>"
      ]
     },
     "metadata": {},
     "output_type": "display_data"
    }
   ],
   "source": [
    "sns.boxplot(y=df[\"puiss_admin_98\"])"
   ]
  },
  {
   "cell_type": "code",
   "execution_count": 47,
   "metadata": {},
   "outputs": [
    {
     "data": {
      "text/plain": [
       "(array([1.6443e+04, 1.4282e+04, 8.4500e+03, 1.6820e+03, 8.6800e+02,\n",
       "        4.3700e+02, 8.0000e+00, 2.1700e+02, 6.0000e+00, 6.0000e+00,\n",
       "        1.0000e+00, 8.0000e+00, 5.0000e+00, 3.0000e+00, 1.0000e+00,\n",
       "        0.0000e+00, 8.0000e+00, 1.0000e+00, 1.0000e+00, 1.3000e+01]),\n",
       " array([ 3.  ,  5.35,  7.7 , 10.05, 12.4 , 14.75, 17.1 , 19.45, 21.8 ,\n",
       "        24.15, 26.5 , 28.85, 31.2 , 33.55, 35.9 , 38.25, 40.6 , 42.95,\n",
       "        45.3 , 47.65, 50.  ]),\n",
       " <a list of 20 Patch objects>)"
      ]
     },
     "execution_count": 47,
     "metadata": {},
     "output_type": "execute_result"
    },
    {
     "data": {
      "image/png": "[encoded data removed]",
      "text/plain": [
       "<Figure size 432x288 with 1 Axes>"
      ]
     },
     "metadata": {},
     "output_type": "display_data"
    }
   ],
   "source": [
    "plt.hist(df[\"puiss_admin_98\"],bins=20)"
   ]
  },
  {
   "cell_type": "code",
   "execution_count": 48,
   "metadata": {},
   "outputs": [
    {
     "data": {
      "text/plain": [
       "33"
      ]
     },
     "execution_count": 48,
     "metadata": {},
     "output_type": "execute_result"
    }
   ],
   "source": [
    "(df[\"puiss_admin_98\"] > 30).sum()"
   ]
  },
  {
   "cell_type": "markdown",
   "metadata": {},
   "source": [
    "**Etude de 'typ_boite_nb_rapp'**"
   ]
  },
  {
   "cell_type": "code",
   "execution_count": 49,
   "metadata": {},
   "outputs": [
    {
     "name": "stdout",
     "output_type": "stream",
     "text": [
      "M 5    16147\n",
      "M 6    16007\n",
      "A 6     8893\n",
      "A 4      493\n",
      "A 8      382\n",
      "A 5      369\n",
      "D 5      115\n",
      "A 7       18\n",
      "V 0       11\n",
      "D 6        4\n",
      "S 6        1\n",
      "Name: typ_boite_nb_rapp, dtype: int64\n",
      "0\n"
     ]
    }
   ],
   "source": [
    "print(df[\"typ_boite_nb_rapp\"].value_counts())\n",
    "print(df[\"typ_boite_nb_rapp\"].isnull().sum())"
   ]
  },
  {
   "cell_type": "code",
   "execution_count": 50,
   "metadata": {},
   "outputs": [
    {
     "name": "stdout",
     "output_type": "stream",
     "text": [
      "(42440, 33)\n",
      "(42428, 33)\n"
     ]
    }
   ],
   "source": [
    "print(df.shape)\n",
    "df = df.loc[~((df[\"typ_boite_nb_rapp\"] == \"V 0\")|(df[\"typ_boite_nb_rapp\"] == \"S 6\"))]\n",
    "print(df.shape)"
   ]
  },
  {
   "cell_type": "code",
   "execution_count": 51,
   "metadata": {},
   "outputs": [
    {
     "name": "stdout",
     "output_type": "stream",
     "text": [
      "M 5    16147\n",
      "M 6    16007\n",
      "A 6     8893\n",
      "A 4      493\n",
      "A 8      382\n",
      "A 5      369\n",
      "D 5      115\n",
      "A 7       18\n",
      "D 6        4\n",
      "Name: typ_boite_nb_rapp, dtype: int64\n"
     ]
    }
   ],
   "source": [
    "print(df[\"typ_boite_nb_rapp\"].value_counts())"
   ]
  },
  {
   "cell_type": "code",
   "execution_count": 52,
   "metadata": {},
   "outputs": [
    {
     "name": "stdout",
     "output_type": "stream",
     "text": [
      "(42428, 33)\n",
      "(42428, 35)\n",
      "  typ_boite nb_rapp\n",
      "0         M       6\n",
      "1         M       6\n",
      "2         M       6\n",
      "4         M       6\n",
      "5         M       6\n"
     ]
    }
   ],
   "source": [
    "print(df.shape)\n",
    "df[\"typ_boite\"] = df[\"typ_boite_nb_rapp\"].str[0]\n",
    "df[\"nb_rapp\"] = df[\"typ_boite_nb_rapp\"].str[2]\n",
    "print(df.shape)\n",
    "\n",
    "print(df[[\"typ_boite\",\"nb_rapp\"]].head())"
   ]
  },
  {
   "cell_type": "code",
   "execution_count": 53,
   "metadata": {},
   "outputs": [
    {
     "name": "stdout",
     "output_type": "stream",
     "text": [
      "(42428, 35)\n",
      "(42428, 34)\n"
     ]
    }
   ],
   "source": [
    "print(df.shape)\n",
    "df = df.drop([\"typ_boite_nb_rapp\"], axis = 1)\n",
    "print(df.shape)\n"
   ]
  },
  {
   "cell_type": "markdown",
   "metadata": {},
   "source": [
    "**Etude des consos : (\"conso_urb\",\"conso_exurb\",\"conso_mixte\")**"
   ]
  },
  {
   "cell_type": "code",
   "execution_count": 54,
   "metadata": {},
   "outputs": [
    {
     "name": "stdout",
     "output_type": "stream",
     "text": [
      "          conso_urb   conso_exurb   conso_mixte\n",
      "count  42428.000000  42428.000000  42428.000000\n",
      "mean       6.321858      4.397181      5.092880\n",
      "std        1.898233      0.833078      1.189944\n",
      "min        0.000000      2.900000      1.800000\n",
      "25%        4.900000      3.800000      4.200000\n",
      "50%        6.000000      4.300000      4.900000\n",
      "75%        7.600000      4.900000      5.900000\n",
      "max       24.400000     11.700000     16.400000\n",
      "conso_urb      0\n",
      "conso_exurb    0\n",
      "conso_mixte    0\n",
      "dtype: int64\n"
     ]
    }
   ],
   "source": [
    "print(df[[\"conso_urb\",\"conso_exurb\",\"conso_mixte\"]].describe())\n",
    "print(df[[\"conso_urb\",\"conso_exurb\",\"conso_mixte\"]].isnull().sum())"
   ]
  },
  {
   "cell_type": "code",
   "execution_count": 55,
   "metadata": {},
   "outputs": [
    {
     "data": {
      "text/plain": [
       "<matplotlib.axes._subplots.AxesSubplot at 0xa4f7610>"
      ]
     },
     "execution_count": 55,
     "metadata": {},
     "output_type": "execute_result"
    },
    {
     "data": {
      "image/png": "[encoded data removed]",
      "text/plain": [
       "<Figure size 432x288 with 1 Axes>"
      ]
     },
     "metadata": {},
     "output_type": "display_data"
    }
   ],
   "source": [
    "sns.boxplot(y=df[\"conso_urb\"])"
   ]
  },
  {
   "cell_type": "code",
   "execution_count": 56,
   "metadata": {},
   "outputs": [
    {
     "name": "stdout",
     "output_type": "stream",
     "text": [
      "30\n",
      "(42428, 34)\n",
      "(42398, 34)\n"
     ]
    }
   ],
   "source": [
    "print((df[\"conso_urb\"] < 1).sum())\n",
    "print(df.shape)\n",
    "df = df.loc[df[\"conso_urb\"] > 1]\n",
    "print(df.shape)"
   ]
  },
  {
   "cell_type": "code",
   "execution_count": 57,
   "metadata": {},
   "outputs": [
    {
     "data": {
      "text/plain": [
       "<matplotlib.axes._subplots.AxesSubplot at 0xa5168d0>"
      ]
     },
     "execution_count": 57,
     "metadata": {},
     "output_type": "execute_result"
    },
    {
     "data": {
      "image/png": "[encoded data removed]",
      "text/plain": [
       "<Figure size 432x288 with 1 Axes>"
      ]
     },
     "metadata": {},
     "output_type": "display_data"
    }
   ],
   "source": [
    "sns.boxplot(y=df[\"conso_exurb\"])"
   ]
  },
  {
   "cell_type": "code",
   "execution_count": 58,
   "metadata": {},
   "outputs": [
    {
     "data": {
      "text/plain": [
       "<matplotlib.axes._subplots.AxesSubplot at 0xa5f9e10>"
      ]
     },
     "execution_count": 58,
     "metadata": {},
     "output_type": "execute_result"
    },
    {
     "data": {
      "image/png": "[encoded data removed]",
      "text/plain": [
       "<Figure size 432x288 with 1 Axes>"
      ]
     },
     "metadata": {},
     "output_type": "display_data"
    }
   ],
   "source": [
    "sns.boxplot(y=df[\"conso_mixte\"])"
   ]
  },
  {
   "cell_type": "markdown",
   "metadata": {},
   "source": [
    "**Etude des résultats d'essai : (\"co_typ_1\",\"nox\",\"ptcl\")**"
   ]
  },
  {
   "cell_type": "code",
   "execution_count": 59,
   "metadata": {},
   "outputs": [
    {
     "name": "stdout",
     "output_type": "stream",
     "text": [
      "           co_typ_1           nox          ptcl\n",
      "count  42386.000000  42386.000000  33118.000000\n",
      "mean       0.302295      0.098255      0.000742\n",
      "std        0.143204      0.062222      0.000802\n",
      "min        0.056000      0.001000      0.000000\n",
      "25%        0.212000      0.027000      0.000000\n",
      "50%        0.273000      0.120000      0.001000\n",
      "75%        0.348000      0.147000      0.001000\n",
      "max        0.931000      0.259000      0.010000\n",
      "co_typ_1      12\n",
      "nox           12\n",
      "ptcl        9280\n",
      "dtype: int64\n"
     ]
    }
   ],
   "source": [
    "print(df[[\"co_typ_1\",\"nox\",\"ptcl\"]].describe())\n",
    "print(df[[\"co_typ_1\",\"nox\",\"ptcl\"]].isnull().sum())"
   ]
  },
  {
   "cell_type": "code",
   "execution_count": 60,
   "metadata": {},
   "outputs": [
    {
     "data": {
      "text/plain": [
       "<matplotlib.axes._subplots.AxesSubplot at 0xa83ec70>"
      ]
     },
     "execution_count": 60,
     "metadata": {},
     "output_type": "execute_result"
    },
    {
     "data": {
      "image/png": "[encoded data removed]",
      "text/plain": [
       "<Figure size 432x288 with 1 Axes>"
      ]
     },
     "metadata": {},
     "output_type": "display_data"
    }
   ],
   "source": [
    "sns.boxplot(y=df[\"co_typ_1\"])"
   ]
  },
  {
   "cell_type": "code",
   "execution_count": 61,
   "metadata": {},
   "outputs": [
    {
     "data": {
      "text/plain": [
       "<matplotlib.axes._subplots.AxesSubplot at 0xa874f90>"
      ]
     },
     "execution_count": 61,
     "metadata": {},
     "output_type": "execute_result"
    },
    {
     "data": {
      "image/png": "[encoded data removed]",
      "text/plain": [
       "<Figure size 432x288 with 1 Axes>"
      ]
     },
     "metadata": {},
     "output_type": "display_data"
    }
   ],
   "source": [
    "sns.boxplot(y=df[\"nox\"])"
   ]
  },
  {
   "cell_type": "code",
   "execution_count": 62,
   "metadata": {},
   "outputs": [
    {
     "data": {
      "text/plain": [
       "<matplotlib.axes._subplots.AxesSubplot at 0xaa2d870>"
      ]
     },
     "execution_count": 62,
     "metadata": {},
     "output_type": "execute_result"
    },
    {
     "data": {
      "image/png": "[encoded data removed]",
      "text/plain": [
       "<Figure size 432x288 with 1 Axes>"
      ]
     },
     "metadata": {},
     "output_type": "display_data"
    }
   ],
   "source": [
    "sns.boxplot(y=df[\"ptcl\"])"
   ]
  },
  {
   "cell_type": "markdown",
   "metadata": {},
   "source": [
    "**Etude de la Carosserie **"
   ]
  },
  {
   "cell_type": "code",
   "execution_count": 63,
   "metadata": {},
   "outputs": [
    {
     "name": "stdout",
     "output_type": "stream",
     "text": [
      "BERLINE                18140\n",
      "BREAK                   6478\n",
      "MONOSPACE COMPACT       5707\n",
      "TS TERRAINS/CHEMINS     4112\n",
      "COMBISPACE              2692\n",
      "COUPE                   1571\n",
      "MINIBUS                 1331\n",
      "CABRIOLET                881\n",
      "MINISPACE                860\n",
      "MONOSPACE                626\n",
      "Name: Carrosserie, dtype: int64\n",
      "0\n"
     ]
    }
   ],
   "source": [
    "print(df[\"Carrosserie\"].value_counts())\n",
    "print(df[\"Carrosserie\"].isnull().sum())"
   ]
  },
  {
   "cell_type": "markdown",
   "metadata": {},
   "source": [
    "**Etude de la gamme**"
   ]
  },
  {
   "cell_type": "code",
   "execution_count": 64,
   "metadata": {},
   "outputs": [
    {
     "name": "stdout",
     "output_type": "stream",
     "text": [
      "INFERIEURE        16462\n",
      "MOY-INFER         15055\n",
      "MOY-SUPER          5601\n",
      "SUPERIEURE         3702\n",
      "ECONOMIQUE         1124\n",
      "LUXE                423\n",
      "MOY-INFERIEURE       31\n",
      "Name: gamme, dtype: int64\n",
      "0\n"
     ]
    }
   ],
   "source": [
    "print(df[\"gamme\"].value_counts())\n",
    "print(df[\"gamme\"].isnull().sum())"
   ]
  },
  {
   "cell_type": "markdown",
   "metadata": {},
   "source": [
    "**Création de la variable category**\n",
    "\n",
    "On crée la variable category (les étiquettes)."
   ]
  },
  {
   "cell_type": "code",
   "execution_count": 65,
   "metadata": {},
   "outputs": [],
   "source": [
    "bins = [0,100,120,140,160,200,250,100000]\n",
    "label = ['A','B','C','D','E','F','G']\n",
    "category = pd.cut(df[\"co2\"],bins=bins,labels=label)"
   ]
  },
  {
   "cell_type": "code",
   "execution_count": 66,
   "metadata": {},
   "outputs": [
    {
     "name": "stdout",
     "output_type": "stream",
     "text": [
      "(42398, 34)\n",
      "(42398, 35)\n"
     ]
    }
   ],
   "source": [
    "print(df.shape)\n",
    "df[\"category\"] = category\n",
    "print(df.shape)\n"
   ]
  },
  {
   "cell_type": "code",
   "execution_count": 67,
   "metadata": {},
   "outputs": [
    {
     "name": "stdout",
     "output_type": "stream",
     "text": [
      "(42398,)\n",
      "0    C\n",
      "1    C\n",
      "2    D\n",
      "4    C\n",
      "5    G\n",
      "Name: category, dtype: category\n",
      "Categories (7, object): [A < B < C < D < E < F < G]\n"
     ]
    },
    {
     "data": {
      "text/plain": [
       "Text(0.5,1,'Répartition des catégories du dataset fusionné')"
      ]
     },
     "execution_count": 67,
     "metadata": {},
     "output_type": "execute_result"
    },
    {
     "data": {
      "image/png": "[encoded data removed]",
      "text/plain": [
       "<Figure size 432x288 with 1 Axes>"
      ]
     },
     "metadata": {},
     "output_type": "display_data"
    }
   ],
   "source": [
    "print(df[\"category\"].shape)\n",
    "print(df[\"category\"].head())\n",
    "sns.countplot(df[\"category\"])\n",
    "plt.title(\"Répartition des catégories du dataset fusionné\")"
   ]
  },
  {
   "cell_type": "markdown",
   "metadata": {},
   "source": [
    "**Conclusion **\n",
    "\n",
    "Voici la taille et les colonnes conservées de notre dataset mergé."
   ]
  },
  {
   "cell_type": "code",
   "execution_count": 68,
   "metadata": {},
   "outputs": [
    {
     "name": "stdout",
     "output_type": "stream",
     "text": [
      "(42398, 35)\n",
      "Index(['lib_mrq', 'lib_mod_doss', 'lib_mod', 'dscom', 'cod_cbr', 'hybride',\n",
      "       'puiss_admin_98', 'puiss_max', 'conso_urb', 'conso_exurb',\n",
      "       'conso_mixte', 'co2', 'co_typ_1', 'nox', 'ptcl', 'masse_ordma_min',\n",
      "       'masse_ordma_max', 'champ_v9', 'Carrosserie', 'gamme', 'Country', 'Mp',\n",
      "       'Mh', 'Man', 'MMS', 'Tan', 'Cn', 'Ct', 'W (mm)', 'At1 (mm)', 'At2 (mm)',\n",
      "       'ec (cm3)', 'typ_boite', 'nb_rapp', 'category'],\n",
      "      dtype='object')\n"
     ]
    }
   ],
   "source": [
    "print(df.shape)\n",
    "print(df.columns)"
   ]
  },
  {
   "cell_type": "code",
   "execution_count": 69,
   "metadata": {},
   "outputs": [
    {
     "name": "stdout",
     "output_type": "stream",
     "text": [
      "36508\n",
      "(5890, 29)\n"
     ]
    }
   ],
   "source": [
    "df_unique = df.drop(['Mh', 'Man','Country', 'MMS', 'Tan','Cn'],axis=1)\n",
    "print(df_unique.duplicated().sum())\n",
    "df_unique = df_unique.drop_duplicates()\n",
    "print(df_unique.shape)"
   ]
  },
  {
   "cell_type": "code",
   "execution_count": 70,
   "metadata": {},
   "outputs": [
    {
     "name": "stdout",
     "output_type": "stream",
     "text": [
      "(5890,)\n",
      "0    C\n",
      "1    C\n",
      "2    D\n",
      "4    C\n",
      "5    G\n",
      "Name: category, dtype: category\n",
      "Categories (7, object): [A < B < C < D < E < F < G]\n"
     ]
    },
    {
     "data": {
      "text/plain": [
       "Text(0.5,1,'Répartition des catégories du dataset fusionné sans les doublons')"
      ]
     },
     "execution_count": 70,
     "metadata": {},
     "output_type": "execute_result"
    },
    {
     "data": {
      "image/png": "[encoded data removed]",
      "text/plain": [
       "<Figure size 432x288 with 1 Axes>"
      ]
     },
     "metadata": {},
     "output_type": "display_data"
    }
   ],
   "source": [
    "print(df_unique[\"category\"].shape)\n",
    "print(df_unique[\"category\"].head())\n",
    "sns.countplot(df_unique[\"category\"])\n",
    "plt.title(\"Répartition des catégories du dataset fusionné sans les doublons\")"
   ]
  },
  {
   "cell_type": "code",
   "execution_count": 72,
   "metadata": {},
   "outputs": [],
   "source": [
    "df.to_csv(\"../data/processed/data_merge.csv\",index=False)\n",
    "df_unique.to_csv(\"../data/processed/data_merge_v2.csv\",index=False)"
   ]
  },
  {
   "cell_type": "markdown",
   "metadata": {},
   "source": [
    "**Analyse variables**\n",
    "\n",
    "Maintenant que le dataset est clean, et que on ne supprimera plus des données, on va en profiter pour faire des graphiques pour mieux comprendre nos données."
   ]
  },
  {
   "cell_type": "code",
   "execution_count": 73,
   "metadata": {},
   "outputs": [
    {
     "data": {
      "text/plain": [
       "Text(0.5,1,\"La puissance maximale en fonction de capacité du moteur pour chaque catégorie d'émission de CO2\")"
      ]
     },
     "execution_count": 73,
     "metadata": {},
     "output_type": "execute_result"
    },
    {
     "data": {
      "image/png": "[encoded data removed]",
      "text/plain": [
       "<Figure size 576x576 with 1 Axes>"
      ]
     },
     "metadata": {},
     "output_type": "display_data"
    }
   ],
   "source": [
    "#plt.scatter(df[\"ec (cm3)\"],df[\"puiss_max\"],c=df[\"co2\"])\n",
    "plt.figure(figsize=(8,8))\n",
    "plt.scatter(df[\"ec (cm3)\"],df[\"puiss_max\"],c=category.replace(to_replace=['A','B','C','D','E','F','G'],value=[0,1,2,3,4,5,6]))\n",
    "plt.xlabel(\"Engine Capacity\")\n",
    "plt.ylabel(\"Puissance maximale\")\n",
    "plt.title(\"La puissance maximale en fonction de capacité du moteur pour chaque catégorie d'émission de CO2\")"
   ]
  },
  {
   "cell_type": "code",
   "execution_count": 74,
   "metadata": {},
   "outputs": [
    {
     "data": {
      "text/plain": [
       "Text(0,0.5,'Puissance maximale')"
      ]
     },
     "execution_count": 74,
     "metadata": {},
     "output_type": "execute_result"
    },
    {
     "data": {
      "image/png": "[encoded data removed]",
      "text/plain": [
       "<Figure size 432x288 with 1 Axes>"
      ]
     },
     "metadata": {},
     "output_type": "display_data"
    }
   ],
   "source": [
    "#plt.scatter(df[\"ec (cm3)\"],df[\"puiss_max\"],c=df[\"co2\"])\n",
    "plt.scatter(df_unique[\"ec (cm3)\"],df_unique[\"puiss_max\"],c=df_unique[\"category\"].replace(to_replace=['A','B','C','D','E','F','G'],value=[0,1,2,3,4,5,6]))\n",
    "plt.xlabel(\"Engine Capacity\")\n",
    "plt.ylabel(\"Puissance maximale\")"
   ]
  }
 ],
 "metadata": {
  "kernelspec": {
   "display_name": "Python 3",
   "language": "python",
   "name": "python3"
  },
  "language_info": {
   "codemirror_mode": {
    "name": "ipython",
    "version": 3
   },
   "file_extension": ".py",
   "mimetype": "text/x-python",
   "name": "python",
   "nbconvert_exporter": "python",
   "pygments_lexer": "ipython3",
   "version": "3.6.5"
  }
 },
 "nbformat": 4,
 "nbformat_minor": 2
}
