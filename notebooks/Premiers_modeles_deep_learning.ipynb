{
  "cells": [
    {
      "cell_type": "code",
      "execution_count": 1,
      "metadata": {
        "id": "6_fuUc4xQT92"
      },
      "outputs": [],
      "source": [
        "import numpy as np\n",
        "import pandas as pd\n",
        "\n",
        "from tqdm.notebook import *\n",
        "\n",
        "import warnings\n",
        "warnings.filterwarnings(\"ignore\")\n",
        "%matplotlib inline"
      ]
    },
    {
      "cell_type": "code",
      "source": [
        "from google.colab import files\n",
        "\n",
        "# Cette fonction ouvrira une fenêtre pour télécharger un fichier\n",
        "uploaded = files.upload()\n"
      ],
      "metadata": {
        "colab": {
          "base_uri": "https://localhost:8080/",
          "height": 73
        },
        "id": "yjCtVfCBQhUC",
        "outputId": "5075b5e9-206c-4ed5-8650-302aa1ad405a"
      },
      "execution_count": 2,
      "outputs": [
        {
          "output_type": "display_data",
          "data": {
            "text/plain": [
              "<IPython.core.display.HTML object>"
            ],
            "text/html": [
              "\n",
              "     <input type=\"file\" id=\"files-5dd0a281-d3f7-4569-b3a9-a8425dc58c81\" name=\"files[]\" multiple disabled\n",
              "        style=\"border:none\" />\n",
              "     <output id=\"result-5dd0a281-d3f7-4569-b3a9-a8425dc58c81\">\n",
              "      Upload widget is only available when the cell has been executed in the\n",
              "      current browser session. Please rerun this cell to enable.\n",
              "      </output>\n",
              "      <script>// Copyright 2017 Google LLC\n",
              "//\n",
              "// Licensed under the Apache License, Version 2.0 (the \"License\");\n",
              "// you may not use this file except in compliance with the License.\n",
              "// You may obtain a copy of the License at\n",
              "//\n",
              "//      http://www.apache.org/licenses/LICENSE-2.0\n",
              "//\n",
              "// Unless required by applicable law or agreed to in writing, software\n",
              "// distributed under the License is distributed on an \"AS IS\" BASIS,\n",
              "// WITHOUT WARRANTIES OR CONDITIONS OF ANY KIND, either express or implied.\n",
              "// See the License for the specific language governing permissions and\n",
              "// limitations under the License.\n",
              "\n",
              "/**\n",
              " * @fileoverview Helpers for google.colab Python module.\n",
              " */\n",
              "(function(scope) {\n",
              "function span(text, styleAttributes = {}) {\n",
              "  const element = document.createElement('span');\n",
              "  element.textContent = text;\n",
              "  for (const key of Object.keys(styleAttributes)) {\n",
              "    element.style[key] = styleAttributes[key];\n",
              "  }\n",
              "  return element;\n",
              "}\n",
              "\n",
              "// Max number of bytes which will be uploaded at a time.\n",
              "const MAX_PAYLOAD_SIZE = 100 * 1024;\n",
              "\n",
              "function _uploadFiles(inputId, outputId) {\n",
              "  const steps = uploadFilesStep(inputId, outputId);\n",
              "  const outputElement = document.getElementById(outputId);\n",
              "  // Cache steps on the outputElement to make it available for the next call\n",
              "  // to uploadFilesContinue from Python.\n",
              "  outputElement.steps = steps;\n",
              "\n",
              "  return _uploadFilesContinue(outputId);\n",
              "}\n",
              "\n",
              "// This is roughly an async generator (not supported in the browser yet),\n",
              "// where there are multiple asynchronous steps and the Python side is going\n",
              "// to poll for completion of each step.\n",
              "// This uses a Promise to block the python side on completion of each step,\n",
              "// then passes the result of the previous step as the input to the next step.\n",
              "function _uploadFilesContinue(outputId) {\n",
              "  const outputElement = document.getElementById(outputId);\n",
              "  const steps = outputElement.steps;\n",
              "\n",
              "  const next = steps.next(outputElement.lastPromiseValue);\n",
              "  return Promise.resolve(next.value.promise).then((value) => {\n",
              "    // Cache the last promise value to make it available to the next\n",
              "    // step of the generator.\n",
              "    outputElement.lastPromiseValue = value;\n",
              "    return next.value.response;\n",
              "  });\n",
              "}\n",
              "\n",
              "/**\n",
              " * Generator function which is called between each async step of the upload\n",
              " * process.\n",
              " * @param {string} inputId Element ID of the input file picker element.\n",
              " * @param {string} outputId Element ID of the output display.\n",
              " * @return {!Iterable<!Object>} Iterable of next steps.\n",
              " */\n",
              "function* uploadFilesStep(inputId, outputId) {\n",
              "  const inputElement = document.getElementById(inputId);\n",
              "  inputElement.disabled = false;\n",
              "\n",
              "  const outputElement = document.getElementById(outputId);\n",
              "  outputElement.innerHTML = '';\n",
              "\n",
              "  const pickedPromise = new Promise((resolve) => {\n",
              "    inputElement.addEventListener('change', (e) => {\n",
              "      resolve(e.target.files);\n",
              "    });\n",
              "  });\n",
              "\n",
              "  const cancel = document.createElement('button');\n",
              "  inputElement.parentElement.appendChild(cancel);\n",
              "  cancel.textContent = 'Cancel upload';\n",
              "  const cancelPromise = new Promise((resolve) => {\n",
              "    cancel.onclick = () => {\n",
              "      resolve(null);\n",
              "    };\n",
              "  });\n",
              "\n",
              "  // Wait for the user to pick the files.\n",
              "  const files = yield {\n",
              "    promise: Promise.race([pickedPromise, cancelPromise]),\n",
              "    response: {\n",
              "      action: 'starting',\n",
              "    }\n",
              "  };\n",
              "\n",
              "  cancel.remove();\n",
              "\n",
              "  // Disable the input element since further picks are not allowed.\n",
              "  inputElement.disabled = true;\n",
              "\n",
              "  if (!files) {\n",
              "    return {\n",
              "      response: {\n",
              "        action: 'complete',\n",
              "      }\n",
              "    };\n",
              "  }\n",
              "\n",
              "  for (const file of files) {\n",
              "    const li = document.createElement('li');\n",
              "    li.append(span(file.name, {fontWeight: 'bold'}));\n",
              "    li.append(span(\n",
              "        `(${file.type || 'n/a'}) - ${file.size} bytes, ` +\n",
              "        `last modified: ${\n",
              "            file.lastModifiedDate ? file.lastModifiedDate.toLocaleDateString() :\n",
              "                                    'n/a'} - `));\n",
              "    const percent = span('0% done');\n",
              "    li.appendChild(percent);\n",
              "\n",
              "    outputElement.appendChild(li);\n",
              "\n",
              "    const fileDataPromise = new Promise((resolve) => {\n",
              "      const reader = new FileReader();\n",
              "      reader.onload = (e) => {\n",
              "        resolve(e.target.result);\n",
              "      };\n",
              "      reader.readAsArrayBuffer(file);\n",
              "    });\n",
              "    // Wait for the data to be ready.\n",
              "    let fileData = yield {\n",
              "      promise: fileDataPromise,\n",
              "      response: {\n",
              "        action: 'continue',\n",
              "      }\n",
              "    };\n",
              "\n",
              "    // Use a chunked sending to avoid message size limits. See b/62115660.\n",
              "    let position = 0;\n",
              "    do {\n",
              "      const length = Math.min(fileData.byteLength - position, MAX_PAYLOAD_SIZE);\n",
              "      const chunk = new Uint8Array(fileData, position, length);\n",
              "      position += length;\n",
              "\n",
              "      const base64 = btoa(String.fromCharCode.apply(null, chunk));\n",
              "      yield {\n",
              "        response: {\n",
              "          action: 'append',\n",
              "          file: file.name,\n",
              "          data: base64,\n",
              "        },\n",
              "      };\n",
              "\n",
              "      let percentDone = fileData.byteLength === 0 ?\n",
              "          100 :\n",
              "          Math.round((position / fileData.byteLength) * 100);\n",
              "      percent.textContent = `${percentDone}% done`;\n",
              "\n",
              "    } while (position < fileData.byteLength);\n",
              "  }\n",
              "\n",
              "  // All done.\n",
              "  yield {\n",
              "    response: {\n",
              "      action: 'complete',\n",
              "    }\n",
              "  };\n",
              "}\n",
              "\n",
              "scope.google = scope.google || {};\n",
              "scope.google.colab = scope.google.colab || {};\n",
              "scope.google.colab._files = {\n",
              "  _uploadFiles,\n",
              "  _uploadFilesContinue,\n",
              "};\n",
              "})(self);\n",
              "</script> "
            ]
          },
          "metadata": {}
        },
        {
          "output_type": "stream",
          "name": "stdout",
          "text": [
            "Saving Donnees_propres.csv to Donnees_propres.csv\n"
          ]
        }
      ]
    },
    {
      "cell_type": "code",
      "execution_count": 3,
      "metadata": {
        "colab": {
          "base_uri": "https://localhost:8080/",
          "height": 1000
        },
        "id": "UnzBPOzyQT94",
        "outputId": "2d96fc37-c87b-47e2-c1ef-6349d1d4a78c"
      },
      "outputs": [
        {
          "output_type": "display_data",
          "data": {
            "text/plain": [
              "      lib_mrq lib_mod_doss lib_mod                 dscom hybride  \\\n",
              "0  ALFA-ROMEO          159     159  159 1750 Tbi (200ch)     non   \n",
              "1  ALFA-ROMEO          159     159  159 1750 Tbi (200ch)     non   \n",
              "2  ALFA-ROMEO          159     159  159 2.0 JTDm (136ch)     non   \n",
              "3  ALFA-ROMEO          159     159  159 2.0 JTDm (136ch)     non   \n",
              "4  ALFA-ROMEO          159     159  159 2.0 JTDm (170ch)     non   \n",
              "\n",
              "   puiss_admin_98  puiss_max  conso_urb  conso_exurb  conso_mixte  ...   ptcl  \\\n",
              "0              12      147.0       11.3          5.8          7.8  ...  0.002   \n",
              "1              12      147.0       11.5          6.0          8.0  ...  0.002   \n",
              "2               7      100.0        6.6          4.2          5.1  ...  0.001   \n",
              "3               7      100.0        6.6          4.2          5.1  ...  0.001   \n",
              "4               9      125.0        6.9          4.3          5.3  ...  0.001   \n",
              "\n",
              "   masse_ordma_min  masse_ordma_max                champ_v9  Carrosserie  \\\n",
              "0             1505             1505  715/2007*692/2008EURO5      BERLINE   \n",
              "1             1555             1555  715/2007*692/2008EURO5      BERLINE   \n",
              "2             1565             1565  715/2007*692/2008EURO5      BERLINE   \n",
              "3             1565             1565  715/2007*692/2008EURO5      BERLINE   \n",
              "4             1565             1565  715/2007*692/2008EURO5      BERLINE   \n",
              "\n",
              "       gamme carburant typ_boite nb_rapp etiquette  \n",
              "0  MOY-SUPER   Essence  Manuelle       6         E  \n",
              "1  MOY-SUPER   Essence  Manuelle       6         E  \n",
              "2  MOY-SUPER    Gazoil  Manuelle       6         C  \n",
              "3  MOY-SUPER    Gazoil  Manuelle       6         C  \n",
              "4  MOY-SUPER    Gazoil  Manuelle       6         C  \n",
              "\n",
              "[5 rows x 23 columns]"
            ],
            "text/html": [
              "\n",
              "  <div id=\"df-7ab97c4b-87ea-4a30-9bdf-db4192b80e8d\" class=\"colab-df-container\">\n",
              "    <div>\n",
              "<style scoped>\n",
              "    .dataframe tbody tr th:only-of-type {\n",
              "        vertical-align: middle;\n",
              "    }\n",
              "\n",
              "    .dataframe tbody tr th {\n",
              "        vertical-align: top;\n",
              "    }\n",
              "\n",
              "    .dataframe thead th {\n",
              "        text-align: right;\n",
              "    }\n",
              "</style>\n",
              "<table border=\"1\" class=\"dataframe\">\n",
              "  <thead>\n",
              "    <tr style=\"text-align: right;\">\n",
              "      <th></th>\n",
              "      <th>lib_mrq</th>\n",
              "      <th>lib_mod_doss</th>\n",
              "      <th>lib_mod</th>\n",
              "      <th>dscom</th>\n",
              "      <th>hybride</th>\n",
              "      <th>puiss_admin_98</th>\n",
              "      <th>puiss_max</th>\n",
              "      <th>conso_urb</th>\n",
              "      <th>conso_exurb</th>\n",
              "      <th>conso_mixte</th>\n",
              "      <th>...</th>\n",
              "      <th>ptcl</th>\n",
              "      <th>masse_ordma_min</th>\n",
              "      <th>masse_ordma_max</th>\n",
              "      <th>champ_v9</th>\n",
              "      <th>Carrosserie</th>\n",
              "      <th>gamme</th>\n",
              "      <th>carburant</th>\n",
              "      <th>typ_boite</th>\n",
              "      <th>nb_rapp</th>\n",
              "      <th>etiquette</th>\n",
              "    </tr>\n",
              "  </thead>\n",
              "  <tbody>\n",
              "    <tr>\n",
              "      <th>0</th>\n",
              "      <td>ALFA-ROMEO</td>\n",
              "      <td>159</td>\n",
              "      <td>159</td>\n",
              "      <td>159 1750 Tbi (200ch)</td>\n",
              "      <td>non</td>\n",
              "      <td>12</td>\n",
              "      <td>147.0</td>\n",
              "      <td>11.3</td>\n",
              "      <td>5.8</td>\n",
              "      <td>7.8</td>\n",
              "      <td>...</td>\n",
              "      <td>0.002</td>\n",
              "      <td>1505</td>\n",
              "      <td>1505</td>\n",
              "      <td>715/2007*692/2008EURO5</td>\n",
              "      <td>BERLINE</td>\n",
              "      <td>MOY-SUPER</td>\n",
              "      <td>Essence</td>\n",
              "      <td>Manuelle</td>\n",
              "      <td>6</td>\n",
              "      <td>E</td>\n",
              "    </tr>\n",
              "    <tr>\n",
              "      <th>1</th>\n",
              "      <td>ALFA-ROMEO</td>\n",
              "      <td>159</td>\n",
              "      <td>159</td>\n",
              "      <td>159 1750 Tbi (200ch)</td>\n",
              "      <td>non</td>\n",
              "      <td>12</td>\n",
              "      <td>147.0</td>\n",
              "      <td>11.5</td>\n",
              "      <td>6.0</td>\n",
              "      <td>8.0</td>\n",
              "      <td>...</td>\n",
              "      <td>0.002</td>\n",
              "      <td>1555</td>\n",
              "      <td>1555</td>\n",
              "      <td>715/2007*692/2008EURO5</td>\n",
              "      <td>BERLINE</td>\n",
              "      <td>MOY-SUPER</td>\n",
              "      <td>Essence</td>\n",
              "      <td>Manuelle</td>\n",
              "      <td>6</td>\n",
              "      <td>E</td>\n",
              "    </tr>\n",
              "    <tr>\n",
              "      <th>2</th>\n",
              "      <td>ALFA-ROMEO</td>\n",
              "      <td>159</td>\n",
              "      <td>159</td>\n",
              "      <td>159 2.0 JTDm (136ch)</td>\n",
              "      <td>non</td>\n",
              "      <td>7</td>\n",
              "      <td>100.0</td>\n",
              "      <td>6.6</td>\n",
              "      <td>4.2</td>\n",
              "      <td>5.1</td>\n",
              "      <td>...</td>\n",
              "      <td>0.001</td>\n",
              "      <td>1565</td>\n",
              "      <td>1565</td>\n",
              "      <td>715/2007*692/2008EURO5</td>\n",
              "      <td>BERLINE</td>\n",
              "      <td>MOY-SUPER</td>\n",
              "      <td>Gazoil</td>\n",
              "      <td>Manuelle</td>\n",
              "      <td>6</td>\n",
              "      <td>C</td>\n",
              "    </tr>\n",
              "    <tr>\n",
              "      <th>3</th>\n",
              "      <td>ALFA-ROMEO</td>\n",
              "      <td>159</td>\n",
              "      <td>159</td>\n",
              "      <td>159 2.0 JTDm (136ch)</td>\n",
              "      <td>non</td>\n",
              "      <td>7</td>\n",
              "      <td>100.0</td>\n",
              "      <td>6.6</td>\n",
              "      <td>4.2</td>\n",
              "      <td>5.1</td>\n",
              "      <td>...</td>\n",
              "      <td>0.001</td>\n",
              "      <td>1565</td>\n",
              "      <td>1565</td>\n",
              "      <td>715/2007*692/2008EURO5</td>\n",
              "      <td>BERLINE</td>\n",
              "      <td>MOY-SUPER</td>\n",
              "      <td>Gazoil</td>\n",
              "      <td>Manuelle</td>\n",
              "      <td>6</td>\n",
              "      <td>C</td>\n",
              "    </tr>\n",
              "    <tr>\n",
              "      <th>4</th>\n",
              "      <td>ALFA-ROMEO</td>\n",
              "      <td>159</td>\n",
              "      <td>159</td>\n",
              "      <td>159 2.0 JTDm (170ch)</td>\n",
              "      <td>non</td>\n",
              "      <td>9</td>\n",
              "      <td>125.0</td>\n",
              "      <td>6.9</td>\n",
              "      <td>4.3</td>\n",
              "      <td>5.3</td>\n",
              "      <td>...</td>\n",
              "      <td>0.001</td>\n",
              "      <td>1565</td>\n",
              "      <td>1565</td>\n",
              "      <td>715/2007*692/2008EURO5</td>\n",
              "      <td>BERLINE</td>\n",
              "      <td>MOY-SUPER</td>\n",
              "      <td>Gazoil</td>\n",
              "      <td>Manuelle</td>\n",
              "      <td>6</td>\n",
              "      <td>C</td>\n",
              "    </tr>\n",
              "  </tbody>\n",
              "</table>\n",
              "<p>5 rows × 23 columns</p>\n",
              "</div>\n",
              "    <div class=\"colab-df-buttons\">\n",
              "\n",
              "  <div class=\"colab-df-container\">\n",
              "    <button class=\"colab-df-convert\" onclick=\"convertToInteractive('df-7ab97c4b-87ea-4a30-9bdf-db4192b80e8d')\"\n",
              "            title=\"Convert this dataframe to an interactive table.\"\n",
              "            style=\"display:none;\">\n",
              "\n",
              "  <svg xmlns=\"http://www.w3.org/2000/svg\" height=\"24px\" viewBox=\"0 -960 960 960\">\n",
              "    <path d=\"M120-120v-720h720v720H120Zm60-500h600v-160H180v160Zm220 220h160v-160H400v160Zm0 220h160v-160H400v160ZM180-400h160v-160H180v160Zm440 0h160v-160H620v160ZM180-180h160v-160H180v160Zm440 0h160v-160H620v160Z\"/>\n",
              "  </svg>\n",
              "    </button>\n",
              "\n",
              "  <style>\n",
              "    .colab-df-container {\n",
              "      display:flex;\n",
              "      gap: 12px;\n",
              "    }\n",
              "\n",
              "    .colab-df-convert {\n",
              "      background-color: #E8F0FE;\n",
              "      border: none;\n",
              "      border-radius: 50%;\n",
              "      cursor: pointer;\n",
              "      display: none;\n",
              "      fill: #1967D2;\n",
              "      height: 32px;\n",
              "      padding: 0 0 0 0;\n",
              "      width: 32px;\n",
              "    }\n",
              "\n",
              "    .colab-df-convert:hover {\n",
              "      background-color: #E2EBFA;\n",
              "      box-shadow: 0px 1px 2px rgba(60, 64, 67, 0.3), 0px 1px 3px 1px rgba(60, 64, 67, 0.15);\n",
              "      fill: #174EA6;\n",
              "    }\n",
              "\n",
              "    .colab-df-buttons div {\n",
              "      margin-bottom: 4px;\n",
              "    }\n",
              "\n",
              "    [theme=dark] .colab-df-convert {\n",
              "      background-color: #3B4455;\n",
              "      fill: #D2E3FC;\n",
              "    }\n",
              "\n",
              "    [theme=dark] .colab-df-convert:hover {\n",
              "      background-color: #434B5C;\n",
              "      box-shadow: 0px 1px 3px 1px rgba(0, 0, 0, 0.15);\n",
              "      filter: drop-shadow(0px 1px 2px rgba(0, 0, 0, 0.3));\n",
              "      fill: #FFFFFF;\n",
              "    }\n",
              "  </style>\n",
              "\n",
              "    <script>\n",
              "      const buttonEl =\n",
              "        document.querySelector('#df-7ab97c4b-87ea-4a30-9bdf-db4192b80e8d button.colab-df-convert');\n",
              "      buttonEl.style.display =\n",
              "        google.colab.kernel.accessAllowed ? 'block' : 'none';\n",
              "\n",
              "      async function convertToInteractive(key) {\n",
              "        const element = document.querySelector('#df-7ab97c4b-87ea-4a30-9bdf-db4192b80e8d');\n",
              "        const dataTable =\n",
              "          await google.colab.kernel.invokeFunction('convertToInteractive',\n",
              "                                                    [key], {});\n",
              "        if (!dataTable) return;\n",
              "\n",
              "        const docLinkHtml = 'Like what you see? Visit the ' +\n",
              "          '<a target=\"_blank\" href=https://colab.research.google.com/notebooks/data_table.ipynb>data table notebook</a>'\n",
              "          + ' to learn more about interactive tables.';\n",
              "        element.innerHTML = '';\n",
              "        dataTable['output_type'] = 'display_data';\n",
              "        await google.colab.output.renderOutput(dataTable, element);\n",
              "        const docLink = document.createElement('div');\n",
              "        docLink.innerHTML = docLinkHtml;\n",
              "        element.appendChild(docLink);\n",
              "      }\n",
              "    </script>\n",
              "  </div>\n",
              "\n",
              "\n",
              "<div id=\"df-4a06e2fa-b723-4eaf-91c1-698bf1fa8c3b\">\n",
              "  <button class=\"colab-df-quickchart\" onclick=\"quickchart('df-4a06e2fa-b723-4eaf-91c1-698bf1fa8c3b')\"\n",
              "            title=\"Suggest charts\"\n",
              "            style=\"display:none;\">\n",
              "\n",
              "<svg xmlns=\"http://www.w3.org/2000/svg\" height=\"24px\"viewBox=\"0 0 24 24\"\n",
              "     width=\"24px\">\n",
              "    <g>\n",
              "        <path d=\"M19 3H5c-1.1 0-2 .9-2 2v14c0 1.1.9 2 2 2h14c1.1 0 2-.9 2-2V5c0-1.1-.9-2-2-2zM9 17H7v-7h2v7zm4 0h-2V7h2v10zm4 0h-2v-4h2v4z\"/>\n",
              "    </g>\n",
              "</svg>\n",
              "  </button>\n",
              "\n",
              "<style>\n",
              "  .colab-df-quickchart {\n",
              "      --bg-color: #E8F0FE;\n",
              "      --fill-color: #1967D2;\n",
              "      --hover-bg-color: #E2EBFA;\n",
              "      --hover-fill-color: #174EA6;\n",
              "      --disabled-fill-color: #AAA;\n",
              "      --disabled-bg-color: #DDD;\n",
              "  }\n",
              "\n",
              "  [theme=dark] .colab-df-quickchart {\n",
              "      --bg-color: #3B4455;\n",
              "      --fill-color: #D2E3FC;\n",
              "      --hover-bg-color: #434B5C;\n",
              "      --hover-fill-color: #FFFFFF;\n",
              "      --disabled-bg-color: #3B4455;\n",
              "      --disabled-fill-color: #666;\n",
              "  }\n",
              "\n",
              "  .colab-df-quickchart {\n",
              "    background-color: var(--bg-color);\n",
              "    border: none;\n",
              "    border-radius: 50%;\n",
              "    cursor: pointer;\n",
              "    display: none;\n",
              "    fill: var(--fill-color);\n",
              "    height: 32px;\n",
              "    padding: 0;\n",
              "    width: 32px;\n",
              "  }\n",
              "\n",
              "  .colab-df-quickchart:hover {\n",
              "    background-color: var(--hover-bg-color);\n",
              "    box-shadow: 0 1px 2px rgba(60, 64, 67, 0.3), 0 1px 3px 1px rgba(60, 64, 67, 0.15);\n",
              "    fill: var(--button-hover-fill-color);\n",
              "  }\n",
              "\n",
              "  .colab-df-quickchart-complete:disabled,\n",
              "  .colab-df-quickchart-complete:disabled:hover {\n",
              "    background-color: var(--disabled-bg-color);\n",
              "    fill: var(--disabled-fill-color);\n",
              "    box-shadow: none;\n",
              "  }\n",
              "\n",
              "  .colab-df-spinner {\n",
              "    border: 2px solid var(--fill-color);\n",
              "    border-color: transparent;\n",
              "    border-bottom-color: var(--fill-color);\n",
              "    animation:\n",
              "      spin 1s steps(1) infinite;\n",
              "  }\n",
              "\n",
              "  @keyframes spin {\n",
              "    0% {\n",
              "      border-color: transparent;\n",
              "      border-bottom-color: var(--fill-color);\n",
              "      border-left-color: var(--fill-color);\n",
              "    }\n",
              "    20% {\n",
              "      border-color: transparent;\n",
              "      border-left-color: var(--fill-color);\n",
              "      border-top-color: var(--fill-color);\n",
              "    }\n",
              "    30% {\n",
              "      border-color: transparent;\n",
              "      border-left-color: var(--fill-color);\n",
              "      border-top-color: var(--fill-color);\n",
              "      border-right-color: var(--fill-color);\n",
              "    }\n",
              "    40% {\n",
              "      border-color: transparent;\n",
              "      border-right-color: var(--fill-color);\n",
              "      border-top-color: var(--fill-color);\n",
              "    }\n",
              "    60% {\n",
              "      border-color: transparent;\n",
              "      border-right-color: var(--fill-color);\n",
              "    }\n",
              "    80% {\n",
              "      border-color: transparent;\n",
              "      border-right-color: var(--fill-color);\n",
              "      border-bottom-color: var(--fill-color);\n",
              "    }\n",
              "    90% {\n",
              "      border-color: transparent;\n",
              "      border-bottom-color: var(--fill-color);\n",
              "    }\n",
              "  }\n",
              "</style>\n",
              "\n",
              "  <script>\n",
              "    async function quickchart(key) {\n",
              "      const quickchartButtonEl =\n",
              "        document.querySelector('#' + key + ' button');\n",
              "      quickchartButtonEl.disabled = true;  // To prevent multiple clicks.\n",
              "      quickchartButtonEl.classList.add('colab-df-spinner');\n",
              "      try {\n",
              "        const charts = await google.colab.kernel.invokeFunction(\n",
              "            'suggestCharts', [key], {});\n",
              "      } catch (error) {\n",
              "        console.error('Error during call to suggestCharts:', error);\n",
              "      }\n",
              "      quickchartButtonEl.classList.remove('colab-df-spinner');\n",
              "      quickchartButtonEl.classList.add('colab-df-quickchart-complete');\n",
              "    }\n",
              "    (() => {\n",
              "      let quickchartButtonEl =\n",
              "        document.querySelector('#df-4a06e2fa-b723-4eaf-91c1-698bf1fa8c3b button');\n",
              "      quickchartButtonEl.style.display =\n",
              "        google.colab.kernel.accessAllowed ? 'block' : 'none';\n",
              "    })();\n",
              "  </script>\n",
              "</div>\n",
              "\n",
              "    </div>\n",
              "  </div>\n"
            ],
            "application/vnd.google.colaboratory.intrinsic+json": {
              "type": "dataframe"
            }
          },
          "metadata": {}
        },
        {
          "output_type": "stream",
          "name": "stdout",
          "text": [
            "<class 'pandas.core.frame.DataFrame'>\n",
            "RangeIndex: 52308 entries, 0 to 52307\n",
            "Data columns (total 23 columns):\n",
            " #   Column           Non-Null Count  Dtype  \n",
            "---  ------           --------------  -----  \n",
            " 0   lib_mrq          52308 non-null  object \n",
            " 1   lib_mod_doss     52308 non-null  object \n",
            " 2   lib_mod          52308 non-null  object \n",
            " 3   dscom            52308 non-null  object \n",
            " 4   hybride          52308 non-null  object \n",
            " 5   puiss_admin_98   52308 non-null  int64  \n",
            " 6   puiss_max        52308 non-null  float64\n",
            " 7   conso_urb        52308 non-null  float64\n",
            " 8   conso_exurb      52308 non-null  float64\n",
            " 9   conso_mixte      52308 non-null  float64\n",
            " 10  co2              52308 non-null  float64\n",
            " 11  co_typ_1         52308 non-null  float64\n",
            " 12  nox              52308 non-null  float64\n",
            " 13  ptcl             52308 non-null  float64\n",
            " 14  masse_ordma_min  52308 non-null  int64  \n",
            " 15  masse_ordma_max  52308 non-null  int64  \n",
            " 16  champ_v9         52308 non-null  object \n",
            " 17  Carrosserie      52308 non-null  object \n",
            " 18  gamme            52308 non-null  object \n",
            " 19  carburant        52308 non-null  object \n",
            " 20  typ_boite        52308 non-null  object \n",
            " 21  nb_rapp          52308 non-null  int64  \n",
            " 22  etiquette        52308 non-null  object \n",
            "dtypes: float64(8), int64(4), object(11)\n",
            "memory usage: 9.2+ MB\n"
          ]
        },
        {
          "output_type": "display_data",
          "data": {
            "text/plain": [
              "None"
            ]
          },
          "metadata": {}
        }
      ],
      "source": [
        "df=pd.read_csv(\"Donnees_propres.csv\")\n",
        "display(df.head())\n",
        "display(df.info())"
      ]
    },
    {
      "cell_type": "markdown",
      "metadata": {
        "id": "8v5PPPQvQT95"
      },
      "source": [
        "On supprime les colonnes qui contiennent des informations sur la marque ou le constructeur :\n",
        "lib_mrq, lib_mod_doss, lib_mod_ dscom ainsi que la variable champ_v9, co2 (nous avons les etiquettes), puiss_admin_98, co_typ_1\n"
      ]
    },
    {
      "cell_type": "code",
      "execution_count": 4,
      "metadata": {
        "id": "LlLWSRSxQT98"
      },
      "outputs": [],
      "source": [
        "to_drop = ['lib_mrq', 'lib_mod_doss', 'lib_mod', 'dscom', 'champ_v9', 'co2', 'puiss_admin_98', 'co_typ_1',\n",
        "           'conso_urb', 'conso_exurb', 'conso_mixte']\n",
        "df_clear = df.drop(to_drop, axis = 1)"
      ]
    },
    {
      "cell_type": "code",
      "execution_count": 5,
      "metadata": {
        "colab": {
          "base_uri": "https://localhost:8080/"
        },
        "id": "8kteomjFQT99",
        "outputId": "a76f0543-fe03-4756-f4a3-6e04d4284c87"
      },
      "outputs": [
        {
          "output_type": "stream",
          "name": "stdout",
          "text": [
            "hybride         2\n",
            "Carrosserie    11\n",
            "gamme           6\n",
            "carburant       4\n",
            "typ_boite       3\n",
            "etiquette       7\n",
            "dtype: int64\n"
          ]
        }
      ],
      "source": [
        "\n",
        "# On récupère les colonnes de type Object\n",
        "colonnes_object = df_clear.select_dtypes(include='object')\n",
        "\n",
        "# On calcule le nombre de modalités de chacune de ces variables\n",
        "categories_uniques = colonnes_object.nunique()\n",
        "print(categories_uniques)\n",
        "\n",
        "# 6 Variables catégorielles à réencoder"
      ]
    },
    {
      "cell_type": "markdown",
      "metadata": {
        "id": "6Di8w4UPQT9-"
      },
      "source": [
        "Reencodage des variables categorielles"
      ]
    },
    {
      "cell_type": "code",
      "execution_count": 6,
      "metadata": {
        "colab": {
          "base_uri": "https://localhost:8080/",
          "height": 91
        },
        "id": "DEm9mJoJQT9_",
        "outputId": "25a297dd-de48-4d26-8092-1e688fcd6615"
      },
      "outputs": [
        {
          "output_type": "display_data",
          "data": {
            "text/plain": [
              "'hybride'"
            ],
            "application/vnd.google.colaboratory.intrinsic+json": {
              "type": "string"
            }
          },
          "metadata": {}
        },
        {
          "output_type": "display_data",
          "data": {
            "text/plain": [
              "array([0, 1])"
            ]
          },
          "metadata": {}
        },
        {
          "output_type": "display_data",
          "data": {
            "text/plain": [
              "'etiquette'"
            ],
            "application/vnd.google.colaboratory.intrinsic+json": {
              "type": "string"
            }
          },
          "metadata": {}
        },
        {
          "output_type": "display_data",
          "data": {
            "text/plain": [
              "array([4, 2, 3, 1, 0, 5, 6])"
            ]
          },
          "metadata": {}
        }
      ],
      "source": [
        "# Variable hybride\n",
        "\n",
        "# On remplace les notes alphabétiques par les notes numériques correspondantes\n",
        "df_clear['hybride'] = df_clear['hybride'].replace({'oui':1, 'non': 0})\n",
        "display('hybride', df_clear['hybride'].unique())\n",
        "\n",
        "# Variable cible etiquette\n",
        "# On créé un dictionnaire qui contient les changements souhaités\n",
        "grade = {'A': 0, 'B': 1, 'C': 2, 'D': 3, 'E': 4, 'F': 5, 'G': 6}\n",
        "\n",
        "# On remplace les notes alphabétiques par les notes numériques correspondantes\n",
        "df_clear['etiquette'] = df_clear['etiquette'].replace(grade)\n",
        "display('etiquette', df_clear['etiquette'].unique())"
      ]
    },
    {
      "cell_type": "code",
      "execution_count": 7,
      "metadata": {
        "id": "XpkPsedGQT-A"
      },
      "outputs": [],
      "source": [
        "df_encoded = pd.get_dummies(df_clear, dtype='int')"
      ]
    },
    {
      "cell_type": "code",
      "execution_count": 8,
      "metadata": {
        "colab": {
          "base_uri": "https://localhost:8080/"
        },
        "id": "ApgiPl8EQT-B",
        "outputId": "5ee0e9e7-af0a-4e97-e5f1-4e9d0e4711ee"
      },
      "outputs": [
        {
          "output_type": "stream",
          "name": "stdout",
          "text": [
            "<class 'pandas.core.frame.DataFrame'>\n",
            "RangeIndex: 52308 entries, 0 to 52307\n",
            "Data columns (total 32 columns):\n",
            " #   Column                           Non-Null Count  Dtype  \n",
            "---  ------                           --------------  -----  \n",
            " 0   hybride                          52308 non-null  int64  \n",
            " 1   puiss_max                        52308 non-null  float64\n",
            " 2   nox                              52308 non-null  float64\n",
            " 3   ptcl                             52308 non-null  float64\n",
            " 4   masse_ordma_min                  52308 non-null  int64  \n",
            " 5   masse_ordma_max                  52308 non-null  int64  \n",
            " 6   nb_rapp                          52308 non-null  int64  \n",
            " 7   etiquette                        52308 non-null  int64  \n",
            " 8   Carrosserie_BERLINE              52308 non-null  int64  \n",
            " 9   Carrosserie_BREAK                52308 non-null  int64  \n",
            " 10  Carrosserie_CABRIOLET            52308 non-null  int64  \n",
            " 11  Carrosserie_COMBISPACE           52308 non-null  int64  \n",
            " 12  Carrosserie_COMBISPCACE          52308 non-null  int64  \n",
            " 13  Carrosserie_COUPE                52308 non-null  int64  \n",
            " 14  Carrosserie_MINIBUS              52308 non-null  int64  \n",
            " 15  Carrosserie_MINISPACE            52308 non-null  int64  \n",
            " 16  Carrosserie_MONOSPACE            52308 non-null  int64  \n",
            " 17  Carrosserie_MONOSPACE COMPACT    52308 non-null  int64  \n",
            " 18  Carrosserie_TS TERRAINS/CHEMINS  52308 non-null  int64  \n",
            " 19  gamme_ECONOMIQUE                 52308 non-null  int64  \n",
            " 20  gamme_INFERIEURE                 52308 non-null  int64  \n",
            " 21  gamme_LUXE                       52308 non-null  int64  \n",
            " 22  gamme_MOY-INFER                  52308 non-null  int64  \n",
            " 23  gamme_MOY-SUPER                  52308 non-null  int64  \n",
            " 24  gamme_SUPERIEURE                 52308 non-null  int64  \n",
            " 25  carburant_Essence                52308 non-null  int64  \n",
            " 26  carburant_Essence/Elec           52308 non-null  int64  \n",
            " 27  carburant_Gasoil/Elec            52308 non-null  int64  \n",
            " 28  carburant_Gazoil                 52308 non-null  int64  \n",
            " 29  typ_boite_Auto                   52308 non-null  int64  \n",
            " 30  typ_boite_Manuelle               52308 non-null  int64  \n",
            " 31  typ_boite_Var_continue           52308 non-null  int64  \n",
            "dtypes: float64(3), int64(29)\n",
            "memory usage: 12.8 MB\n"
          ]
        },
        {
          "output_type": "execute_result",
          "data": {
            "text/plain": [
              "Index(['hybride', 'puiss_max', 'nox', 'ptcl', 'masse_ordma_min',\n",
              "       'masse_ordma_max', 'nb_rapp', 'etiquette', 'Carrosserie_BERLINE',\n",
              "       'Carrosserie_BREAK', 'Carrosserie_CABRIOLET', 'Carrosserie_COMBISPACE',\n",
              "       'Carrosserie_COMBISPCACE', 'Carrosserie_COUPE', 'Carrosserie_MINIBUS',\n",
              "       'Carrosserie_MINISPACE', 'Carrosserie_MONOSPACE',\n",
              "       'Carrosserie_MONOSPACE COMPACT', 'Carrosserie_TS TERRAINS/CHEMINS',\n",
              "       'gamme_ECONOMIQUE', 'gamme_INFERIEURE', 'gamme_LUXE', 'gamme_MOY-INFER',\n",
              "       'gamme_MOY-SUPER', 'gamme_SUPERIEURE', 'carburant_Essence',\n",
              "       'carburant_Essence/Elec', 'carburant_Gasoil/Elec', 'carburant_Gazoil',\n",
              "       'typ_boite_Auto', 'typ_boite_Manuelle', 'typ_boite_Var_continue'],\n",
              "      dtype='object')"
            ]
          },
          "metadata": {},
          "execution_count": 8
        }
      ],
      "source": [
        "df_encoded.info()\n",
        "df_encoded.columns"
      ]
    },
    {
      "cell_type": "markdown",
      "metadata": {
        "id": "JJVPNeh2QT-C"
      },
      "source": [
        "Separation des données"
      ]
    },
    {
      "cell_type": "code",
      "execution_count": 9,
      "metadata": {
        "colab": {
          "base_uri": "https://localhost:8080/"
        },
        "id": "1ialRlm4QT-D",
        "outputId": "33c8a033-8b64-4489-b91e-f2cc9ae84b2e"
      },
      "outputs": [
        {
          "output_type": "stream",
          "name": "stdout",
          "text": [
            "<class 'pandas.core.frame.DataFrame'>\n",
            "RangeIndex: 52308 entries, 0 to 52307\n",
            "Data columns (total 32 columns):\n",
            " #   Column                           Non-Null Count  Dtype  \n",
            "---  ------                           --------------  -----  \n",
            " 0   hybride                          52308 non-null  int64  \n",
            " 1   puiss_max                        52308 non-null  float64\n",
            " 2   nox                              52308 non-null  float64\n",
            " 3   ptcl                             52308 non-null  float64\n",
            " 4   masse_ordma_min                  52308 non-null  int64  \n",
            " 5   masse_ordma_max                  52308 non-null  int64  \n",
            " 6   nb_rapp                          52308 non-null  int64  \n",
            " 7   etiquette                        52308 non-null  int64  \n",
            " 8   Carrosserie_BERLINE              52308 non-null  int64  \n",
            " 9   Carrosserie_BREAK                52308 non-null  int64  \n",
            " 10  Carrosserie_CABRIOLET            52308 non-null  int64  \n",
            " 11  Carrosserie_COMBISPACE           52308 non-null  int64  \n",
            " 12  Carrosserie_COMBISPCACE          52308 non-null  int64  \n",
            " 13  Carrosserie_COUPE                52308 non-null  int64  \n",
            " 14  Carrosserie_MINIBUS              52308 non-null  int64  \n",
            " 15  Carrosserie_MINISPACE            52308 non-null  int64  \n",
            " 16  Carrosserie_MONOSPACE            52308 non-null  int64  \n",
            " 17  Carrosserie_MONOSPACE COMPACT    52308 non-null  int64  \n",
            " 18  Carrosserie_TS TERRAINS/CHEMINS  52308 non-null  int64  \n",
            " 19  gamme_ECONOMIQUE                 52308 non-null  int64  \n",
            " 20  gamme_INFERIEURE                 52308 non-null  int64  \n",
            " 21  gamme_LUXE                       52308 non-null  int64  \n",
            " 22  gamme_MOY-INFER                  52308 non-null  int64  \n",
            " 23  gamme_MOY-SUPER                  52308 non-null  int64  \n",
            " 24  gamme_SUPERIEURE                 52308 non-null  int64  \n",
            " 25  carburant_Essence                52308 non-null  int64  \n",
            " 26  carburant_Essence/Elec           52308 non-null  int64  \n",
            " 27  carburant_Gasoil/Elec            52308 non-null  int64  \n",
            " 28  carburant_Gazoil                 52308 non-null  int64  \n",
            " 29  typ_boite_Auto                   52308 non-null  int64  \n",
            " 30  typ_boite_Manuelle               52308 non-null  int64  \n",
            " 31  typ_boite_Var_continue           52308 non-null  int64  \n",
            "dtypes: float64(3), int64(29)\n",
            "memory usage: 12.8 MB\n"
          ]
        }
      ],
      "source": [
        "from sklearn.model_selection import train_test_split\n",
        "\n",
        "X = df_encoded.drop(columns ='etiquette', axis = 1)\n",
        "y= df_encoded['etiquette']\n",
        "\n",
        "X_train, X_test, y_train, y_test = train_test_split(X, y, test_size=0.2, random_state=12)\n",
        "\n",
        "df_encoded.info()"
      ]
    },
    {
      "cell_type": "markdown",
      "metadata": {
        "id": "VbY3PTQhQT-D"
      },
      "source": [
        "Standardisation des données"
      ]
    },
    {
      "cell_type": "code",
      "execution_count": 10,
      "metadata": {
        "id": "nk1WEdEdQT-E"
      },
      "outputs": [],
      "source": [
        "from sklearn.preprocessing import StandardScaler\n",
        "scaler = StandardScaler()\n",
        "X_train_scaled = scaler.fit_transform(X_train)\n",
        "X_test_scaled = scaler.transform(X_test)"
      ]
    },
    {
      "cell_type": "markdown",
      "metadata": {
        "id": "mvIh5TAsQT-E"
      },
      "source": [
        "# Premiers modèles"
      ]
    },
    {
      "cell_type": "markdown",
      "metadata": {
        "id": "vGUFUfYZQT-E"
      },
      "source": [
        "Random Forest"
      ]
    },
    {
      "cell_type": "code",
      "execution_count": 11,
      "metadata": {
        "colab": {
          "base_uri": "https://localhost:8080/",
          "height": 857
        },
        "id": "ghY9Uro0QT-F",
        "outputId": "abfa0993-45c0-4162-9ee4-5939e146a316"
      },
      "outputs": [
        {
          "output_type": "stream",
          "name": "stdout",
          "text": [
            "score données train 0.8939922573244754\n",
            "score données test 0.8729688396100173\n",
            "              precision    recall  f1-score   support\n",
            "\n",
            "           0       0.86      0.81      0.83        31\n",
            "           1       0.83      0.88      0.86       249\n",
            "           2       0.87      0.80      0.83       427\n",
            "           3       0.79      0.77      0.78       324\n",
            "           4       0.80      0.87      0.83      3333\n",
            "           5       0.92      0.88      0.90      5968\n",
            "           6       1.00      0.93      0.96       130\n",
            "\n",
            "    accuracy                           0.87     10462\n",
            "   macro avg       0.87      0.85      0.86     10462\n",
            "weighted avg       0.88      0.87      0.87     10462\n",
            "\n"
          ]
        },
        {
          "output_type": "display_data",
          "data": {
            "text/plain": [
              "<Figure size 800x600 with 1 Axes>"
            ],
            "image/png": "[encoded data removed]"
          },
          "metadata": {}
        }
      ],
      "source": [
        "from sklearn.ensemble import RandomForestClassifier\n",
        "from sklearn.metrics import classification_report\n",
        "from sklearn.metrics import confusion_matrix\n",
        "import matplotlib.pyplot as plt\n",
        "import seaborn as sns\n",
        "\n",
        "\n",
        "# Modele\n",
        "model = RandomForestClassifier(n_estimators=300, random_state=42)\n",
        "model.fit(X_train_scaled, y_train)\n",
        "\n",
        "# Prediction\n",
        "y_pred = model.predict(X_test_scaled)\n",
        "\n",
        "\n",
        "# Résultats\n",
        "print('score données train', model.score(X_train_scaled, y_train))\n",
        "print('score données test', model.score(X_test_scaled, y_test))\n",
        "print(classification_report(y_test, y_pred))\n",
        "\n",
        "cnf_matrix = confusion_matrix(y_test, y_pred, normalize='true').round(2)\n",
        "\n",
        "plt.figure(figsize=(8, 6))\n",
        "plt.title(\"Matrice de confusion n = 300\")\n",
        "sns.heatmap(cnf_matrix, cmap='Blues', annot=True, cbar=False)\n",
        "plt.ylabel('Vrais labels')\n",
        "plt.xlabel('Labels prédits')\n",
        "plt.show()\n",
        "\n",
        "# Certaines classes sont sous représentées"
      ]
    },
    {
      "cell_type": "markdown",
      "metadata": {
        "id": "G0wqdYjxQT-F"
      },
      "source": [
        "grisearchCV"
      ]
    },
    {
      "cell_type": "code",
      "execution_count": null,
      "metadata": {
        "colab": {
          "base_uri": "https://localhost:8080/",
          "height": 226
        },
        "id": "jLEhwovUQT-G",
        "outputId": "f87dc4fb-9697-496f-8ce6-8ff7a2bc1e8c"
      },
      "outputs": [
        {
          "output_type": "execute_result",
          "data": {
            "text/plain": [
              "'\\nfrom sklearn.model_selection import GridSearchCV\\n\\nparams = {\\'n_estimators\\': [50, 100, 300, 200, 500], \\'max_depth\\': [50, 70, 100, 200, 300]}\\nmodel = RandomForestClassifier()\\ngrid_search = GridSearchCV(estimator=model, param_grid=params, cv=5, scoring=\\'accuracy\\', n_jobs= -1)\\n\\ngrid_search.fit(X_train_scaled, y_train)\\n\\nprint(grid_search.best_params_)\\n\\nbest_model = grid_search.best_estimator_\\ny_pred = best_model.predict(X_test_scaled)\\n\\n# Résultats\\nprint(\\'score données train\\', best_model.score(X_train_scaled, y_train))\\nprint(\\'score données test\\', best_model.score(X_test_scaled, y_test))\\nprint(classification_report(y_test, y_pred))\\n\\ncnf_matrix = confusion_matrix(y_test, y_pred, normalize=\\'true\\').round(2)\\n\\nplt.figure(figsize=(8, 6))\\nplt.title(\"Matrice de confusion n = 300\")\\nsns.heatmap(cnf_matrix, cmap=\\'Blues\\', annot=True, cbar=False)\\nplt.ylabel(\\'Vrais labels\\')\\nplt.xlabel(\\'Labels prédits\\')\\nplt.show()\\n\\nimportances = best_model.feature_importances_\\n\\nfeatures = X.columns  \\nimportance_df = pd.DataFrame({\\'Feature\\': features, \\'Importance\\': importances})\\n\\nimportance_df = importance_df.sort_values(by=\\'Importance\\', ascending=False)\\n\\n# Afficher les résultats\\nprint(importance_df)\\n'"
            ],
            "application/vnd.google.colaboratory.intrinsic+json": {
              "type": "string"
            }
          },
          "metadata": {},
          "execution_count": 18
        }
      ],
      "source": [
        "\"\"\"\n",
        "from sklearn.model_selection import GridSearchCV\n",
        "\n",
        "params = {'n_estimators': [50, 100, 300, 200, 500], 'max_depth': [50, 70, 100, 200, 300]}\n",
        "model = RandomForestClassifier()\n",
        "grid_search = GridSearchCV(estimator=model, param_grid=params, cv=5, scoring='accuracy', n_jobs= -1)\n",
        "\n",
        "grid_search.fit(X_train_scaled, y_train)\n",
        "\n",
        "print(grid_search.best_params_)\n",
        "\n",
        "best_model = grid_search.best_estimator_\n",
        "y_pred = best_model.predict(X_test_scaled)\n",
        "\n",
        "# Résultats\n",
        "print('score données train', best_model.score(X_train_scaled, y_train))\n",
        "print('score données test', best_model.score(X_test_scaled, y_test))\n",
        "print(classification_report(y_test, y_pred))\n",
        "\n",
        "cnf_matrix = confusion_matrix(y_test, y_pred, normalize='true').round(2)\n",
        "\n",
        "plt.figure(figsize=(8, 6))\n",
        "plt.title(\"Matrice de confusion n = 300\")\n",
        "sns.heatmap(cnf_matrix, cmap='Blues', annot=True, cbar=False)\n",
        "plt.ylabel('Vrais labels')\n",
        "plt.xlabel('Labels prédits')\n",
        "plt.show()\n",
        "\n",
        "importances = best_model.feature_importances_\n",
        "\n",
        "features = X.columns\n",
        "importance_df = pd.DataFrame({'Feature': features, 'Importance': importances})\n",
        "\n",
        "importance_df = importance_df.sort_values(by='Importance', ascending=False)\n",
        "\n",
        "# Afficher les résultats\n",
        "print(importance_df)\n",
        "\"\"\""
      ]
    },
    {
      "cell_type": "markdown",
      "metadata": {
        "id": "ikujBikGQT-G"
      },
      "source": [
        "meilleurs paramètres : max_depth = 50 et n_estimator = 500"
      ]
    },
    {
      "cell_type": "code",
      "execution_count": 12,
      "metadata": {
        "colab": {
          "base_uri": "https://localhost:8080/",
          "height": 857
        },
        "id": "DpcXkVyLQT-G",
        "outputId": "35ed03e2-b861-4b8d-aebd-e5b56e66db86"
      },
      "outputs": [
        {
          "output_type": "stream",
          "name": "stdout",
          "text": [
            "score données train 0.8939922573244754\n",
            "score données test 0.872108583444848\n",
            "              precision    recall  f1-score   support\n",
            "\n",
            "           0       0.89      0.77      0.83        31\n",
            "           1       0.83      0.86      0.85       249\n",
            "           2       0.85      0.81      0.83       427\n",
            "           3       0.79      0.77      0.78       324\n",
            "           4       0.80      0.86      0.83      3333\n",
            "           5       0.92      0.89      0.90      5968\n",
            "           6       1.00      0.93      0.96       130\n",
            "\n",
            "    accuracy                           0.87     10462\n",
            "   macro avg       0.87      0.84      0.85     10462\n",
            "weighted avg       0.87      0.87      0.87     10462\n",
            "\n"
          ]
        },
        {
          "output_type": "display_data",
          "data": {
            "text/plain": [
              "<Figure size 800x600 with 1 Axes>"
            ],
            "image/png": "[encoded data removed]"
          },
          "metadata": {}
        }
      ],
      "source": [
        "# Modele\n",
        "model = RandomForestClassifier(n_estimators=500, max_depth=50, random_state=42, n_jobs= -1)\n",
        "model.fit(X_train_scaled, y_train)\n",
        "\n",
        "# Prediction\n",
        "y_pred = model.predict(X_test_scaled)\n",
        "\n",
        "\n",
        "# Résultats\n",
        "print('score données train', model.score(X_train_scaled, y_train))\n",
        "print('score données test', model.score(X_test_scaled, y_test))\n",
        "print(classification_report(y_test, y_pred))\n",
        "\n",
        "cnf_matrix = confusion_matrix(y_test, y_pred, normalize='true').round(2)\n",
        "\n",
        "plt.figure(figsize=(8, 6))\n",
        "plt.title(\"Matrice de confusion best params\")\n",
        "sns.heatmap(cnf_matrix, cmap='Blues', annot=True, cbar=False)\n",
        "plt.ylabel('Vrais labels')\n",
        "plt.xlabel('Labels prédits')\n",
        "plt.show()"
      ]
    },
    {
      "cell_type": "markdown",
      "metadata": {
        "id": "E_yfVSp_QT-H"
      },
      "source": [
        "## Deep learning"
      ]
    },
    {
      "cell_type": "markdown",
      "source": [
        "MLPClassifier"
      ],
      "metadata": {
        "id": "-eyG9gOuOfSu"
      }
    },
    {
      "cell_type": "code",
      "execution_count": 13,
      "metadata": {
        "colab": {
          "base_uri": "https://localhost:8080/",
          "height": 857
        },
        "id": "9JBZ9At7QT-H",
        "outputId": "1c850526-3e49-4a0d-ed57-62a940e3d20b"
      },
      "outputs": [
        {
          "output_type": "stream",
          "name": "stdout",
          "text": [
            "score données train 0.6197247048702385\n",
            "score données test 0.6181418466832346\n",
            "              precision    recall  f1-score   support\n",
            "\n",
            "           0       0.30      0.55      0.39        31\n",
            "           1       0.40      0.59      0.47       249\n",
            "           2       0.31      0.69      0.43       427\n",
            "           3       0.10      0.02      0.03       324\n",
            "           4       0.54      0.91      0.67      3333\n",
            "           5       0.97      0.50      0.66      5968\n",
            "           6       0.03      0.06      0.04       130\n",
            "\n",
            "    accuracy                           0.62     10462\n",
            "   macro avg       0.38      0.47      0.38     10462\n",
            "weighted avg       0.75      0.62      0.62     10462\n",
            "\n"
          ]
        },
        {
          "output_type": "display_data",
          "data": {
            "text/plain": [
              "<Figure size 800x600 with 1 Axes>"
            ],
            "image/png": "[encoded data removed]"
          },
          "metadata": {}
        }
      ],
      "source": [
        "from sklearn.neural_network import MLPClassifier\n",
        "\n",
        "mlp = MLPClassifier(hidden_layer_sizes=(100,), max_iter=1000, random_state=42, alpha=0.001, solver='adam',early_stopping=True)\n",
        "mlp.fit(X_train, y_train)\n",
        "\n",
        "# Prédictions avec le modèle\n",
        "y_pred = mlp.predict(X_test_scaled)\n",
        "\n",
        "# Résultats\n",
        "print('score données train', mlp.score(X_train_scaled, y_train))\n",
        "print('score données test', mlp.score(X_test_scaled, y_test))\n",
        "print(classification_report(y_test, y_pred))\n",
        "\n",
        "cnf_matrix = confusion_matrix(y_test, y_pred, normalize='true').round(2)\n",
        "\n",
        "plt.figure(figsize=(8, 6))\n",
        "plt.title(\"Matrice de confusion MLP classifier\")\n",
        "sns.heatmap(cnf_matrix, cmap='Blues', annot=True, cbar=False)\n",
        "plt.ylabel('Vrais labels')\n",
        "plt.xlabel('Labels prédits')\n",
        "plt.show()"
      ]
    },
    {
      "cell_type": "markdown",
      "source": [
        "modèle sequentiel avec une couche cachée et le fonction d'activation relu"
      ],
      "metadata": {
        "id": "sqhUuGz3OixP"
      }
    },
    {
      "cell_type": "code",
      "execution_count": 24,
      "metadata": {
        "colab": {
          "base_uri": "https://localhost:8080/",
          "height": 1000
        },
        "id": "YOwaKFUkQT-I",
        "outputId": "f7b99f6c-b286-4289-cc9e-4c3fa6a1cd21"
      },
      "outputs": [
        {
          "output_type": "stream",
          "name": "stdout",
          "text": [
            "Epoch 1/20\n",
            "\u001b[1m262/262\u001b[0m \u001b[32m━━━━━━━━━━━━━━━━━━━━\u001b[0m\u001b[37m\u001b[0m \u001b[1m3s\u001b[0m 6ms/step - accuracy: 0.5855 - loss: 1.1274 - val_accuracy: 0.7520 - val_loss: 0.5226\n",
            "Epoch 2/20\n",
            "\u001b[1m262/262\u001b[0m \u001b[32m━━━━━━━━━━━━━━━━━━━━\u001b[0m\u001b[37m\u001b[0m \u001b[1m3s\u001b[0m 8ms/step - accuracy: 0.7597 - loss: 0.5065 - val_accuracy: 0.7711 - val_loss: 0.4780\n",
            "Epoch 3/20\n",
            "\u001b[1m262/262\u001b[0m \u001b[32m━━━━━━━━━━━━━━━━━━━━\u001b[0m\u001b[37m\u001b[0m \u001b[1m1s\u001b[0m 4ms/step - accuracy: 0.7721 - loss: 0.4702 - val_accuracy: 0.7792 - val_loss: 0.4621\n",
            "Epoch 4/20\n",
            "\u001b[1m262/262\u001b[0m \u001b[32m━━━━━━━━━━━━━━━━━━━━\u001b[0m\u001b[37m\u001b[0m \u001b[1m1s\u001b[0m 3ms/step - accuracy: 0.7763 - loss: 0.4534 - val_accuracy: 0.7760 - val_loss: 0.4524\n",
            "Epoch 5/20\n",
            "\u001b[1m262/262\u001b[0m \u001b[32m━━━━━━━━━━━━━━━━━━━━\u001b[0m\u001b[37m\u001b[0m \u001b[1m1s\u001b[0m 3ms/step - accuracy: 0.7809 - loss: 0.4412 - val_accuracy: 0.7846 - val_loss: 0.4455\n",
            "Epoch 6/20\n",
            "\u001b[1m262/262\u001b[0m \u001b[32m━━━━━━━━━━━━━━━━━━━━\u001b[0m\u001b[37m\u001b[0m \u001b[1m1s\u001b[0m 3ms/step - accuracy: 0.7848 - loss: 0.4324 - val_accuracy: 0.7828 - val_loss: 0.4370\n",
            "Epoch 7/20\n",
            "\u001b[1m262/262\u001b[0m \u001b[32m━━━━━━━━━━━━━━━━━━━━\u001b[0m\u001b[37m\u001b[0m \u001b[1m1s\u001b[0m 3ms/step - accuracy: 0.7856 - loss: 0.4259 - val_accuracy: 0.7772 - val_loss: 0.4338\n",
            "Epoch 8/20\n",
            "\u001b[1m262/262\u001b[0m \u001b[32m━━━━━━━━━━━━━━━━━━━━\u001b[0m\u001b[37m\u001b[0m \u001b[1m1s\u001b[0m 3ms/step - accuracy: 0.7922 - loss: 0.4164 - val_accuracy: 0.7805 - val_loss: 0.4295\n",
            "Epoch 9/20\n",
            "\u001b[1m262/262\u001b[0m \u001b[32m━━━━━━━━━━━━━━━━━━━━\u001b[0m\u001b[37m\u001b[0m \u001b[1m1s\u001b[0m 3ms/step - accuracy: 0.7865 - loss: 0.4166 - val_accuracy: 0.7890 - val_loss: 0.4251\n",
            "Epoch 10/20\n",
            "\u001b[1m262/262\u001b[0m \u001b[32m━━━━━━━━━━━━━━━━━━━━\u001b[0m\u001b[37m\u001b[0m \u001b[1m1s\u001b[0m 3ms/step - accuracy: 0.7907 - loss: 0.4108 - val_accuracy: 0.7889 - val_loss: 0.4225\n",
            "Epoch 11/20\n",
            "\u001b[1m262/262\u001b[0m \u001b[32m━━━━━━━━━━━━━━━━━━━━\u001b[0m\u001b[37m\u001b[0m \u001b[1m1s\u001b[0m 3ms/step - accuracy: 0.7913 - loss: 0.4056 - val_accuracy: 0.7903 - val_loss: 0.4188\n",
            "Epoch 12/20\n",
            "\u001b[1m262/262\u001b[0m \u001b[32m━━━━━━━━━━━━━━━━━━━━\u001b[0m\u001b[37m\u001b[0m \u001b[1m2s\u001b[0m 4ms/step - accuracy: 0.7930 - loss: 0.4072 - val_accuracy: 0.7881 - val_loss: 0.4192\n",
            "Epoch 13/20\n",
            "\u001b[1m262/262\u001b[0m \u001b[32m━━━━━━━━━━━━━━━━━━━━\u001b[0m\u001b[37m\u001b[0m \u001b[1m1s\u001b[0m 3ms/step - accuracy: 0.7911 - loss: 0.4040 - val_accuracy: 0.7897 - val_loss: 0.4170\n",
            "Epoch 14/20\n",
            "\u001b[1m262/262\u001b[0m \u001b[32m━━━━━━━━━━━━━━━━━━━━\u001b[0m\u001b[37m\u001b[0m \u001b[1m1s\u001b[0m 3ms/step - accuracy: 0.7954 - loss: 0.4019 - val_accuracy: 0.7910 - val_loss: 0.4134\n",
            "Epoch 15/20\n",
            "\u001b[1m262/262\u001b[0m \u001b[32m━━━━━━━━━━━━━━━━━━━━\u001b[0m\u001b[37m\u001b[0m \u001b[1m1s\u001b[0m 3ms/step - accuracy: 0.7961 - loss: 0.3992 - val_accuracy: 0.7908 - val_loss: 0.4130\n",
            "Epoch 16/20\n",
            "\u001b[1m262/262\u001b[0m \u001b[32m━━━━━━━━━━━━━━━━━━━━\u001b[0m\u001b[37m\u001b[0m \u001b[1m1s\u001b[0m 3ms/step - accuracy: 0.7945 - loss: 0.3992 - val_accuracy: 0.7916 - val_loss: 0.4123\n",
            "Epoch 17/20\n",
            "\u001b[1m262/262\u001b[0m \u001b[32m━━━━━━━━━━━━━━━━━━━━\u001b[0m\u001b[37m\u001b[0m \u001b[1m1s\u001b[0m 3ms/step - accuracy: 0.7930 - loss: 0.3995 - val_accuracy: 0.7883 - val_loss: 0.4127\n",
            "Epoch 18/20\n",
            "\u001b[1m262/262\u001b[0m \u001b[32m━━━━━━━━━━━━━━━━━━━━\u001b[0m\u001b[37m\u001b[0m \u001b[1m1s\u001b[0m 3ms/step - accuracy: 0.7987 - loss: 0.3925 - val_accuracy: 0.7894 - val_loss: 0.4084\n",
            "Epoch 19/20\n",
            "\u001b[1m262/262\u001b[0m \u001b[32m━━━━━━━━━━━━━━━━━━━━\u001b[0m\u001b[37m\u001b[0m \u001b[1m1s\u001b[0m 3ms/step - accuracy: 0.8006 - loss: 0.3914 - val_accuracy: 0.7882 - val_loss: 0.4074\n",
            "Epoch 20/20\n",
            "\u001b[1m262/262\u001b[0m \u001b[32m━━━━━━━━━━━━━━━━━━━━\u001b[0m\u001b[37m\u001b[0m \u001b[1m1s\u001b[0m 3ms/step - accuracy: 0.7995 - loss: 0.3922 - val_accuracy: 0.7912 - val_loss: 0.4063\n",
            "\u001b[1m327/327\u001b[0m \u001b[32m━━━━━━━━━━━━━━━━━━━━\u001b[0m\u001b[37m\u001b[0m \u001b[1m0s\u001b[0m 1ms/step\n",
            "\u001b[1m327/327\u001b[0m \u001b[32m━━━━━━━━━━━━━━━━━━━━\u001b[0m\u001b[37m\u001b[0m \u001b[1m1s\u001b[0m 2ms/step - accuracy: 0.7973 - loss: 0.3888\n",
            "              precision    recall  f1-score   support\n",
            "\n",
            "           0       0.52      0.55      0.53        31\n",
            "           1       0.72      0.69      0.71       249\n",
            "           2       0.72      0.78      0.75       427\n",
            "           3       0.69      0.65      0.67       324\n",
            "           4       0.83      0.57      0.67      3333\n",
            "           5       0.80      0.94      0.86      5968\n",
            "           6       0.99      0.82      0.89       130\n",
            "\n",
            "    accuracy                           0.80     10462\n",
            "   macro avg       0.75      0.71      0.73     10462\n",
            "weighted avg       0.80      0.80      0.79     10462\n",
            "\n"
          ]
        },
        {
          "output_type": "display_data",
          "data": {
            "text/plain": [
              "<Figure size 800x600 with 1 Axes>"
            ],
            "image/png": "[encoded data removed]"
          },
          "metadata": {}
        }
      ],
      "source": [
        "import tensorflow as tf\n",
        "from tensorflow.keras.models import Sequential\n",
        "from tensorflow.keras.layers import Dense\n",
        "\n",
        "from sklearn.preprocessing import StandardScaler\n",
        "import numpy as np\n",
        "\n",
        "# Normalisation des données\n",
        "scaler = StandardScaler()\n",
        "X_train_scaled = scaler.fit_transform(X_train)\n",
        "X_test_scaled = scaler.transform(X_test)\n",
        "\n",
        "# Création du modèle séquentiel\n",
        "model = Sequential()\n",
        "\n",
        "# Get the number of features from the training data\n",
        "num_features = X_train_scaled.shape[1]\n",
        "\n",
        "# Ajout des couches\n",
        "model.add(Dense(units=64, activation=\"relu\", input_shape=(num_features,)))\n",
        "model.add(Dense(units=7, activation=\"softmax\"))\n",
        "\n",
        "# Compilation\n",
        "model.compile(optimizer=\"adam\", loss=\"sparse_categorical_crossentropy\", metrics=[\"accuracy\"])\n",
        "\n",
        "\n",
        "# Entraînement\n",
        "model.fit(X_train_scaled, y_train,  # Données d'entraînement\n",
        "          epochs=20,                 # Nombre d'epochs\n",
        "          batch_size=128,            # Taille des batchs\n",
        "          validation_split=0.2)      # 20% des données utilisées pour la validation\n",
        "\n",
        "\n",
        "\n",
        "# Évaluation\n",
        "test_pred = model.predict(X_test_scaled)\n",
        "model.evaluate(X_test_scaled, y_test)\n",
        "\n",
        "test_pred_class = test_pred.argmax(axis=1)\n",
        "print(classification_report(y_test, test_pred_class))\n",
        "\n",
        "# Calculer la matrice de confusion\n",
        "\n",
        "cnf_matrix = confusion_matrix(y_test, test_pred_class, normalize='true').round(2)\n",
        "\n",
        "\n",
        "plt.figure(figsize=(8, 6))\n",
        "plt.title(\"Matrice de confusion modele sequentiel avec une couche cachée\")\n",
        "sns.heatmap(cnf_matrix, cmap='Blues', annot=True, cbar=False)\n",
        "plt.ylabel('Vrais labels')\n",
        "plt.xlabel('Labels prédits')\n",
        "plt.show()"
      ]
    },
    {
      "cell_type": "markdown",
      "source": [
        "modèle sequentiel avec plusieurs couches cachées et la fonction d'activation relu"
      ],
      "metadata": {
        "id": "uhUYUtTeOq6z"
      }
    },
    {
      "cell_type": "code",
      "source": [
        "import tensorflow as tf\n",
        "from tensorflow.keras.models import Sequential\n",
        "from tensorflow.keras.layers import Dense\n",
        "\n",
        "from sklearn.preprocessing import StandardScaler\n",
        "import numpy as np\n",
        "\n",
        "# Normalisation des données\n",
        "scaler = StandardScaler()\n",
        "X_train_scaled = scaler.fit_transform(X_train)\n",
        "X_test_scaled = scaler.transform(X_test)\n",
        "\n",
        "# Création du modèle séquentiel\n",
        "model = Sequential()\n",
        "\n",
        "# Get the number of features from the training data\n",
        "num_features = X_train_scaled.shape[1]\n",
        "\n",
        "# Ajout des couches\n",
        "model.add(Dense(units=256, activation=\"relu\", input_shape=(num_features,)))\n",
        "model.add(Dense(units=128, activation=\"relu\"))\n",
        "model.add(Dense(units=64, activation=\"relu\"))\n",
        "model.add(Dense(units=32, activation=\"relu\"))\n",
        "\n",
        "model.add(Dense(units=10, activation=\"softmax\"))  # Couche de sortie\n",
        "\n",
        "# Compilation\n",
        "model.compile(optimizer=\"adam\", loss=\"sparse_categorical_crossentropy\", metrics=[\"accuracy\"])\n",
        "\n",
        "\n",
        "# Entraînement\n",
        "model.fit(X_train_scaled, y_train,  # Données d'entraînement\n",
        "          epochs=20,                 # Nombre d'epochs\n",
        "          batch_size=128,            # Taille des batchs\n",
        "          validation_split=0.2)      # 20% des données utilisées pour la validation\n",
        "\n",
        "\n",
        "\n",
        "# Évaluation\n",
        "test_pred = model.predict(X_test_scaled)\n",
        "model.evaluate(X_test_scaled, y_test)\n",
        "\n",
        "test_pred_class = test_pred.argmax(axis=1)\n",
        "print(classification_report(y_test, test_pred_class))\n",
        "\n",
        "# Calculer la matrice de confusion\n",
        "\n",
        "cnf_matrix = confusion_matrix(y_test, test_pred_class, normalize='true').round(2)\n",
        "\n",
        "\n",
        "plt.figure(figsize=(8, 6))\n",
        "plt.title(\"Matrice de confusion modele sequentiel avec plusieurs couches cachées\")\n",
        "sns.heatmap(cnf_matrix, cmap='Blues', annot=True, cbar=False)\n",
        "plt.ylabel('Vrais labels')\n",
        "plt.xlabel('Labels prédits')\n",
        "plt.show()"
      ],
      "metadata": {
        "colab": {
          "base_uri": "https://localhost:8080/",
          "height": 1000
        },
        "id": "IMoO9msjLSof",
        "outputId": "2860f17e-19d1-4ddf-ad97-f9dce17c62c2"
      },
      "execution_count": 30,
      "outputs": [
        {
          "output_type": "stream",
          "name": "stdout",
          "text": [
            "Epoch 1/20\n",
            "\u001b[1m262/262\u001b[0m \u001b[32m━━━━━━━━━━━━━━━━━━━━\u001b[0m\u001b[37m\u001b[0m \u001b[1m8s\u001b[0m 11ms/step - accuracy: 0.7103 - loss: 0.8405 - val_accuracy: 0.7675 - val_loss: 0.4564\n",
            "Epoch 2/20\n",
            "\u001b[1m262/262\u001b[0m \u001b[32m━━━━━━━━━━━━━━━━━━━━\u001b[0m\u001b[37m\u001b[0m \u001b[1m3s\u001b[0m 5ms/step - accuracy: 0.7801 - loss: 0.4352 - val_accuracy: 0.7766 - val_loss: 0.4324\n",
            "Epoch 3/20\n",
            "\u001b[1m262/262\u001b[0m \u001b[32m━━━━━━━━━━━━━━━━━━━━\u001b[0m\u001b[37m\u001b[0m \u001b[1m1s\u001b[0m 5ms/step - accuracy: 0.7862 - loss: 0.4175 - val_accuracy: 0.7710 - val_loss: 0.4170\n",
            "Epoch 4/20\n",
            "\u001b[1m262/262\u001b[0m \u001b[32m━━━━━━━━━━━━━━━━━━━━\u001b[0m\u001b[37m\u001b[0m \u001b[1m1s\u001b[0m 5ms/step - accuracy: 0.7952 - loss: 0.3987 - val_accuracy: 0.7904 - val_loss: 0.4035\n",
            "Epoch 5/20\n",
            "\u001b[1m262/262\u001b[0m \u001b[32m━━━━━━━━━━━━━━━━━━━━\u001b[0m\u001b[37m\u001b[0m \u001b[1m1s\u001b[0m 5ms/step - accuracy: 0.7972 - loss: 0.3914 - val_accuracy: 0.7957 - val_loss: 0.3940\n",
            "Epoch 6/20\n",
            "\u001b[1m262/262\u001b[0m \u001b[32m━━━━━━━━━━━━━━━━━━━━\u001b[0m\u001b[37m\u001b[0m \u001b[1m2s\u001b[0m 6ms/step - accuracy: 0.7981 - loss: 0.3836 - val_accuracy: 0.7889 - val_loss: 0.3875\n",
            "Epoch 7/20\n",
            "\u001b[1m262/262\u001b[0m \u001b[32m━━━━━━━━━━━━━━━━━━━━\u001b[0m\u001b[37m\u001b[0m \u001b[1m1s\u001b[0m 5ms/step - accuracy: 0.8044 - loss: 0.3743 - val_accuracy: 0.7926 - val_loss: 0.3861\n",
            "Epoch 8/20\n",
            "\u001b[1m262/262\u001b[0m \u001b[32m━━━━━━━━━━━━━━━━━━━━\u001b[0m\u001b[37m\u001b[0m \u001b[1m5s\u001b[0m 13ms/step - accuracy: 0.8088 - loss: 0.3599 - val_accuracy: 0.8005 - val_loss: 0.3726\n",
            "Epoch 9/20\n",
            "\u001b[1m262/262\u001b[0m \u001b[32m━━━━━━━━━━━━━━━━━━━━\u001b[0m\u001b[37m\u001b[0m \u001b[1m3s\u001b[0m 9ms/step - accuracy: 0.8090 - loss: 0.3569 - val_accuracy: 0.8006 - val_loss: 0.3655\n",
            "Epoch 10/20\n",
            "\u001b[1m262/262\u001b[0m \u001b[32m━━━━━━━━━━━━━━━━━━━━\u001b[0m\u001b[37m\u001b[0m \u001b[1m2s\u001b[0m 7ms/step - accuracy: 0.8214 - loss: 0.3440 - val_accuracy: 0.8010 - val_loss: 0.3755\n",
            "Epoch 11/20\n",
            "\u001b[1m262/262\u001b[0m \u001b[32m━━━━━━━━━━━━━━━━━━━━\u001b[0m\u001b[37m\u001b[0m \u001b[1m3s\u001b[0m 8ms/step - accuracy: 0.8246 - loss: 0.3397 - val_accuracy: 0.8431 - val_loss: 0.3299\n",
            "Epoch 12/20\n",
            "\u001b[1m262/262\u001b[0m \u001b[32m━━━━━━━━━━━━━━━━━━━━\u001b[0m\u001b[37m\u001b[0m \u001b[1m2s\u001b[0m 8ms/step - accuracy: 0.8458 - loss: 0.3171 - val_accuracy: 0.8466 - val_loss: 0.3188\n",
            "Epoch 13/20\n",
            "\u001b[1m262/262\u001b[0m \u001b[32m━━━━━━━━━━━━━━━━━━━━\u001b[0m\u001b[37m\u001b[0m \u001b[1m4s\u001b[0m 15ms/step - accuracy: 0.8479 - loss: 0.3092 - val_accuracy: 0.8393 - val_loss: 0.3237\n",
            "Epoch 14/20\n",
            "\u001b[1m262/262\u001b[0m \u001b[32m━━━━━━━━━━━━━━━━━━━━\u001b[0m\u001b[37m\u001b[0m \u001b[1m2s\u001b[0m 8ms/step - accuracy: 0.8557 - loss: 0.2966 - val_accuracy: 0.8428 - val_loss: 0.3020\n",
            "Epoch 15/20\n",
            "\u001b[1m262/262\u001b[0m \u001b[32m━━━━━━━━━━━━━━━━━━━━\u001b[0m\u001b[37m\u001b[0m \u001b[1m3s\u001b[0m 8ms/step - accuracy: 0.8584 - loss: 0.2879 - val_accuracy: 0.8484 - val_loss: 0.2956\n",
            "Epoch 16/20\n",
            "\u001b[1m262/262\u001b[0m \u001b[32m━━━━━━━━━━━━━━━━━━━━\u001b[0m\u001b[37m\u001b[0m \u001b[1m2s\u001b[0m 5ms/step - accuracy: 0.8615 - loss: 0.2811 - val_accuracy: 0.8486 - val_loss: 0.2888\n",
            "Epoch 17/20\n",
            "\u001b[1m262/262\u001b[0m \u001b[32m━━━━━━━━━━━━━━━━━━━━\u001b[0m\u001b[37m\u001b[0m \u001b[1m2s\u001b[0m 4ms/step - accuracy: 0.8632 - loss: 0.2725 - val_accuracy: 0.8642 - val_loss: 0.2885\n",
            "Epoch 18/20\n",
            "\u001b[1m262/262\u001b[0m \u001b[32m━━━━━━━━━━━━━━━━━━━━\u001b[0m\u001b[37m\u001b[0m \u001b[1m1s\u001b[0m 5ms/step - accuracy: 0.8608 - loss: 0.2752 - val_accuracy: 0.8522 - val_loss: 0.2939\n",
            "Epoch 19/20\n",
            "\u001b[1m262/262\u001b[0m \u001b[32m━━━━━━━━━━━━━━━━━━━━\u001b[0m\u001b[37m\u001b[0m \u001b[1m2s\u001b[0m 8ms/step - accuracy: 0.8654 - loss: 0.2752 - val_accuracy: 0.8656 - val_loss: 0.2753\n",
            "Epoch 20/20\n",
            "\u001b[1m262/262\u001b[0m \u001b[32m━━━━━━━━━━━━━━━━━━━━\u001b[0m\u001b[37m\u001b[0m \u001b[1m1s\u001b[0m 5ms/step - accuracy: 0.8611 - loss: 0.2747 - val_accuracy: 0.8565 - val_loss: 0.2804\n",
            "\u001b[1m327/327\u001b[0m \u001b[32m━━━━━━━━━━━━━━━━━━━━\u001b[0m\u001b[37m\u001b[0m \u001b[1m1s\u001b[0m 1ms/step\n",
            "\u001b[1m327/327\u001b[0m \u001b[32m━━━━━━━━━━━━━━━━━━━━\u001b[0m\u001b[37m\u001b[0m \u001b[1m1s\u001b[0m 2ms/step - accuracy: 0.8568 - loss: 0.2703\n",
            "              precision    recall  f1-score   support\n",
            "\n",
            "           0       0.53      0.74      0.62        31\n",
            "           1       0.83      0.59      0.69       249\n",
            "           2       0.73      0.83      0.78       427\n",
            "           3       0.73      0.68      0.70       324\n",
            "           4       0.82      0.80      0.81      3333\n",
            "           5       0.89      0.91      0.90      5968\n",
            "           6       1.00      0.89      0.94       130\n",
            "\n",
            "    accuracy                           0.86     10462\n",
            "   macro avg       0.79      0.78      0.78     10462\n",
            "weighted avg       0.86      0.86      0.85     10462\n",
            "\n"
          ]
        },
        {
          "output_type": "display_data",
          "data": {
            "text/plain": [
              "<Figure size 800x600 with 1 Axes>"
            ],
            "image/png": "[encoded data removed]"
          },
          "metadata": {}
        }
      ]
    },
    {
      "cell_type": "markdown",
      "source": [
        "modèle sequentiel avec plusieurs couches cachées et la fonction d'activation leakyrelu"
      ],
      "metadata": {
        "id": "djAGTow6O3I9"
      }
    },
    {
      "cell_type": "code",
      "execution_count": 31,
      "metadata": {
        "colab": {
          "base_uri": "https://localhost:8080/",
          "height": 1000
        },
        "id": "jW1gD7vvQT-I",
        "outputId": "0fdd7f81-dab0-4f4e-d1af-fd7622fc29cc"
      },
      "outputs": [
        {
          "output_type": "stream",
          "name": "stdout",
          "text": [
            "Epoch 1/20\n",
            "\u001b[1m262/262\u001b[0m \u001b[32m━━━━━━━━━━━━━━━━━━━━\u001b[0m\u001b[37m\u001b[0m \u001b[1m3s\u001b[0m 6ms/step - accuracy: 0.6873 - loss: 0.8368 - val_accuracy: 0.7820 - val_loss: 0.4477\n",
            "Epoch 2/20\n",
            "\u001b[1m262/262\u001b[0m \u001b[32m━━━━━━━━━━━━━━━━━━━━\u001b[0m\u001b[37m\u001b[0m \u001b[1m2s\u001b[0m 5ms/step - accuracy: 0.7783 - loss: 0.4392 - val_accuracy: 0.7822 - val_loss: 0.4241\n",
            "Epoch 3/20\n",
            "\u001b[1m262/262\u001b[0m \u001b[32m━━━━━━━━━━━━━━━━━━━━\u001b[0m\u001b[37m\u001b[0m \u001b[1m3s\u001b[0m 5ms/step - accuracy: 0.7866 - loss: 0.4119 - val_accuracy: 0.7907 - val_loss: 0.4107\n",
            "Epoch 4/20\n",
            "\u001b[1m262/262\u001b[0m \u001b[32m━━━━━━━━━━━━━━━━━━━━\u001b[0m\u001b[37m\u001b[0m \u001b[1m2s\u001b[0m 8ms/step - accuracy: 0.7972 - loss: 0.3986 - val_accuracy: 0.7904 - val_loss: 0.4005\n",
            "Epoch 5/20\n",
            "\u001b[1m262/262\u001b[0m \u001b[32m━━━━━━━━━━━━━━━━━━━━\u001b[0m\u001b[37m\u001b[0m \u001b[1m2s\u001b[0m 5ms/step - accuracy: 0.7956 - loss: 0.3907 - val_accuracy: 0.7910 - val_loss: 0.4091\n",
            "Epoch 6/20\n",
            "\u001b[1m262/262\u001b[0m \u001b[32m━━━━━━━━━━━━━━━━━━━━\u001b[0m\u001b[37m\u001b[0m \u001b[1m1s\u001b[0m 5ms/step - accuracy: 0.7974 - loss: 0.3867 - val_accuracy: 0.7961 - val_loss: 0.3911\n",
            "Epoch 7/20\n",
            "\u001b[1m262/262\u001b[0m \u001b[32m━━━━━━━━━━━━━━━━━━━━\u001b[0m\u001b[37m\u001b[0m \u001b[1m3s\u001b[0m 5ms/step - accuracy: 0.8035 - loss: 0.3762 - val_accuracy: 0.7971 - val_loss: 0.3800\n",
            "Epoch 8/20\n",
            "\u001b[1m262/262\u001b[0m \u001b[32m━━━━━━━━━━━━━━━━━━━━\u001b[0m\u001b[37m\u001b[0m \u001b[1m3s\u001b[0m 5ms/step - accuracy: 0.8049 - loss: 0.3709 - val_accuracy: 0.8007 - val_loss: 0.3836\n",
            "Epoch 9/20\n",
            "\u001b[1m262/262\u001b[0m \u001b[32m━━━━━━━━━━━━━━━━━━━━\u001b[0m\u001b[37m\u001b[0m \u001b[1m3s\u001b[0m 6ms/step - accuracy: 0.8102 - loss: 0.3590 - val_accuracy: 0.8085 - val_loss: 0.3651\n",
            "Epoch 10/20\n",
            "\u001b[1m262/262\u001b[0m \u001b[32m━━━━━━━━━━━━━━━━━━━━\u001b[0m\u001b[37m\u001b[0m \u001b[1m2s\u001b[0m 5ms/step - accuracy: 0.8112 - loss: 0.3576 - val_accuracy: 0.8047 - val_loss: 0.3590\n",
            "Epoch 11/20\n",
            "\u001b[1m262/262\u001b[0m \u001b[32m━━━━━━━━━━━━━━━━━━━━\u001b[0m\u001b[37m\u001b[0m \u001b[1m1s\u001b[0m 5ms/step - accuracy: 0.8125 - loss: 0.3438 - val_accuracy: 0.8047 - val_loss: 0.3545\n",
            "Epoch 12/20\n",
            "\u001b[1m262/262\u001b[0m \u001b[32m━━━━━━━━━━━━━━━━━━━━\u001b[0m\u001b[37m\u001b[0m \u001b[1m1s\u001b[0m 5ms/step - accuracy: 0.8150 - loss: 0.3416 - val_accuracy: 0.8076 - val_loss: 0.3483\n",
            "Epoch 13/20\n",
            "\u001b[1m262/262\u001b[0m \u001b[32m━━━━━━━━━━━━━━━━━━━━\u001b[0m\u001b[37m\u001b[0m \u001b[1m1s\u001b[0m 5ms/step - accuracy: 0.8266 - loss: 0.3267 - val_accuracy: 0.8225 - val_loss: 0.3399\n",
            "Epoch 14/20\n",
            "\u001b[1m262/262\u001b[0m \u001b[32m━━━━━━━━━━━━━━━━━━━━\u001b[0m\u001b[37m\u001b[0m \u001b[1m3s\u001b[0m 5ms/step - accuracy: 0.8410 - loss: 0.3180 - val_accuracy: 0.8413 - val_loss: 0.3450\n",
            "Epoch 15/20\n",
            "\u001b[1m262/262\u001b[0m \u001b[32m━━━━━━━━━━━━━━━━━━━━\u001b[0m\u001b[37m\u001b[0m \u001b[1m3s\u001b[0m 6ms/step - accuracy: 0.8441 - loss: 0.3126 - val_accuracy: 0.8483 - val_loss: 0.3085\n",
            "Epoch 16/20\n",
            "\u001b[1m262/262\u001b[0m \u001b[32m━━━━━━━━━━━━━━━━━━━━\u001b[0m\u001b[37m\u001b[0m \u001b[1m2s\u001b[0m 5ms/step - accuracy: 0.8580 - loss: 0.2934 - val_accuracy: 0.8468 - val_loss: 0.2993\n",
            "Epoch 17/20\n",
            "\u001b[1m262/262\u001b[0m \u001b[32m━━━━━━━━━━━━━━━━━━━━\u001b[0m\u001b[37m\u001b[0m \u001b[1m2s\u001b[0m 6ms/step - accuracy: 0.8611 - loss: 0.2871 - val_accuracy: 0.8513 - val_loss: 0.2930\n",
            "Epoch 18/20\n",
            "\u001b[1m262/262\u001b[0m \u001b[32m━━━━━━━━━━━━━━━━━━━━\u001b[0m\u001b[37m\u001b[0m \u001b[1m1s\u001b[0m 4ms/step - accuracy: 0.8629 - loss: 0.2762 - val_accuracy: 0.8477 - val_loss: 0.3054\n",
            "Epoch 19/20\n",
            "\u001b[1m262/262\u001b[0m \u001b[32m━━━━━━━━━━━━━━━━━━━━\u001b[0m\u001b[37m\u001b[0m \u001b[1m1s\u001b[0m 5ms/step - accuracy: 0.8648 - loss: 0.2745 - val_accuracy: 0.8560 - val_loss: 0.2818\n",
            "Epoch 20/20\n",
            "\u001b[1m262/262\u001b[0m \u001b[32m━━━━━━━━━━━━━━━━━━━━\u001b[0m\u001b[37m\u001b[0m \u001b[1m1s\u001b[0m 5ms/step - accuracy: 0.8616 - loss: 0.2703 - val_accuracy: 0.8670 - val_loss: 0.2816\n",
            "\u001b[1m327/327\u001b[0m \u001b[32m━━━━━━━━━━━━━━━━━━━━\u001b[0m\u001b[37m\u001b[0m \u001b[1m1s\u001b[0m 1ms/step\n",
            "\u001b[1m327/327\u001b[0m \u001b[32m━━━━━━━━━━━━━━━━━━━━\u001b[0m\u001b[37m\u001b[0m \u001b[1m1s\u001b[0m 2ms/step - accuracy: 0.8675 - loss: 0.2715\n",
            "              precision    recall  f1-score   support\n",
            "\n",
            "           0       0.52      0.35      0.42        31\n",
            "           1       0.72      0.82      0.77       249\n",
            "           2       0.76      0.77      0.76       427\n",
            "           3       0.78      0.60      0.68       324\n",
            "           4       0.79      0.88      0.83      3333\n",
            "           5       0.93      0.88      0.90      5968\n",
            "           6       1.00      0.89      0.94       130\n",
            "\n",
            "    accuracy                           0.86     10462\n",
            "   macro avg       0.79      0.74      0.76     10462\n",
            "weighted avg       0.87      0.86      0.86     10462\n",
            "\n"
          ]
        },
        {
          "output_type": "display_data",
          "data": {
            "text/plain": [
              "<Figure size 800x600 with 1 Axes>"
            ],
            "image/png": "[encoded data removed]"
          },
          "metadata": {}
        }
      ],
      "source": [
        "import tensorflow as tf\n",
        "from tensorflow.keras.models import Sequential\n",
        "from tensorflow.keras.layers import Dense\n",
        "\n",
        "from sklearn.preprocessing import StandardScaler\n",
        "from tensorflow.keras.layers import LeakyReLU\n",
        "import numpy as np\n",
        "\n",
        "# Normalisation des données\n",
        "scaler = StandardScaler()\n",
        "X_train_scaled = scaler.fit_transform(X_train)\n",
        "X_test_scaled = scaler.transform(X_test)\n",
        "\n",
        "# Création du modèle séquentiel\n",
        "model = Sequential()\n",
        "\n",
        "# Get the number of features from the training data\n",
        "num_features = X_train_scaled.shape[1]\n",
        "\n",
        "# Ajout des couches\n",
        "\n",
        "model = Sequential()\n",
        "model.add(Dense(256, input_shape=(num_features,)))\n",
        "model.add(LeakyReLU(alpha=0.01))\n",
        "model.add(Dense(128))\n",
        "model.add(LeakyReLU(alpha=0.01))\n",
        "model.add(Dense(64))\n",
        "model.add(LeakyReLU(alpha=0.01))\n",
        "\n",
        "\n",
        "model.add(Dense(units=10, activation=\"softmax\"))  # Couche de sortie\n",
        "\n",
        "# Compilation\n",
        "model.compile(optimizer=\"adam\", loss=\"sparse_categorical_crossentropy\", metrics=[\"accuracy\"])\n",
        "\n",
        "\n",
        "# Entraînement\n",
        "model.fit(X_train_scaled, y_train,  # Données d'entraînement\n",
        "          epochs=20,                 # Nombre d'epochs\n",
        "          batch_size=128,            # Taille des batchs\n",
        "          validation_split=0.2)      # 20% des données utilisées pour la validation\n",
        "\n",
        "\n",
        "\n",
        "# Évaluation\n",
        "test_pred = model.predict(X_test_scaled)\n",
        "model.evaluate(X_test_scaled, y_test)\n",
        "\n",
        "test_pred_class = test_pred.argmax(axis=1)\n",
        "print(classification_report(y_test, test_pred_class))\n",
        "\n",
        "# Calculer la matrice de confusion\n",
        "\n",
        "cnf_matrix = confusion_matrix(y_test, test_pred_class, normalize='true').round(2)\n",
        "\n",
        "\n",
        "plt.figure(figsize=(8, 6))\n",
        "plt.title(\"Matrice de confusion modele sequentiel avec plusieurs couches cachées et fonction leakyrelu\")\n",
        "sns.heatmap(cnf_matrix, cmap='Blues', annot=True, cbar=False)\n",
        "plt.ylabel('Vrais labels')\n",
        "plt.xlabel('Labels prédits')\n",
        "plt.show()"
      ]
    },
    {
      "cell_type": "markdown",
      "metadata": {
        "id": "CBIUPstiQT-J"
      },
      "source": [
        "On testera plus le meme modele avec les 5 variables qui ont le plus d'importance"
      ]
    },
    {
      "cell_type": "markdown",
      "metadata": {
        "id": "Vghc6QhLQT-J"
      },
      "source": [
        "Random forest avec l'argument class_weight='balanced'"
      ]
    },
    {
      "cell_type": "code",
      "execution_count": null,
      "metadata": {
        "id": "1HUD9OWhQT-J"
      },
      "outputs": [],
      "source": [
        "# Modele avec l'argument class_weight='balanced'\n",
        "model = RandomForestClassifier(n_estimators=300, random_state=42, class_weight='balanced')\n",
        "model.fit(X_train_scaled, y_train)\n",
        "\n",
        "# Prediction\n",
        "y_pred = model.predict(X_test_scaled)\n",
        "\n",
        "# Résultats\n",
        "print('score données train', model.score(X_train_scaled, y_train))\n",
        "print('score données test', model.score(X_test_scaled, y_test))\n",
        "print(classification_report(y_test, y_pred))\n",
        "\n",
        "cnf_matrix = confusion_matrix(y_test, y_pred, normalize='true').round(2)\n",
        "\n",
        "plt.figure(figsize=(8, 6))\n",
        "plt.title(\"Matrice de confusion n= 300, class_wieght balanced\")\n",
        "sns.heatmap(cnf_matrix, cmap='Blues', annot=True, cbar=False)\n",
        "plt.ylabel('Vrais labels')\n",
        "plt.xlabel('Labels prédits')\n",
        "plt.show()"
      ]
    },
    {
      "cell_type": "markdown",
      "metadata": {
        "id": "_1dgrCWjQT-K"
      },
      "source": [
        "Random forest avec plus de branches : 500"
      ]
    },
    {
      "cell_type": "code",
      "execution_count": null,
      "metadata": {
        "id": "rkonsZ3CQT-K"
      },
      "outputs": [],
      "source": [
        "model = RandomForestClassifier(n_estimators=500, random_state=42)\n",
        "model.fit(X_train_scaled, y_train)\n",
        "\n",
        "# Prediction\n",
        "y_pred = model.predict(X_test_scaled)\n",
        "\n",
        "\n",
        "# Résultats\n",
        "print('score données train', model.score(X_train_scaled, y_train))\n",
        "print('score données test', model.score(X_test_scaled, y_test))\n",
        "print(classification_report(y_test, y_pred))\n",
        "\n",
        "cnf_matrix = confusion_matrix(y_test, y_pred, normalize='true').round(2)\n",
        "\n",
        "plt.figure(figsize=(8, 6))\n",
        "plt.title(\"Matrice de confusion, n= 500\")\n",
        "sns.heatmap(cnf_matrix, cmap='Blues', annot=True, cbar=False)\n",
        "plt.ylabel('Vrais labels')\n",
        "plt.xlabel('Labels prédits')\n",
        "plt.show()"
      ]
    },
    {
      "cell_type": "markdown",
      "metadata": {
        "id": "GqXk6-77QT-K"
      },
      "source": [
        "Reechantillonage SMOTE"
      ]
    },
    {
      "cell_type": "code",
      "execution_count": null,
      "metadata": {
        "id": "Q6Z6oURPQT-L"
      },
      "outputs": [],
      "source": [
        "from imblearn.over_sampling import SMOTE\n",
        "\n",
        "smote = SMOTE()\n",
        "\n",
        "X_train_smote, y_train_smote = smote.fit_resample(X_train_scaled, y_train)\n",
        "\n",
        "\n",
        "model = RandomForestClassifier(n_estimators=300, random_state=42)\n",
        "model.fit(X_train_smote, y_train_smote)\n",
        "\n",
        "# Prediction\n",
        "y_pred = model.predict(X_test_scaled)\n",
        "\n",
        "# Résultats\n",
        "print('score données train', model.score(X_train_smote, y_train_smote))\n",
        "print('score données test', model.score(X_test_scaled, y_test))\n",
        "print(classification_report(y_test, y_pred))\n",
        "\n",
        "cnf_matrix = confusion_matrix(y_test, y_pred, normalize='true').round(2)\n",
        "\n",
        "plt.figure(figsize=(8, 6))\n",
        "plt.title(\"Matrice de confusion, n =300 + smote\")\n",
        "sns.heatmap(cnf_matrix, cmap='Blues', annot=True, cbar=False)\n",
        "plt.ylabel('Vrais labels')\n",
        "plt.xlabel('Labels prédits')\n",
        "plt.show()"
      ]
    },
    {
      "cell_type": "markdown",
      "metadata": {
        "id": "K6UqxSbcQT-L"
      },
      "source": [
        "# Deep learning"
      ]
    },
    {
      "cell_type": "code",
      "execution_count": null,
      "metadata": {
        "id": "yej6E2lBQT-L"
      },
      "outputs": [],
      "source": [
        "from sklearn.neural_network import MLPClassifier\n",
        "\n",
        "mlp = MLPClassifier(hidden_layer_sizes=(100,), max_iter=1000, random_state=42, alpha=0.001, solver='adam',early_stopping=True)\n",
        "mlp.fit(X_train, y_train)\n",
        "\n",
        "# Prédictions avec le modèle\n",
        "y_pred = mlp.predict(X_test)\n",
        "\n",
        "# Résultats\n",
        "print('score données train', mlp.score(X_train_smote, y_train_smote))\n",
        "print('score données test', mlp.score(X_test_scaled, y_test))\n",
        "print(classification_report(y_test, y_pred))\n",
        "\n",
        "cnf_matrix = confusion_matrix(y_test, y_pred, normalize='true').round(2)\n",
        "\n",
        "plt.figure(figsize=(8, 6))\n",
        "plt.title(\"Matrice de confusion MLP classifier\")\n",
        "sns.heatmap(cnf_matrix, cmap='Blues', annot=True, cbar=False)\n",
        "plt.ylabel('Vrais labels')\n",
        "plt.xlabel('Labels prédits')\n",
        "plt.show()"
      ]
    },
    {
      "cell_type": "markdown",
      "metadata": {
        "id": "oTM8vGdOQT-M"
      },
      "source": [
        "Reechantillonage undersampling"
      ]
    },
    {
      "cell_type": "code",
      "execution_count": null,
      "metadata": {
        "id": "vyNTVAMhQT-M"
      },
      "outputs": [],
      "source": [
        "from imblearn.under_sampling import RandomUnderSampler\n",
        "\n",
        "undersampler = RandomUnderSampler(sampling_strategy='auto', random_state=42)\n",
        "X_train_resampled, y_train_resampled = undersampler.fit_resample(X_train_scaled, y_train)\n",
        "\n",
        "\n",
        "model = RandomForestClassifier(n_estimators=300, random_state=42)\n",
        "model.fit(X_train_resampled, y_train_resampled)\n",
        "\n",
        "# Prediction\n",
        "y_pred = model.predict(X_test_scaled)\n",
        "\n",
        "\n",
        "# Résultats\n",
        "print('score données train', model.score(X_train_resampled, y_train_resampled))\n",
        "print('score données test', model.score(X_test_scaled, y_test))\n",
        "print(classification_report(y_test, y_pred))\n",
        "\n",
        "cnf_matrix = confusion_matrix(y_test, y_pred, normalize='true').round(2)\n",
        "\n",
        "plt.figure(figsize=(8, 6))\n",
        "plt.title(\"Matrice de confusion = 300, undersampling\")\n",
        "sns.heatmap(cnf_matrix, cmap='Blues', annot=True, cbar=False)\n",
        "plt.ylabel('Vrais labels')\n",
        "plt.xlabel('Labels prédits')\n",
        "plt.show()\n",
        "\n",
        "# Moins précis que le modele avec les données non rééchantillonées"
      ]
    },
    {
      "cell_type": "code",
      "execution_count": null,
      "metadata": {
        "id": "f9J8MN95QT-M"
      },
      "outputs": [],
      "source": [
        "model = RandomForestClassifier(n_estimators=500, max_depth= 50, n_jobs=-1, random_state=42)\n",
        "model.fit(X_train_resampled, y_train_resampled)\n",
        "\n",
        "# Prediction\n",
        "y_pred = model.predict(X_test_scaled)\n",
        "\n",
        "\n",
        "# Résultats\n",
        "print('score données train', model.score(X_train_resampled, y_train_resampled))\n",
        "print('score données test', model.score(X_test_scaled, y_test))\n",
        "print(classification_report(y_test, y_pred))\n",
        "\n",
        "cnf_matrix = confusion_matrix(y_test, y_pred, normalize='true').round(2)\n",
        "\n",
        "plt.figure(figsize=(8, 6))\n",
        "plt.title(\"Matrice de confusion = 300, undersampling\")\n",
        "sns.heatmap(cnf_matrix, cmap='Blues', annot=True, cbar=False)\n",
        "plt.ylabel('Vrais labels')\n",
        "plt.xlabel('Labels prédits')\n",
        "plt.show()"
      ]
    },
    {
      "cell_type": "markdown",
      "metadata": {
        "id": "TUvaH22BQT-M"
      },
      "source": [
        "Modele XGBoost"
      ]
    },
    {
      "cell_type": "code",
      "execution_count": null,
      "metadata": {
        "id": "unQqNQ47QT-N"
      },
      "outputs": [],
      "source": [
        "from xgboost import XGBClassifier\n",
        "\n",
        "model = XGBClassifier(eval_metric=\"merror\", use_label_encoder=False)\n",
        "\n",
        "model.fit(X_train_smote, y_train_smote)\n",
        "\n",
        "# Prediction\n",
        "y_pred = model.predict(X_test_scaled)\n",
        "\n",
        "# Résultats\n",
        "print('score données train', model.score(X_train_smote, y_train_smote))\n",
        "print('score données test', model.score(X_test_scaled, y_test))\n",
        "print(classification_report(y_test, y_pred))\n",
        "\n",
        "cnf_matrix = confusion_matrix(y_test, y_pred, normalize='true').round(2)\n",
        "\n",
        "plt.figure(figsize=(8, 6))\n",
        "plt.title(\"Matrice de confusion Xgbclassifier\")\n",
        "sns.heatmap(cnf_matrix, cmap='Blues', annot=True, cbar=False)\n",
        "plt.ylabel('Vrais labels')\n",
        "plt.xlabel('Labels prédits')\n",
        "plt.show()"
      ]
    },
    {
      "cell_type": "markdown",
      "metadata": {
        "id": "4NV18q7wQT-W"
      },
      "source": [
        "# Selecion de variables"
      ]
    },
    {
      "cell_type": "markdown",
      "metadata": {
        "id": "2NXwilG4QT-W"
      },
      "source": [
        "On teste le premier modèle avec les variables qui ont le plus d'importance"
      ]
    },
    {
      "cell_type": "code",
      "execution_count": null,
      "metadata": {
        "id": "AnLc6B53QT-X"
      },
      "outputs": [],
      "source": [
        "df=pd.read_csv(\"Donnees_propres.csv\")\n",
        "\n",
        "X = df[['nox', 'masse_ordma_min', 'masse_ordma_max', 'nb_rapp', 'puiss_max']]"
      ]
    },
    {
      "cell_type": "code",
      "execution_count": null,
      "metadata": {
        "id": "YWop9DpFQT-X"
      },
      "outputs": [],
      "source": [
        "# Variable cible etiquette\n",
        "# On créé un dictionnaire qui contient les changements souhaités\n",
        "grade = {'A': 0, 'B': 1, 'C': 2, 'D': 3, 'E': 4, 'F': 5, 'G': 6}\n",
        "\n",
        "# On remplace les notes alphabétiques par les notes numériques correspondantes\n",
        "y= df['etiquette']\n",
        "y = y.replace(grade)\n",
        "display('etiquette', y.unique())"
      ]
    },
    {
      "cell_type": "code",
      "execution_count": null,
      "metadata": {
        "id": "cF9oRiqqQT-X"
      },
      "outputs": [],
      "source": [
        "\n",
        "X_train, X_test, y_train, y_test = train_test_split(X, y, test_size=0.2, random_state=12)\n",
        "\n",
        "scaler = StandardScaler()\n",
        "X_train_scaled = scaler.fit_transform(X_train)\n",
        "X_test_scaled = scaler.transform(X_test)"
      ]
    },
    {
      "cell_type": "code",
      "execution_count": null,
      "metadata": {
        "id": "mdsW9NPSQT-Y"
      },
      "outputs": [],
      "source": [
        "# Modele\n",
        "model = RandomForestClassifier(n_estimators=300, random_state=42)\n",
        "model.fit(X_train_scaled, y_train)\n",
        "\n",
        "# Prediction\n",
        "y_pred = model.predict(X_test_scaled)\n",
        "\n",
        "# Résultats\n",
        "print('score données train', model.score(X_train_scaled, y_train))\n",
        "print('score données test', model.score(X_test_scaled, y_test))\n",
        "print(classification_report(y_test, y_pred))\n",
        "\n",
        "cnf_matrix = confusion_matrix(y_test, y_pred, normalize='true').round(2)\n",
        "\n",
        "plt.figure(figsize=(8, 6))\n",
        "plt.title(\"Matrice de confusion données avec plus grand importance\")\n",
        "sns.heatmap(cnf_matrix, cmap='Blues', annot=True, cbar=False)\n",
        "plt.ylabel('Vrais labels')\n",
        "plt.xlabel('Labels prédits')\n",
        "plt.show()"
      ]
    },
    {
      "cell_type": "markdown",
      "metadata": {
        "id": "sTDnbzJnQT-Y"
      },
      "source": [
        "Selection des données purement caracteristiques de la voiture"
      ]
    },
    {
      "cell_type": "code",
      "execution_count": null,
      "metadata": {
        "id": "xSZzp5aqQT-Y"
      },
      "outputs": [],
      "source": [
        "df=pd.read_csv(\"Donnees_propres.csv\")\n",
        "df_caract = df[['carburant','hybride','masse_ordma_min','masse_ordma_max',\n",
        "                \"puiss_max\",'Carrosserie','typ_boite','nb_rapp', 'gamme']]\n"
      ]
    },
    {
      "cell_type": "code",
      "execution_count": null,
      "metadata": {
        "id": "b-Mrj-k2QT-Y"
      },
      "outputs": [],
      "source": [
        "# On remplace les notes alphabétiques par les notes numériques correspondantes\n",
        "df_caract['hybride'] = df_caract['hybride'].replace({'oui':1, 'non': 0})\n",
        "\n",
        "df_encoded = pd.get_dummies(df_caract, dtype='int')"
      ]
    },
    {
      "cell_type": "code",
      "execution_count": null,
      "metadata": {
        "id": "_5yXVGSpQT-Z"
      },
      "outputs": [],
      "source": [
        "\n",
        "X_train, X_test, y_train, y_test = train_test_split(df_encoded, y, test_size=0.2, random_state=12)\n",
        "\n",
        "scaler = StandardScaler()\n",
        "X_train_scaled = scaler.fit_transform(X_train)\n",
        "X_test_scaled = scaler.transform(X_test)"
      ]
    },
    {
      "cell_type": "code",
      "execution_count": null,
      "metadata": {
        "id": "x65DMAFsQT-Z"
      },
      "outputs": [],
      "source": [
        "# Modele\n",
        "model = RandomForestClassifier(n_estimators=300, random_state=42)\n",
        "model.fit(X_train_scaled, y_train)\n",
        "\n",
        "# Prediction\n",
        "y_pred = model.predict(X_test_scaled)\n",
        "\n",
        "# Résultats\n",
        "print('score données train', model.score(X_train_scaled, y_train))\n",
        "print('score données test', model.score(X_test_scaled, y_test))\n",
        "print(classification_report(y_test, y_pred))\n",
        "\n",
        "cnf_matrix = confusion_matrix(y_test, y_pred, normalize='true').round(2)\n",
        "\n",
        "plt.figure(figsize=(8, 6))\n",
        "plt.title(\"Matrice de confusion données caractéristiques uniquement\")\n",
        "sns.heatmap(cnf_matrix, cmap='Blues', annot=True, cbar=False)\n",
        "plt.ylabel('Vrais labels')\n",
        "plt.xlabel('Labels prédits')\n",
        "plt.show()"
      ]
    },
    {
      "cell_type": "code",
      "execution_count": null,
      "metadata": {
        "id": "vlaMrDDnQT-Z"
      },
      "outputs": [],
      "source": [
        "importances = model.feature_importances_\n",
        "\n",
        "features = X_train.columns\n",
        "importance_df = pd.DataFrame({'Feature': features, 'Importance': importances})\n",
        "\n",
        "importance_df = importance_df.sort_values(by='Importance', ascending=False)\n",
        "\n",
        "# Afficher les résultats\n",
        "print(importance_df)"
      ]
    },
    {
      "cell_type": "markdown",
      "metadata": {
        "id": "5A08S3ptQT-Z"
      },
      "source": [
        "Avec les 5 caractéristiques les plus importantes"
      ]
    },
    {
      "cell_type": "code",
      "execution_count": null,
      "metadata": {
        "id": "kwZndMClQT-Z"
      },
      "outputs": [],
      "source": [
        "df_caract = df[['masse_ordma_min','masse_ordma_max',\"puiss_max\",'typ_boite','nb_rapp']]\n",
        "\n",
        "df_encoded = pd.get_dummies(df_caract, dtype='int')\n",
        "\n",
        "X_train, X_test, y_train, y_test = train_test_split(df_encoded, y, test_size=0.2, random_state=12)\n",
        "\n",
        "scaler = StandardScaler()\n",
        "X_train_scaled = scaler.fit_transform(X_train)\n",
        "X_test_scaled = scaler.transform(X_test)"
      ]
    },
    {
      "cell_type": "code",
      "execution_count": null,
      "metadata": {
        "id": "TJ0yPgCaQT-a"
      },
      "outputs": [],
      "source": [
        "# Modele\n",
        "model = RandomForestClassifier(n_estimators=300, random_state=42)\n",
        "model.fit(X_train_scaled, y_train)\n",
        "\n",
        "# Prediction\n",
        "y_pred = model.predict(X_test_scaled)\n",
        "\n",
        "# Résultats\n",
        "print('score données train', model.score(X_train_scaled, y_train))\n",
        "print('score données test', model.score(X_test_scaled, y_test))\n",
        "print(classification_report(y_test, y_pred))\n",
        "\n",
        "cnf_matrix = confusion_matrix(y_test, y_pred, normalize='true').round(2)\n",
        "\n",
        "plt.figure(figsize=(8, 6))\n",
        "plt.title(\"Matrice de confusion données caractéristiques les plus importantes\")\n",
        "sns.heatmap(cnf_matrix, cmap='Blues', annot=True, cbar=False)\n",
        "plt.ylabel('Vrais labels')\n",
        "plt.xlabel('Labels prédits')\n",
        "plt.show()"
      ]
    },
    {
      "cell_type": "code",
      "execution_count": null,
      "metadata": {
        "id": "Hp936W4-QT-a"
      },
      "outputs": [],
      "source": [
        "\n"
      ]
    }
  ],
  "metadata": {
    "kernelspec": {
      "display_name": "Python 3",
      "language": "python",
      "name": "python3"
    },
    "language_info": {
      "codemirror_mode": {
        "name": "ipython",
        "version": 3
      },
      "file_extension": ".py",
      "mimetype": "text/x-python",
      "name": "python",
      "nbconvert_exporter": "python",
      "pygments_lexer": "ipython3",
      "version": "3.13.2"
    },
    "colab": {
      "provenance": []
    }
  },
  "nbformat": 4,
  "nbformat_minor": 0
}