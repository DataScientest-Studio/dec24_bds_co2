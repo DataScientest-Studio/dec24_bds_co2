{
 "cells": [
  {
   "cell_type": "markdown",
   "metadata": {},
   "source": [
    "# Exploration des données"
   ]
  },
  {
   "cell_type": "markdown",
   "metadata": {},
   "source": [
    "Importation des bibliothèques"
   ]
  },
  {
   "cell_type": "code",
   "execution_count": 2,
   "metadata": {},
   "outputs": [],
   "source": [
    "import numpy as np\n",
    "import pandas as pd\n",
    "import seaborn as sns\n",
    "import matplotlib.pyplot as plt\n",
    "\n",
    "from tqdm.notebook import *\n",
    "\n",
    "import warnings\n",
    "warnings.filterwarnings(\"ignore\")\n",
    "%matplotlib inline"
   ]
  },
  {
   "cell_type": "markdown",
   "metadata": {},
   "source": [
    "Importation des données"
   ]
  },
  {
   "cell_type": "code",
   "execution_count": 3,
   "metadata": {},
   "outputs": [],
   "source": [
    "df2=pd.read_csv(\"data.csv\",encoding='ISO-8859-1', sep = ',')\n",
    "df=pd.read_csv(\"mars-2014-complete.csv\",encoding='ISO-8859-1', sep = ';')"
   ]
  },
  {
   "cell_type": "code",
   "execution_count": 5,
   "metadata": {},
   "outputs": [
    {
     "data": {
      "text/html": [
       "<div>\n",
       "<style scoped>\n",
       "    .dataframe tbody tr th:only-of-type {\n",
       "        vertical-align: middle;\n",
       "    }\n",
       "\n",
       "    .dataframe tbody tr th {\n",
       "        vertical-align: top;\n",
       "    }\n",
       "\n",
       "    .dataframe thead th {\n",
       "        text-align: right;\n",
       "    }\n",
       "</style>\n",
       "<table border=\"1\" class=\"dataframe\">\n",
       "  <thead>\n",
       "    <tr style=\"text-align: right;\">\n",
       "      <th></th>\n",
       "      <th>ï»¿ID</th>\n",
       "      <th>Country</th>\n",
       "      <th>VFN</th>\n",
       "      <th>Mp</th>\n",
       "      <th>Mh</th>\n",
       "      <th>Man</th>\n",
       "      <th>MMS</th>\n",
       "      <th>Tan</th>\n",
       "      <th>T</th>\n",
       "      <th>Va</th>\n",
       "      <th>...</th>\n",
       "      <th>Erwltp (g/km)</th>\n",
       "      <th>De</th>\n",
       "      <th>Vf</th>\n",
       "      <th>Status</th>\n",
       "      <th>year</th>\n",
       "      <th>Date of registration</th>\n",
       "      <th>Fuel consumption</th>\n",
       "      <th>ech</th>\n",
       "      <th>RLFI</th>\n",
       "      <th>Electric range (km)</th>\n",
       "    </tr>\n",
       "  </thead>\n",
       "  <tbody>\n",
       "    <tr>\n",
       "      <th>0</th>\n",
       "      <td>280060</td>\n",
       "      <td>HU</td>\n",
       "      <td>NaN</td>\n",
       "      <td>GENERAL MOTORS</td>\n",
       "      <td>OPEL</td>\n",
       "      <td>ADAM OPEL AG</td>\n",
       "      <td>Opel</td>\n",
       "      <td>e1*2007/46*0374*14</td>\n",
       "      <td>0G-A</td>\n",
       "      <td>CAHBC12</td>\n",
       "      <td>...</td>\n",
       "      <td>NaN</td>\n",
       "      <td>NaN</td>\n",
       "      <td>NaN</td>\n",
       "      <td>F</td>\n",
       "      <td>2014</td>\n",
       "      <td>NaN</td>\n",
       "      <td>NaN</td>\n",
       "      <td>NaN</td>\n",
       "      <td>NaN</td>\n",
       "      <td>NaN</td>\n",
       "    </tr>\n",
       "    <tr>\n",
       "      <th>1</th>\n",
       "      <td>280061</td>\n",
       "      <td>HU</td>\n",
       "      <td>NaN</td>\n",
       "      <td>GENERAL MOTORS</td>\n",
       "      <td>OPEL</td>\n",
       "      <td>ADAM OPEL AG</td>\n",
       "      <td>Opel</td>\n",
       "      <td>e1*2007/46*0374*14</td>\n",
       "      <td>0G-A</td>\n",
       "      <td>CAHBC12</td>\n",
       "      <td>...</td>\n",
       "      <td>NaN</td>\n",
       "      <td>NaN</td>\n",
       "      <td>NaN</td>\n",
       "      <td>F</td>\n",
       "      <td>2014</td>\n",
       "      <td>NaN</td>\n",
       "      <td>NaN</td>\n",
       "      <td>NaN</td>\n",
       "      <td>NaN</td>\n",
       "      <td>NaN</td>\n",
       "    </tr>\n",
       "    <tr>\n",
       "      <th>2</th>\n",
       "      <td>280062</td>\n",
       "      <td>HU</td>\n",
       "      <td>NaN</td>\n",
       "      <td>GENERAL MOTORS</td>\n",
       "      <td>OPEL</td>\n",
       "      <td>ADAM OPEL AG</td>\n",
       "      <td>Opel</td>\n",
       "      <td>e1*2007/46*0374*14</td>\n",
       "      <td>0G-A</td>\n",
       "      <td>CAHBC12</td>\n",
       "      <td>...</td>\n",
       "      <td>NaN</td>\n",
       "      <td>NaN</td>\n",
       "      <td>NaN</td>\n",
       "      <td>F</td>\n",
       "      <td>2014</td>\n",
       "      <td>NaN</td>\n",
       "      <td>NaN</td>\n",
       "      <td>NaN</td>\n",
       "      <td>NaN</td>\n",
       "      <td>NaN</td>\n",
       "    </tr>\n",
       "    <tr>\n",
       "      <th>3</th>\n",
       "      <td>280063</td>\n",
       "      <td>HU</td>\n",
       "      <td>NaN</td>\n",
       "      <td>GENERAL MOTORS</td>\n",
       "      <td>OPEL</td>\n",
       "      <td>ADAM OPEL AG</td>\n",
       "      <td>Opel</td>\n",
       "      <td>e1*2007/46*0374*14</td>\n",
       "      <td>0G-A</td>\n",
       "      <td>CAHBC12</td>\n",
       "      <td>...</td>\n",
       "      <td>NaN</td>\n",
       "      <td>NaN</td>\n",
       "      <td>NaN</td>\n",
       "      <td>F</td>\n",
       "      <td>2014</td>\n",
       "      <td>NaN</td>\n",
       "      <td>NaN</td>\n",
       "      <td>NaN</td>\n",
       "      <td>NaN</td>\n",
       "      <td>NaN</td>\n",
       "    </tr>\n",
       "    <tr>\n",
       "      <th>4</th>\n",
       "      <td>280064</td>\n",
       "      <td>HU</td>\n",
       "      <td>NaN</td>\n",
       "      <td>GENERAL MOTORS</td>\n",
       "      <td>OPEL</td>\n",
       "      <td>ADAM OPEL AG</td>\n",
       "      <td>Opel</td>\n",
       "      <td>E1*2007/46*0374*14</td>\n",
       "      <td>0G-A</td>\n",
       "      <td>CAHBC12</td>\n",
       "      <td>...</td>\n",
       "      <td>NaN</td>\n",
       "      <td>NaN</td>\n",
       "      <td>NaN</td>\n",
       "      <td>F</td>\n",
       "      <td>2014</td>\n",
       "      <td>NaN</td>\n",
       "      <td>NaN</td>\n",
       "      <td>NaN</td>\n",
       "      <td>NaN</td>\n",
       "      <td>NaN</td>\n",
       "    </tr>\n",
       "  </tbody>\n",
       "</table>\n",
       "<p>5 rows × 40 columns</p>\n",
       "</div>"
      ],
      "text/plain": [
       "    ï»¿ID Country  VFN              Mp    Mh           Man   MMS  \\\n",
       "0  280060      HU  NaN  GENERAL MOTORS  OPEL  ADAM OPEL AG  Opel   \n",
       "1  280061      HU  NaN  GENERAL MOTORS  OPEL  ADAM OPEL AG  Opel   \n",
       "2  280062      HU  NaN  GENERAL MOTORS  OPEL  ADAM OPEL AG  Opel   \n",
       "3  280063      HU  NaN  GENERAL MOTORS  OPEL  ADAM OPEL AG  Opel   \n",
       "4  280064      HU  NaN  GENERAL MOTORS  OPEL  ADAM OPEL AG  Opel   \n",
       "\n",
       "                  Tan     T       Va  ... Erwltp (g/km)  De  Vf Status  year  \\\n",
       "0  e1*2007/46*0374*14  0G-A  CAHBC12  ...           NaN NaN NaN      F  2014   \n",
       "1  e1*2007/46*0374*14  0G-A  CAHBC12  ...           NaN NaN NaN      F  2014   \n",
       "2  e1*2007/46*0374*14  0G-A  CAHBC12  ...           NaN NaN NaN      F  2014   \n",
       "3  e1*2007/46*0374*14  0G-A  CAHBC12  ...           NaN NaN NaN      F  2014   \n",
       "4  E1*2007/46*0374*14  0G-A  CAHBC12  ...           NaN NaN NaN      F  2014   \n",
       "\n",
       "   Date of registration  Fuel consumption   ech  RLFI  Electric range (km)  \n",
       "0                   NaN                NaN  NaN   NaN                  NaN  \n",
       "1                   NaN                NaN  NaN   NaN                  NaN  \n",
       "2                   NaN                NaN  NaN   NaN                  NaN  \n",
       "3                   NaN                NaN  NaN   NaN                  NaN  \n",
       "4                   NaN                NaN  NaN   NaN                  NaN  \n",
       "\n",
       "[5 rows x 40 columns]"
      ]
     },
     "execution_count": 5,
     "metadata": {},
     "output_type": "execute_result"
    }
   ],
   "source": [
    "df2.head()"
   ]
  },
  {
   "cell_type": "markdown",
   "metadata": {},
   "source": [
    "Infos sur le dataframe"
   ]
  },
  {
   "cell_type": "code",
   "execution_count": 6,
   "metadata": {},
   "outputs": [
    {
     "data": {
      "text/plain": [
       "'Marque des voitures df2'"
      ]
     },
     "metadata": {},
     "output_type": "display_data"
    },
    {
     "data": {
      "text/plain": [
       "array(['Opel', 'Porsche', 'Audi', 'RENAULT', 'ROLLS-ROYCE', 'Seat',\n",
       "       'Skoda', 'Ssangyong', 'Suzuki', 'Tesla', 'Lexus', 'Toyota', 'Crd',\n",
       "       'Ford-CNG-Technik', 'Volkswagen', 'OPEL', 'HONDA', 'HYUNDAI',\n",
       "       'LAND ROVER', 'KIA', 'SUZUKI', 'FIAT', 'MAZDA', 'MITSUBISHI',\n",
       "       'NISSAN', 'PORSCHE', 'SEAT', 'SKODA', 'TOYOTA', 'VOLKSWAGEN',\n",
       "       'VOLVO', 'ABARTH', 'LANCIA', 'FORD', 'SECMA', 'SSANGYONG', 'TESLA',\n",
       "       'LEXUS', 'Citroen', 'Peugeot', 'Lada', 'Bentley', 'BMW', 'BMW I',\n",
       "       'MINI', 'Fiat', 'Jeep', 'Lancia', 'Dacia', 'Mercedes-Benz',\n",
       "       'MERCEDES-BENZ', 'SMART', 'ALFA ROMEO', 'FIESTA', 'SUBARU',\n",
       "       'FUJI HEAVY INDUSTRIES', 'CHEVROLET,GMC,BUICK,PONTIAC',\n",
       "       'CHEVROLET,GMC,HOLDEN', '706/2007', 'CHEVROLET,DAEWOO,HOLD',\n",
       "       'CHEVROLET', 'CHEVROLEÃ\\x8eÂ¤', 'CHEVROLET,BUICK,PONTIAC',\n",
       "       'JAGUAR (JAGUAR CARS L', 'JAGUAR LAND ROVER LIM',\n",
       "       'JAGUAR LAND ROVERLIMI', 'JAGUAR LAND ROVER', 'KIA MOTORS',\n",
       "       'Ã\\x8eÅ¡IA', 'MAGYAR SUZUKI',\n",
       "       'Ã\\x8eÅ\\x93Ã\\x8eâ\\x80\\x98RUTI SUZUKI', 'MASERATI', 'MERCEDES-AMG',\n",
       "       'MITSUBISHI YEN', '2ISSAN', 'OPEL, VAUXHALL', 'OPEL VAUXHALL',\n",
       "       'VAUXHALL', '0000, VAUXHALL', '0PEL, VAUXHALL', 'AUDI',\n",
       "       'SKODA AUTO S.A.', 'SUZUKI EUR', '05YOTA', 'VOLKSWAGEN,VW',\n",
       "       'VOLKSWAGEN, VW', 'VOLKSWAGEN AG', '1OLKSWAGEN', '2OLKSWAGEN,VW',\n",
       "       'WOLKSWAGEN,VW', '3OLVO', 'CITROEN', 'PEUGEOT', 'LADA', 'JEEP',\n",
       "       'DACIA', 'MERCEDES', 'VOLKSWAGEN  COMM', 'ASTON MARTIN', 'AUDI AG',\n",
       "       'BENTLEY', 'BMWMINI', 'DACIA AUTOMOBILE SA', '0ERCEDES-BENZ', nan,\n",
       "       'TESLA MOTORS', 'ALPINA', 'MERCEDES BENZ', 'MERCEDES AMG',\n",
       "       'DONKERVOORT', 'FERRARI', 'FISKER', 'FORD-CNG-TECHNIK', 'MCLAREN',\n",
       "       'MIA', 'MORGAN', 'CRD CAR RESEARCH & DEVELOPMENT GMBH & CO KG',\n",
       "       'INFINITI', 'CATERHAM', 'LAMBORGHINI', 'MAHINDRA', 'TATA',\n",
       "       'BLUECAR', 'PGO', 'QUATTRO', 'IVECO-FORD', 'GENERAL MOTORS',\n",
       "       'BUGATTI', 'BYD', 'CHRYSLER', 'LAVERDA', 'JAGUAR', 'X-BOW',\n",
       "       'BENYE', 'LOTUS', 'MG', 'NOBLE', 'PERODUA', 'PROTON', 'Renault',\n",
       "       'ROLLS ROYCE', 'SAAB', 'DODGE', 'PORSCHE 2600000', 'RANGE ROVER',\n",
       "       'MAZDA 6', 'THINK', 'JAGUAR LAND ROVER LIMITED', 'KIA MOTOR',\n",
       "       'KTM', 'AUTOMOBILI LAMBORGHINI', 'MAHINDRA LTD.', 'FORD (USA)',\n",
       "       'CADILLAC', 'Chevrolet', 'DFSK', 'Honda', 'Hyundai',\n",
       "       'HYUNDAI MOTOR (ROK)', 'HYUNDAI MOTOR (KOR)', 'HYUNDAI MOTOR (CZ)',\n",
       "       'Hyundai Motor (CZ)', 'HYUNDAI MOTOR (IND)', 'Jaguar',\n",
       "       'Land Rover', 'HYUNDAI MOTOR (SK)', 'Lamborghini', 'Mazda',\n",
       "       'Mercedes-AMG', 'MITSUBISHI (J)', 'MITSUBISHI (NL)',\n",
       "       'MITSUBISHI (THA)', 'FORD - CNG - TECHNIK', 'smart', 'SsangYong',\n",
       "       'GOLDSCHMITT', 'VW', 'FORD (D)', 'JAGUAR LAND ROVER LTD', 'Smart',\n",
       "       'Ferrari', 'Alfa Romeo', 'Ford', 'Subaru',\n",
       "       'Jaguar Land Rover Limited', 'Maserati', 'Mitsubishi', 'Nissan',\n",
       "       'SCANIA', 'RFMOTO', 'DR MOTOR COMPANY', 'FIAT - INNOCENTI',\n",
       "       'LANCIA - AUTOBIANCHI', 'IVECO - FIAT', 'GREAT WALL', 'ISUZU',\n",
       "       'MORGAN MOTOR', 'OPEN', 'DAIHATSU', 'MANITOWE', 'PIAGGIO', 'Volvo',\n",
       "       'BENTLEY MOTORS Ltd', 'OMCI', 'MICRO-VETT', 'TAZZARI', 'IAV',\n",
       "       'WIESMANN', 'BIERMANN', 'PEUGOT', 'VOLKSWAGEN,  VW',\n",
       "       'VOLKSWAGEN - VW', 'BMW ALPINA', 'DANGEL', 'VOLKSWAGEN ,VW',\n",
       "       'VOLKSWAGEN VW', 'RADICAL SPORTSCARS', 'ASTONMARTIN',\n",
       "       'JAGUAR CARS LIMITED', 'LANDWIND', 'LADA AUTOMOBILE GMBH',\n",
       "       'CRD CAR RESEARCH GMBH', 'SEIKEL', 'HAIDLMAIR', 'OTHER BRITISH',\n",
       "       'BURSTNER', 'ZERO', 'ASTON-MARTIN', 'QOROS', 'VAZ', 'NILSSON', ' ',\n",
       "       'PORCHE', 'CATERHAM CARS LTD', 'SSANG YONG', 'MAYBACH',\n",
       "       'DONKERVOORT(JD)', 'VEICOLI', 'BINZ', 'BUICK', 'BAVARIA', 'AA-NSS',\n",
       "       'PIRSO', 'Vauxhall', 'LADA - VAZ'], dtype=object)"
      ]
     },
     "metadata": {},
     "output_type": "display_data"
    },
    {
     "data": {
      "text/plain": [
       "'Marque des voitures df2'"
      ]
     },
     "metadata": {},
     "output_type": "display_data"
    },
    {
     "data": {
      "text/plain": [
       "array(['OPEL', 'PORSCHE', 'QUATTRO', 'RENAULT', 'ROLLS ROYCE', 'SEAT',\n",
       "       'SKODA', 'SSANGYONG', 'SUZUKI MOTOR CORPORATION', 'TESLA',\n",
       "       'TOYOTA', 'UNKNOWN', 'CNG TECHNIK', 'VOLKSWAGEN',\n",
       "       'GTF INNOVATIONS', 'HONDA MOTOR CO', 'HONDA UK', 'HYUNDAI',\n",
       "       'HYUNDAI ASSAN', 'HYUNDAI CZECH', 'JAGUAR LAND ROVER LIMITED',\n",
       "       'KIA', 'KIA SLOVAKIA', 'MAGYAR SUZUKI', 'MAZDA',\n",
       "       'MITSUBISHI MOTORS CORPORATION', 'MITSUBISHI MOTORS THAILAND',\n",
       "       'NISSAN', 'VOLVO', 'FIAT GROUP', 'FORD WERKE GMBH', 'OUT OF SCOPE',\n",
       "       'SECMA', 'AUDI AG', 'AUTOMOBILES CITROEN', 'AUTOMOBILES PEUGEOT',\n",
       "       'AVTOVAZ', 'BENTLEY', 'BMW AG', 'BMW GMBH', 'CHRYSLER', 'DACIA',\n",
       "       'DAIMLER AG', 'FUJI HEAVY INDUSTRIES', 'GM KOREA', 'HONDA CHINA',\n",
       "       'HYUNDAI INDIA', 'MARUTI SUZUKI', 'MASERATI',\n",
       "       'MITSUBISHI MOTORS EUROPE', 'SUZUKI THAILAND', 'ASTON MARTIN',\n",
       "       'ALPINA', 'MERCEDES AMG', 'DONKERVOORT', 'FERRARI', 'FISKER',\n",
       "       'MCLAREN', 'MIA', 'MORGAN', 'CATERHAM', 'LAMBORGHINI', 'MAHINDRA',\n",
       "       'TATA', 'BLUECAR', 'BLUECAR ITALY', 'PGO',\n",
       "       'GENERAL MOTORS COMPANY', 'BUGATTI', 'BYD', 'KTM', 'LOTUS',\n",
       "       'MG MOTOR', 'NOBLE', 'PERODUA', 'PROTON', 'AA-IVA', 'AA-NSS',\n",
       "       'AUDI HUNGARIA', 'CHEVROLET ITALIA', 'HONDA TURKIYE', 'LADA',\n",
       "       'LADA FRANCE', 'RENAULT TRUCKS', 'TAZZARI', 'DR MOTOR',\n",
       "       'GREAT WALL MOTOR', 'ISUZU', 'PAGANI', 'PIAGGIO', 'NEVS',\n",
       "       'MICRO VETT', 'WIESMANN', 'RADICAL MOTOSPORT', 'SPYKER', 'IVECO',\n",
       "       'JIANGLING MOTOR', 'KOENIGSEGG', 'DONGFENG', 'FORD INDIA',\n",
       "       'FORD MOTOR COMPANY', 'QOROS', 'ARTEGA'], dtype=object)"
      ]
     },
     "metadata": {},
     "output_type": "display_data"
    },
    {
     "data": {
      "text/plain": [
       "'Marque des voitures df'"
      ]
     },
     "metadata": {},
     "output_type": "display_data"
    },
    {
     "data": {
      "text/plain": [
       "array(['ALFA-ROMEO', 'ASTON MARTIN', 'AUDI', 'BENTLEY', 'BMW', 'CADILLAC',\n",
       "       'CHEVROLET', 'CITROEN', 'DACIA', 'FERRARI', 'FIAT', 'FORD',\n",
       "       'HONDA', 'HYUNDAI', 'INFINITI', 'JAGUAR', 'JEEP', 'KIA', 'LADA',\n",
       "       'LAMBORGHINI', 'LANCIA', 'LAND ROVER', 'LEXUS', 'LOTUS',\n",
       "       'MASERATI', 'MAZDA', 'MERCEDES', 'MIA', 'MINI', 'MITSUBISHI',\n",
       "       'NISSAN', 'OPEL', 'PEUGEOT', 'PORSCHE', 'RENAULT', 'ROLLS-ROYCE',\n",
       "       'SEAT', 'SKODA', 'SMART', 'SSANGYONG', 'SUBARU', 'SUZUKI', 'TESLA',\n",
       "       'TOYOTA', 'VOLKSWAGEN', 'VOLVO'], dtype=object)"
      ]
     },
     "metadata": {},
     "output_type": "display_data"
    },
    {
     "name": "stdout",
     "output_type": "stream",
     "text": [
      "nombre elements communs 23\n",
      "{'OPEL', 'KIA', 'SKODA', 'TESLA', 'MASERATI', 'VOLVO', 'RENAULT', 'LAMBORGHINI', 'TOYOTA', 'DACIA', 'NISSAN', 'ASTON MARTIN', 'HYUNDAI', 'MIA', 'LADA', 'SEAT', 'PORSCHE', 'LOTUS', 'FERRARI', 'VOLKSWAGEN', 'SSANGYONG', 'BENTLEY', 'MAZDA'}\n"
     ]
    }
   ],
   "source": [
    "display('Marque des voitures df2', df2['Mk'].unique())\n",
    "display('Marque des voitures df2', df2['Mh'].unique())\n",
    "\n",
    "display('Marque des voitures df', df['lib_mrq'].unique())\n",
    "\n",
    "communs = set(df2['Mh']) & set(df['lib_mrq'])\n",
    "print('nombre elements communs', len(communs))\n",
    "print(communs)"
   ]
  },
  {
   "cell_type": "code",
   "execution_count": 7,
   "metadata": {},
   "outputs": [
    {
     "data": {
      "text/plain": [
       "'version df2'"
      ]
     },
     "metadata": {},
     "output_type": "display_data"
    },
    {
     "data": {
      "text/plain": [
       "array(['BA1N1FMHD5', 'BA1N4FMHA5', 'BA1N4FMHB5', ..., 'M51CY1', 'M66CY1',\n",
       "       'M9J3SC'], shape=(24066,), dtype=object)"
      ]
     },
     "metadata": {},
     "output_type": "display_data"
    },
    {
     "data": {
      "text/plain": [
       "'variant df2'"
      ]
     },
     "metadata": {},
     "output_type": "display_data"
    },
    {
     "data": {
      "text/plain": [
       "array(['CAHBC12', 'CAHBC23', 'CAHEA12', ..., 'MS58', 'B5PG1', 'M9J3S'],\n",
       "      shape=(12023,), dtype=object)"
      ]
     },
     "metadata": {},
     "output_type": "display_data"
    },
    {
     "data": {
      "text/plain": [
       "'Type df2'"
      ]
     },
     "metadata": {},
     "output_type": "display_data"
    },
    {
     "data": {
      "text/plain": [
       "array(['0G-A', 'A-H/MONOCAB', 'A-H/Monocab', ..., 'RR4EWB', '2172', 'ZB'],\n",
       "      shape=(2620,), dtype=object)"
      ]
     },
     "metadata": {},
     "output_type": "display_data"
    },
    {
     "data": {
      "text/plain": [
       "'Type variante vesion df'"
      ]
     },
     "metadata": {},
     "output_type": "display_data"
    },
    {
     "data": {
      "text/plain": [
       "array(['939AXN1B52C', '939BXN1B53C', '939AXR1B64', ..., 'BZ8256',\n",
       "       'BZ83A4', 'BZ90H6'], shape=(35430,), dtype=object)"
      ]
     },
     "metadata": {},
     "output_type": "display_data"
    },
    {
     "name": "stdout",
     "output_type": "stream",
     "text": [
      "nombre elements communs entre Ve et tvv 625\n",
      "nombre elements communs entre Va et tvv 57\n",
      "nombre elements communs entre T et tvv 17\n"
     ]
    }
   ],
   "source": [
    "display('version df2', df2['Ve'].unique())\n",
    "display('variant df2', df2['Va'].unique())\n",
    "display('Type df2', df2['T'].unique())\n",
    "display('Type variante vesion df', df['tvv'].unique())\n",
    "\n",
    "communs = set(df2['Ve']) & set(df['tvv'])\n",
    "print('nombre elements communs entre Ve et tvv', len(communs))\n",
    "\n",
    "communs = set(df2['Va']) & set(df['tvv'])\n",
    "print('nombre elements communs entre Va et tvv', len(communs))\n",
    "\n",
    "communs = set(df2['T']) & set(df['tvv'])\n",
    "print('nombre elements communs entre T et tvv', len(communs))"
   ]
  },
  {
   "cell_type": "code",
   "execution_count": 8,
   "metadata": {},
   "outputs": [
    {
     "data": {
      "text/plain": [
       "'version df2'"
      ]
     },
     "metadata": {},
     "output_type": "display_data"
    },
    {
     "data": {
      "text/plain": [
       "array(['e1*2007/46*0374*14', 'E1*2007/46*0374*14', 'e1*2007/46*0374*15',\n",
       "       ..., 'e11*2001/116*0202*07', 'e13*2007/46*1075*08',\n",
       "       'e6*2001/116*0124*05'], shape=(10036,), dtype=object)"
      ]
     },
     "metadata": {},
     "output_type": "display_data"
    },
    {
     "data": {
      "text/plain": [
       "'Type df2'"
      ]
     },
     "metadata": {},
     "output_type": "display_data"
    },
    {
     "data": {
      "text/plain": [
       "array(['715/2007*692/2008EURO5', '715/2007*195/2013EURO6',\n",
       "       '715/2007*195/2013EURO5', '715/2007*630/2012EURO6',\n",
       "       '715/2007*630/2012EURO5', '\"715/2007*566/2011EURO5',\n",
       "       '\"715/2007*630/2012EURO5', '\"715/2007*195/2013EURO6',\n",
       "       '\"715/2007*195/2013EURO5', '\"715/2007*630/2012EURO6',\n",
       "       '\"715/2007*566/2011EURO6', '715/2007*566/2011EURO5',\n",
       "       '\"715/2007*143/2013EURO5', '\"715/2007*692/2008EURO5',\n",
       "       '\"715/2007*143/2013EURO6', '\"715/2007*459/2012EURO5', nan,\n",
       "       '715/2007*459/2012EURO5', '715/2007*459/2012EURO6',\n",
       "       '715/2007*195/20', '715/2007*195/2013EU', '715/2007*195/201',\n",
       "       '715/2007*195/2013EUR', '715/2007*630/2012EURO', '715/2007*1',\n",
       "       '715/2007*', '715/2007*195/2013', '715/2007*630/20',\n",
       "       '\"2005/55*2008/74EURO5', '\"2005/55*2008/74EEV',\n",
       "       '\"715/2007*459/2012EURO6', '715/20', '715/2007*143/2013EURO5',\n",
       "       '715/2007*459/2012EURO', '\"595/2009*64/2012EURO6',\n",
       "       '715/2007*459/2012EU'], dtype=object)"
      ]
     },
     "metadata": {},
     "output_type": "display_data"
    }
   ],
   "source": [
    "display('version df2', df2['Tan'].unique())\n",
    "\n",
    "display('Type df2', df['champ_v9'].unique())"
   ]
  },
  {
   "cell_type": "code",
   "execution_count": 9,
   "metadata": {},
   "outputs": [
    {
     "name": "stdout",
     "output_type": "stream",
     "text": [
      "0\n"
     ]
    }
   ],
   "source": [
    "n = df2['Tan'].str.contains('EU', na=False).sum()\n",
    "print(n)"
   ]
  },
  {
   "cell_type": "code",
   "execution_count": 10,
   "metadata": {},
   "outputs": [
    {
     "data": {
      "text/plain": [
       "'type de carburant df2'"
      ]
     },
     "metadata": {},
     "output_type": "display_data"
    },
    {
     "data": {
      "text/plain": [
       "array(['Diesel', 'Petrol', 'NG-biomethane', 'Petrol-electric', 'PETROL',\n",
       "       'Electric', 'LPG', 'electric', 'petrol-electric', 'DIESEL',\n",
       "       'ELECTRIC', 'Diesel-Electric', 'PETROL-ELECTRIC', 'E85', nan,\n",
       "       'petrol', 'Petrol-Electric', 'Hydrogen', 'NG-BIOMETHANE',\n",
       "       'Petrol-Gas', 'Biodiesel', 'BIODIESEL', 'Diesel-electric',\n",
       "       'diesel', 'diesel-electric', 'HYDROGEN'], dtype=object)"
      ]
     },
     "metadata": {},
     "output_type": "display_data"
    },
    {
     "data": {
      "text/plain": [
       "'Fuel mode'"
      ]
     },
     "metadata": {},
     "output_type": "display_data"
    },
    {
     "data": {
      "text/plain": [
       "array(['M', 'E', 'B', 'F', nan], dtype=object)"
      ]
     },
     "metadata": {},
     "output_type": "display_data"
    },
    {
     "data": {
      "text/plain": [
       "'Fuel consumption'"
      ]
     },
     "metadata": {},
     "output_type": "display_data"
    },
    {
     "data": {
      "text/plain": [
       "array([nan])"
      ]
     },
     "metadata": {},
     "output_type": "display_data"
    },
    {
     "data": {
      "text/plain": [
       "'carburant df'"
      ]
     },
     "metadata": {},
     "output_type": "display_data"
    },
    {
     "data": {
      "text/plain": [
       "0        ES\n",
       "1        ES\n",
       "2        GO\n",
       "3        GO\n",
       "4        GO\n",
       "         ..\n",
       "55039    GO\n",
       "55040    GO\n",
       "55041    GO\n",
       "55042    GO\n",
       "55043    ES\n",
       "Name: cod_cbr, Length: 55044, dtype: object"
      ]
     },
     "metadata": {},
     "output_type": "display_data"
    }
   ],
   "source": [
    "display('type de carburant df2', df2['Ft'].unique())\n",
    "display('Fuel mode', df2['Fm'].unique())\n",
    "display('Fuel consumption', df2['Fuel consumption '].unique())\n",
    "\n",
    "display('carburant df', df['cod_cbr'])"
   ]
  },
  {
   "cell_type": "code",
   "execution_count": 11,
   "metadata": {},
   "outputs": [],
   "source": [
    "df2.rename(columns={\"Ve\": \"tvv\"}, inplace=True)\n"
   ]
  },
  {
   "cell_type": "code",
   "execution_count": 66,
   "metadata": {},
   "outputs": [],
   "source": [
    "df_merged = df.merge(df2, on=\"tvv\", how=\"inner\")  # Fusion uniquement si une correspondance existe\n"
   ]
  },
  {
   "cell_type": "code",
   "execution_count": 68,
   "metadata": {},
   "outputs": [
    {
     "name": "stdout",
     "output_type": "stream",
     "text": [
      "Dimensions (lignes, colonnes) : (30948, 69)\n"
     ]
    },
    {
     "data": {
      "text/html": [
       "<div>\n",
       "<style scoped>\n",
       "    .dataframe tbody tr th:only-of-type {\n",
       "        vertical-align: middle;\n",
       "    }\n",
       "\n",
       "    .dataframe tbody tr th {\n",
       "        vertical-align: top;\n",
       "    }\n",
       "\n",
       "    .dataframe thead th {\n",
       "        text-align: right;\n",
       "    }\n",
       "</style>\n",
       "<table border=\"1\" class=\"dataframe\">\n",
       "  <thead>\n",
       "    <tr style=\"text-align: right;\">\n",
       "      <th></th>\n",
       "      <th>lib_mrq</th>\n",
       "      <th>lib_mod_doss</th>\n",
       "      <th>lib_mod</th>\n",
       "      <th>dscom</th>\n",
       "      <th>cnit</th>\n",
       "      <th>tvv</th>\n",
       "      <th>cod_cbr</th>\n",
       "      <th>hybride</th>\n",
       "      <th>puiss_admin_98</th>\n",
       "      <th>puiss_max</th>\n",
       "      <th>...</th>\n",
       "      <th>Erwltp (g/km)</th>\n",
       "      <th>De</th>\n",
       "      <th>Vf</th>\n",
       "      <th>Status</th>\n",
       "      <th>year</th>\n",
       "      <th>Date of registration</th>\n",
       "      <th>Fuel consumption</th>\n",
       "      <th>ech</th>\n",
       "      <th>RLFI</th>\n",
       "      <th>Electric range (km)</th>\n",
       "    </tr>\n",
       "  </thead>\n",
       "  <tbody>\n",
       "    <tr>\n",
       "      <th>0</th>\n",
       "      <td>CITROEN</td>\n",
       "      <td>BERLINGO</td>\n",
       "      <td>BERLINGO</td>\n",
       "      <td>BERLINGO 1.6 e-HDi (90ch) FAP 4x4 DANGEL</td>\n",
       "      <td>M10DGLVP001A487</td>\n",
       "      <td>V36CJ9HPDGL0/00S</td>\n",
       "      <td>GO</td>\n",
       "      <td>non</td>\n",
       "      <td>6</td>\n",
       "      <td>68</td>\n",
       "      <td>...</td>\n",
       "      <td>NaN</td>\n",
       "      <td>NaN</td>\n",
       "      <td>NaN</td>\n",
       "      <td>F</td>\n",
       "      <td>2014</td>\n",
       "      <td>NaN</td>\n",
       "      <td>NaN</td>\n",
       "      <td>NaN</td>\n",
       "      <td>NaN</td>\n",
       "      <td>NaN</td>\n",
       "    </tr>\n",
       "    <tr>\n",
       "      <th>1</th>\n",
       "      <td>CITROEN</td>\n",
       "      <td>BERLINGO</td>\n",
       "      <td>BERLINGO</td>\n",
       "      <td>BERLINGO 1.6 HDi (115ch) FAP 4x4 DANGEL</td>\n",
       "      <td>M10DGLVP001R478</td>\n",
       "      <td>V36CJ9HLDGL0/00</td>\n",
       "      <td>GO</td>\n",
       "      <td>non</td>\n",
       "      <td>7</td>\n",
       "      <td>84</td>\n",
       "      <td>...</td>\n",
       "      <td>NaN</td>\n",
       "      <td>NaN</td>\n",
       "      <td>NaN</td>\n",
       "      <td>F</td>\n",
       "      <td>2014</td>\n",
       "      <td>NaN</td>\n",
       "      <td>NaN</td>\n",
       "      <td>NaN</td>\n",
       "      <td>NaN</td>\n",
       "      <td>NaN</td>\n",
       "    </tr>\n",
       "    <tr>\n",
       "      <th>2</th>\n",
       "      <td>CITROEN</td>\n",
       "      <td>BERLINGO</td>\n",
       "      <td>BERLINGO</td>\n",
       "      <td>BERLINGO 1.6 HDi (115ch) FAP 4x4 DANGEL</td>\n",
       "      <td>M10DGLVP001R478</td>\n",
       "      <td>V36CJ9HLDGL0/00</td>\n",
       "      <td>GO</td>\n",
       "      <td>non</td>\n",
       "      <td>7</td>\n",
       "      <td>84</td>\n",
       "      <td>...</td>\n",
       "      <td>NaN</td>\n",
       "      <td>NaN</td>\n",
       "      <td>NaN</td>\n",
       "      <td>F</td>\n",
       "      <td>2014</td>\n",
       "      <td>NaN</td>\n",
       "      <td>NaN</td>\n",
       "      <td>NaN</td>\n",
       "      <td>NaN</td>\n",
       "      <td>NaN</td>\n",
       "    </tr>\n",
       "    <tr>\n",
       "      <th>3</th>\n",
       "      <td>CITROEN</td>\n",
       "      <td>BERLINGO</td>\n",
       "      <td>BERLINGO</td>\n",
       "      <td>BERLINGO 1.6 HDi (115ch) FAP 4x4 DANGEL</td>\n",
       "      <td>M10DGLVP001R478</td>\n",
       "      <td>V36CJ9HLDGL0/00</td>\n",
       "      <td>GO</td>\n",
       "      <td>non</td>\n",
       "      <td>7</td>\n",
       "      <td>84</td>\n",
       "      <td>...</td>\n",
       "      <td>NaN</td>\n",
       "      <td>NaN</td>\n",
       "      <td>NaN</td>\n",
       "      <td>F</td>\n",
       "      <td>2014</td>\n",
       "      <td>NaN</td>\n",
       "      <td>NaN</td>\n",
       "      <td>NaN</td>\n",
       "      <td>NaN</td>\n",
       "      <td>NaN</td>\n",
       "    </tr>\n",
       "    <tr>\n",
       "      <th>4</th>\n",
       "      <td>CITROEN</td>\n",
       "      <td>BERLINGO</td>\n",
       "      <td>BERLINGO</td>\n",
       "      <td>BERLINGO 1.6 HDi (115ch) FAP 4x4 DANGEL</td>\n",
       "      <td>M10DGLVP001R478</td>\n",
       "      <td>V36CJ9HLDGL0/00</td>\n",
       "      <td>GO</td>\n",
       "      <td>non</td>\n",
       "      <td>7</td>\n",
       "      <td>84</td>\n",
       "      <td>...</td>\n",
       "      <td>NaN</td>\n",
       "      <td>NaN</td>\n",
       "      <td>NaN</td>\n",
       "      <td>F</td>\n",
       "      <td>2014</td>\n",
       "      <td>NaN</td>\n",
       "      <td>NaN</td>\n",
       "      <td>NaN</td>\n",
       "      <td>NaN</td>\n",
       "      <td>NaN</td>\n",
       "    </tr>\n",
       "  </tbody>\n",
       "</table>\n",
       "<p>5 rows × 69 columns</p>\n",
       "</div>"
      ],
      "text/plain": [
       "   lib_mrq lib_mod_doss   lib_mod                                     dscom  \\\n",
       "0  CITROEN     BERLINGO  BERLINGO  BERLINGO 1.6 e-HDi (90ch) FAP 4x4 DANGEL   \n",
       "1  CITROEN     BERLINGO  BERLINGO   BERLINGO 1.6 HDi (115ch) FAP 4x4 DANGEL   \n",
       "2  CITROEN     BERLINGO  BERLINGO   BERLINGO 1.6 HDi (115ch) FAP 4x4 DANGEL   \n",
       "3  CITROEN     BERLINGO  BERLINGO   BERLINGO 1.6 HDi (115ch) FAP 4x4 DANGEL   \n",
       "4  CITROEN     BERLINGO  BERLINGO   BERLINGO 1.6 HDi (115ch) FAP 4x4 DANGEL   \n",
       "\n",
       "              cnit               tvv cod_cbr hybride  puiss_admin_98  \\\n",
       "0  M10DGLVP001A487  V36CJ9HPDGL0/00S      GO     non               6   \n",
       "1  M10DGLVP001R478   V36CJ9HLDGL0/00      GO     non               7   \n",
       "2  M10DGLVP001R478   V36CJ9HLDGL0/00      GO     non               7   \n",
       "3  M10DGLVP001R478   V36CJ9HLDGL0/00      GO     non               7   \n",
       "4  M10DGLVP001R478   V36CJ9HLDGL0/00      GO     non               7   \n",
       "\n",
       "  puiss_max  ... Erwltp (g/km)  De  Vf Status  year Date of registration  \\\n",
       "0        68  ...           NaN NaN NaN      F  2014                  NaN   \n",
       "1        84  ...           NaN NaN NaN      F  2014                  NaN   \n",
       "2        84  ...           NaN NaN NaN      F  2014                  NaN   \n",
       "3        84  ...           NaN NaN NaN      F  2014                  NaN   \n",
       "4        84  ...           NaN NaN NaN      F  2014                  NaN   \n",
       "\n",
       "  Fuel consumption  ech RLFI Electric range (km)  \n",
       "0               NaN NaN  NaN                 NaN  \n",
       "1               NaN NaN  NaN                 NaN  \n",
       "2               NaN NaN  NaN                 NaN  \n",
       "3               NaN NaN  NaN                 NaN  \n",
       "4               NaN NaN  NaN                 NaN  \n",
       "\n",
       "[5 rows x 69 columns]"
      ]
     },
     "metadata": {},
     "output_type": "display_data"
    }
   ],
   "source": [
    "print(\"Dimensions (lignes, colonnes) :\", df_merged.shape)\n",
    "display(df_merged.head())"
   ]
  },
  {
   "cell_type": "code",
   "execution_count": 14,
   "metadata": {},
   "outputs": [
    {
     "name": "stdout",
     "output_type": "stream",
     "text": [
      "Dimensions (lignes, colonnes) : (85332, 69)\n"
     ]
    },
    {
     "data": {
      "text/html": [
       "<div>\n",
       "<style scoped>\n",
       "    .dataframe tbody tr th:only-of-type {\n",
       "        vertical-align: middle;\n",
       "    }\n",
       "\n",
       "    .dataframe tbody tr th {\n",
       "        vertical-align: top;\n",
       "    }\n",
       "\n",
       "    .dataframe thead th {\n",
       "        text-align: right;\n",
       "    }\n",
       "</style>\n",
       "<table border=\"1\" class=\"dataframe\">\n",
       "  <thead>\n",
       "    <tr style=\"text-align: right;\">\n",
       "      <th></th>\n",
       "      <th>lib_mrq</th>\n",
       "      <th>lib_mod_doss</th>\n",
       "      <th>lib_mod</th>\n",
       "      <th>dscom</th>\n",
       "      <th>cnit</th>\n",
       "      <th>tvv</th>\n",
       "      <th>cod_cbr</th>\n",
       "      <th>hybride</th>\n",
       "      <th>puiss_admin_98</th>\n",
       "      <th>puiss_max</th>\n",
       "      <th>...</th>\n",
       "      <th>Erwltp (g/km)</th>\n",
       "      <th>De</th>\n",
       "      <th>Vf</th>\n",
       "      <th>Status</th>\n",
       "      <th>year</th>\n",
       "      <th>Date of registration</th>\n",
       "      <th>Fuel consumption</th>\n",
       "      <th>ech</th>\n",
       "      <th>RLFI</th>\n",
       "      <th>Electric range (km)</th>\n",
       "    </tr>\n",
       "  </thead>\n",
       "  <tbody>\n",
       "    <tr>\n",
       "      <th>0</th>\n",
       "      <td>ALFA-ROMEO</td>\n",
       "      <td>159</td>\n",
       "      <td>159</td>\n",
       "      <td>159 1750 Tbi (200ch)</td>\n",
       "      <td>M10ALFVP000G340</td>\n",
       "      <td>939AXN1B52C</td>\n",
       "      <td>ES</td>\n",
       "      <td>non</td>\n",
       "      <td>12</td>\n",
       "      <td>147</td>\n",
       "      <td>...</td>\n",
       "      <td>NaN</td>\n",
       "      <td>NaN</td>\n",
       "      <td>NaN</td>\n",
       "      <td>NaN</td>\n",
       "      <td>NaN</td>\n",
       "      <td>NaN</td>\n",
       "      <td>NaN</td>\n",
       "      <td>NaN</td>\n",
       "      <td>NaN</td>\n",
       "      <td>NaN</td>\n",
       "    </tr>\n",
       "    <tr>\n",
       "      <th>1</th>\n",
       "      <td>ALFA-ROMEO</td>\n",
       "      <td>159</td>\n",
       "      <td>159</td>\n",
       "      <td>159 1750 Tbi (200ch)</td>\n",
       "      <td>M10ALFVP000H341</td>\n",
       "      <td>939BXN1B53C</td>\n",
       "      <td>ES</td>\n",
       "      <td>non</td>\n",
       "      <td>12</td>\n",
       "      <td>147</td>\n",
       "      <td>...</td>\n",
       "      <td>NaN</td>\n",
       "      <td>NaN</td>\n",
       "      <td>NaN</td>\n",
       "      <td>NaN</td>\n",
       "      <td>NaN</td>\n",
       "      <td>NaN</td>\n",
       "      <td>NaN</td>\n",
       "      <td>NaN</td>\n",
       "      <td>NaN</td>\n",
       "      <td>NaN</td>\n",
       "    </tr>\n",
       "    <tr>\n",
       "      <th>2</th>\n",
       "      <td>ALFA-ROMEO</td>\n",
       "      <td>159</td>\n",
       "      <td>159</td>\n",
       "      <td>159 2.0 JTDm (136ch)</td>\n",
       "      <td>M10ALFVP000E302</td>\n",
       "      <td>939AXR1B64</td>\n",
       "      <td>GO</td>\n",
       "      <td>non</td>\n",
       "      <td>7</td>\n",
       "      <td>100</td>\n",
       "      <td>...</td>\n",
       "      <td>NaN</td>\n",
       "      <td>NaN</td>\n",
       "      <td>NaN</td>\n",
       "      <td>NaN</td>\n",
       "      <td>NaN</td>\n",
       "      <td>NaN</td>\n",
       "      <td>NaN</td>\n",
       "      <td>NaN</td>\n",
       "      <td>NaN</td>\n",
       "      <td>NaN</td>\n",
       "    </tr>\n",
       "    <tr>\n",
       "      <th>3</th>\n",
       "      <td>ALFA-ROMEO</td>\n",
       "      <td>159</td>\n",
       "      <td>159</td>\n",
       "      <td>159 2.0 JTDm (136ch)</td>\n",
       "      <td>M10ALFVP000F303</td>\n",
       "      <td>939AXR1B64B</td>\n",
       "      <td>GO</td>\n",
       "      <td>non</td>\n",
       "      <td>7</td>\n",
       "      <td>100</td>\n",
       "      <td>...</td>\n",
       "      <td>NaN</td>\n",
       "      <td>NaN</td>\n",
       "      <td>NaN</td>\n",
       "      <td>NaN</td>\n",
       "      <td>NaN</td>\n",
       "      <td>NaN</td>\n",
       "      <td>NaN</td>\n",
       "      <td>NaN</td>\n",
       "      <td>NaN</td>\n",
       "      <td>NaN</td>\n",
       "    </tr>\n",
       "    <tr>\n",
       "      <th>4</th>\n",
       "      <td>ALFA-ROMEO</td>\n",
       "      <td>159</td>\n",
       "      <td>159</td>\n",
       "      <td>159 2.0 JTDm (170ch)</td>\n",
       "      <td>M10ALFVP000G304</td>\n",
       "      <td>939AXS1B66</td>\n",
       "      <td>GO</td>\n",
       "      <td>non</td>\n",
       "      <td>9</td>\n",
       "      <td>125</td>\n",
       "      <td>...</td>\n",
       "      <td>NaN</td>\n",
       "      <td>NaN</td>\n",
       "      <td>NaN</td>\n",
       "      <td>NaN</td>\n",
       "      <td>NaN</td>\n",
       "      <td>NaN</td>\n",
       "      <td>NaN</td>\n",
       "      <td>NaN</td>\n",
       "      <td>NaN</td>\n",
       "      <td>NaN</td>\n",
       "    </tr>\n",
       "  </tbody>\n",
       "</table>\n",
       "<p>5 rows × 69 columns</p>\n",
       "</div>"
      ],
      "text/plain": [
       "      lib_mrq lib_mod_doss lib_mod                 dscom             cnit  \\\n",
       "0  ALFA-ROMEO          159     159  159 1750 Tbi (200ch)  M10ALFVP000G340   \n",
       "1  ALFA-ROMEO          159     159  159 1750 Tbi (200ch)  M10ALFVP000H341   \n",
       "2  ALFA-ROMEO          159     159  159 2.0 JTDm (136ch)  M10ALFVP000E302   \n",
       "3  ALFA-ROMEO          159     159  159 2.0 JTDm (136ch)  M10ALFVP000F303   \n",
       "4  ALFA-ROMEO          159     159  159 2.0 JTDm (170ch)  M10ALFVP000G304   \n",
       "\n",
       "           tvv cod_cbr hybride  puiss_admin_98 puiss_max  ... Erwltp (g/km)  \\\n",
       "0  939AXN1B52C      ES     non              12       147  ...           NaN   \n",
       "1  939BXN1B53C      ES     non              12       147  ...           NaN   \n",
       "2   939AXR1B64      GO     non               7       100  ...           NaN   \n",
       "3  939AXR1B64B      GO     non               7       100  ...           NaN   \n",
       "4   939AXS1B66      GO     non               9       125  ...           NaN   \n",
       "\n",
       "   De  Vf Status  year Date of registration Fuel consumption  ech RLFI  \\\n",
       "0 NaN NaN    NaN   NaN                  NaN               NaN NaN  NaN   \n",
       "1 NaN NaN    NaN   NaN                  NaN               NaN NaN  NaN   \n",
       "2 NaN NaN    NaN   NaN                  NaN               NaN NaN  NaN   \n",
       "3 NaN NaN    NaN   NaN                  NaN               NaN NaN  NaN   \n",
       "4 NaN NaN    NaN   NaN                  NaN               NaN NaN  NaN   \n",
       "\n",
       "  Electric range (km)  \n",
       "0                 NaN  \n",
       "1                 NaN  \n",
       "2                 NaN  \n",
       "3                 NaN  \n",
       "4                 NaN  \n",
       "\n",
       "[5 rows x 69 columns]"
      ]
     },
     "metadata": {},
     "output_type": "display_data"
    }
   ],
   "source": [
    "df_merged_L = df.merge(df2, on=\"tvv\", how=\"left\")  # Fusion uniquement si une correspondance existe\n",
    "print(\"Dimensions (lignes, colonnes) :\", df_merged_L.shape)\n",
    "display(df_merged_L.head())"
   ]
  },
  {
   "cell_type": "code",
   "execution_count": 15,
   "metadata": {},
   "outputs": [
    {
     "name": "stdout",
     "output_type": "stream",
     "text": [
      "Dimensions (lignes, colonnes) : (420656, 69)\n"
     ]
    },
    {
     "data": {
      "text/html": [
       "<div>\n",
       "<style scoped>\n",
       "    .dataframe tbody tr th:only-of-type {\n",
       "        vertical-align: middle;\n",
       "    }\n",
       "\n",
       "    .dataframe tbody tr th {\n",
       "        vertical-align: top;\n",
       "    }\n",
       "\n",
       "    .dataframe thead th {\n",
       "        text-align: right;\n",
       "    }\n",
       "</style>\n",
       "<table border=\"1\" class=\"dataframe\">\n",
       "  <thead>\n",
       "    <tr style=\"text-align: right;\">\n",
       "      <th></th>\n",
       "      <th>lib_mrq</th>\n",
       "      <th>lib_mod_doss</th>\n",
       "      <th>lib_mod</th>\n",
       "      <th>dscom</th>\n",
       "      <th>cnit</th>\n",
       "      <th>tvv</th>\n",
       "      <th>cod_cbr</th>\n",
       "      <th>hybride</th>\n",
       "      <th>puiss_admin_98</th>\n",
       "      <th>puiss_max</th>\n",
       "      <th>...</th>\n",
       "      <th>Erwltp (g/km)</th>\n",
       "      <th>De</th>\n",
       "      <th>Vf</th>\n",
       "      <th>Status</th>\n",
       "      <th>year</th>\n",
       "      <th>Date of registration</th>\n",
       "      <th>Fuel consumption</th>\n",
       "      <th>ech</th>\n",
       "      <th>RLFI</th>\n",
       "      <th>Electric range (km)</th>\n",
       "    </tr>\n",
       "  </thead>\n",
       "  <tbody>\n",
       "    <tr>\n",
       "      <th>0</th>\n",
       "      <td>NaN</td>\n",
       "      <td>NaN</td>\n",
       "      <td>NaN</td>\n",
       "      <td>NaN</td>\n",
       "      <td>NaN</td>\n",
       "      <td>BA1N1FMHD5</td>\n",
       "      <td>NaN</td>\n",
       "      <td>NaN</td>\n",
       "      <td>NaN</td>\n",
       "      <td>NaN</td>\n",
       "      <td>...</td>\n",
       "      <td>NaN</td>\n",
       "      <td>NaN</td>\n",
       "      <td>NaN</td>\n",
       "      <td>F</td>\n",
       "      <td>2014</td>\n",
       "      <td>NaN</td>\n",
       "      <td>NaN</td>\n",
       "      <td>NaN</td>\n",
       "      <td>NaN</td>\n",
       "      <td>NaN</td>\n",
       "    </tr>\n",
       "    <tr>\n",
       "      <th>1</th>\n",
       "      <td>NaN</td>\n",
       "      <td>NaN</td>\n",
       "      <td>NaN</td>\n",
       "      <td>NaN</td>\n",
       "      <td>NaN</td>\n",
       "      <td>BA1N4FMHA5</td>\n",
       "      <td>NaN</td>\n",
       "      <td>NaN</td>\n",
       "      <td>NaN</td>\n",
       "      <td>NaN</td>\n",
       "      <td>...</td>\n",
       "      <td>NaN</td>\n",
       "      <td>NaN</td>\n",
       "      <td>NaN</td>\n",
       "      <td>F</td>\n",
       "      <td>2014</td>\n",
       "      <td>NaN</td>\n",
       "      <td>NaN</td>\n",
       "      <td>NaN</td>\n",
       "      <td>NaN</td>\n",
       "      <td>NaN</td>\n",
       "    </tr>\n",
       "    <tr>\n",
       "      <th>2</th>\n",
       "      <td>NaN</td>\n",
       "      <td>NaN</td>\n",
       "      <td>NaN</td>\n",
       "      <td>NaN</td>\n",
       "      <td>NaN</td>\n",
       "      <td>BA1N4FMHB5</td>\n",
       "      <td>NaN</td>\n",
       "      <td>NaN</td>\n",
       "      <td>NaN</td>\n",
       "      <td>NaN</td>\n",
       "      <td>...</td>\n",
       "      <td>NaN</td>\n",
       "      <td>NaN</td>\n",
       "      <td>NaN</td>\n",
       "      <td>F</td>\n",
       "      <td>2014</td>\n",
       "      <td>NaN</td>\n",
       "      <td>NaN</td>\n",
       "      <td>NaN</td>\n",
       "      <td>NaN</td>\n",
       "      <td>NaN</td>\n",
       "    </tr>\n",
       "    <tr>\n",
       "      <th>3</th>\n",
       "      <td>NaN</td>\n",
       "      <td>NaN</td>\n",
       "      <td>NaN</td>\n",
       "      <td>NaN</td>\n",
       "      <td>NaN</td>\n",
       "      <td>BA1N4FMHD5</td>\n",
       "      <td>NaN</td>\n",
       "      <td>NaN</td>\n",
       "      <td>NaN</td>\n",
       "      <td>NaN</td>\n",
       "      <td>...</td>\n",
       "      <td>NaN</td>\n",
       "      <td>NaN</td>\n",
       "      <td>NaN</td>\n",
       "      <td>F</td>\n",
       "      <td>2014</td>\n",
       "      <td>NaN</td>\n",
       "      <td>NaN</td>\n",
       "      <td>NaN</td>\n",
       "      <td>NaN</td>\n",
       "      <td>NaN</td>\n",
       "    </tr>\n",
       "    <tr>\n",
       "      <th>4</th>\n",
       "      <td>NaN</td>\n",
       "      <td>NaN</td>\n",
       "      <td>NaN</td>\n",
       "      <td>NaN</td>\n",
       "      <td>NaN</td>\n",
       "      <td>BA1NAFMHD5</td>\n",
       "      <td>NaN</td>\n",
       "      <td>NaN</td>\n",
       "      <td>NaN</td>\n",
       "      <td>NaN</td>\n",
       "      <td>...</td>\n",
       "      <td>NaN</td>\n",
       "      <td>NaN</td>\n",
       "      <td>NaN</td>\n",
       "      <td>F</td>\n",
       "      <td>2014</td>\n",
       "      <td>NaN</td>\n",
       "      <td>NaN</td>\n",
       "      <td>NaN</td>\n",
       "      <td>NaN</td>\n",
       "      <td>NaN</td>\n",
       "    </tr>\n",
       "  </tbody>\n",
       "</table>\n",
       "<p>5 rows × 69 columns</p>\n",
       "</div>"
      ],
      "text/plain": [
       "  lib_mrq lib_mod_doss lib_mod dscom cnit         tvv cod_cbr hybride  \\\n",
       "0     NaN          NaN     NaN   NaN  NaN  BA1N1FMHD5     NaN     NaN   \n",
       "1     NaN          NaN     NaN   NaN  NaN  BA1N4FMHA5     NaN     NaN   \n",
       "2     NaN          NaN     NaN   NaN  NaN  BA1N4FMHB5     NaN     NaN   \n",
       "3     NaN          NaN     NaN   NaN  NaN  BA1N4FMHD5     NaN     NaN   \n",
       "4     NaN          NaN     NaN   NaN  NaN  BA1NAFMHD5     NaN     NaN   \n",
       "\n",
       "   puiss_admin_98 puiss_max  ... Erwltp (g/km)  De  Vf Status  year  \\\n",
       "0             NaN       NaN  ...           NaN NaN NaN      F  2014   \n",
       "1             NaN       NaN  ...           NaN NaN NaN      F  2014   \n",
       "2             NaN       NaN  ...           NaN NaN NaN      F  2014   \n",
       "3             NaN       NaN  ...           NaN NaN NaN      F  2014   \n",
       "4             NaN       NaN  ...           NaN NaN NaN      F  2014   \n",
       "\n",
       "  Date of registration Fuel consumption  ech RLFI Electric range (km)  \n",
       "0                  NaN               NaN NaN  NaN                 NaN  \n",
       "1                  NaN               NaN NaN  NaN                 NaN  \n",
       "2                  NaN               NaN NaN  NaN                 NaN  \n",
       "3                  NaN               NaN NaN  NaN                 NaN  \n",
       "4                  NaN               NaN NaN  NaN                 NaN  \n",
       "\n",
       "[5 rows x 69 columns]"
      ]
     },
     "metadata": {},
     "output_type": "display_data"
    }
   ],
   "source": [
    "df_merged_L = df.merge(df2, on=\"tvv\", how=\"right\")  # Fusion uniquement si une correspondance existe\n",
    "print(\"Dimensions (lignes, colonnes) :\", df_merged_L.shape)\n",
    "display(df_merged_L.head())"
   ]
  },
  {
   "cell_type": "code",
   "execution_count": 2,
   "metadata": {},
   "outputs": [
    {
     "name": "stderr",
     "output_type": "stream",
     "text": [
      "C:\\Users\\juliette\\AppData\\Local\\Temp\\ipykernel_53264\\4230515015.py:4: DtypeWarning: Columns (28) have mixed types. Specify dtype option on import or set low_memory=False.\n",
      "  df2 = pd.read_csv(\"data.csv\")\n"
     ]
    },
    {
     "name": "stdout",
     "output_type": "stream",
     "text": [
      "Fin de code\n"
     ]
    }
   ],
   "source": [
    "import numpy as np\n",
    "import pandas as pd\n",
    "\n",
    "df2 = pd.read_csv(\"data.csv\")\n",
    "df = pd.read_csv(\"mars-2014-complete.csv\",sep = ';',encoding = \"latin-1\",on_bad_lines='skip')\n",
    "\n",
    "#Drop duplicates dans df\n",
    "df = df.drop_duplicates()\n",
    "\n",
    "#Drop useless columns\n",
    "columns_to_remove = [\"ID\",\"VFN\",\"Cr\",\"Mt\",\"Ewltp (g/km)\",\n",
    "                     \"z (Wh/km)\",\"IT\",\"Ernedc (g/km)\",\"Erwltp (g/km)\",\"De\",\n",
    "                     \"Vf\",\"Status\",\"year\",\"Date of registration\",\"Fuel consumption \",\n",
    "                     \"ech\",\"RLFI\",\"Electric range (km)\"]\n",
    "df2 = df2.drop(columns_to_remove,axis = 1)\n",
    "columns_to_remove = [\"cnit\",\"hc\",\"hcnox\",\"date_maj\",\n",
    "                     \"Unnamed: 26\",\"Unnamed: 27\",\"Unnamed: 28\",\"Unnamed: 29\",]\n",
    "df = df.drop(columns_to_remove,axis = 1)\n",
    "\n",
    "#Remplacer les valeurs de Mk dans df2\n",
    "to_replace = [\"ALFA ROMEO\",\"AUTOMOBILES CITROEN\",\"FIAT \",\"Peugot\",\"Citroen\",\"Dacia\",\"DACIA AUTOMOBILE SA\",\"Renault\",\"Volvo\",\"VOLVO/CARRUS\"]\n",
    "value = [\"ALFA-ROMEO\",\"CITROEN\",\"FIAT\",\"PEUGOT\",\"CITROEN\",\"DACIA\",\"DACIA\",\"RENAULT\",\"VOLVO\",\"VOLVO\"]\n",
    "df2 = df2.replace(to_replace=to_replace, value=value)\n",
    "\n",
    "#Split en 3 df\n",
    "df2_T = df2.drop([\"Va\",\"Ve\"],axis = 1).rename({'T':'tvv','Mk':'lib_mrq'},axis =1)\n",
    "df2_Va = df2.drop([\"T\",\"Ve\"],axis = 1).rename({'Va':'tvv','Mk':'lib_mrq'},axis =1)\n",
    "df2_Ve = df2.drop([\"T\",\"Va\"],axis = 1).rename({'Ve':'tvv','Mk':'lib_mrq'},axis =1)\n",
    "\n",
    "df_merge_T = df.merge(right=df2_T,on=[\"tvv\",'lib_mrq']).reset_index(drop=True)\n",
    "df_merge_Va = df.merge(right=df2_Va,on=[\"tvv\",'lib_mrq']).reset_index(drop=True)\n",
    "df_merge_Ve = df.merge(right=df2_Ve,on=[\"tvv\",'lib_mrq']).reset_index(drop=True)\n",
    "\n",
    "df_merge_T = df_merge_T.drop([\"tvv\"], axis=1)\n",
    "df_merge_Va = df_merge_Va.drop([\"tvv\"], axis=1)\n",
    "df_merge_Ve = df_merge_Ve.drop([\"tvv\"], axis=1)\n",
    "\n",
    "df_merge = pd.concat([df_merge_T,df_merge_Va,df_merge_Ve],axis=0).reset_index(drop=True)\n",
    "\n",
    "#Suppresion des duplicates\n",
    "df_merge = df_merge.drop_duplicates().reset_index(drop=True)\n",
    "\n",
    "# for voiture in list(df_merge[\"Mk\"].unique()):\n",
    "#     if (voiture in list(df_merge[\"lib_mrq\"].unique())):\n",
    "#         continue\n",
    "#     else:\n",
    "#         print(voiture)\n",
    "    \n",
    "\n",
    "print('Fin de code')"
   ]
  },
  {
   "cell_type": "code",
   "execution_count": 6,
   "metadata": {},
   "outputs": [],
   "source": [
    "df_merge.to_csv(\"data_merge.csv\", index=False)"
   ]
  }
 ],
 "metadata": {
  "kernelspec": {
   "display_name": "Python 3",
   "language": "python",
   "name": "python3"
  },
  "language_info": {
   "codemirror_mode": {
    "name": "ipython",
    "version": 3
   },
   "file_extension": ".py",
   "mimetype": "text/x-python",
   "name": "python",
   "nbconvert_exporter": "python",
   "pygments_lexer": "ipython3",
   "version": "3.13.1"
  }
 },
 "nbformat": 4,
 "nbformat_minor": 2
}
