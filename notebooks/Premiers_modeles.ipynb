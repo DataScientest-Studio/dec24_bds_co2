{
 "cells": [
  {
   "cell_type": "code",
   "execution_count": 8,
   "metadata": {},
   "outputs": [],
   "source": [
    "import numpy as np\n",
    "import pandas as pd\n",
    "\n",
    "from tqdm.notebook import *\n",
    "\n",
    "import warnings\n",
    "warnings.filterwarnings(\"ignore\")\n",
    "%matplotlib inline"
   ]
  },
  {
   "cell_type": "code",
   "execution_count": 9,
   "metadata": {},
   "outputs": [
    {
     "data": {
      "text/html": [
       "<div>\n",
       "<style scoped>\n",
       "    .dataframe tbody tr th:only-of-type {\n",
       "        vertical-align: middle;\n",
       "    }\n",
       "\n",
       "    .dataframe tbody tr th {\n",
       "        vertical-align: top;\n",
       "    }\n",
       "\n",
       "    .dataframe thead th {\n",
       "        text-align: right;\n",
       "    }\n",
       "</style>\n",
       "<table border=\"1\" class=\"dataframe\">\n",
       "  <thead>\n",
       "    <tr style=\"text-align: right;\">\n",
       "      <th></th>\n",
       "      <th>lib_mrq</th>\n",
       "      <th>lib_mod_doss</th>\n",
       "      <th>lib_mod</th>\n",
       "      <th>dscom</th>\n",
       "      <th>hybride</th>\n",
       "      <th>puiss_admin_98</th>\n",
       "      <th>puiss_max</th>\n",
       "      <th>conso_urb</th>\n",
       "      <th>conso_exurb</th>\n",
       "      <th>conso_mixte</th>\n",
       "      <th>...</th>\n",
       "      <th>ptcl</th>\n",
       "      <th>masse_ordma_min</th>\n",
       "      <th>masse_ordma_max</th>\n",
       "      <th>champ_v9</th>\n",
       "      <th>Carrosserie</th>\n",
       "      <th>gamme</th>\n",
       "      <th>carburant</th>\n",
       "      <th>typ_boite</th>\n",
       "      <th>nb_rapp</th>\n",
       "      <th>etiquette</th>\n",
       "    </tr>\n",
       "  </thead>\n",
       "  <tbody>\n",
       "    <tr>\n",
       "      <th>0</th>\n",
       "      <td>ALFA-ROMEO</td>\n",
       "      <td>159</td>\n",
       "      <td>159</td>\n",
       "      <td>159 1750 Tbi (200ch)</td>\n",
       "      <td>non</td>\n",
       "      <td>12</td>\n",
       "      <td>147.0</td>\n",
       "      <td>11.3</td>\n",
       "      <td>5.8</td>\n",
       "      <td>7.8</td>\n",
       "      <td>...</td>\n",
       "      <td>0.002</td>\n",
       "      <td>1505</td>\n",
       "      <td>1505</td>\n",
       "      <td>715/2007*692/2008EURO5</td>\n",
       "      <td>BERLINE</td>\n",
       "      <td>MOY-SUPER</td>\n",
       "      <td>Essence</td>\n",
       "      <td>Manuelle</td>\n",
       "      <td>6</td>\n",
       "      <td>E</td>\n",
       "    </tr>\n",
       "    <tr>\n",
       "      <th>1</th>\n",
       "      <td>ALFA-ROMEO</td>\n",
       "      <td>159</td>\n",
       "      <td>159</td>\n",
       "      <td>159 1750 Tbi (200ch)</td>\n",
       "      <td>non</td>\n",
       "      <td>12</td>\n",
       "      <td>147.0</td>\n",
       "      <td>11.5</td>\n",
       "      <td>6.0</td>\n",
       "      <td>8.0</td>\n",
       "      <td>...</td>\n",
       "      <td>0.002</td>\n",
       "      <td>1555</td>\n",
       "      <td>1555</td>\n",
       "      <td>715/2007*692/2008EURO5</td>\n",
       "      <td>BERLINE</td>\n",
       "      <td>MOY-SUPER</td>\n",
       "      <td>Essence</td>\n",
       "      <td>Manuelle</td>\n",
       "      <td>6</td>\n",
       "      <td>E</td>\n",
       "    </tr>\n",
       "    <tr>\n",
       "      <th>2</th>\n",
       "      <td>ALFA-ROMEO</td>\n",
       "      <td>159</td>\n",
       "      <td>159</td>\n",
       "      <td>159 2.0 JTDm (136ch)</td>\n",
       "      <td>non</td>\n",
       "      <td>7</td>\n",
       "      <td>100.0</td>\n",
       "      <td>6.6</td>\n",
       "      <td>4.2</td>\n",
       "      <td>5.1</td>\n",
       "      <td>...</td>\n",
       "      <td>0.001</td>\n",
       "      <td>1565</td>\n",
       "      <td>1565</td>\n",
       "      <td>715/2007*692/2008EURO5</td>\n",
       "      <td>BERLINE</td>\n",
       "      <td>MOY-SUPER</td>\n",
       "      <td>Gazoil</td>\n",
       "      <td>Manuelle</td>\n",
       "      <td>6</td>\n",
       "      <td>C</td>\n",
       "    </tr>\n",
       "    <tr>\n",
       "      <th>3</th>\n",
       "      <td>ALFA-ROMEO</td>\n",
       "      <td>159</td>\n",
       "      <td>159</td>\n",
       "      <td>159 2.0 JTDm (136ch)</td>\n",
       "      <td>non</td>\n",
       "      <td>7</td>\n",
       "      <td>100.0</td>\n",
       "      <td>6.6</td>\n",
       "      <td>4.2</td>\n",
       "      <td>5.1</td>\n",
       "      <td>...</td>\n",
       "      <td>0.001</td>\n",
       "      <td>1565</td>\n",
       "      <td>1565</td>\n",
       "      <td>715/2007*692/2008EURO5</td>\n",
       "      <td>BERLINE</td>\n",
       "      <td>MOY-SUPER</td>\n",
       "      <td>Gazoil</td>\n",
       "      <td>Manuelle</td>\n",
       "      <td>6</td>\n",
       "      <td>C</td>\n",
       "    </tr>\n",
       "    <tr>\n",
       "      <th>4</th>\n",
       "      <td>ALFA-ROMEO</td>\n",
       "      <td>159</td>\n",
       "      <td>159</td>\n",
       "      <td>159 2.0 JTDm (170ch)</td>\n",
       "      <td>non</td>\n",
       "      <td>9</td>\n",
       "      <td>125.0</td>\n",
       "      <td>6.9</td>\n",
       "      <td>4.3</td>\n",
       "      <td>5.3</td>\n",
       "      <td>...</td>\n",
       "      <td>0.001</td>\n",
       "      <td>1565</td>\n",
       "      <td>1565</td>\n",
       "      <td>715/2007*692/2008EURO5</td>\n",
       "      <td>BERLINE</td>\n",
       "      <td>MOY-SUPER</td>\n",
       "      <td>Gazoil</td>\n",
       "      <td>Manuelle</td>\n",
       "      <td>6</td>\n",
       "      <td>C</td>\n",
       "    </tr>\n",
       "  </tbody>\n",
       "</table>\n",
       "<p>5 rows × 23 columns</p>\n",
       "</div>"
      ],
      "text/plain": [
       "      lib_mrq lib_mod_doss lib_mod                 dscom hybride  \\\n",
       "0  ALFA-ROMEO          159     159  159 1750 Tbi (200ch)     non   \n",
       "1  ALFA-ROMEO          159     159  159 1750 Tbi (200ch)     non   \n",
       "2  ALFA-ROMEO          159     159  159 2.0 JTDm (136ch)     non   \n",
       "3  ALFA-ROMEO          159     159  159 2.0 JTDm (136ch)     non   \n",
       "4  ALFA-ROMEO          159     159  159 2.0 JTDm (170ch)     non   \n",
       "\n",
       "   puiss_admin_98  puiss_max  conso_urb  conso_exurb  conso_mixte  ...   ptcl  \\\n",
       "0              12      147.0       11.3          5.8          7.8  ...  0.002   \n",
       "1              12      147.0       11.5          6.0          8.0  ...  0.002   \n",
       "2               7      100.0        6.6          4.2          5.1  ...  0.001   \n",
       "3               7      100.0        6.6          4.2          5.1  ...  0.001   \n",
       "4               9      125.0        6.9          4.3          5.3  ...  0.001   \n",
       "\n",
       "   masse_ordma_min  masse_ordma_max                champ_v9  Carrosserie  \\\n",
       "0             1505             1505  715/2007*692/2008EURO5      BERLINE   \n",
       "1             1555             1555  715/2007*692/2008EURO5      BERLINE   \n",
       "2             1565             1565  715/2007*692/2008EURO5      BERLINE   \n",
       "3             1565             1565  715/2007*692/2008EURO5      BERLINE   \n",
       "4             1565             1565  715/2007*692/2008EURO5      BERLINE   \n",
       "\n",
       "       gamme carburant typ_boite nb_rapp etiquette  \n",
       "0  MOY-SUPER   Essence  Manuelle       6         E  \n",
       "1  MOY-SUPER   Essence  Manuelle       6         E  \n",
       "2  MOY-SUPER    Gazoil  Manuelle       6         C  \n",
       "3  MOY-SUPER    Gazoil  Manuelle       6         C  \n",
       "4  MOY-SUPER    Gazoil  Manuelle       6         C  \n",
       "\n",
       "[5 rows x 23 columns]"
      ]
     },
     "metadata": {},
     "output_type": "display_data"
    },
    {
     "name": "stdout",
     "output_type": "stream",
     "text": [
      "<class 'pandas.core.frame.DataFrame'>\n",
      "RangeIndex: 52308 entries, 0 to 52307\n",
      "Data columns (total 23 columns):\n",
      " #   Column           Non-Null Count  Dtype  \n",
      "---  ------           --------------  -----  \n",
      " 0   lib_mrq          52308 non-null  object \n",
      " 1   lib_mod_doss     52308 non-null  object \n",
      " 2   lib_mod          52308 non-null  object \n",
      " 3   dscom            52308 non-null  object \n",
      " 4   hybride          52308 non-null  object \n",
      " 5   puiss_admin_98   52308 non-null  int64  \n",
      " 6   puiss_max        52308 non-null  float64\n",
      " 7   conso_urb        52308 non-null  float64\n",
      " 8   conso_exurb      52308 non-null  float64\n",
      " 9   conso_mixte      52308 non-null  float64\n",
      " 10  co2              52308 non-null  float64\n",
      " 11  co_typ_1         52308 non-null  float64\n",
      " 12  nox              52308 non-null  float64\n",
      " 13  ptcl             52308 non-null  float64\n",
      " 14  masse_ordma_min  52308 non-null  int64  \n",
      " 15  masse_ordma_max  52308 non-null  int64  \n",
      " 16  champ_v9         52308 non-null  object \n",
      " 17  Carrosserie      52308 non-null  object \n",
      " 18  gamme            52308 non-null  object \n",
      " 19  carburant        52308 non-null  object \n",
      " 20  typ_boite        52308 non-null  object \n",
      " 21  nb_rapp          52308 non-null  int64  \n",
      " 22  etiquette        52308 non-null  object \n",
      "dtypes: float64(8), int64(4), object(11)\n",
      "memory usage: 9.2+ MB\n"
     ]
    },
    {
     "data": {
      "text/plain": [
       "None"
      ]
     },
     "metadata": {},
     "output_type": "display_data"
    }
   ],
   "source": [
    "df=pd.read_csv(\"Donnees_propes.csv\")\n",
    "display(df.head())\n",
    "display(df.info())"
   ]
  },
  {
   "cell_type": "markdown",
   "metadata": {},
   "source": [
    "On supprime les colonnes qui contiennent des informations sur la marque ou le constructeur :\n",
    "lib_mrq, lib_mod_doss, lib_mod_ dscom ainsi que la variable champ_v9, co2 (nous avons les etiquettes), puiss_admin_98, co_typ_1 \n"
   ]
  },
  {
   "cell_type": "code",
   "execution_count": 10,
   "metadata": {},
   "outputs": [],
   "source": [
    "to_drop = ['lib_mrq', 'lib_mod_doss', 'lib_mod', 'dscom', 'champ_v9', 'co2', 'puiss_admin_98', 'co_typ_1',\n",
    "           'conso_urb', 'conso_exurb', 'conso_mixte']\n",
    "df_clear = df.drop(to_drop, axis = 1)"
   ]
  },
  {
   "cell_type": "code",
   "execution_count": 11,
   "metadata": {},
   "outputs": [
    {
     "name": "stdout",
     "output_type": "stream",
     "text": [
      "hybride         2\n",
      "Carrosserie    11\n",
      "gamme           6\n",
      "carburant       4\n",
      "typ_boite       3\n",
      "etiquette       7\n",
      "dtype: int64\n"
     ]
    }
   ],
   "source": [
    "\n",
    "# On récupère les colonnes de type Object\n",
    "colonnes_object = df_clear.select_dtypes(include='object')\n",
    "\n",
    "# On calcule le nombre de modalités de chacune de ces variables\n",
    "categories_uniques = colonnes_object.nunique()\n",
    "print(categories_uniques)\n",
    "\n",
    "# 6 Variables catégorielles à réencoder"
   ]
  },
  {
   "cell_type": "markdown",
   "metadata": {},
   "source": [
    "Reencodage des variables categorielles"
   ]
  },
  {
   "cell_type": "code",
   "execution_count": 12,
   "metadata": {},
   "outputs": [
    {
     "data": {
      "text/plain": [
       "'hybride'"
      ]
     },
     "metadata": {},
     "output_type": "display_data"
    },
    {
     "data": {
      "text/plain": [
       "array([0, 1])"
      ]
     },
     "metadata": {},
     "output_type": "display_data"
    },
    {
     "data": {
      "text/plain": [
       "'etiquette'"
      ]
     },
     "metadata": {},
     "output_type": "display_data"
    },
    {
     "data": {
      "text/plain": [
       "array([4, 2, 3, 1, 0, 5, 6])"
      ]
     },
     "metadata": {},
     "output_type": "display_data"
    }
   ],
   "source": [
    "# Variable hybride\n",
    "\n",
    "# On remplace les notes alphabétiques par les notes numériques correspondantes\n",
    "df_clear['hybride'] = df_clear['hybride'].replace({'oui':1, 'non': 0})\n",
    "display('hybride', df_clear['hybride'].unique())\n",
    "\n",
    "# Variable cible etiquette\n",
    "# On créé un dictionnaire qui contient les changements souhaités\n",
    "grade = {'A': 0, 'B': 1, 'C': 2, 'D': 3, 'E': 4, 'F': 5, 'G': 6}\n",
    "\n",
    "# On remplace les notes alphabétiques par les notes numériques correspondantes\n",
    "df_clear['etiquette'] = df_clear['etiquette'].replace(grade)\n",
    "display('etiquette', df_clear['etiquette'].unique())"
   ]
  },
  {
   "cell_type": "code",
   "execution_count": 13,
   "metadata": {},
   "outputs": [],
   "source": [
    "df_encoded = pd.get_dummies(df_clear, dtype='int')"
   ]
  },
  {
   "cell_type": "code",
   "execution_count": 14,
   "metadata": {},
   "outputs": [
    {
     "name": "stdout",
     "output_type": "stream",
     "text": [
      "<class 'pandas.core.frame.DataFrame'>\n",
      "RangeIndex: 52308 entries, 0 to 52307\n",
      "Data columns (total 32 columns):\n",
      " #   Column                           Non-Null Count  Dtype  \n",
      "---  ------                           --------------  -----  \n",
      " 0   hybride                          52308 non-null  int64  \n",
      " 1   puiss_max                        52308 non-null  float64\n",
      " 2   nox                              52308 non-null  float64\n",
      " 3   ptcl                             52308 non-null  float64\n",
      " 4   masse_ordma_min                  52308 non-null  int64  \n",
      " 5   masse_ordma_max                  52308 non-null  int64  \n",
      " 6   nb_rapp                          52308 non-null  int64  \n",
      " 7   etiquette                        52308 non-null  int64  \n",
      " 8   Carrosserie_BERLINE              52308 non-null  int64  \n",
      " 9   Carrosserie_BREAK                52308 non-null  int64  \n",
      " 10  Carrosserie_CABRIOLET            52308 non-null  int64  \n",
      " 11  Carrosserie_COMBISPACE           52308 non-null  int64  \n",
      " 12  Carrosserie_COMBISPCACE          52308 non-null  int64  \n",
      " 13  Carrosserie_COUPE                52308 non-null  int64  \n",
      " 14  Carrosserie_MINIBUS              52308 non-null  int64  \n",
      " 15  Carrosserie_MINISPACE            52308 non-null  int64  \n",
      " 16  Carrosserie_MONOSPACE            52308 non-null  int64  \n",
      " 17  Carrosserie_MONOSPACE COMPACT    52308 non-null  int64  \n",
      " 18  Carrosserie_TS TERRAINS/CHEMINS  52308 non-null  int64  \n",
      " 19  gamme_ECONOMIQUE                 52308 non-null  int64  \n",
      " 20  gamme_INFERIEURE                 52308 non-null  int64  \n",
      " 21  gamme_LUXE                       52308 non-null  int64  \n",
      " 22  gamme_MOY-INFER                  52308 non-null  int64  \n",
      " 23  gamme_MOY-SUPER                  52308 non-null  int64  \n",
      " 24  gamme_SUPERIEURE                 52308 non-null  int64  \n",
      " 25  carburant_Essence                52308 non-null  int64  \n",
      " 26  carburant_Essence/Elec           52308 non-null  int64  \n",
      " 27  carburant_Gasoil/Elec            52308 non-null  int64  \n",
      " 28  carburant_Gazoil                 52308 non-null  int64  \n",
      " 29  typ_boite_Auto                   52308 non-null  int64  \n",
      " 30  typ_boite_Manuelle               52308 non-null  int64  \n",
      " 31  typ_boite_Var_continue           52308 non-null  int64  \n",
      "dtypes: float64(3), int64(29)\n",
      "memory usage: 12.8 MB\n"
     ]
    },
    {
     "data": {
      "text/plain": [
       "Index(['hybride', 'puiss_max', 'nox', 'ptcl', 'masse_ordma_min',\n",
       "       'masse_ordma_max', 'nb_rapp', 'etiquette', 'Carrosserie_BERLINE',\n",
       "       'Carrosserie_BREAK', 'Carrosserie_CABRIOLET', 'Carrosserie_COMBISPACE',\n",
       "       'Carrosserie_COMBISPCACE', 'Carrosserie_COUPE', 'Carrosserie_MINIBUS',\n",
       "       'Carrosserie_MINISPACE', 'Carrosserie_MONOSPACE',\n",
       "       'Carrosserie_MONOSPACE COMPACT', 'Carrosserie_TS TERRAINS/CHEMINS',\n",
       "       'gamme_ECONOMIQUE', 'gamme_INFERIEURE', 'gamme_LUXE', 'gamme_MOY-INFER',\n",
       "       'gamme_MOY-SUPER', 'gamme_SUPERIEURE', 'carburant_Essence',\n",
       "       'carburant_Essence/Elec', 'carburant_Gasoil/Elec', 'carburant_Gazoil',\n",
       "       'typ_boite_Auto', 'typ_boite_Manuelle', 'typ_boite_Var_continue'],\n",
       "      dtype='object')"
      ]
     },
     "execution_count": 14,
     "metadata": {},
     "output_type": "execute_result"
    }
   ],
   "source": [
    "df_encoded.info()\n",
    "df_encoded.columns"
   ]
  },
  {
   "cell_type": "markdown",
   "metadata": {},
   "source": [
    "Separation des données"
   ]
  },
  {
   "cell_type": "code",
   "execution_count": 15,
   "metadata": {},
   "outputs": [],
   "source": [
    "from sklearn.model_selection import train_test_split\n",
    "\n",
    "X = df_encoded.drop(columns ='etiquette', axis = 1)\n",
    "y= df_encoded['etiquette']\n",
    "\n",
    "X_train, X_test, y_train, y_test = train_test_split(X, y, test_size=0.2, random_state=12)\n",
    "\n"
   ]
  },
  {
   "cell_type": "markdown",
   "metadata": {},
   "source": [
    "Standardisation des données"
   ]
  },
  {
   "cell_type": "code",
   "execution_count": 16,
   "metadata": {},
   "outputs": [],
   "source": [
    "from sklearn.preprocessing import StandardScaler\n",
    "scaler = StandardScaler()\n",
    "X_train_scaled = scaler.fit_transform(X_train)\n",
    "X_test_scaled = scaler.transform(X_test) "
   ]
  },
  {
   "cell_type": "markdown",
   "metadata": {},
   "source": [
    "# Premiers modèles"
   ]
  },
  {
   "cell_type": "markdown",
   "metadata": {},
   "source": [
    "Random Forest"
   ]
  },
  {
   "cell_type": "code",
   "execution_count": 17,
   "metadata": {},
   "outputs": [
    {
     "name": "stdout",
     "output_type": "stream",
     "text": [
      "              precision    recall  f1-score   support\n",
      "\n",
      "           0       0.86      0.81      0.83        31\n",
      "           1       0.83      0.88      0.86       249\n",
      "           2       0.87      0.80      0.83       427\n",
      "           3       0.79      0.77      0.78       324\n",
      "           4       0.80      0.87      0.83      3333\n",
      "           5       0.92      0.88      0.90      5968\n",
      "           6       1.00      0.93      0.96       130\n",
      "\n",
      "    accuracy                           0.87     10462\n",
      "   macro avg       0.87      0.85      0.86     10462\n",
      "weighted avg       0.88      0.87      0.87     10462\n",
      "\n",
      "col_0       0    1    2    3     4     5    6\n",
      "etiquette                                    \n",
      "0          25    6    0    0     0     0    0\n",
      "1           4  220   24    1     0     0    0\n",
      "2           0   37  342   48     0     0    0\n",
      "3           0    1   27  251    45     0    0\n",
      "4           0    0    0   17  2894   422    0\n",
      "5           0    0    0    0   688  5280    0\n",
      "6           0    0    0    0     0     9  121\n"
     ]
    }
   ],
   "source": [
    "from sklearn.ensemble import RandomForestClassifier\n",
    "from sklearn.metrics import classification_report\n",
    "\n",
    "# Modele\n",
    "model = RandomForestClassifier(n_estimators=300, random_state=42)\n",
    "model.fit(X_train_scaled, y_train)\n",
    "\n",
    "# Prediction\n",
    "y_pred = model.predict(X_test_scaled)\n",
    "\n",
    "# Résultats\n",
    "print(classification_report(y_test, y_pred))\n",
    "print(pd.crosstab(y_test, y_pred))\n",
    "\n",
    "# Certaines classes sont sous représentées"
   ]
  },
  {
   "cell_type": "markdown",
   "metadata": {},
   "source": [
    "Random forest avec l'argument class_weight='balanced'"
   ]
  },
  {
   "cell_type": "code",
   "execution_count": 18,
   "metadata": {},
   "outputs": [
    {
     "name": "stdout",
     "output_type": "stream",
     "text": [
      "              precision    recall  f1-score   support\n",
      "\n",
      "           0       0.75      0.77      0.76        31\n",
      "           1       0.82      0.87      0.84       249\n",
      "           2       0.87      0.79      0.83       427\n",
      "           3       0.70      0.87      0.78       324\n",
      "           4       0.78      0.91      0.84      3333\n",
      "           5       0.96      0.85      0.90      5968\n",
      "           6       0.75      0.99      0.85       130\n",
      "\n",
      "    accuracy                           0.87     10462\n",
      "   macro avg       0.80      0.87      0.83     10462\n",
      "weighted avg       0.88      0.87      0.87     10462\n",
      "\n",
      "col_0       0    1    2    3     4     5    6\n",
      "etiquette                                    \n",
      "0          24    7    0    0     0     0    0\n",
      "1           8  217   23    1     0     0    0\n",
      "2           0   39  336   52     0     0    0\n",
      "3           0    2   26  282    14     0    0\n",
      "4           0    0    0   65  3033   235    0\n",
      "5           0    0    0    0   846  5079   43\n",
      "6           0    0    0    0     0     1  129\n"
     ]
    }
   ],
   "source": [
    "# Modele avec l'argument class_weight='balanced'\n",
    "model = RandomForestClassifier(n_estimators=300, random_state=42, class_weight='balanced')\n",
    "model.fit(X_train_scaled, y_train)\n",
    "\n",
    "# Prediction\n",
    "y_pred = model.predict(X_test_scaled)\n",
    "\n",
    "# Résultats\n",
    "print(classification_report(y_test, y_pred))\n",
    "print(pd.crosstab(y_test, y_pred))"
   ]
  },
  {
   "cell_type": "markdown",
   "metadata": {},
   "source": [
    "Random forest avec plus de branches : 500"
   ]
  },
  {
   "cell_type": "code",
   "execution_count": 19,
   "metadata": {},
   "outputs": [
    {
     "name": "stdout",
     "output_type": "stream",
     "text": [
      "              precision    recall  f1-score   support\n",
      "\n",
      "           0       0.75      0.77      0.76        31\n",
      "           1       0.82      0.87      0.85       249\n",
      "           2       0.88      0.79      0.83       427\n",
      "           3       0.71      0.88      0.78       324\n",
      "           4       0.78      0.91      0.84      3333\n",
      "           5       0.96      0.85      0.90      5968\n",
      "           6       0.75      0.99      0.85       130\n",
      "\n",
      "    accuracy                           0.87     10462\n",
      "   macro avg       0.81      0.87      0.83     10462\n",
      "weighted avg       0.88      0.87      0.87     10462\n",
      "\n",
      "col_0       0    1    2    3     4     5    6\n",
      "etiquette                                    \n",
      "0          24    7    0    0     0     0    0\n",
      "1           8  217   23    1     0     0    0\n",
      "2           0   38  336   53     0     0    0\n",
      "3           0    2   25  285    12     0    0\n",
      "4           0    0    0   65  3032   236    0\n",
      "5           0    0    0    0   846  5079   43\n",
      "6           0    0    0    0     0     1  129\n"
     ]
    }
   ],
   "source": [
    "model = RandomForestClassifier(n_estimators=500, random_state=42, class_weight='balanced')\n",
    "model.fit(X_train_scaled, y_train)\n",
    "\n",
    "# Prediction\n",
    "y_pred = model.predict(X_test_scaled)\n",
    "\n",
    "# Résultats\n",
    "print(classification_report(y_test, y_pred))\n",
    "print(pd.crosstab(y_test, y_pred))\n"
   ]
  },
  {
   "cell_type": "markdown",
   "metadata": {},
   "source": [
    "Voir quelles données ont de l'importance"
   ]
  },
  {
   "cell_type": "code",
   "execution_count": 20,
   "metadata": {},
   "outputs": [
    {
     "name": "stdout",
     "output_type": "stream",
     "text": [
      "                            Feature  Importance\n",
      "5                   masse_ordma_max    0.171606\n",
      "4                   masse_ordma_min    0.165273\n",
      "2                               nox    0.164363\n",
      "1                         puiss_max    0.140167\n",
      "13              Carrosserie_MINIBUS    0.045243\n",
      "3                              ptcl    0.045153\n",
      "6                           nb_rapp    0.035898\n",
      "28                   typ_boite_Auto    0.034417\n",
      "29               typ_boite_Manuelle    0.028749\n",
      "7               Carrosserie_BERLINE    0.024898\n",
      "24                carburant_Essence    0.020300\n",
      "27                 carburant_Gazoil    0.017591\n",
      "21                  gamme_MOY-INFER    0.016262\n",
      "20                       gamme_LUXE    0.015293\n",
      "19                 gamme_INFERIEURE    0.015058\n",
      "22                  gamme_MOY-SUPER    0.010411\n",
      "17  Carrosserie_TS TERRAINS/CHEMINS    0.008262\n",
      "23                 gamme_SUPERIEURE    0.006937\n",
      "8                 Carrosserie_BREAK    0.006690\n",
      "0                           hybride    0.004257\n",
      "26            carburant_Gasoil/Elec    0.003375\n",
      "9             Carrosserie_CABRIOLET    0.003372\n",
      "10           Carrosserie_COMBISPACE    0.003317\n",
      "16    Carrosserie_MONOSPACE COMPACT    0.003286\n",
      "12                Carrosserie_COUPE    0.003166\n",
      "25           carburant_Essence/Elec    0.001853\n",
      "14            Carrosserie_MINISPACE    0.001638\n",
      "30           typ_boite_Var_continue    0.001308\n",
      "15            Carrosserie_MONOSPACE    0.001236\n",
      "18                 gamme_ECONOMIQUE    0.000488\n",
      "11          Carrosserie_COMBISPCACE    0.000134\n"
     ]
    }
   ],
   "source": [
    "\n",
    "importances = model.feature_importances_\n",
    "\n",
    "features = X.columns  \n",
    "importance_df = pd.DataFrame({'Feature': features, 'Importance': importances})\n",
    "\n",
    "importance_df = importance_df.sort_values(by='Importance', ascending=False)\n",
    "\n",
    "# Afficher les résultats\n",
    "print(importance_df)"
   ]
  },
  {
   "cell_type": "markdown",
   "metadata": {},
   "source": [
    "Reechantillonage"
   ]
  },
  {
   "cell_type": "code",
   "execution_count": 21,
   "metadata": {},
   "outputs": [
    {
     "name": "stdout",
     "output_type": "stream",
     "text": [
      "              precision    recall  f1-score   support\n",
      "\n",
      "           0       0.69      0.77      0.73        31\n",
      "           1       0.82      0.86      0.84       249\n",
      "           2       0.87      0.77      0.82       427\n",
      "           3       0.71      0.86      0.78       324\n",
      "           4       0.78      0.91      0.84      3333\n",
      "           5       0.95      0.85      0.90      5968\n",
      "           6       0.78      0.96      0.86       130\n",
      "\n",
      "    accuracy                           0.87     10462\n",
      "   macro avg       0.80      0.86      0.82     10462\n",
      "weighted avg       0.88      0.87      0.87     10462\n",
      "\n",
      "col_0       0    1    2    3     4     5    6\n",
      "etiquette                                    \n",
      "0          24    7    0    0     0     0    0\n",
      "1          11  214   24    0     0     0    0\n",
      "2           0   39  330   58     0     0    0\n",
      "3           0    2   24  279    19     0    0\n",
      "4           0    0    0   57  3040   236    0\n",
      "5           0    0    0    0   846  5087   35\n",
      "6           0    0    0    0     0     5  125\n"
     ]
    }
   ],
   "source": [
    "from imblearn.over_sampling import SMOTE\n",
    "\n",
    "smote = SMOTE()\n",
    "\n",
    "X_train_smote, y_train_smote = smote.fit_resample(X_train_scaled, y_train)\n",
    "\n",
    "\n",
    "model = RandomForestClassifier(n_estimators=500, random_state=42, class_weight='balanced')\n",
    "model.fit(X_train_smote, y_train_smote)\n",
    "\n",
    "# Prediction\n",
    "y_pred = model.predict(X_test_scaled)\n",
    "\n",
    "# Résultats\n",
    "print(classification_report(y_test, y_pred))\n",
    "print(pd.crosstab(y_test, y_pred))"
   ]
  },
  {
   "cell_type": "markdown",
   "metadata": {},
   "source": [
    "Modele XGBoost"
   ]
  },
  {
   "cell_type": "code",
   "execution_count": 22,
   "metadata": {},
   "outputs": [
    {
     "name": "stdout",
     "output_type": "stream",
     "text": [
      "              precision    recall  f1-score   support\n",
      "\n",
      "           0       0.67      0.77      0.72        31\n",
      "           1       0.81      0.87      0.84       249\n",
      "           2       0.87      0.76      0.81       427\n",
      "           3       0.69      0.86      0.77       324\n",
      "           4       0.78      0.91      0.84      3333\n",
      "           5       0.96      0.85      0.90      5968\n",
      "           6       0.68      0.99      0.81       130\n",
      "\n",
      "    accuracy                           0.87     10462\n",
      "   macro avg       0.78      0.86      0.81     10462\n",
      "weighted avg       0.88      0.87      0.87     10462\n",
      "\n",
      "col_0       0    1    2    3     4     5    6\n",
      "etiquette                                    \n",
      "0          24    7    0    0     0     0    0\n",
      "1          12  216   21    0     0     0    0\n",
      "2           0   42  326   59     0     0    0\n",
      "3           0    3   28  279    14     0    0\n",
      "4           0    0    0   65  3034   234    0\n",
      "5           0    0    0    1   838  5069   60\n",
      "6           0    0    0    0     0     1  129\n"
     ]
    }
   ],
   "source": [
    "from xgboost import XGBClassifier\n",
    "\n",
    "model = XGBClassifier(eval_metric=\"merror\", use_label_encoder=False)\n",
    "\n",
    "model.fit(X_train_smote, y_train_smote)\n",
    "\n",
    "# Prediction\n",
    "y_pred = model.predict(X_test_scaled)\n",
    "\n",
    "# Résultats\n",
    "print(classification_report(y_test, y_pred))\n",
    "print(pd.crosstab(y_test, y_pred))"
   ]
  }
 ],
 "metadata": {
  "kernelspec": {
   "display_name": "Python 3",
   "language": "python",
   "name": "python3"
  },
  "language_info": {
   "codemirror_mode": {
    "name": "ipython",
    "version": 3
   },
   "file_extension": ".py",
   "mimetype": "text/x-python",
   "name": "python",
   "nbconvert_exporter": "python",
   "pygments_lexer": "ipython3",
   "version": "3.13.2"
  }
 },
 "nbformat": 4,
 "nbformat_minor": 2
}
