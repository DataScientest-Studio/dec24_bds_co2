{
  "cells": [
    {
      "cell_type": "code",
      "execution_count": null,
      "metadata": {
        "id": "K90ErqW5dC0H"
      },
      "outputs": [],
      "source": [
        "import numpy as np\n",
        "import pandas as pd\n",
        "import seaborn as sns\n",
        "import matplotlib.pyplot as plt\n",
        "\n",
        "from sklearn.model_selection import train_test_split\n",
        "from sklearn.metrics import classification_report\n",
        "\n",
        "from sklearn.preprocessing import StandardScaler"
      ]
    },
    {
      "cell_type": "code",
      "execution_count": null,
      "metadata": {
        "id": "0ce45HLRdC0K"
      },
      "outputs": [],
      "source": [
        "from sklearn.linear_model import LogisticRegression\n",
        "from sklearn.neighbors import KNeighborsClassifier\n",
        "from sklearn.svm import SVC\n",
        "from sklearn.ensemble import RandomForestClassifier"
      ]
    },
    {
      "cell_type": "code",
      "source": [
        "import joblib"
      ],
      "metadata": {
        "id": "rpNoR1BOv_5n"
      },
      "execution_count": null,
      "outputs": []
    },
    {
      "cell_type": "code",
      "source": [
        "#IMPORTANT!!!\n",
        "#Exécuter cette cellule si on est sur google colab\n",
        "\n",
        "from google.colab import files\n",
        "data_to_load = files.upload()"
      ],
      "metadata": {
        "colab": {
          "base_uri": "https://localhost:8080/",
          "height": 73
        },
        "id": "YDWSOQiUfmBB",
        "outputId": "7583655e-ce39-4356-f24a-a3d930a458a0"
      },
      "execution_count": null,
      "outputs": [
        {
          "output_type": "display_data",
          "data": {
            "text/plain": [
              "<IPython.core.display.HTML object>"
            ],
            "text/html": [
              "\n",
              "     <input type=\"file\" id=\"files-9a5f2876-2d3e-446e-a508-f93c6ee2c321\" name=\"files[]\" multiple disabled\n",
              "        style=\"border:none\" />\n",
              "     <output id=\"result-9a5f2876-2d3e-446e-a508-f93c6ee2c321\">\n",
              "      Upload widget is only available when the cell has been executed in the\n",
              "      current browser session. Please rerun this cell to enable.\n",
              "      </output>\n",
              "      <script>// Copyright 2017 Google LLC\n",
              "//\n",
              "// Licensed under the Apache License, Version 2.0 (the \"License\");\n",
              "// you may not use this file except in compliance with the License.\n",
              "// You may obtain a copy of the License at\n",
              "//\n",
              "//      http://www.apache.org/licenses/LICENSE-2.0\n",
              "//\n",
              "// Unless required by applicable law or agreed to in writing, software\n",
              "// distributed under the License is distributed on an \"AS IS\" BASIS,\n",
              "// WITHOUT WARRANTIES OR CONDITIONS OF ANY KIND, either express or implied.\n",
              "// See the License for the specific language governing permissions and\n",
              "// limitations under the License.\n",
              "\n",
              "/**\n",
              " * @fileoverview Helpers for google.colab Python module.\n",
              " */\n",
              "(function(scope) {\n",
              "function span(text, styleAttributes = {}) {\n",
              "  const element = document.createElement('span');\n",
              "  element.textContent = text;\n",
              "  for (const key of Object.keys(styleAttributes)) {\n",
              "    element.style[key] = styleAttributes[key];\n",
              "  }\n",
              "  return element;\n",
              "}\n",
              "\n",
              "// Max number of bytes which will be uploaded at a time.\n",
              "const MAX_PAYLOAD_SIZE = 100 * 1024;\n",
              "\n",
              "function _uploadFiles(inputId, outputId) {\n",
              "  const steps = uploadFilesStep(inputId, outputId);\n",
              "  const outputElement = document.getElementById(outputId);\n",
              "  // Cache steps on the outputElement to make it available for the next call\n",
              "  // to uploadFilesContinue from Python.\n",
              "  outputElement.steps = steps;\n",
              "\n",
              "  return _uploadFilesContinue(outputId);\n",
              "}\n",
              "\n",
              "// This is roughly an async generator (not supported in the browser yet),\n",
              "// where there are multiple asynchronous steps and the Python side is going\n",
              "// to poll for completion of each step.\n",
              "// This uses a Promise to block the python side on completion of each step,\n",
              "// then passes the result of the previous step as the input to the next step.\n",
              "function _uploadFilesContinue(outputId) {\n",
              "  const outputElement = document.getElementById(outputId);\n",
              "  const steps = outputElement.steps;\n",
              "\n",
              "  const next = steps.next(outputElement.lastPromiseValue);\n",
              "  return Promise.resolve(next.value.promise).then((value) => {\n",
              "    // Cache the last promise value to make it available to the next\n",
              "    // step of the generator.\n",
              "    outputElement.lastPromiseValue = value;\n",
              "    return next.value.response;\n",
              "  });\n",
              "}\n",
              "\n",
              "/**\n",
              " * Generator function which is called between each async step of the upload\n",
              " * process.\n",
              " * @param {string} inputId Element ID of the input file picker element.\n",
              " * @param {string} outputId Element ID of the output display.\n",
              " * @return {!Iterable<!Object>} Iterable of next steps.\n",
              " */\n",
              "function* uploadFilesStep(inputId, outputId) {\n",
              "  const inputElement = document.getElementById(inputId);\n",
              "  inputElement.disabled = false;\n",
              "\n",
              "  const outputElement = document.getElementById(outputId);\n",
              "  outputElement.innerHTML = '';\n",
              "\n",
              "  const pickedPromise = new Promise((resolve) => {\n",
              "    inputElement.addEventListener('change', (e) => {\n",
              "      resolve(e.target.files);\n",
              "    });\n",
              "  });\n",
              "\n",
              "  const cancel = document.createElement('button');\n",
              "  inputElement.parentElement.appendChild(cancel);\n",
              "  cancel.textContent = 'Cancel upload';\n",
              "  const cancelPromise = new Promise((resolve) => {\n",
              "    cancel.onclick = () => {\n",
              "      resolve(null);\n",
              "    };\n",
              "  });\n",
              "\n",
              "  // Wait for the user to pick the files.\n",
              "  const files = yield {\n",
              "    promise: Promise.race([pickedPromise, cancelPromise]),\n",
              "    response: {\n",
              "      action: 'starting',\n",
              "    }\n",
              "  };\n",
              "\n",
              "  cancel.remove();\n",
              "\n",
              "  // Disable the input element since further picks are not allowed.\n",
              "  inputElement.disabled = true;\n",
              "\n",
              "  if (!files) {\n",
              "    return {\n",
              "      response: {\n",
              "        action: 'complete',\n",
              "      }\n",
              "    };\n",
              "  }\n",
              "\n",
              "  for (const file of files) {\n",
              "    const li = document.createElement('li');\n",
              "    li.append(span(file.name, {fontWeight: 'bold'}));\n",
              "    li.append(span(\n",
              "        `(${file.type || 'n/a'}) - ${file.size} bytes, ` +\n",
              "        `last modified: ${\n",
              "            file.lastModifiedDate ? file.lastModifiedDate.toLocaleDateString() :\n",
              "                                    'n/a'} - `));\n",
              "    const percent = span('0% done');\n",
              "    li.appendChild(percent);\n",
              "\n",
              "    outputElement.appendChild(li);\n",
              "\n",
              "    const fileDataPromise = new Promise((resolve) => {\n",
              "      const reader = new FileReader();\n",
              "      reader.onload = (e) => {\n",
              "        resolve(e.target.result);\n",
              "      };\n",
              "      reader.readAsArrayBuffer(file);\n",
              "    });\n",
              "    // Wait for the data to be ready.\n",
              "    let fileData = yield {\n",
              "      promise: fileDataPromise,\n",
              "      response: {\n",
              "        action: 'continue',\n",
              "      }\n",
              "    };\n",
              "\n",
              "    // Use a chunked sending to avoid message size limits. See b/62115660.\n",
              "    let position = 0;\n",
              "    do {\n",
              "      const length = Math.min(fileData.byteLength - position, MAX_PAYLOAD_SIZE);\n",
              "      const chunk = new Uint8Array(fileData, position, length);\n",
              "      position += length;\n",
              "\n",
              "      const base64 = btoa(String.fromCharCode.apply(null, chunk));\n",
              "      yield {\n",
              "        response: {\n",
              "          action: 'append',\n",
              "          file: file.name,\n",
              "          data: base64,\n",
              "        },\n",
              "      };\n",
              "\n",
              "      let percentDone = fileData.byteLength === 0 ?\n",
              "          100 :\n",
              "          Math.round((position / fileData.byteLength) * 100);\n",
              "      percent.textContent = `${percentDone}% done`;\n",
              "\n",
              "    } while (position < fileData.byteLength);\n",
              "  }\n",
              "\n",
              "  // All done.\n",
              "  yield {\n",
              "    response: {\n",
              "      action: 'complete',\n",
              "    }\n",
              "  };\n",
              "}\n",
              "\n",
              "scope.google = scope.google || {};\n",
              "scope.google.colab = scope.google.colab || {};\n",
              "scope.google.colab._files = {\n",
              "  _uploadFiles,\n",
              "  _uploadFilesContinue,\n",
              "};\n",
              "})(self);\n",
              "</script> "
            ]
          },
          "metadata": {}
        },
        {
          "output_type": "stream",
          "name": "stdout",
          "text": [
            "Saving data_merge_v2.csv to data_merge_v2.csv\n"
          ]
        }
      ]
    },
    {
      "cell_type": "code",
      "source": [
        "#IMPORTANT!!!\n",
        "#Exécuter cette cellule si on est sur google colab\n",
        "\n",
        "import io\n",
        "df = pd.read_csv(io.BytesIO(data_to_load['data_merge_v2.csv']))\n",
        "\n",
        "print(df.shape)\n",
        "print(df.columns)\n",
        "print(df.head())\n",
        "print(df.info())"
      ],
      "metadata": {
        "colab": {
          "base_uri": "https://localhost:8080/"
        },
        "id": "73wyp9jjHcV6",
        "outputId": "8d7c4ed2-f901-4e98-b3a2-dc43d9a5117d"
      },
      "execution_count": null,
      "outputs": [
        {
          "output_type": "stream",
          "name": "stdout",
          "text": [
            "(5890, 29)\n",
            "Index(['lib_mrq', 'lib_mod_doss', 'lib_mod', 'dscom', 'cod_cbr', 'hybride',\n",
            "       'puiss_admin_98', 'puiss_max', 'conso_urb', 'conso_exurb',\n",
            "       'conso_mixte', 'co2', 'co_typ_1', 'nox', 'ptcl', 'masse_ordma_min',\n",
            "       'masse_ordma_max', 'champ_v9', 'Carrosserie', 'gamme', 'Mp', 'Ct',\n",
            "       'W (mm)', 'At1 (mm)', 'At2 (mm)', 'ec (cm3)', 'typ_boite', 'nb_rapp',\n",
            "       'category'],\n",
            "      dtype='object')\n",
            "      lib_mrq lib_mod_doss    lib_mod                        dscom cod_cbr  \\\n",
            "0  ALFA-ROMEO          159        159         159 2.0 JTDm (170ch)      GO   \n",
            "1  ALFA-ROMEO          159        159     159 2.0 JTDm (170ch) ECO      GO   \n",
            "2  ALFA-ROMEO          159        159      159 SW 2.0 JTDm (170ch)      GO   \n",
            "3  ALFA-ROMEO          159        159  159 SW 2.0 JTDm (170ch) ECO      GO   \n",
            "4  ALFA-ROMEO  AR8C SPIDER  8C SPIDER                    8C SPIDER      ES   \n",
            "\n",
            "  hybride  puiss_admin_98  puiss_max  conso_urb  conso_exurb  ...      gamme  \\\n",
            "0     non               9      125.0        6.9          4.3  ...  MOY-SUPER   \n",
            "1     non               9      125.0        6.6          4.3  ...  MOY-SUPER   \n",
            "2     non               9      125.0        7.1          4.4  ...  MOY-SUPER   \n",
            "3     non               9      125.0        6.7          4.4  ...  MOY-SUPER   \n",
            "4     non              38      331.0       24.4         11.6  ...       LUXE   \n",
            "\n",
            "                           Mp  Ct  W (mm)  At1 (mm)  At2 (mm)  ec (cm3)  \\\n",
            "0                         NaN  M1  2703.0    1579.0    1559.0    1956.0   \n",
            "1                         NaN  M1  2703.0    1593.0    1575.0    1956.0   \n",
            "2                         NaN  M1  2703.0    1579.0    1559.0    1956.0   \n",
            "3                         NaN  M1  2703.0    1593.0    1575.0    1956.0   \n",
            "4  FIAT GROUP AUTOMOBILES SPA  M1  2645.0    1590.0    1589.0    4691.0   \n",
            "\n",
            "  typ_boite nb_rapp category  \n",
            "0         M       6        C  \n",
            "1         M       6        C  \n",
            "2         M       6        D  \n",
            "3         M       6        C  \n",
            "4         M       6        G  \n",
            "\n",
            "[5 rows x 29 columns]\n",
            "<class 'pandas.core.frame.DataFrame'>\n",
            "RangeIndex: 5890 entries, 0 to 5889\n",
            "Data columns (total 29 columns):\n",
            " #   Column           Non-Null Count  Dtype  \n",
            "---  ------           --------------  -----  \n",
            " 0   lib_mrq          5890 non-null   object \n",
            " 1   lib_mod_doss     5890 non-null   object \n",
            " 2   lib_mod          5890 non-null   object \n",
            " 3   dscom            5890 non-null   object \n",
            " 4   cod_cbr          5890 non-null   object \n",
            " 5   hybride          5890 non-null   object \n",
            " 6   puiss_admin_98   5890 non-null   int64  \n",
            " 7   puiss_max        5890 non-null   float64\n",
            " 8   conso_urb        5890 non-null   float64\n",
            " 9   conso_exurb      5890 non-null   float64\n",
            " 10  conso_mixte      5890 non-null   float64\n",
            " 11  co2              5890 non-null   float64\n",
            " 12  co_typ_1         5878 non-null   float64\n",
            " 13  nox              5878 non-null   float64\n",
            " 14  ptcl             4484 non-null   float64\n",
            " 15  masse_ordma_min  5890 non-null   int64  \n",
            " 16  masse_ordma_max  5890 non-null   int64  \n",
            " 17  champ_v9         5890 non-null   object \n",
            " 18  Carrosserie      5890 non-null   object \n",
            " 19  gamme            5890 non-null   object \n",
            " 20  Mp               3001 non-null   object \n",
            " 21  Ct               5890 non-null   object \n",
            " 22  W (mm)           5890 non-null   float64\n",
            " 23  At1 (mm)         5890 non-null   float64\n",
            " 24  At2 (mm)         5890 non-null   float64\n",
            " 25  ec (cm3)         5890 non-null   float64\n",
            " 26  typ_boite        5890 non-null   object \n",
            " 27  nb_rapp          5890 non-null   int64  \n",
            " 28  category         5890 non-null   object \n",
            "dtypes: float64(12), int64(4), object(13)\n",
            "memory usage: 1.3+ MB\n",
            "None\n"
          ]
        }
      ]
    },
    {
      "cell_type": "code",
      "execution_count": null,
      "metadata": {
        "id": "BbCgjjvsdC0K",
        "outputId": "cef90690-d660-4df3-a6c9-cf01728d431f"
      },
      "outputs": [
        {
          "name": "stdout",
          "output_type": "stream",
          "text": [
            "(5890, 29)\n",
            "Index(['lib_mrq', 'lib_mod_doss', 'lib_mod', 'dscom', 'cod_cbr', 'hybride',\n",
            "       'puiss_admin_98', 'puiss_max', 'conso_urb', 'conso_exurb',\n",
            "       'conso_mixte', 'co2', 'co_typ_1', 'nox', 'ptcl', 'masse_ordma_min',\n",
            "       'masse_ordma_max', 'champ_v9', 'Carrosserie', 'gamme', 'Mp', 'Ct',\n",
            "       'W (mm)', 'At1 (mm)', 'At2 (mm)', 'ec (cm3)', 'typ_boite', 'nb_rapp',\n",
            "       'category'],\n",
            "      dtype='object')\n",
            "      lib_mrq lib_mod_doss    lib_mod                        dscom cod_cbr  \\\n",
            "0  ALFA-ROMEO          159        159         159 2.0 JTDm (170ch)      GO   \n",
            "1  ALFA-ROMEO          159        159     159 2.0 JTDm (170ch) ECO      GO   \n",
            "2  ALFA-ROMEO          159        159      159 SW 2.0 JTDm (170ch)      GO   \n",
            "3  ALFA-ROMEO          159        159  159 SW 2.0 JTDm (170ch) ECO      GO   \n",
            "4  ALFA-ROMEO  AR8C SPIDER  8C SPIDER                    8C SPIDER      ES   \n",
            "\n",
            "  hybride  puiss_admin_98  puiss_max  conso_urb  conso_exurb   ...     \\\n",
            "0     non               9      125.0        6.9          4.3   ...      \n",
            "1     non               9      125.0        6.6          4.3   ...      \n",
            "2     non               9      125.0        7.1          4.4   ...      \n",
            "3     non               9      125.0        6.7          4.4   ...      \n",
            "4     non              38      331.0       24.4         11.6   ...      \n",
            "\n",
            "       gamme                          Mp  Ct  W (mm)  At1 (mm)  At2 (mm)  \\\n",
            "0  MOY-SUPER                         NaN  M1  2703.0    1579.0    1559.0   \n",
            "1  MOY-SUPER                         NaN  M1  2703.0    1593.0    1575.0   \n",
            "2  MOY-SUPER                         NaN  M1  2703.0    1579.0    1559.0   \n",
            "3  MOY-SUPER                         NaN  M1  2703.0    1593.0    1575.0   \n",
            "4       LUXE  FIAT GROUP AUTOMOBILES SPA  M1  2645.0    1590.0    1589.0   \n",
            "\n",
            "   ec (cm3) typ_boite nb_rapp category  \n",
            "0    1956.0         M       6        C  \n",
            "1    1956.0         M       6        C  \n",
            "2    1956.0         M       6        D  \n",
            "3    1956.0         M       6        C  \n",
            "4    4691.0         M       6        G  \n",
            "\n",
            "[5 rows x 29 columns]\n",
            "<class 'pandas.core.frame.DataFrame'>\n",
            "RangeIndex: 5890 entries, 0 to 5889\n",
            "Data columns (total 29 columns):\n",
            "lib_mrq            5890 non-null object\n",
            "lib_mod_doss       5890 non-null object\n",
            "lib_mod            5890 non-null object\n",
            "dscom              5890 non-null object\n",
            "cod_cbr            5890 non-null object\n",
            "hybride            5890 non-null object\n",
            "puiss_admin_98     5890 non-null int64\n",
            "puiss_max          5890 non-null float64\n",
            "conso_urb          5890 non-null float64\n",
            "conso_exurb        5890 non-null float64\n",
            "conso_mixte        5890 non-null float64\n",
            "co2                5890 non-null float64\n",
            "co_typ_1           5878 non-null float64\n",
            "nox                5878 non-null float64\n",
            "ptcl               4484 non-null float64\n",
            "masse_ordma_min    5890 non-null int64\n",
            "masse_ordma_max    5890 non-null int64\n",
            "champ_v9           5890 non-null object\n",
            "Carrosserie        5890 non-null object\n",
            "gamme              5890 non-null object\n",
            "Mp                 3001 non-null object\n",
            "Ct                 5890 non-null object\n",
            "W (mm)             5890 non-null float64\n",
            "At1 (mm)           5890 non-null float64\n",
            "At2 (mm)           5890 non-null float64\n",
            "ec (cm3)           5890 non-null float64\n",
            "typ_boite          5890 non-null object\n",
            "nb_rapp            5890 non-null int64\n",
            "category           5890 non-null object\n",
            "dtypes: float64(12), int64(4), object(13)\n",
            "memory usage: 1.0+ MB\n",
            "None\n"
          ]
        }
      ],
      "source": [
        "#IMPORTANT!!!\n",
        "#Exécuter cette cellule si on est PAS sur google colab\n",
        "\n",
        "df = pd.read_csv(\"../data/Processed/data_merge_v2.csv\")\n",
        "\n",
        "print(df.shape)\n",
        "print(df.columns)\n",
        "print(df.head())\n",
        "print(df.info())"
      ]
    },
    {
      "cell_type": "markdown",
      "metadata": {
        "id": "64woZ-_EdC0M"
      },
      "source": [
        "**Etude 1**\n",
        "\n",
        "Dans cette première étude, on va juste tester des modèles simples sur les variables conso_mixte, puiss_max et ec (cm3)"
      ]
    },
    {
      "cell_type": "markdown",
      "metadata": {
        "id": "f_P-uO_idC0P"
      },
      "source": [
        "**Only \"conso_mixte\"**"
      ]
    },
    {
      "cell_type": "code",
      "execution_count": null,
      "metadata": {
        "colab": {
          "base_uri": "https://localhost:8080/"
        },
        "id": "gB4qErRbdC0Q",
        "outputId": "d12b48fa-ca3e-4216-929d-1de8bc08be26"
      },
      "outputs": [
        {
          "output_type": "stream",
          "name": "stdout",
          "text": [
            "   conso_mixte\n",
            "0     5.300000\n",
            "1     5.100000\n",
            "2     5.400000\n",
            "3     5.200000\n",
            "4    16.299999\n",
            "0    2\n",
            "1    2\n",
            "2    3\n",
            "3    2\n",
            "4    6\n",
            "Name: category, dtype: int64\n"
          ]
        },
        {
          "output_type": "stream",
          "name": "stderr",
          "text": [
            "<ipython-input-7-076e0a1f469a>:3: FutureWarning: Downcasting behavior in `replace` is deprecated and will be removed in a future version. To retain the old behavior, explicitly call `result.infer_objects(copy=False)`. To opt-in to the future behavior, set `pd.set_option('future.no_silent_downcasting', True)`\n",
            "  y = df[\"category\"].replace(to_replace=['A','B','C','D','E','F','G'],value=[0,1,2,3,4,5,6])\n"
          ]
        }
      ],
      "source": [
        "X = df[[\"conso_mixte\"]]\n",
        "\n",
        "y = df[\"category\"].replace(to_replace=['A','B','C','D','E','F','G'],value=[0,1,2,3,4,5,6])\n",
        "\n",
        "print(X.head())\n",
        "print(y.head())"
      ]
    },
    {
      "cell_type": "code",
      "execution_count": null,
      "metadata": {
        "id": "vaSZY0O2dC0Q"
      },
      "outputs": [],
      "source": [
        "X_train, X_test, y_train, y_test = train_test_split(X,y,test_size=0.2,random_state=64)\n",
        "\n",
        "scaler = StandardScaler()\n",
        "scaler.fit(X_train)\n",
        "X_train_scaler = scaler.transform(X_train)\n",
        "X_test_scaler = scaler.transform(X_test)"
      ]
    },
    {
      "cell_type": "code",
      "execution_count": null,
      "metadata": {
        "colab": {
          "base_uri": "https://localhost:8080/"
        },
        "id": "J0b_VrLNdC0R",
        "outputId": "84ce200e-d4f4-48d4-f511-1fc09ec0ac98"
      },
      "outputs": [
        {
          "output_type": "stream",
          "name": "stdout",
          "text": [
            "Logistic Regression 0.7389643463497453\n",
            "Logistic Regression 0.7784380305602716\n",
            "              precision    recall  f1-score   support\n",
            "\n",
            "           0       0.86      0.79      0.83       145\n",
            "           1       0.85      0.87      0.86       340\n",
            "           2       0.83      0.80      0.81       298\n",
            "           3       0.59      0.76      0.66       211\n",
            "           4       0.76      0.55      0.64       161\n",
            "           5       0.85      0.79      0.81        14\n",
            "           6       1.00      0.78      0.88         9\n",
            "\n",
            "    accuracy                           0.78      1178\n",
            "   macro avg       0.82      0.76      0.78      1178\n",
            "weighted avg       0.79      0.78      0.78      1178\n",
            "\n",
            "col_0       0    1    2    3   4   5  6\n",
            "category                               \n",
            "0         115   30    0    0   0   0  0\n",
            "1          18  297   23    1   1   0  0\n",
            "2           0   22  239   37   0   0  0\n",
            "3           0    0   27  160  24   0  0\n",
            "4           0    0    0   73  88   0  0\n",
            "5           0    0    0    0   3  11  0\n",
            "6           0    0    0    0   0   2  7\n"
          ]
        }
      ],
      "source": [
        "clf = LogisticRegression(C=1)\n",
        "clf.fit(X_train_scaler,y_train)\n",
        "\n",
        "print(\"Logistic Regression\",clf.score(X_train_scaler,y_train))\n",
        "print(\"Logistic Regression\",clf.score(X_test_scaler,y_test))\n",
        "\n",
        "y_pred = clf.predict(X_test_scaler)\n",
        "print(classification_report(y_test, y_pred))\n",
        "print(pd.crosstab(y_test, y_pred))"
      ]
    },
    {
      "cell_type": "code",
      "execution_count": null,
      "metadata": {
        "colab": {
          "base_uri": "https://localhost:8080/"
        },
        "id": "isogN1YIdC0S",
        "outputId": "40141ffe-26fa-45b9-e9c1-09f3f4b27689"
      },
      "outputs": [
        {
          "output_type": "stream",
          "name": "stdout",
          "text": [
            "0.8196095076400679\n",
            "0.8438030560271647\n",
            "              precision    recall  f1-score   support\n",
            "\n",
            "           0       1.00      0.79      0.88       145\n",
            "           1       0.91      0.91      0.91       340\n",
            "           2       0.89      0.84      0.86       298\n",
            "           3       0.68      0.82      0.74       211\n",
            "           4       0.76      0.78      0.77       161\n",
            "           5       1.00      0.93      0.96        14\n",
            "           6       1.00      1.00      1.00         9\n",
            "\n",
            "    accuracy                           0.84      1178\n",
            "   macro avg       0.89      0.87      0.88      1178\n",
            "weighted avg       0.86      0.84      0.85      1178\n",
            "\n",
            "col_0       0    1    2    3    4   5  6\n",
            "category                                \n",
            "0         115   30    0    0    0   0  0\n",
            "1           0  308   30    0    2   0  0\n",
            "2           0    0  250   48    0   0  0\n",
            "3           0    0    2  173   36   0  0\n",
            "4           0    0    0   35  126   0  0\n",
            "5           0    0    0    0    1  13  0\n",
            "6           0    0    0    0    0   0  9\n"
          ]
        }
      ],
      "source": [
        "knn = KNeighborsClassifier(n_neighbors=5)\n",
        "knn.fit(X_train_scaler,y_train)\n",
        "\n",
        "print(knn.score(X_train_scaler,y_train))\n",
        "print(knn.score(X_test_scaler,y_test))\n",
        "\n",
        "y_pred = knn.predict(X_test_scaler)\n",
        "print(classification_report(y_test, y_pred))\n",
        "print(pd.crosstab(y_test, y_pred))"
      ]
    },
    {
      "cell_type": "code",
      "execution_count": null,
      "metadata": {
        "colab": {
          "base_uri": "https://localhost:8080/"
        },
        "id": "IWxBZZLddC0S",
        "outputId": "a99f76f4-0113-4b58-d696-01b81d22dcb7"
      },
      "outputs": [
        {
          "output_type": "stream",
          "name": "stdout",
          "text": [
            "0.8264006791171478\n",
            "0.8421052631578947\n",
            "              precision    recall  f1-score   support\n",
            "\n",
            "           0       0.79      0.97      0.87       145\n",
            "           1       0.99      0.80      0.88       340\n",
            "           2       0.89      0.84      0.86       298\n",
            "           3       0.65      0.99      0.79       211\n",
            "           4       0.99      0.61      0.75       161\n",
            "           5       0.93      1.00      0.97        14\n",
            "           6       1.00      1.00      1.00         9\n",
            "\n",
            "    accuracy                           0.84      1178\n",
            "   macro avg       0.89      0.89      0.87      1178\n",
            "weighted avg       0.88      0.84      0.84      1178\n",
            "\n",
            "col_0       0    1    2    3   4   5  6\n",
            "category                               \n",
            "0         141    4    0    0   0   0  0\n",
            "1          37  271   30    1   1   0  0\n",
            "2           0    0  250   48   0   0  0\n",
            "3           0    0    2  209   0   0  0\n",
            "4           0    0    0   62  98   1  0\n",
            "5           0    0    0    0   0  14  0\n",
            "6           0    0    0    0   0   0  9\n"
          ]
        }
      ],
      "source": [
        "rforest = RandomForestClassifier(n_jobs = -1,random_state = 64)\n",
        "rforest.fit(X_train_scaler,y_train)\n",
        "\n",
        "print(rforest.score(X_train_scaler,y_train))\n",
        "print(rforest.score(X_test_scaler,y_test))\n",
        "\n",
        "y_pred = rforest.predict(X_test_scaler)\n",
        "print(classification_report(y_test, y_pred))\n",
        "print(pd.crosstab(y_test, y_pred))"
      ]
    },
    {
      "cell_type": "code",
      "source": [
        "###IMPORTANT\n",
        "#Comme j'effectue ces lignes sur google colab, j'utilise après la fonction\n",
        "#files.download pour télécharger le modèle sur mon ordi\n",
        "\n",
        "joblib.dump(clf, \"LR_conso.pkl\")\n",
        "joblib.dump(knn, \"KNN_conso.pkl\")\n",
        "joblib.dump(rforest, \"RF_conso.pkl\")\n",
        "\n",
        "from google.colab import files\n",
        "files.download(\"LR_conso.pkl\")\n",
        "files.download(\"KNN_conso.pkl\")\n",
        "files.download(\"RF_conso.pkl\")"
      ],
      "metadata": {
        "colab": {
          "base_uri": "https://localhost:8080/",
          "height": 17
        },
        "id": "RKo3VIJwwVbl",
        "outputId": "4e2c6a34-9533-4718-eb76-654c1b84c431"
      },
      "execution_count": null,
      "outputs": [
        {
          "output_type": "display_data",
          "data": {
            "text/plain": [
              "<IPython.core.display.Javascript object>"
            ],
            "application/javascript": [
              "\n",
              "    async function download(id, filename, size) {\n",
              "      if (!google.colab.kernel.accessAllowed) {\n",
              "        return;\n",
              "      }\n",
              "      const div = document.createElement('div');\n",
              "      const label = document.createElement('label');\n",
              "      label.textContent = `Downloading \"${filename}\": `;\n",
              "      div.appendChild(label);\n",
              "      const progress = document.createElement('progress');\n",
              "      progress.max = size;\n",
              "      div.appendChild(progress);\n",
              "      document.body.appendChild(div);\n",
              "\n",
              "      const buffers = [];\n",
              "      let downloaded = 0;\n",
              "\n",
              "      const channel = await google.colab.kernel.comms.open(id);\n",
              "      // Send a message to notify the kernel that we're ready.\n",
              "      channel.send({})\n",
              "\n",
              "      for await (const message of channel.messages) {\n",
              "        // Send a message to notify the kernel that we're ready.\n",
              "        channel.send({})\n",
              "        if (message.buffers) {\n",
              "          for (const buffer of message.buffers) {\n",
              "            buffers.push(buffer);\n",
              "            downloaded += buffer.byteLength;\n",
              "            progress.value = downloaded;\n",
              "          }\n",
              "        }\n",
              "      }\n",
              "      const blob = new Blob(buffers, {type: 'application/binary'});\n",
              "      const a = document.createElement('a');\n",
              "      a.href = window.URL.createObjectURL(blob);\n",
              "      a.download = filename;\n",
              "      div.appendChild(a);\n",
              "      a.click();\n",
              "      div.remove();\n",
              "    }\n",
              "  "
            ]
          },
          "metadata": {}
        },
        {
          "output_type": "display_data",
          "data": {
            "text/plain": [
              "<IPython.core.display.Javascript object>"
            ],
            "application/javascript": [
              "download(\"download_21309949-7105-4e96-9245-fe152747f85c\", \"LR_conso.pkl\", 1023)"
            ]
          },
          "metadata": {}
        },
        {
          "output_type": "display_data",
          "data": {
            "text/plain": [
              "<IPython.core.display.Javascript object>"
            ],
            "application/javascript": [
              "\n",
              "    async function download(id, filename, size) {\n",
              "      if (!google.colab.kernel.accessAllowed) {\n",
              "        return;\n",
              "      }\n",
              "      const div = document.createElement('div');\n",
              "      const label = document.createElement('label');\n",
              "      label.textContent = `Downloading \"${filename}\": `;\n",
              "      div.appendChild(label);\n",
              "      const progress = document.createElement('progress');\n",
              "      progress.max = size;\n",
              "      div.appendChild(progress);\n",
              "      document.body.appendChild(div);\n",
              "\n",
              "      const buffers = [];\n",
              "      let downloaded = 0;\n",
              "\n",
              "      const channel = await google.colab.kernel.comms.open(id);\n",
              "      // Send a message to notify the kernel that we're ready.\n",
              "      channel.send({})\n",
              "\n",
              "      for await (const message of channel.messages) {\n",
              "        // Send a message to notify the kernel that we're ready.\n",
              "        channel.send({})\n",
              "        if (message.buffers) {\n",
              "          for (const buffer of message.buffers) {\n",
              "            buffers.push(buffer);\n",
              "            downloaded += buffer.byteLength;\n",
              "            progress.value = downloaded;\n",
              "          }\n",
              "        }\n",
              "      }\n",
              "      const blob = new Blob(buffers, {type: 'application/binary'});\n",
              "      const a = document.createElement('a');\n",
              "      a.href = window.URL.createObjectURL(blob);\n",
              "      a.download = filename;\n",
              "      div.appendChild(a);\n",
              "      a.click();\n",
              "      div.remove();\n",
              "    }\n",
              "  "
            ]
          },
          "metadata": {}
        },
        {
          "output_type": "display_data",
          "data": {
            "text/plain": [
              "<IPython.core.display.Javascript object>"
            ],
            "application/javascript": [
              "download(\"download_1c084ebd-4599-4f0e-a92e-9307847c8aa0\", \"KNN_conso.pkl\", 164518)"
            ]
          },
          "metadata": {}
        },
        {
          "output_type": "display_data",
          "data": {
            "text/plain": [
              "<IPython.core.display.Javascript object>"
            ],
            "application/javascript": [
              "\n",
              "    async function download(id, filename, size) {\n",
              "      if (!google.colab.kernel.accessAllowed) {\n",
              "        return;\n",
              "      }\n",
              "      const div = document.createElement('div');\n",
              "      const label = document.createElement('label');\n",
              "      label.textContent = `Downloading \"${filename}\": `;\n",
              "      div.appendChild(label);\n",
              "      const progress = document.createElement('progress');\n",
              "      progress.max = size;\n",
              "      div.appendChild(progress);\n",
              "      document.body.appendChild(div);\n",
              "\n",
              "      const buffers = [];\n",
              "      let downloaded = 0;\n",
              "\n",
              "      const channel = await google.colab.kernel.comms.open(id);\n",
              "      // Send a message to notify the kernel that we're ready.\n",
              "      channel.send({})\n",
              "\n",
              "      for await (const message of channel.messages) {\n",
              "        // Send a message to notify the kernel that we're ready.\n",
              "        channel.send({})\n",
              "        if (message.buffers) {\n",
              "          for (const buffer of message.buffers) {\n",
              "            buffers.push(buffer);\n",
              "            downloaded += buffer.byteLength;\n",
              "            progress.value = downloaded;\n",
              "          }\n",
              "        }\n",
              "      }\n",
              "      const blob = new Blob(buffers, {type: 'application/binary'});\n",
              "      const a = document.createElement('a');\n",
              "      a.href = window.URL.createObjectURL(blob);\n",
              "      a.download = filename;\n",
              "      div.appendChild(a);\n",
              "      a.click();\n",
              "      div.remove();\n",
              "    }\n",
              "  "
            ]
          },
          "metadata": {}
        },
        {
          "output_type": "display_data",
          "data": {
            "text/plain": [
              "<IPython.core.display.Javascript object>"
            ],
            "application/javascript": [
              "download(\"download_27d7a6f6-34ee-4ec3-9b43-549703b43edc\", \"RF_conso.pkl\", 1073889)"
            ]
          },
          "metadata": {}
        }
      ]
    },
    {
      "cell_type": "markdown",
      "metadata": {
        "id": "OkUqBK7VdC0T"
      },
      "source": [
        "**Only puiss_max**"
      ]
    },
    {
      "cell_type": "code",
      "execution_count": null,
      "metadata": {
        "colab": {
          "base_uri": "https://localhost:8080/"
        },
        "id": "Mwx8_FC5dC0U",
        "outputId": "7beb374a-69b7-4db8-cc02-eac67191e423"
      },
      "outputs": [
        {
          "output_type": "stream",
          "name": "stderr",
          "text": [
            "<ipython-input-21-06d29ae7891b>:2: FutureWarning: Downcasting behavior in `replace` is deprecated and will be removed in a future version. To retain the old behavior, explicitly call `result.infer_objects(copy=False)`. To opt-in to the future behavior, set `pd.set_option('future.no_silent_downcasting', True)`\n",
            "  y = df[\"category\"].replace(to_replace=['A','B','C','D','E','F','G'],value=[0,1,2,3,4,5,6])\n",
            "/usr/local/lib/python3.11/dist-packages/sklearn/metrics/_classification.py:1565: UndefinedMetricWarning: Precision is ill-defined and being set to 0.0 in labels with no predicted samples. Use `zero_division` parameter to control this behavior.\n",
            "  _warn_prf(average, modifier, f\"{metric.capitalize()} is\", len(result))\n",
            "/usr/local/lib/python3.11/dist-packages/sklearn/metrics/_classification.py:1565: UndefinedMetricWarning: Precision is ill-defined and being set to 0.0 in labels with no predicted samples. Use `zero_division` parameter to control this behavior.\n",
            "  _warn_prf(average, modifier, f\"{metric.capitalize()} is\", len(result))\n",
            "/usr/local/lib/python3.11/dist-packages/sklearn/metrics/_classification.py:1565: UndefinedMetricWarning: Precision is ill-defined and being set to 0.0 in labels with no predicted samples. Use `zero_division` parameter to control this behavior.\n",
            "  _warn_prf(average, modifier, f\"{metric.capitalize()} is\", len(result))\n"
          ]
        },
        {
          "output_type": "stream",
          "name": "stdout",
          "text": [
            "LOGISTIC REGRESSION\n",
            "Logistic Regression train:  0.3622665534804754\n",
            "Logistic Regression test :  0.3684210526315789\n",
            "              precision    recall  f1-score   support\n",
            "\n",
            "           0       0.41      0.32      0.36       145\n",
            "           1       0.39      0.60      0.47       340\n",
            "           2       0.35      0.30      0.32       298\n",
            "           3       0.29      0.37      0.33       211\n",
            "           4       0.00      0.00      0.00       161\n",
            "           5       0.67      0.71      0.69        14\n",
            "           6       1.00      0.78      0.88         9\n",
            "\n",
            "    accuracy                           0.37      1178\n",
            "   macro avg       0.44      0.44      0.44      1178\n",
            "weighted avg       0.32      0.37      0.34      1178\n",
            "\n",
            "col_0      0    1   2   3   5  6\n",
            "category                        \n",
            "0         47   89   0   9   0  0\n",
            "1         51  204  52  33   0  0\n",
            "2         18  120  88  72   0  0\n",
            "3          0   78  55  78   0  0\n",
            "4          0   32  52  74   3  0\n",
            "5          0    0   2   2  10  0\n",
            "6          0    0   0   0   2  7\n",
            "\n",
            "\n",
            "\n",
            "KNN\n",
            "KNN train :  0.44588285229202035\n",
            "KNN test :  0.45161290322580644\n",
            "              precision    recall  f1-score   support\n",
            "\n",
            "           0       0.35      0.40      0.37       145\n",
            "           1       0.44      0.52      0.48       340\n",
            "           2       0.41      0.54      0.47       298\n",
            "           3       0.59      0.42      0.49       211\n",
            "           4       0.56      0.17      0.27       161\n",
            "           5       0.85      0.79      0.81        14\n",
            "           6       1.00      0.89      0.94         9\n",
            "\n",
            "    accuracy                           0.45      1178\n",
            "   macro avg       0.60      0.53      0.55      1178\n",
            "weighted avg       0.47      0.45      0.44      1178\n",
            "\n",
            "col_0      0    1    2   3   4   5  6\n",
            "category                             \n",
            "0         58   78    9   0   0   0  0\n",
            "1         77  176   72   1  14   0  0\n",
            "2         28   78  162  27   3   0  0\n",
            "3          2   19   95  89   5   1  0\n",
            "4          2   46   51  34  28   0  0\n",
            "5          0    0    2   1   0  11  0\n",
            "6          0    0    0   0   0   1  8\n",
            "\n",
            "\n",
            "\n",
            "RANDOM FOREST\n",
            "Random Forest train :  0.5426570458404074\n",
            "Random Forest test :  0.5602716468590832\n",
            "              precision    recall  f1-score   support\n",
            "\n",
            "           0       0.63      0.46      0.53       145\n",
            "           1       0.53      0.66      0.59       340\n",
            "           2       0.57      0.42      0.48       298\n",
            "           3       0.61      0.71      0.65       211\n",
            "           4       0.47      0.47      0.47       161\n",
            "           5       0.85      0.79      0.81        14\n",
            "           6       1.00      0.89      0.94         9\n",
            "\n",
            "    accuracy                           0.56      1178\n",
            "   macro avg       0.66      0.63      0.64      1178\n",
            "weighted avg       0.56      0.56      0.56      1178\n",
            "\n",
            "col_0      0    1    2    3   4   5  6\n",
            "category                              \n",
            "0         67   69    3    0   6   0  0\n",
            "1         39  224   55    9  13   0  0\n",
            "2          1   94  126   43  34   0  0\n",
            "3          0    7   25  149  29   1  0\n",
            "4          0   31   11   44  75   0  0\n",
            "5          0    0    2    0   1  11  0\n",
            "6          0    0    0    0   0   1  8\n"
          ]
        }
      ],
      "source": [
        "X = df[[\"puiss_max\"]]\n",
        "y = df[\"category\"].replace(to_replace=['A','B','C','D','E','F','G'],value=[0,1,2,3,4,5,6])\n",
        "\n",
        "#Split\n",
        "X_train, X_test, y_train, y_test = train_test_split(X,y,test_size=0.2,random_state=64)\n",
        "\n",
        "#Scaler\n",
        "scaler = StandardScaler()\n",
        "scaler.fit(X_train)\n",
        "X_train_scaler = scaler.transform(X_train)\n",
        "X_test_scaler = scaler.transform(X_test)\n",
        "\n",
        "###LogisticRegression\n",
        "clf = LogisticRegression(C=1)\n",
        "clf.fit(X_train_scaler,y_train)\n",
        "\n",
        "print(\"LOGISTIC REGRESSION\")\n",
        "print(\"Logistic Regression train: \",clf.score(X_train_scaler,y_train))\n",
        "print(\"Logistic Regression test : \",clf.score(X_test_scaler,y_test))\n",
        "\n",
        "y_pred = clf.predict(X_test_scaler)\n",
        "print(classification_report(y_test, y_pred))\n",
        "print(pd.crosstab(y_test, y_pred))\n",
        "\n",
        "#KNN\n",
        "knn = KNeighborsClassifier(n_neighbors=5)\n",
        "knn.fit(X_train_scaler,y_train)\n",
        "\n",
        "print(\"\\n\\n\")\n",
        "print(\"KNN\")\n",
        "print(\"KNN train : \",knn.score(X_train_scaler,y_train))\n",
        "print(\"KNN test : \",knn.score(X_test_scaler,y_test))\n",
        "\n",
        "y_pred = knn.predict(X_test_scaler)\n",
        "print(classification_report(y_test, y_pred))\n",
        "print(pd.crosstab(y_test, y_pred))\n",
        "\n",
        "#RandomForest\n",
        "rforest = RandomForestClassifier(n_jobs = -1,random_state = 64)\n",
        "rforest.fit(X_train_scaler,y_train)\n",
        "\n",
        "print(\"\\n\\n\")\n",
        "print(\"RANDOM FOREST\")\n",
        "print(\"Random Forest train : \",rforest.score(X_train_scaler,y_train))\n",
        "print(\"Random Forest test : \",rforest.score(X_test_scaler,y_test))\n",
        "\n",
        "y_pred = rforest.predict(X_test_scaler)\n",
        "print(classification_report(y_test, y_pred))\n",
        "print(pd.crosstab(y_test, y_pred))"
      ]
    },
    {
      "cell_type": "code",
      "source": [
        "joblib.dump(clf, \"LR_puiss.pkl\")\n",
        "joblib.dump(knn, \"KNN_puiss.pkl\")\n",
        "joblib.dump(rforest, \"RF_puiss.pkl\")\n",
        "\n",
        "from google.colab import files\n",
        "files.download(\"LR_puiss.pkl\")\n",
        "files.download(\"KNN_puiss.pkl\")\n",
        "files.download(\"RF_puiss.pkl\")"
      ],
      "metadata": {
        "colab": {
          "base_uri": "https://localhost:8080/",
          "height": 17
        },
        "id": "u39qtxPZzosv",
        "outputId": "af4ee13e-c418-4c7c-d494-667357cdfc97"
      },
      "execution_count": null,
      "outputs": [
        {
          "output_type": "display_data",
          "data": {
            "text/plain": [
              "<IPython.core.display.Javascript object>"
            ],
            "application/javascript": [
              "\n",
              "    async function download(id, filename, size) {\n",
              "      if (!google.colab.kernel.accessAllowed) {\n",
              "        return;\n",
              "      }\n",
              "      const div = document.createElement('div');\n",
              "      const label = document.createElement('label');\n",
              "      label.textContent = `Downloading \"${filename}\": `;\n",
              "      div.appendChild(label);\n",
              "      const progress = document.createElement('progress');\n",
              "      progress.max = size;\n",
              "      div.appendChild(progress);\n",
              "      document.body.appendChild(div);\n",
              "\n",
              "      const buffers = [];\n",
              "      let downloaded = 0;\n",
              "\n",
              "      const channel = await google.colab.kernel.comms.open(id);\n",
              "      // Send a message to notify the kernel that we're ready.\n",
              "      channel.send({})\n",
              "\n",
              "      for await (const message of channel.messages) {\n",
              "        // Send a message to notify the kernel that we're ready.\n",
              "        channel.send({})\n",
              "        if (message.buffers) {\n",
              "          for (const buffer of message.buffers) {\n",
              "            buffers.push(buffer);\n",
              "            downloaded += buffer.byteLength;\n",
              "            progress.value = downloaded;\n",
              "          }\n",
              "        }\n",
              "      }\n",
              "      const blob = new Blob(buffers, {type: 'application/binary'});\n",
              "      const a = document.createElement('a');\n",
              "      a.href = window.URL.createObjectURL(blob);\n",
              "      a.download = filename;\n",
              "      div.appendChild(a);\n",
              "      a.click();\n",
              "      div.remove();\n",
              "    }\n",
              "  "
            ]
          },
          "metadata": {}
        },
        {
          "output_type": "display_data",
          "data": {
            "text/plain": [
              "<IPython.core.display.Javascript object>"
            ],
            "application/javascript": [
              "download(\"download_8ee55cbd-7175-41a6-92f9-13a9755b87b1\", \"LR_puiss.pkl\", 1023)"
            ]
          },
          "metadata": {}
        },
        {
          "output_type": "display_data",
          "data": {
            "text/plain": [
              "<IPython.core.display.Javascript object>"
            ],
            "application/javascript": [
              "\n",
              "    async function download(id, filename, size) {\n",
              "      if (!google.colab.kernel.accessAllowed) {\n",
              "        return;\n",
              "      }\n",
              "      const div = document.createElement('div');\n",
              "      const label = document.createElement('label');\n",
              "      label.textContent = `Downloading \"${filename}\": `;\n",
              "      div.appendChild(label);\n",
              "      const progress = document.createElement('progress');\n",
              "      progress.max = size;\n",
              "      div.appendChild(progress);\n",
              "      document.body.appendChild(div);\n",
              "\n",
              "      const buffers = [];\n",
              "      let downloaded = 0;\n",
              "\n",
              "      const channel = await google.colab.kernel.comms.open(id);\n",
              "      // Send a message to notify the kernel that we're ready.\n",
              "      channel.send({})\n",
              "\n",
              "      for await (const message of channel.messages) {\n",
              "        // Send a message to notify the kernel that we're ready.\n",
              "        channel.send({})\n",
              "        if (message.buffers) {\n",
              "          for (const buffer of message.buffers) {\n",
              "            buffers.push(buffer);\n",
              "            downloaded += buffer.byteLength;\n",
              "            progress.value = downloaded;\n",
              "          }\n",
              "        }\n",
              "      }\n",
              "      const blob = new Blob(buffers, {type: 'application/binary'});\n",
              "      const a = document.createElement('a');\n",
              "      a.href = window.URL.createObjectURL(blob);\n",
              "      a.download = filename;\n",
              "      div.appendChild(a);\n",
              "      a.click();\n",
              "      div.remove();\n",
              "    }\n",
              "  "
            ]
          },
          "metadata": {}
        },
        {
          "output_type": "display_data",
          "data": {
            "text/plain": [
              "<IPython.core.display.Javascript object>"
            ],
            "application/javascript": [
              "download(\"download_93c83b5f-234b-418d-8b07-d66af12cf62f\", \"KNN_puiss.pkl\", 164518)"
            ]
          },
          "metadata": {}
        },
        {
          "output_type": "display_data",
          "data": {
            "text/plain": [
              "<IPython.core.display.Javascript object>"
            ],
            "application/javascript": [
              "\n",
              "    async function download(id, filename, size) {\n",
              "      if (!google.colab.kernel.accessAllowed) {\n",
              "        return;\n",
              "      }\n",
              "      const div = document.createElement('div');\n",
              "      const label = document.createElement('label');\n",
              "      label.textContent = `Downloading \"${filename}\": `;\n",
              "      div.appendChild(label);\n",
              "      const progress = document.createElement('progress');\n",
              "      progress.max = size;\n",
              "      div.appendChild(progress);\n",
              "      document.body.appendChild(div);\n",
              "\n",
              "      const buffers = [];\n",
              "      let downloaded = 0;\n",
              "\n",
              "      const channel = await google.colab.kernel.comms.open(id);\n",
              "      // Send a message to notify the kernel that we're ready.\n",
              "      channel.send({})\n",
              "\n",
              "      for await (const message of channel.messages) {\n",
              "        // Send a message to notify the kernel that we're ready.\n",
              "        channel.send({})\n",
              "        if (message.buffers) {\n",
              "          for (const buffer of message.buffers) {\n",
              "            buffers.push(buffer);\n",
              "            downloaded += buffer.byteLength;\n",
              "            progress.value = downloaded;\n",
              "          }\n",
              "        }\n",
              "      }\n",
              "      const blob = new Blob(buffers, {type: 'application/binary'});\n",
              "      const a = document.createElement('a');\n",
              "      a.href = window.URL.createObjectURL(blob);\n",
              "      a.download = filename;\n",
              "      div.appendChild(a);\n",
              "      a.click();\n",
              "      div.remove();\n",
              "    }\n",
              "  "
            ]
          },
          "metadata": {}
        },
        {
          "output_type": "display_data",
          "data": {
            "text/plain": [
              "<IPython.core.display.Javascript object>"
            ],
            "application/javascript": [
              "download(\"download_7e511fb7-92b3-4b75-a2f0-45c5f7779e98\", \"RF_puiss.pkl\", 1589409)"
            ]
          },
          "metadata": {}
        }
      ]
    },
    {
      "cell_type": "markdown",
      "metadata": {
        "id": "Mzfi0rn6dC0Y"
      },
      "source": [
        "**ec (cm3)**"
      ]
    },
    {
      "cell_type": "code",
      "execution_count": null,
      "metadata": {
        "colab": {
          "base_uri": "https://localhost:8080/"
        },
        "id": "8VsBpCXsdC0Z",
        "outputId": "811732a9-644f-425e-94da-c8cbc3011013"
      },
      "outputs": [
        {
          "output_type": "stream",
          "name": "stderr",
          "text": [
            "<ipython-input-23-2c14090513d0>:2: FutureWarning: Downcasting behavior in `replace` is deprecated and will be removed in a future version. To retain the old behavior, explicitly call `result.infer_objects(copy=False)`. To opt-in to the future behavior, set `pd.set_option('future.no_silent_downcasting', True)`\n",
            "  y = df[\"category\"].replace(to_replace=['A','B','C','D','E','F','G'],value=[0,1,2,3,4,5,6])\n",
            "/usr/local/lib/python3.11/dist-packages/sklearn/metrics/_classification.py:1565: UndefinedMetricWarning: Precision is ill-defined and being set to 0.0 in labels with no predicted samples. Use `zero_division` parameter to control this behavior.\n",
            "  _warn_prf(average, modifier, f\"{metric.capitalize()} is\", len(result))\n",
            "/usr/local/lib/python3.11/dist-packages/sklearn/metrics/_classification.py:1565: UndefinedMetricWarning: Precision is ill-defined and being set to 0.0 in labels with no predicted samples. Use `zero_division` parameter to control this behavior.\n",
            "  _warn_prf(average, modifier, f\"{metric.capitalize()} is\", len(result))\n",
            "/usr/local/lib/python3.11/dist-packages/sklearn/metrics/_classification.py:1565: UndefinedMetricWarning: Precision is ill-defined and being set to 0.0 in labels with no predicted samples. Use `zero_division` parameter to control this behavior.\n",
            "  _warn_prf(average, modifier, f\"{metric.capitalize()} is\", len(result))\n"
          ]
        },
        {
          "output_type": "stream",
          "name": "stdout",
          "text": [
            "LOGISTIC REGRESSION\n",
            "Logistic Regression train:  0.3380730050933786\n",
            "Logistic Regression test :  0.35823429541595925\n",
            "              precision    recall  f1-score   support\n",
            "\n",
            "           0       0.47      0.19      0.27       145\n",
            "           1       0.33      0.70      0.45       340\n",
            "           2       0.35      0.31      0.32       298\n",
            "           3       0.00      0.00      0.00       211\n",
            "           4       0.45      0.30      0.36       161\n",
            "           5       0.75      0.64      0.69        14\n",
            "           6       0.89      0.89      0.89         9\n",
            "\n",
            "    accuracy                           0.36      1178\n",
            "   macro avg       0.46      0.43      0.43      1178\n",
            "weighted avg       0.32      0.36      0.31      1178\n",
            "\n",
            "col_0      0    1   2   4  5  6\n",
            "category                       \n",
            "0         27  109   9   0  0  0\n",
            "1         31  238  67   4  0  0\n",
            "2          0  188  91  18  0  1\n",
            "3          0  146  31  34  0  0\n",
            "4          0   45  65  49  2  0\n",
            "5          0    0   0   5  9  0\n",
            "6          0    0   0   0  1  8\n",
            "\n",
            "\n",
            "\n",
            "KNN\n",
            "KNN train :  0.5384125636672326\n",
            "KNN test :  0.5492359932088285\n",
            "              precision    recall  f1-score   support\n",
            "\n",
            "           0       0.55      0.53      0.54       145\n",
            "           1       0.56      0.55      0.56       340\n",
            "           2       0.51      0.51      0.51       298\n",
            "           3       0.53      0.68      0.59       211\n",
            "           4       0.60      0.42      0.49       161\n",
            "           5       1.00      0.71      0.83        14\n",
            "           6       0.90      1.00      0.95         9\n",
            "\n",
            "    accuracy                           0.55      1178\n",
            "   macro avg       0.66      0.63      0.64      1178\n",
            "weighted avg       0.55      0.55      0.55      1178\n",
            "\n",
            "col_0      0    1    2    3   4   5  6\n",
            "category                              \n",
            "0         77   57    6    5   0   0  0\n",
            "1         56  187   57   33   7   0  0\n",
            "2          8   72  153   48  16   0  1\n",
            "3          0   13   36  143  19   0  0\n",
            "4          0    2   49   42  68   0  0\n",
            "5          0    0    0    0   4  10  0\n",
            "6          0    0    0    0   0   0  9\n",
            "\n",
            "\n",
            "\n",
            "RANDOM FOREST\n",
            "Random Forest train :  0.5570882852292021\n",
            "Random Forest test :  0.5543293718166383\n",
            "              precision    recall  f1-score   support\n",
            "\n",
            "           0       0.55      0.53      0.54       145\n",
            "           1       0.55      0.63      0.59       340\n",
            "           2       0.49      0.45      0.47       298\n",
            "           3       0.58      0.67      0.62       211\n",
            "           4       0.60      0.43      0.50       161\n",
            "           5       1.00      0.79      0.88        14\n",
            "           6       1.00      0.89      0.94         9\n",
            "\n",
            "    accuracy                           0.55      1178\n",
            "   macro avg       0.68      0.63      0.65      1178\n",
            "weighted avg       0.56      0.55      0.55      1178\n",
            "\n",
            "col_0      0    1    2    3   4   5  6\n",
            "category                              \n",
            "0         77   60    6    2   0   0  0\n",
            "1         56  213   44   20   7   0  0\n",
            "2          7  100  134   40  17   0  0\n",
            "3          0   10   41  141  19   0  0\n",
            "4          0    4   49   39  69   0  0\n",
            "5          0    0    0    0   3  11  0\n",
            "6          0    1    0    0   0   0  8\n"
          ]
        }
      ],
      "source": [
        "X = df[[\"ec (cm3)\"]]\n",
        "y = df[\"category\"].replace(to_replace=['A','B','C','D','E','F','G'],value=[0,1,2,3,4,5,6])\n",
        "\n",
        "#Split\n",
        "X_train, X_test, y_train, y_test = train_test_split(X,y,test_size=0.2,random_state=64)\n",
        "\n",
        "#Scaler\n",
        "scaler = StandardScaler()\n",
        "scaler.fit(X_train)\n",
        "X_train_scaler = scaler.transform(X_train)\n",
        "X_test_scaler = scaler.transform(X_test)\n",
        "\n",
        "###LogisticRegression\n",
        "clf = LogisticRegression(C=1)\n",
        "clf.fit(X_train_scaler,y_train)\n",
        "\n",
        "print(\"LOGISTIC REGRESSION\")\n",
        "print(\"Logistic Regression train: \",clf.score(X_train_scaler,y_train))\n",
        "print(\"Logistic Regression test : \",clf.score(X_test_scaler,y_test))\n",
        "\n",
        "y_pred = clf.predict(X_test_scaler)\n",
        "print(classification_report(y_test, y_pred))\n",
        "print(pd.crosstab(y_test, y_pred))\n",
        "\n",
        "#KNN\n",
        "knn = KNeighborsClassifier(n_neighbors=5)\n",
        "knn.fit(X_train_scaler,y_train)\n",
        "\n",
        "print(\"\\n\\n\")\n",
        "print(\"KNN\")\n",
        "print(\"KNN train : \",knn.score(X_train_scaler,y_train))\n",
        "print(\"KNN test : \",knn.score(X_test_scaler,y_test))\n",
        "\n",
        "y_pred = knn.predict(X_test_scaler)\n",
        "print(classification_report(y_test, y_pred))\n",
        "print(pd.crosstab(y_test, y_pred))\n",
        "\n",
        "#RandomForest\n",
        "rforest = RandomForestClassifier(n_jobs = -1,random_state = 64)\n",
        "rforest.fit(X_train_scaler,y_train)\n",
        "\n",
        "print(\"\\n\\n\")\n",
        "print(\"RANDOM FOREST\")\n",
        "print(\"Random Forest train : \",rforest.score(X_train_scaler,y_train))\n",
        "print(\"Random Forest test : \",rforest.score(X_test_scaler,y_test))\n",
        "\n",
        "y_pred = rforest.predict(X_test_scaler)\n",
        "print(classification_report(y_test, y_pred))\n",
        "print(pd.crosstab(y_test, y_pred))"
      ]
    },
    {
      "cell_type": "code",
      "source": [
        "joblib.dump(clf, \"LR_ec.pkl\")\n",
        "joblib.dump(knn, \"KNN_ec.pkl\")\n",
        "joblib.dump(rforest, \"RF_ec.pkl\")\n",
        "\n",
        "files.download(\"LR_ec.pkl\")\n",
        "files.download(\"KNN_ec.pkl\")\n",
        "files.download(\"RF_ec.pkl\")"
      ],
      "metadata": {
        "colab": {
          "base_uri": "https://localhost:8080/",
          "height": 17
        },
        "id": "N0SfKbEw0PnY",
        "outputId": "43d670a0-a358-431d-b2b3-572f9040d64b"
      },
      "execution_count": null,
      "outputs": [
        {
          "output_type": "display_data",
          "data": {
            "text/plain": [
              "<IPython.core.display.Javascript object>"
            ],
            "application/javascript": [
              "\n",
              "    async function download(id, filename, size) {\n",
              "      if (!google.colab.kernel.accessAllowed) {\n",
              "        return;\n",
              "      }\n",
              "      const div = document.createElement('div');\n",
              "      const label = document.createElement('label');\n",
              "      label.textContent = `Downloading \"${filename}\": `;\n",
              "      div.appendChild(label);\n",
              "      const progress = document.createElement('progress');\n",
              "      progress.max = size;\n",
              "      div.appendChild(progress);\n",
              "      document.body.appendChild(div);\n",
              "\n",
              "      const buffers = [];\n",
              "      let downloaded = 0;\n",
              "\n",
              "      const channel = await google.colab.kernel.comms.open(id);\n",
              "      // Send a message to notify the kernel that we're ready.\n",
              "      channel.send({})\n",
              "\n",
              "      for await (const message of channel.messages) {\n",
              "        // Send a message to notify the kernel that we're ready.\n",
              "        channel.send({})\n",
              "        if (message.buffers) {\n",
              "          for (const buffer of message.buffers) {\n",
              "            buffers.push(buffer);\n",
              "            downloaded += buffer.byteLength;\n",
              "            progress.value = downloaded;\n",
              "          }\n",
              "        }\n",
              "      }\n",
              "      const blob = new Blob(buffers, {type: 'application/binary'});\n",
              "      const a = document.createElement('a');\n",
              "      a.href = window.URL.createObjectURL(blob);\n",
              "      a.download = filename;\n",
              "      div.appendChild(a);\n",
              "      a.click();\n",
              "      div.remove();\n",
              "    }\n",
              "  "
            ]
          },
          "metadata": {}
        },
        {
          "output_type": "display_data",
          "data": {
            "text/plain": [
              "<IPython.core.display.Javascript object>"
            ],
            "application/javascript": [
              "download(\"download_b3dd1f36-df01-4825-a877-df48d23d3b73\", \"LR_ec.pkl\", 1023)"
            ]
          },
          "metadata": {}
        },
        {
          "output_type": "display_data",
          "data": {
            "text/plain": [
              "<IPython.core.display.Javascript object>"
            ],
            "application/javascript": [
              "\n",
              "    async function download(id, filename, size) {\n",
              "      if (!google.colab.kernel.accessAllowed) {\n",
              "        return;\n",
              "      }\n",
              "      const div = document.createElement('div');\n",
              "      const label = document.createElement('label');\n",
              "      label.textContent = `Downloading \"${filename}\": `;\n",
              "      div.appendChild(label);\n",
              "      const progress = document.createElement('progress');\n",
              "      progress.max = size;\n",
              "      div.appendChild(progress);\n",
              "      document.body.appendChild(div);\n",
              "\n",
              "      const buffers = [];\n",
              "      let downloaded = 0;\n",
              "\n",
              "      const channel = await google.colab.kernel.comms.open(id);\n",
              "      // Send a message to notify the kernel that we're ready.\n",
              "      channel.send({})\n",
              "\n",
              "      for await (const message of channel.messages) {\n",
              "        // Send a message to notify the kernel that we're ready.\n",
              "        channel.send({})\n",
              "        if (message.buffers) {\n",
              "          for (const buffer of message.buffers) {\n",
              "            buffers.push(buffer);\n",
              "            downloaded += buffer.byteLength;\n",
              "            progress.value = downloaded;\n",
              "          }\n",
              "        }\n",
              "      }\n",
              "      const blob = new Blob(buffers, {type: 'application/binary'});\n",
              "      const a = document.createElement('a');\n",
              "      a.href = window.URL.createObjectURL(blob);\n",
              "      a.download = filename;\n",
              "      div.appendChild(a);\n",
              "      a.click();\n",
              "      div.remove();\n",
              "    }\n",
              "  "
            ]
          },
          "metadata": {}
        },
        {
          "output_type": "display_data",
          "data": {
            "text/plain": [
              "<IPython.core.display.Javascript object>"
            ],
            "application/javascript": [
              "download(\"download_23df1121-ffa0-4d99-a304-2805f3f2c882\", \"KNN_ec.pkl\", 164518)"
            ]
          },
          "metadata": {}
        },
        {
          "output_type": "display_data",
          "data": {
            "text/plain": [
              "<IPython.core.display.Javascript object>"
            ],
            "application/javascript": [
              "\n",
              "    async function download(id, filename, size) {\n",
              "      if (!google.colab.kernel.accessAllowed) {\n",
              "        return;\n",
              "      }\n",
              "      const div = document.createElement('div');\n",
              "      const label = document.createElement('label');\n",
              "      label.textContent = `Downloading \"${filename}\": `;\n",
              "      div.appendChild(label);\n",
              "      const progress = document.createElement('progress');\n",
              "      progress.max = size;\n",
              "      div.appendChild(progress);\n",
              "      document.body.appendChild(div);\n",
              "\n",
              "      const buffers = [];\n",
              "      let downloaded = 0;\n",
              "\n",
              "      const channel = await google.colab.kernel.comms.open(id);\n",
              "      // Send a message to notify the kernel that we're ready.\n",
              "      channel.send({})\n",
              "\n",
              "      for await (const message of channel.messages) {\n",
              "        // Send a message to notify the kernel that we're ready.\n",
              "        channel.send({})\n",
              "        if (message.buffers) {\n",
              "          for (const buffer of message.buffers) {\n",
              "            buffers.push(buffer);\n",
              "            downloaded += buffer.byteLength;\n",
              "            progress.value = downloaded;\n",
              "          }\n",
              "        }\n",
              "      }\n",
              "      const blob = new Blob(buffers, {type: 'application/binary'});\n",
              "      const a = document.createElement('a');\n",
              "      a.href = window.URL.createObjectURL(blob);\n",
              "      a.download = filename;\n",
              "      div.appendChild(a);\n",
              "      a.click();\n",
              "      div.remove();\n",
              "    }\n",
              "  "
            ]
          },
          "metadata": {}
        },
        {
          "output_type": "display_data",
          "data": {
            "text/plain": [
              "<IPython.core.display.Javascript object>"
            ],
            "application/javascript": [
              "download(\"download_85a1d158-8f05-4b35-8ec4-7617cb4dbad6\", \"RF_ec.pkl\", 1833969)"
            ]
          },
          "metadata": {}
        }
      ]
    },
    {
      "cell_type": "markdown",
      "metadata": {
        "id": "-Tm4fkADdC0a"
      },
      "source": [
        "**conso_mixte + puiss_max**"
      ]
    },
    {
      "cell_type": "code",
      "execution_count": null,
      "metadata": {
        "colab": {
          "base_uri": "https://localhost:8080/"
        },
        "id": "AbfVruRJdC0a",
        "outputId": "954a003a-e42b-43e2-f74d-c197d54a5c00"
      },
      "outputs": [
        {
          "output_type": "stream",
          "name": "stderr",
          "text": [
            "<ipython-input-25-a4e8adfe6721>:2: FutureWarning: Downcasting behavior in `replace` is deprecated and will be removed in a future version. To retain the old behavior, explicitly call `result.infer_objects(copy=False)`. To opt-in to the future behavior, set `pd.set_option('future.no_silent_downcasting', True)`\n",
            "  y = df[\"category\"].replace(to_replace=['A','B','C','D','E','F','G'],value=[0,1,2,3,4,5,6])\n"
          ]
        },
        {
          "output_type": "stream",
          "name": "stdout",
          "text": [
            "LOGISTIC REGRESSION\n",
            "Logistic Regression train:  0.7463921901528013\n",
            "Logistic Regression test :  0.7809847198641766\n",
            "              precision    recall  f1-score   support\n",
            "\n",
            "           0       0.88      0.75      0.81       145\n",
            "           1       0.87      0.90      0.88       340\n",
            "           2       0.87      0.82      0.84       298\n",
            "           3       0.57      0.75      0.65       211\n",
            "           4       0.69      0.52      0.60       161\n",
            "           5       0.85      0.79      0.81        14\n",
            "           6       1.00      0.78      0.88         9\n",
            "\n",
            "    accuracy                           0.78      1178\n",
            "   macro avg       0.82      0.76      0.78      1178\n",
            "weighted avg       0.79      0.78      0.78      1178\n",
            "\n",
            "col_0       0    1    2    3   4   5  6\n",
            "category                               \n",
            "0         109   36    0    0   0   0  0\n",
            "1          15  305   18    1   1   0  0\n",
            "2           0   11  245   42   0   0  0\n",
            "3           0    0   19  159  33   0  0\n",
            "4           0    0    0   77  84   0  0\n",
            "5           0    0    0    0   3  11  0\n",
            "6           0    0    0    0   0   2  7\n",
            "\n",
            "\n",
            "\n",
            "KNN\n",
            "KNN train :  0.9896010186757216\n",
            "KNN test :  0.9872665534804754\n",
            "              precision    recall  f1-score   support\n",
            "\n",
            "           0       1.00      0.99      1.00       145\n",
            "           1       0.99      0.99      0.99       340\n",
            "           2       0.99      0.98      0.98       298\n",
            "           3       0.96      1.00      0.98       211\n",
            "           4       0.99      0.98      0.99       161\n",
            "           5       1.00      0.93      0.96        14\n",
            "           6       1.00      1.00      1.00         9\n",
            "\n",
            "    accuracy                           0.99      1178\n",
            "   macro avg       0.99      0.98      0.99      1178\n",
            "weighted avg       0.99      0.99      0.99      1178\n",
            "\n",
            "col_0       0    1    2    3    4   5  6\n",
            "category                                \n",
            "0         144    1    0    0    0   0  0\n",
            "1           0  338    2    0    0   0  0\n",
            "2           0    2  291    5    0   0  0\n",
            "3           0    0    1  210    0   0  0\n",
            "4           0    0    0    3  158   0  0\n",
            "5           0    0    0    0    1  13  0\n",
            "6           0    0    0    0    0   0  9\n",
            "\n",
            "\n",
            "\n",
            "RANDOM FOREST\n",
            "Random Forest train :  0.9974533106960951\n",
            "Random Forest test :  0.9915110356536503\n",
            "              precision    recall  f1-score   support\n",
            "\n",
            "           0       1.00      0.99      1.00       145\n",
            "           1       0.99      1.00      0.99       340\n",
            "           2       1.00      0.98      0.99       298\n",
            "           3       0.97      1.00      0.99       211\n",
            "           4       1.00      0.98      0.99       161\n",
            "           5       1.00      1.00      1.00        14\n",
            "           6       1.00      1.00      1.00         9\n",
            "\n",
            "    accuracy                           0.99      1178\n",
            "   macro avg       0.99      0.99      0.99      1178\n",
            "weighted avg       0.99      0.99      0.99      1178\n",
            "\n",
            "col_0       0    1    2    3    4   5  6\n",
            "category                                \n",
            "0         144    1    0    0    0   0  0\n",
            "1           0  339    1    0    0   0  0\n",
            "2           0    2  293    3    0   0  0\n",
            "3           0    0    0  211    0   0  0\n",
            "4           0    0    0    3  158   0  0\n",
            "5           0    0    0    0    0  14  0\n",
            "6           0    0    0    0    0   0  9\n"
          ]
        }
      ],
      "source": [
        "X = df[[\"conso_mixte\",\"puiss_max\"]]\n",
        "y = df[\"category\"].replace(to_replace=['A','B','C','D','E','F','G'],value=[0,1,2,3,4,5,6])\n",
        "\n",
        "#Split\n",
        "X_train, X_test, y_train, y_test = train_test_split(X,y,test_size=0.2,random_state=64)\n",
        "\n",
        "#Scaler\n",
        "scaler = StandardScaler()\n",
        "scaler.fit(X_train)\n",
        "X_train_scaler = scaler.transform(X_train)\n",
        "X_test_scaler = scaler.transform(X_test)\n",
        "\n",
        "###LogisticRegression\n",
        "clf = LogisticRegression(C=1)\n",
        "clf.fit(X_train_scaler,y_train)\n",
        "\n",
        "print(\"LOGISTIC REGRESSION\")\n",
        "print(\"Logistic Regression train: \",clf.score(X_train_scaler,y_train))\n",
        "print(\"Logistic Regression test : \",clf.score(X_test_scaler,y_test))\n",
        "\n",
        "y_pred = clf.predict(X_test_scaler)\n",
        "print(classification_report(y_test, y_pred))\n",
        "print(pd.crosstab(y_test, y_pred))\n",
        "\n",
        "#KNN\n",
        "knn = KNeighborsClassifier(n_neighbors=5)\n",
        "knn.fit(X_train_scaler,y_train)\n",
        "\n",
        "print(\"\\n\\n\")\n",
        "print(\"KNN\")\n",
        "print(\"KNN train : \",knn.score(X_train_scaler,y_train))\n",
        "print(\"KNN test : \",knn.score(X_test_scaler,y_test))\n",
        "\n",
        "y_pred = knn.predict(X_test_scaler)\n",
        "print(classification_report(y_test, y_pred))\n",
        "print(pd.crosstab(y_test, y_pred))\n",
        "\n",
        "#RandomForest\n",
        "rforest = RandomForestClassifier(n_jobs = -1,random_state = 64)\n",
        "rforest.fit(X_train_scaler,y_train)\n",
        "\n",
        "print(\"\\n\\n\")\n",
        "print(\"RANDOM FOREST\")\n",
        "print(\"Random Forest train : \",rforest.score(X_train_scaler,y_train))\n",
        "print(\"Random Forest test : \",rforest.score(X_test_scaler,y_test))\n",
        "\n",
        "y_pred = rforest.predict(X_test_scaler)\n",
        "print(classification_report(y_test, y_pred))\n",
        "print(pd.crosstab(y_test, y_pred))"
      ]
    },
    {
      "cell_type": "code",
      "source": [
        "joblib.dump(clf, \"LR_conso_puiss.pkl\")\n",
        "joblib.dump(knn, \"KNN_conso_puiss.pkl\")\n",
        "joblib.dump(rforest, \"RF_conso_puiss.pkl\")\n",
        "\n",
        "from google.colab import files\n",
        "files.download(\"LR_conso_puiss.pkl\")\n",
        "files.download(\"KNN_conso_puiss.pkl\")\n",
        "files.download(\"RF_conso_puiss.pkl\")"
      ],
      "metadata": {
        "colab": {
          "base_uri": "https://localhost:8080/",
          "height": 17
        },
        "id": "axElt66I0ZPF",
        "outputId": "7e471be6-cefe-4fa9-93f2-44e777589240"
      },
      "execution_count": null,
      "outputs": [
        {
          "output_type": "display_data",
          "data": {
            "text/plain": [
              "<IPython.core.display.Javascript object>"
            ],
            "application/javascript": [
              "\n",
              "    async function download(id, filename, size) {\n",
              "      if (!google.colab.kernel.accessAllowed) {\n",
              "        return;\n",
              "      }\n",
              "      const div = document.createElement('div');\n",
              "      const label = document.createElement('label');\n",
              "      label.textContent = `Downloading \"${filename}\": `;\n",
              "      div.appendChild(label);\n",
              "      const progress = document.createElement('progress');\n",
              "      progress.max = size;\n",
              "      div.appendChild(progress);\n",
              "      document.body.appendChild(div);\n",
              "\n",
              "      const buffers = [];\n",
              "      let downloaded = 0;\n",
              "\n",
              "      const channel = await google.colab.kernel.comms.open(id);\n",
              "      // Send a message to notify the kernel that we're ready.\n",
              "      channel.send({})\n",
              "\n",
              "      for await (const message of channel.messages) {\n",
              "        // Send a message to notify the kernel that we're ready.\n",
              "        channel.send({})\n",
              "        if (message.buffers) {\n",
              "          for (const buffer of message.buffers) {\n",
              "            buffers.push(buffer);\n",
              "            downloaded += buffer.byteLength;\n",
              "            progress.value = downloaded;\n",
              "          }\n",
              "        }\n",
              "      }\n",
              "      const blob = new Blob(buffers, {type: 'application/binary'});\n",
              "      const a = document.createElement('a');\n",
              "      a.href = window.URL.createObjectURL(blob);\n",
              "      a.download = filename;\n",
              "      div.appendChild(a);\n",
              "      a.click();\n",
              "      div.remove();\n",
              "    }\n",
              "  "
            ]
          },
          "metadata": {}
        },
        {
          "output_type": "display_data",
          "data": {
            "text/plain": [
              "<IPython.core.display.Javascript object>"
            ],
            "application/javascript": [
              "download(\"download_36a9727b-4a05-4e0d-8c9b-416c033d1cf7\", \"LR_conso_puiss.pkl\", 1071)"
            ]
          },
          "metadata": {}
        },
        {
          "output_type": "display_data",
          "data": {
            "text/plain": [
              "<IPython.core.display.Javascript object>"
            ],
            "application/javascript": [
              "\n",
              "    async function download(id, filename, size) {\n",
              "      if (!google.colab.kernel.accessAllowed) {\n",
              "        return;\n",
              "      }\n",
              "      const div = document.createElement('div');\n",
              "      const label = document.createElement('label');\n",
              "      label.textContent = `Downloading \"${filename}\": `;\n",
              "      div.appendChild(label);\n",
              "      const progress = document.createElement('progress');\n",
              "      progress.max = size;\n",
              "      div.appendChild(progress);\n",
              "      document.body.appendChild(div);\n",
              "\n",
              "      const buffers = [];\n",
              "      let downloaded = 0;\n",
              "\n",
              "      const channel = await google.colab.kernel.comms.open(id);\n",
              "      // Send a message to notify the kernel that we're ready.\n",
              "      channel.send({})\n",
              "\n",
              "      for await (const message of channel.messages) {\n",
              "        // Send a message to notify the kernel that we're ready.\n",
              "        channel.send({})\n",
              "        if (message.buffers) {\n",
              "          for (const buffer of message.buffers) {\n",
              "            buffers.push(buffer);\n",
              "            downloaded += buffer.byteLength;\n",
              "            progress.value = downloaded;\n",
              "          }\n",
              "        }\n",
              "      }\n",
              "      const blob = new Blob(buffers, {type: 'application/binary'});\n",
              "      const a = document.createElement('a');\n",
              "      a.href = window.URL.createObjectURL(blob);\n",
              "      a.download = filename;\n",
              "      div.appendChild(a);\n",
              "      a.click();\n",
              "      div.remove();\n",
              "    }\n",
              "  "
            ]
          },
          "metadata": {}
        },
        {
          "output_type": "display_data",
          "data": {
            "text/plain": [
              "<IPython.core.display.Javascript object>"
            ],
            "application/javascript": [
              "download(\"download_9351234b-eff5-4d33-a0a9-5739eba59c38\", \"KNN_conso_puiss.pkl\", 243990)"
            ]
          },
          "metadata": {}
        },
        {
          "output_type": "display_data",
          "data": {
            "text/plain": [
              "<IPython.core.display.Javascript object>"
            ],
            "application/javascript": [
              "\n",
              "    async function download(id, filename, size) {\n",
              "      if (!google.colab.kernel.accessAllowed) {\n",
              "        return;\n",
              "      }\n",
              "      const div = document.createElement('div');\n",
              "      const label = document.createElement('label');\n",
              "      label.textContent = `Downloading \"${filename}\": `;\n",
              "      div.appendChild(label);\n",
              "      const progress = document.createElement('progress');\n",
              "      progress.max = size;\n",
              "      div.appendChild(progress);\n",
              "      document.body.appendChild(div);\n",
              "\n",
              "      const buffers = [];\n",
              "      let downloaded = 0;\n",
              "\n",
              "      const channel = await google.colab.kernel.comms.open(id);\n",
              "      // Send a message to notify the kernel that we're ready.\n",
              "      channel.send({})\n",
              "\n",
              "      for await (const message of channel.messages) {\n",
              "        // Send a message to notify the kernel that we're ready.\n",
              "        channel.send({})\n",
              "        if (message.buffers) {\n",
              "          for (const buffer of message.buffers) {\n",
              "            buffers.push(buffer);\n",
              "            downloaded += buffer.byteLength;\n",
              "            progress.value = downloaded;\n",
              "          }\n",
              "        }\n",
              "      }\n",
              "      const blob = new Blob(buffers, {type: 'application/binary'});\n",
              "      const a = document.createElement('a');\n",
              "      a.href = window.URL.createObjectURL(blob);\n",
              "      a.download = filename;\n",
              "      div.appendChild(a);\n",
              "      a.click();\n",
              "      div.remove();\n",
              "    }\n",
              "  "
            ]
          },
          "metadata": {}
        },
        {
          "output_type": "display_data",
          "data": {
            "text/plain": [
              "<IPython.core.display.Javascript object>"
            ],
            "application/javascript": [
              "download(\"download_171f77cd-f40f-4dc5-a88d-8aeea28e0c93\", \"RF_conso_puiss.pkl\", 3110529)"
            ]
          },
          "metadata": {}
        }
      ]
    },
    {
      "cell_type": "markdown",
      "metadata": {
        "id": "CDMkm9IbdC0b"
      },
      "source": [
        "**conso_mixte + ec (cm3)**"
      ]
    },
    {
      "cell_type": "code",
      "execution_count": null,
      "metadata": {
        "colab": {
          "base_uri": "https://localhost:8080/"
        },
        "id": "2k7e9GYRdC0c",
        "outputId": "bc760684-b8e7-486d-ab3a-24677105275e"
      },
      "outputs": [
        {
          "output_type": "stream",
          "name": "stderr",
          "text": [
            "<ipython-input-27-a582a61502d6>:2: FutureWarning: Downcasting behavior in `replace` is deprecated and will be removed in a future version. To retain the old behavior, explicitly call `result.infer_objects(copy=False)`. To opt-in to the future behavior, set `pd.set_option('future.no_silent_downcasting', True)`\n",
            "  y = df[\"category\"].replace(to_replace=['A','B','C','D','E','F','G'],value=[0,1,2,3,4,5,6])\n"
          ]
        },
        {
          "output_type": "stream",
          "name": "stdout",
          "text": [
            "LOGISTIC REGRESSION\n",
            "Logistic Regression train:  0.8677843803056027\n",
            "Logistic Regression test :  0.8947368421052632\n",
            "              precision    recall  f1-score   support\n",
            "\n",
            "           0       0.95      0.94      0.94       145\n",
            "           1       0.93      0.93      0.93       340\n",
            "           2       0.91      0.87      0.89       298\n",
            "           3       0.79      0.88      0.84       211\n",
            "           4       0.88      0.87      0.88       161\n",
            "           5       0.92      0.79      0.85        14\n",
            "           6       0.89      0.89      0.89         9\n",
            "\n",
            "    accuracy                           0.89      1178\n",
            "   macro avg       0.90      0.88      0.89      1178\n",
            "weighted avg       0.90      0.89      0.90      1178\n",
            "\n",
            "col_0       0    1    2    3    4   5  6\n",
            "category                                \n",
            "0         136    9    0    0    0   0  0\n",
            "1           7  315   16    2    0   0  0\n",
            "2           0   14  258   25    0   0  1\n",
            "3           0    0    9  186   16   0  0\n",
            "4           0    0    0   21  140   0  0\n",
            "5           0    0    0    0    3  11  0\n",
            "6           0    0    0    0    0   1  8\n",
            "\n",
            "\n",
            "\n",
            "KNN\n",
            "KNN train :  0.9940577249575552\n",
            "KNN test :  0.9872665534804754\n",
            "              precision    recall  f1-score   support\n",
            "\n",
            "           0       1.00      1.00      1.00       145\n",
            "           1       0.99      0.99      0.99       340\n",
            "           2       1.00      0.98      0.99       298\n",
            "           3       0.97      1.00      0.98       211\n",
            "           4       0.98      0.97      0.97       161\n",
            "           5       0.92      0.86      0.89        14\n",
            "           6       1.00      1.00      1.00         9\n",
            "\n",
            "    accuracy                           0.99      1178\n",
            "   macro avg       0.98      0.97      0.98      1178\n",
            "weighted avg       0.99      0.99      0.99      1178\n",
            "\n",
            "col_0       0    1    2    3    4   5  6\n",
            "category                                \n",
            "0         145    0    0    0    0   0  0\n",
            "1           0  338    1    1    0   0  0\n",
            "2           0    3  293    1    0   1  0\n",
            "3           0    0    0  210    1   0  0\n",
            "4           0    0    0    5  156   0  0\n",
            "5           0    0    0    0    2  12  0\n",
            "6           0    0    0    0    0   0  9\n",
            "\n",
            "\n",
            "\n",
            "RANDOM FOREST\n",
            "Random Forest train :  0.9980899830220713\n",
            "Random Forest test :  0.9915110356536503\n",
            "              precision    recall  f1-score   support\n",
            "\n",
            "           0       1.00      1.00      1.00       145\n",
            "           1       0.99      0.99      0.99       340\n",
            "           2       1.00      0.99      0.99       298\n",
            "           3       0.98      1.00      0.99       211\n",
            "           4       0.99      0.98      0.99       161\n",
            "           5       1.00      1.00      1.00        14\n",
            "           6       1.00      1.00      1.00         9\n",
            "\n",
            "    accuracy                           0.99      1178\n",
            "   macro avg       0.99      0.99      0.99      1178\n",
            "weighted avg       0.99      0.99      0.99      1178\n",
            "\n",
            "col_0       0    1    2    3    4   5  6\n",
            "category                                \n",
            "0         145    0    0    0    0   0  0\n",
            "1           0  338    1    1    0   0  0\n",
            "2           0    3  294    1    0   0  0\n",
            "3           0    0    0  210    1   0  0\n",
            "4           0    0    0    3  158   0  0\n",
            "5           0    0    0    0    0  14  0\n",
            "6           0    0    0    0    0   0  9\n"
          ]
        }
      ],
      "source": [
        "X = df[[\"conso_mixte\",\"ec (cm3)\"]]\n",
        "y = df[\"category\"].replace(to_replace=['A','B','C','D','E','F','G'],value=[0,1,2,3,4,5,6])\n",
        "\n",
        "#Split\n",
        "X_train, X_test, y_train, y_test = train_test_split(X,y,test_size=0.2,random_state=64)\n",
        "\n",
        "#Scaler\n",
        "scaler = StandardScaler()\n",
        "scaler.fit(X_train)\n",
        "X_train_scaler = scaler.transform(X_train)\n",
        "X_test_scaler = scaler.transform(X_test)\n",
        "\n",
        "###LogisticRegression\n",
        "clf = LogisticRegression(C=1)\n",
        "clf.fit(X_train_scaler,y_train)\n",
        "\n",
        "print(\"LOGISTIC REGRESSION\")\n",
        "print(\"Logistic Regression train: \",clf.score(X_train_scaler,y_train))\n",
        "print(\"Logistic Regression test : \",clf.score(X_test_scaler,y_test))\n",
        "\n",
        "y_pred = clf.predict(X_test_scaler)\n",
        "print(classification_report(y_test, y_pred))\n",
        "print(pd.crosstab(y_test, y_pred))\n",
        "\n",
        "#KNN\n",
        "knn = KNeighborsClassifier(n_neighbors=5)\n",
        "knn.fit(X_train_scaler,y_train)\n",
        "\n",
        "print(\"\\n\\n\")\n",
        "print(\"KNN\")\n",
        "print(\"KNN train : \",knn.score(X_train_scaler,y_train))\n",
        "print(\"KNN test : \",knn.score(X_test_scaler,y_test))\n",
        "\n",
        "y_pred = knn.predict(X_test_scaler)\n",
        "print(classification_report(y_test, y_pred))\n",
        "print(pd.crosstab(y_test, y_pred))\n",
        "\n",
        "#RandomForest\n",
        "rforest = RandomForestClassifier(n_jobs = -1,random_state = 64)\n",
        "rforest.fit(X_train_scaler,y_train)\n",
        "\n",
        "print(\"\\n\\n\")\n",
        "print(\"RANDOM FOREST\")\n",
        "print(\"Random Forest train : \",rforest.score(X_train_scaler,y_train))\n",
        "print(\"Random Forest test : \",rforest.score(X_test_scaler,y_test))\n",
        "\n",
        "y_pred = rforest.predict(X_test_scaler)\n",
        "print(classification_report(y_test, y_pred))\n",
        "print(pd.crosstab(y_test, y_pred))"
      ]
    },
    {
      "cell_type": "code",
      "source": [
        "joblib.dump(clf, \"LR_conso_ec.pkl\")\n",
        "joblib.dump(knn, \"KNN_conso_ec.pkl\")\n",
        "joblib.dump(rforest, \"RF_conso_ec.pkl\")\n",
        "\n",
        "from google.colab import files\n",
        "files.download(\"LR_conso_ec.pkl\")\n",
        "files.download(\"KNN_conso_ec.pkl\")\n",
        "files.download(\"RF_conso_ec.pkl\")"
      ],
      "metadata": {
        "colab": {
          "base_uri": "https://localhost:8080/",
          "height": 17
        },
        "id": "8-BChPoF0jbm",
        "outputId": "f20bc192-b8b3-4d67-f68d-b22336936ad6"
      },
      "execution_count": null,
      "outputs": [
        {
          "output_type": "display_data",
          "data": {
            "text/plain": [
              "<IPython.core.display.Javascript object>"
            ],
            "application/javascript": [
              "\n",
              "    async function download(id, filename, size) {\n",
              "      if (!google.colab.kernel.accessAllowed) {\n",
              "        return;\n",
              "      }\n",
              "      const div = document.createElement('div');\n",
              "      const label = document.createElement('label');\n",
              "      label.textContent = `Downloading \"${filename}\": `;\n",
              "      div.appendChild(label);\n",
              "      const progress = document.createElement('progress');\n",
              "      progress.max = size;\n",
              "      div.appendChild(progress);\n",
              "      document.body.appendChild(div);\n",
              "\n",
              "      const buffers = [];\n",
              "      let downloaded = 0;\n",
              "\n",
              "      const channel = await google.colab.kernel.comms.open(id);\n",
              "      // Send a message to notify the kernel that we're ready.\n",
              "      channel.send({})\n",
              "\n",
              "      for await (const message of channel.messages) {\n",
              "        // Send a message to notify the kernel that we're ready.\n",
              "        channel.send({})\n",
              "        if (message.buffers) {\n",
              "          for (const buffer of message.buffers) {\n",
              "            buffers.push(buffer);\n",
              "            downloaded += buffer.byteLength;\n",
              "            progress.value = downloaded;\n",
              "          }\n",
              "        }\n",
              "      }\n",
              "      const blob = new Blob(buffers, {type: 'application/binary'});\n",
              "      const a = document.createElement('a');\n",
              "      a.href = window.URL.createObjectURL(blob);\n",
              "      a.download = filename;\n",
              "      div.appendChild(a);\n",
              "      a.click();\n",
              "      div.remove();\n",
              "    }\n",
              "  "
            ]
          },
          "metadata": {}
        },
        {
          "output_type": "display_data",
          "data": {
            "text/plain": [
              "<IPython.core.display.Javascript object>"
            ],
            "application/javascript": [
              "download(\"download_84896937-7aee-4384-bfbe-98452843ef5e\", \"LR_conso_ec.pkl\", 1071)"
            ]
          },
          "metadata": {}
        },
        {
          "output_type": "display_data",
          "data": {
            "text/plain": [
              "<IPython.core.display.Javascript object>"
            ],
            "application/javascript": [
              "\n",
              "    async function download(id, filename, size) {\n",
              "      if (!google.colab.kernel.accessAllowed) {\n",
              "        return;\n",
              "      }\n",
              "      const div = document.createElement('div');\n",
              "      const label = document.createElement('label');\n",
              "      label.textContent = `Downloading \"${filename}\": `;\n",
              "      div.appendChild(label);\n",
              "      const progress = document.createElement('progress');\n",
              "      progress.max = size;\n",
              "      div.appendChild(progress);\n",
              "      document.body.appendChild(div);\n",
              "\n",
              "      const buffers = [];\n",
              "      let downloaded = 0;\n",
              "\n",
              "      const channel = await google.colab.kernel.comms.open(id);\n",
              "      // Send a message to notify the kernel that we're ready.\n",
              "      channel.send({})\n",
              "\n",
              "      for await (const message of channel.messages) {\n",
              "        // Send a message to notify the kernel that we're ready.\n",
              "        channel.send({})\n",
              "        if (message.buffers) {\n",
              "          for (const buffer of message.buffers) {\n",
              "            buffers.push(buffer);\n",
              "            downloaded += buffer.byteLength;\n",
              "            progress.value = downloaded;\n",
              "          }\n",
              "        }\n",
              "      }\n",
              "      const blob = new Blob(buffers, {type: 'application/binary'});\n",
              "      const a = document.createElement('a');\n",
              "      a.href = window.URL.createObjectURL(blob);\n",
              "      a.download = filename;\n",
              "      div.appendChild(a);\n",
              "      a.click();\n",
              "      div.remove();\n",
              "    }\n",
              "  "
            ]
          },
          "metadata": {}
        },
        {
          "output_type": "display_data",
          "data": {
            "text/plain": [
              "<IPython.core.display.Javascript object>"
            ],
            "application/javascript": [
              "download(\"download_f7a0d571-3b5e-4027-a3da-f77ee46a276e\", \"KNN_conso_ec.pkl\", 243990)"
            ]
          },
          "metadata": {}
        },
        {
          "output_type": "display_data",
          "data": {
            "text/plain": [
              "<IPython.core.display.Javascript object>"
            ],
            "application/javascript": [
              "\n",
              "    async function download(id, filename, size) {\n",
              "      if (!google.colab.kernel.accessAllowed) {\n",
              "        return;\n",
              "      }\n",
              "      const div = document.createElement('div');\n",
              "      const label = document.createElement('label');\n",
              "      label.textContent = `Downloading \"${filename}\": `;\n",
              "      div.appendChild(label);\n",
              "      const progress = document.createElement('progress');\n",
              "      progress.max = size;\n",
              "      div.appendChild(progress);\n",
              "      document.body.appendChild(div);\n",
              "\n",
              "      const buffers = [];\n",
              "      let downloaded = 0;\n",
              "\n",
              "      const channel = await google.colab.kernel.comms.open(id);\n",
              "      // Send a message to notify the kernel that we're ready.\n",
              "      channel.send({})\n",
              "\n",
              "      for await (const message of channel.messages) {\n",
              "        // Send a message to notify the kernel that we're ready.\n",
              "        channel.send({})\n",
              "        if (message.buffers) {\n",
              "          for (const buffer of message.buffers) {\n",
              "            buffers.push(buffer);\n",
              "            downloaded += buffer.byteLength;\n",
              "            progress.value = downloaded;\n",
              "          }\n",
              "        }\n",
              "      }\n",
              "      const blob = new Blob(buffers, {type: 'application/binary'});\n",
              "      const a = document.createElement('a');\n",
              "      a.href = window.URL.createObjectURL(blob);\n",
              "      a.download = filename;\n",
              "      div.appendChild(a);\n",
              "      a.click();\n",
              "      div.remove();\n",
              "    }\n",
              "  "
            ]
          },
          "metadata": {}
        },
        {
          "output_type": "display_data",
          "data": {
            "text/plain": [
              "<IPython.core.display.Javascript object>"
            ],
            "application/javascript": [
              "download(\"download_a57cac04-55d4-4e1f-96a3-12bcc3976a90\", \"RF_conso_ec.pkl\", 1902849)"
            ]
          },
          "metadata": {}
        }
      ]
    },
    {
      "cell_type": "markdown",
      "metadata": {
        "id": "-qIzsew4dC0d"
      },
      "source": [
        "**ec (cm3) + puiss_max**"
      ]
    },
    {
      "cell_type": "code",
      "execution_count": null,
      "metadata": {
        "colab": {
          "base_uri": "https://localhost:8080/"
        },
        "id": "G2SeFY2udC0d",
        "outputId": "13e26cb0-9324-4847-86dc-80b5714782cc"
      },
      "outputs": [
        {
          "output_type": "stream",
          "name": "stderr",
          "text": [
            "<ipython-input-29-0fdab375ad9a>:2: FutureWarning: Downcasting behavior in `replace` is deprecated and will be removed in a future version. To retain the old behavior, explicitly call `result.infer_objects(copy=False)`. To opt-in to the future behavior, set `pd.set_option('future.no_silent_downcasting', True)`\n",
            "  y = df[\"category\"].replace(to_replace=['A','B','C','D','E','F','G'],value=[0,1,2,3,4,5,6])\n"
          ]
        },
        {
          "output_type": "stream",
          "name": "stdout",
          "text": [
            "LOGISTIC REGRESSION\n",
            "Logistic Regression train:  0.3957979626485569\n",
            "Logistic Regression test :  0.4091680814940577\n",
            "              precision    recall  f1-score   support\n",
            "\n",
            "           0       0.41      0.32      0.36       145\n",
            "           1       0.39      0.60      0.47       340\n",
            "           2       0.37      0.26      0.30       298\n",
            "           3       0.40      0.42      0.41       211\n",
            "           4       0.54      0.30      0.39       161\n",
            "           5       0.69      0.64      0.67        14\n",
            "           6       1.00      0.89      0.94         9\n",
            "\n",
            "    accuracy                           0.41      1178\n",
            "   macro avg       0.54      0.49      0.51      1178\n",
            "weighted avg       0.42      0.41      0.40      1178\n",
            "\n",
            "col_0      0    1   2   3   4  5  6\n",
            "category                           \n",
            "0         47   89   6   3   0  0  0\n",
            "1         51  204  60  21   4  0  0\n",
            "2         18  120  77  64  18  1  0\n",
            "3          0   84  24  88  15  0  0\n",
            "4          0   26  42  42  49  2  0\n",
            "5          0    0   0   1   4  9  0\n",
            "6          0    0   0   0   0  1  8\n",
            "\n",
            "\n",
            "\n",
            "KNN\n",
            "KNN train :  0.5713073005093379\n",
            "KNN test :  0.5534804753820034\n",
            "              precision    recall  f1-score   support\n",
            "\n",
            "           0       0.44      0.72      0.55       145\n",
            "           1       0.64      0.53      0.58       340\n",
            "           2       0.47      0.56      0.51       298\n",
            "           3       0.61      0.48      0.54       211\n",
            "           4       0.68      0.50      0.58       161\n",
            "           5       0.92      0.79      0.85        14\n",
            "           6       1.00      1.00      1.00         9\n",
            "\n",
            "    accuracy                           0.55      1178\n",
            "   macro avg       0.68      0.65      0.66      1178\n",
            "weighted avg       0.58      0.55      0.56      1178\n",
            "\n",
            "col_0       0    1    2    3   4   5  6\n",
            "category                               \n",
            "0         105   34    6    0   0   0  0\n",
            "1         103  179   51    3   4   0  0\n",
            "2          28   62  167   24  16   1  0\n",
            "3           2    5   88  101  15   0  0\n",
            "4           0    1   42   38  80   0  0\n",
            "5           0    0    1    0   2  11  0\n",
            "6           0    0    0    0   0   0  9\n",
            "\n",
            "\n",
            "\n",
            "RANDOM FOREST\n",
            "Random Forest train :  0.6375212224108658\n",
            "Random Forest test :  0.6239388794567062\n",
            "              precision    recall  f1-score   support\n",
            "\n",
            "           0       0.65      0.48      0.55       145\n",
            "           1       0.60      0.73      0.66       340\n",
            "           2       0.65      0.45      0.53       298\n",
            "           3       0.65      0.73      0.69       211\n",
            "           4       0.55      0.67      0.61       161\n",
            "           5       1.00      0.93      0.96        14\n",
            "           6       1.00      1.00      1.00         9\n",
            "\n",
            "    accuracy                           0.62      1178\n",
            "   macro avg       0.73      0.71      0.71      1178\n",
            "weighted avg       0.63      0.62      0.62      1178\n",
            "\n",
            "col_0      0    1    2    3    4   5  6\n",
            "category                               \n",
            "0         70   68    0    1    6   0  0\n",
            "1         36  247   42    2   13   0  0\n",
            "2          2   89  134   37   36   0  0\n",
            "3          0    6   20  154   31   0  0\n",
            "4          0    2    9   42  108   0  0\n",
            "5          0    0    0    0    1  13  0\n",
            "6          0    0    0    0    0   0  9\n"
          ]
        }
      ],
      "source": [
        "X = df[[\"ec (cm3)\",\"puiss_max\"]]\n",
        "y = df[\"category\"].replace(to_replace=['A','B','C','D','E','F','G'],value=[0,1,2,3,4,5,6])\n",
        "\n",
        "#Split\n",
        "X_train, X_test, y_train, y_test = train_test_split(X,y,test_size=0.2,random_state=64)\n",
        "\n",
        "#Scaler\n",
        "scaler = StandardScaler()\n",
        "scaler.fit(X_train)\n",
        "X_train_scaler = scaler.transform(X_train)\n",
        "X_test_scaler = scaler.transform(X_test)\n",
        "\n",
        "###LogisticRegression\n",
        "clf = LogisticRegression(C=1)\n",
        "clf.fit(X_train_scaler,y_train)\n",
        "\n",
        "print(\"LOGISTIC REGRESSION\")\n",
        "print(\"Logistic Regression train: \",clf.score(X_train_scaler,y_train))\n",
        "print(\"Logistic Regression test : \",clf.score(X_test_scaler,y_test))\n",
        "\n",
        "y_pred = clf.predict(X_test_scaler)\n",
        "print(classification_report(y_test, y_pred))\n",
        "print(pd.crosstab(y_test, y_pred))\n",
        "\n",
        "#KNN\n",
        "knn = KNeighborsClassifier(n_neighbors=5)\n",
        "knn.fit(X_train_scaler,y_train)\n",
        "\n",
        "print(\"\\n\\n\")\n",
        "print(\"KNN\")\n",
        "print(\"KNN train : \",knn.score(X_train_scaler,y_train))\n",
        "print(\"KNN test : \",knn.score(X_test_scaler,y_test))\n",
        "\n",
        "y_pred = knn.predict(X_test_scaler)\n",
        "print(classification_report(y_test, y_pred))\n",
        "print(pd.crosstab(y_test, y_pred))\n",
        "\n",
        "#RandomForest\n",
        "rforest = RandomForestClassifier(n_jobs = -1,random_state = 64)\n",
        "rforest.fit(X_train_scaler,y_train)\n",
        "\n",
        "print(\"\\n\\n\")\n",
        "print(\"RANDOM FOREST\")\n",
        "print(\"Random Forest train : \",rforest.score(X_train_scaler,y_train))\n",
        "print(\"Random Forest test : \",rforest.score(X_test_scaler,y_test))\n",
        "\n",
        "y_pred = rforest.predict(X_test_scaler)\n",
        "print(classification_report(y_test, y_pred))\n",
        "print(pd.crosstab(y_test, y_pred))"
      ]
    },
    {
      "cell_type": "code",
      "source": [
        "joblib.dump(clf, \"LR_puiss_ec.pkl\")\n",
        "joblib.dump(knn, \"KNN_puiss_ec.pkl\")\n",
        "joblib.dump(rforest, \"RF_puiss_ec.pkl\")\n",
        "\n",
        "files.download(\"LR_puiss_ec.pkl\")\n",
        "files.download(\"KNN_puiss_ec.pkl\")\n",
        "files.download(\"RF_puiss_ec.pkl\")"
      ],
      "metadata": {
        "colab": {
          "base_uri": "https://localhost:8080/",
          "height": 17
        },
        "id": "wIkIbsQh0p-Z",
        "outputId": "7d230e79-182b-4466-ae3d-5a6a22230f6b"
      },
      "execution_count": null,
      "outputs": [
        {
          "output_type": "display_data",
          "data": {
            "text/plain": [
              "<IPython.core.display.Javascript object>"
            ],
            "application/javascript": [
              "\n",
              "    async function download(id, filename, size) {\n",
              "      if (!google.colab.kernel.accessAllowed) {\n",
              "        return;\n",
              "      }\n",
              "      const div = document.createElement('div');\n",
              "      const label = document.createElement('label');\n",
              "      label.textContent = `Downloading \"${filename}\": `;\n",
              "      div.appendChild(label);\n",
              "      const progress = document.createElement('progress');\n",
              "      progress.max = size;\n",
              "      div.appendChild(progress);\n",
              "      document.body.appendChild(div);\n",
              "\n",
              "      const buffers = [];\n",
              "      let downloaded = 0;\n",
              "\n",
              "      const channel = await google.colab.kernel.comms.open(id);\n",
              "      // Send a message to notify the kernel that we're ready.\n",
              "      channel.send({})\n",
              "\n",
              "      for await (const message of channel.messages) {\n",
              "        // Send a message to notify the kernel that we're ready.\n",
              "        channel.send({})\n",
              "        if (message.buffers) {\n",
              "          for (const buffer of message.buffers) {\n",
              "            buffers.push(buffer);\n",
              "            downloaded += buffer.byteLength;\n",
              "            progress.value = downloaded;\n",
              "          }\n",
              "        }\n",
              "      }\n",
              "      const blob = new Blob(buffers, {type: 'application/binary'});\n",
              "      const a = document.createElement('a');\n",
              "      a.href = window.URL.createObjectURL(blob);\n",
              "      a.download = filename;\n",
              "      div.appendChild(a);\n",
              "      a.click();\n",
              "      div.remove();\n",
              "    }\n",
              "  "
            ]
          },
          "metadata": {}
        },
        {
          "output_type": "display_data",
          "data": {
            "text/plain": [
              "<IPython.core.display.Javascript object>"
            ],
            "application/javascript": [
              "download(\"download_868ed964-a83e-4261-b3ad-6afd1ac5a1b8\", \"LR_puiss_ec.pkl\", 1071)"
            ]
          },
          "metadata": {}
        },
        {
          "output_type": "display_data",
          "data": {
            "text/plain": [
              "<IPython.core.display.Javascript object>"
            ],
            "application/javascript": [
              "\n",
              "    async function download(id, filename, size) {\n",
              "      if (!google.colab.kernel.accessAllowed) {\n",
              "        return;\n",
              "      }\n",
              "      const div = document.createElement('div');\n",
              "      const label = document.createElement('label');\n",
              "      label.textContent = `Downloading \"${filename}\": `;\n",
              "      div.appendChild(label);\n",
              "      const progress = document.createElement('progress');\n",
              "      progress.max = size;\n",
              "      div.appendChild(progress);\n",
              "      document.body.appendChild(div);\n",
              "\n",
              "      const buffers = [];\n",
              "      let downloaded = 0;\n",
              "\n",
              "      const channel = await google.colab.kernel.comms.open(id);\n",
              "      // Send a message to notify the kernel that we're ready.\n",
              "      channel.send({})\n",
              "\n",
              "      for await (const message of channel.messages) {\n",
              "        // Send a message to notify the kernel that we're ready.\n",
              "        channel.send({})\n",
              "        if (message.buffers) {\n",
              "          for (const buffer of message.buffers) {\n",
              "            buffers.push(buffer);\n",
              "            downloaded += buffer.byteLength;\n",
              "            progress.value = downloaded;\n",
              "          }\n",
              "        }\n",
              "      }\n",
              "      const blob = new Blob(buffers, {type: 'application/binary'});\n",
              "      const a = document.createElement('a');\n",
              "      a.href = window.URL.createObjectURL(blob);\n",
              "      a.download = filename;\n",
              "      div.appendChild(a);\n",
              "      a.click();\n",
              "      div.remove();\n",
              "    }\n",
              "  "
            ]
          },
          "metadata": {}
        },
        {
          "output_type": "display_data",
          "data": {
            "text/plain": [
              "<IPython.core.display.Javascript object>"
            ],
            "application/javascript": [
              "download(\"download_d2611407-0d32-480e-aeae-cf6a7f4fc70e\", \"KNN_puiss_ec.pkl\", 243990)"
            ]
          },
          "metadata": {}
        },
        {
          "output_type": "display_data",
          "data": {
            "text/plain": [
              "<IPython.core.display.Javascript object>"
            ],
            "application/javascript": [
              "\n",
              "    async function download(id, filename, size) {\n",
              "      if (!google.colab.kernel.accessAllowed) {\n",
              "        return;\n",
              "      }\n",
              "      const div = document.createElement('div');\n",
              "      const label = document.createElement('label');\n",
              "      label.textContent = `Downloading \"${filename}\": `;\n",
              "      div.appendChild(label);\n",
              "      const progress = document.createElement('progress');\n",
              "      progress.max = size;\n",
              "      div.appendChild(progress);\n",
              "      document.body.appendChild(div);\n",
              "\n",
              "      const buffers = [];\n",
              "      let downloaded = 0;\n",
              "\n",
              "      const channel = await google.colab.kernel.comms.open(id);\n",
              "      // Send a message to notify the kernel that we're ready.\n",
              "      channel.send({})\n",
              "\n",
              "      for await (const message of channel.messages) {\n",
              "        // Send a message to notify the kernel that we're ready.\n",
              "        channel.send({})\n",
              "        if (message.buffers) {\n",
              "          for (const buffer of message.buffers) {\n",
              "            buffers.push(buffer);\n",
              "            downloaded += buffer.byteLength;\n",
              "            progress.value = downloaded;\n",
              "          }\n",
              "        }\n",
              "      }\n",
              "      const blob = new Blob(buffers, {type: 'application/binary'});\n",
              "      const a = document.createElement('a');\n",
              "      a.href = window.URL.createObjectURL(blob);\n",
              "      a.download = filename;\n",
              "      div.appendChild(a);\n",
              "      a.click();\n",
              "      div.remove();\n",
              "    }\n",
              "  "
            ]
          },
          "metadata": {}
        },
        {
          "output_type": "display_data",
          "data": {
            "text/plain": [
              "<IPython.core.display.Javascript object>"
            ],
            "application/javascript": [
              "download(\"download_0670a5a3-64a1-40ca-85cb-8919a4c4fc97\", \"RF_puiss_ec.pkl\", 3833649)"
            ]
          },
          "metadata": {}
        }
      ]
    },
    {
      "cell_type": "markdown",
      "metadata": {
        "id": "kis5AcqUdC0e"
      },
      "source": [
        "**conso_mixte + puiss_max + ec (cm3)**"
      ]
    },
    {
      "cell_type": "code",
      "execution_count": null,
      "metadata": {
        "colab": {
          "base_uri": "https://localhost:8080/"
        },
        "id": "QE-eRqTudC0h",
        "outputId": "93ab9804-d77f-413e-a4c1-d60e455ce784"
      },
      "outputs": [
        {
          "output_type": "stream",
          "name": "stderr",
          "text": [
            "<ipython-input-31-91a4052800b9>:2: FutureWarning: Downcasting behavior in `replace` is deprecated and will be removed in a future version. To retain the old behavior, explicitly call `result.infer_objects(copy=False)`. To opt-in to the future behavior, set `pd.set_option('future.no_silent_downcasting', True)`\n",
            "  y = df[\"category\"].replace(to_replace=['A','B','C','D','E','F','G'],value=[0,1,2,3,4,5,6])\n"
          ]
        },
        {
          "output_type": "stream",
          "name": "stdout",
          "text": [
            "LOGISTIC REGRESSION\n",
            "Logistic Regression train:  0.8669354838709677\n",
            "Logistic Regression test :  0.8921901528013583\n",
            "              precision    recall  f1-score   support\n",
            "\n",
            "           0       0.95      0.94      0.94       145\n",
            "           1       0.92      0.93      0.92       340\n",
            "           2       0.91      0.84      0.87       298\n",
            "           3       0.79      0.91      0.85       211\n",
            "           4       0.90      0.87      0.89       161\n",
            "           5       0.91      0.71      0.80        14\n",
            "           6       1.00      0.89      0.94         9\n",
            "\n",
            "    accuracy                           0.89      1178\n",
            "   macro avg       0.91      0.87      0.89      1178\n",
            "weighted avg       0.90      0.89      0.89      1178\n",
            "\n",
            "col_0       0    1    2    3    4   5  6\n",
            "category                                \n",
            "0         136    9    0    0    0   0  0\n",
            "1           7  315   16    2    0   0  0\n",
            "2           0   18  249   29    2   0  0\n",
            "3           0    0    9  193    9   0  0\n",
            "4           0    0    0   21  140   0  0\n",
            "5           0    0    0    0    4  10  0\n",
            "6           0    0    0    0    0   1  8\n",
            "\n",
            "\n",
            "\n",
            "KNN\n",
            "KNN train :  0.9927843803056027\n",
            "KNN test :  0.9881154499151104\n",
            "              precision    recall  f1-score   support\n",
            "\n",
            "           0       1.00      0.99      0.99       145\n",
            "           1       0.98      0.99      0.99       340\n",
            "           2       1.00      0.99      0.99       298\n",
            "           3       0.98      1.00      0.99       211\n",
            "           4       0.99      0.98      0.98       161\n",
            "           5       1.00      0.93      0.96        14\n",
            "           6       1.00      1.00      1.00         9\n",
            "\n",
            "    accuracy                           0.99      1178\n",
            "   macro avg       0.99      0.98      0.99      1178\n",
            "weighted avg       0.99      0.99      0.99      1178\n",
            "\n",
            "col_0       0    1    2    3    4   5  6\n",
            "category                                \n",
            "0         143    2    0    0    0   0  0\n",
            "1           0  338    1    1    0   0  0\n",
            "2           0    4  294    0    0   0  0\n",
            "3           0    0    0  210    1   0  0\n",
            "4           0    0    0    4  157   0  0\n",
            "5           0    0    0    0    1  13  0\n",
            "6           0    0    0    0    0   0  9\n",
            "\n",
            "\n",
            "\n",
            "RANDOM FOREST\n",
            "Random Forest train :  1.0\n",
            "Random Forest test :  0.9923599320882852\n",
            "              precision    recall  f1-score   support\n",
            "\n",
            "           0       1.00      0.99      1.00       145\n",
            "           1       1.00      1.00      1.00       340\n",
            "           2       1.00      1.00      1.00       298\n",
            "           3       0.97      1.00      0.98       211\n",
            "           4       0.99      0.97      0.98       161\n",
            "           5       1.00      1.00      1.00        14\n",
            "           6       1.00      1.00      1.00         9\n",
            "\n",
            "    accuracy                           0.99      1178\n",
            "   macro avg       0.99      0.99      0.99      1178\n",
            "weighted avg       0.99      0.99      0.99      1178\n",
            "\n",
            "col_0       0    1    2    3    4   5  6\n",
            "category                                \n",
            "0         144    1    0    0    0   0  0\n",
            "1           0  339    1    0    0   0  0\n",
            "2           0    0  297    1    0   0  0\n",
            "3           0    0    0  210    1   0  0\n",
            "4           0    0    0    5  156   0  0\n",
            "5           0    0    0    0    0  14  0\n",
            "6           0    0    0    0    0   0  9\n"
          ]
        }
      ],
      "source": [
        "X = df[[\"conso_mixte\",\"puiss_max\",\"ec (cm3)\"]]\n",
        "y = df[\"category\"].replace(to_replace=['A','B','C','D','E','F','G'],value=[0,1,2,3,4,5,6])\n",
        "\n",
        "#Split\n",
        "X_train, X_test, y_train, y_test = train_test_split(X,y,test_size=0.2,random_state=64)\n",
        "\n",
        "#Scaler\n",
        "scaler = StandardScaler()\n",
        "scaler.fit(X_train)\n",
        "X_train_scaler = scaler.transform(X_train)\n",
        "X_test_scaler = scaler.transform(X_test)\n",
        "\n",
        "###LogisticRegression\n",
        "clf = LogisticRegression(C=1)\n",
        "clf.fit(X_train_scaler,y_train)\n",
        "\n",
        "print(\"LOGISTIC REGRESSION\")\n",
        "print(\"Logistic Regression train: \",clf.score(X_train_scaler,y_train))\n",
        "print(\"Logistic Regression test : \",clf.score(X_test_scaler,y_test))\n",
        "\n",
        "y_pred = clf.predict(X_test_scaler)\n",
        "print(classification_report(y_test, y_pred))\n",
        "print(pd.crosstab(y_test, y_pred))\n",
        "\n",
        "#KNN\n",
        "knn = KNeighborsClassifier(n_neighbors=5)\n",
        "knn.fit(X_train_scaler,y_train)\n",
        "\n",
        "print(\"\\n\\n\")\n",
        "print(\"KNN\")\n",
        "print(\"KNN train : \",knn.score(X_train_scaler,y_train))\n",
        "print(\"KNN test : \",knn.score(X_test_scaler,y_test))\n",
        "\n",
        "y_pred = knn.predict(X_test_scaler)\n",
        "print(classification_report(y_test, y_pred))\n",
        "print(pd.crosstab(y_test, y_pred))\n",
        "\n",
        "#RandomForest\n",
        "rforest = RandomForestClassifier(n_jobs = -1,random_state = 64)\n",
        "rforest.fit(X_train_scaler,y_train)\n",
        "\n",
        "print(\"\\n\\n\")\n",
        "print(\"RANDOM FOREST\")\n",
        "print(\"Random Forest train : \",rforest.score(X_train_scaler,y_train))\n",
        "print(\"Random Forest test : \",rforest.score(X_test_scaler,y_test))\n",
        "\n",
        "y_pred = rforest.predict(X_test_scaler)\n",
        "print(classification_report(y_test, y_pred))\n",
        "print(pd.crosstab(y_test, y_pred))"
      ]
    },
    {
      "cell_type": "code",
      "source": [
        "joblib.dump(clf, \"LR_conso_puiss_ec.pkl\")\n",
        "joblib.dump(knn, \"KNN_conso_puiss_ec.pkl\")\n",
        "joblib.dump(rforest, \"RF_conso_puiss_ec.pkl\")\n",
        "\n",
        "files.download(\"LR_conso_puiss_ec.pkl\")\n",
        "files.download(\"KNN_conso_puiss_ec.pkl\")\n",
        "files.download(\"RF_conso_puiss_ec.pkl\")"
      ],
      "metadata": {
        "colab": {
          "base_uri": "https://localhost:8080/",
          "height": 17
        },
        "id": "usOaA0PZ01Z6",
        "outputId": "b2bf4cb7-b642-4d41-90ba-a96cd314c56a"
      },
      "execution_count": null,
      "outputs": [
        {
          "output_type": "display_data",
          "data": {
            "text/plain": [
              "<IPython.core.display.Javascript object>"
            ],
            "application/javascript": [
              "\n",
              "    async function download(id, filename, size) {\n",
              "      if (!google.colab.kernel.accessAllowed) {\n",
              "        return;\n",
              "      }\n",
              "      const div = document.createElement('div');\n",
              "      const label = document.createElement('label');\n",
              "      label.textContent = `Downloading \"${filename}\": `;\n",
              "      div.appendChild(label);\n",
              "      const progress = document.createElement('progress');\n",
              "      progress.max = size;\n",
              "      div.appendChild(progress);\n",
              "      document.body.appendChild(div);\n",
              "\n",
              "      const buffers = [];\n",
              "      let downloaded = 0;\n",
              "\n",
              "      const channel = await google.colab.kernel.comms.open(id);\n",
              "      // Send a message to notify the kernel that we're ready.\n",
              "      channel.send({})\n",
              "\n",
              "      for await (const message of channel.messages) {\n",
              "        // Send a message to notify the kernel that we're ready.\n",
              "        channel.send({})\n",
              "        if (message.buffers) {\n",
              "          for (const buffer of message.buffers) {\n",
              "            buffers.push(buffer);\n",
              "            downloaded += buffer.byteLength;\n",
              "            progress.value = downloaded;\n",
              "          }\n",
              "        }\n",
              "      }\n",
              "      const blob = new Blob(buffers, {type: 'application/binary'});\n",
              "      const a = document.createElement('a');\n",
              "      a.href = window.URL.createObjectURL(blob);\n",
              "      a.download = filename;\n",
              "      div.appendChild(a);\n",
              "      a.click();\n",
              "      div.remove();\n",
              "    }\n",
              "  "
            ]
          },
          "metadata": {}
        },
        {
          "output_type": "display_data",
          "data": {
            "text/plain": [
              "<IPython.core.display.Javascript object>"
            ],
            "application/javascript": [
              "download(\"download_740518a5-827d-408d-bccd-0bf27343cbfd\", \"LR_conso_puiss_ec.pkl\", 1135)"
            ]
          },
          "metadata": {}
        },
        {
          "output_type": "display_data",
          "data": {
            "text/plain": [
              "<IPython.core.display.Javascript object>"
            ],
            "application/javascript": [
              "\n",
              "    async function download(id, filename, size) {\n",
              "      if (!google.colab.kernel.accessAllowed) {\n",
              "        return;\n",
              "      }\n",
              "      const div = document.createElement('div');\n",
              "      const label = document.createElement('label');\n",
              "      label.textContent = `Downloading \"${filename}\": `;\n",
              "      div.appendChild(label);\n",
              "      const progress = document.createElement('progress');\n",
              "      progress.max = size;\n",
              "      div.appendChild(progress);\n",
              "      document.body.appendChild(div);\n",
              "\n",
              "      const buffers = [];\n",
              "      let downloaded = 0;\n",
              "\n",
              "      const channel = await google.colab.kernel.comms.open(id);\n",
              "      // Send a message to notify the kernel that we're ready.\n",
              "      channel.send({})\n",
              "\n",
              "      for await (const message of channel.messages) {\n",
              "        // Send a message to notify the kernel that we're ready.\n",
              "        channel.send({})\n",
              "        if (message.buffers) {\n",
              "          for (const buffer of message.buffers) {\n",
              "            buffers.push(buffer);\n",
              "            downloaded += buffer.byteLength;\n",
              "            progress.value = downloaded;\n",
              "          }\n",
              "        }\n",
              "      }\n",
              "      const blob = new Blob(buffers, {type: 'application/binary'});\n",
              "      const a = document.createElement('a');\n",
              "      a.href = window.URL.createObjectURL(blob);\n",
              "      a.download = filename;\n",
              "      div.appendChild(a);\n",
              "      a.click();\n",
              "      div.remove();\n",
              "    }\n",
              "  "
            ]
          },
          "metadata": {}
        },
        {
          "output_type": "display_data",
          "data": {
            "text/plain": [
              "<IPython.core.display.Javascript object>"
            ],
            "application/javascript": [
              "download(\"download_a60c22cd-bfce-47f0-ac5f-2988af701060\", \"KNN_conso_puiss_ec.pkl\", 323462)"
            ]
          },
          "metadata": {}
        },
        {
          "output_type": "display_data",
          "data": {
            "text/plain": [
              "<IPython.core.display.Javascript object>"
            ],
            "application/javascript": [
              "\n",
              "    async function download(id, filename, size) {\n",
              "      if (!google.colab.kernel.accessAllowed) {\n",
              "        return;\n",
              "      }\n",
              "      const div = document.createElement('div');\n",
              "      const label = document.createElement('label');\n",
              "      label.textContent = `Downloading \"${filename}\": `;\n",
              "      div.appendChild(label);\n",
              "      const progress = document.createElement('progress');\n",
              "      progress.max = size;\n",
              "      div.appendChild(progress);\n",
              "      document.body.appendChild(div);\n",
              "\n",
              "      const buffers = [];\n",
              "      let downloaded = 0;\n",
              "\n",
              "      const channel = await google.colab.kernel.comms.open(id);\n",
              "      // Send a message to notify the kernel that we're ready.\n",
              "      channel.send({})\n",
              "\n",
              "      for await (const message of channel.messages) {\n",
              "        // Send a message to notify the kernel that we're ready.\n",
              "        channel.send({})\n",
              "        if (message.buffers) {\n",
              "          for (const buffer of message.buffers) {\n",
              "            buffers.push(buffer);\n",
              "            downloaded += buffer.byteLength;\n",
              "            progress.value = downloaded;\n",
              "          }\n",
              "        }\n",
              "      }\n",
              "      const blob = new Blob(buffers, {type: 'application/binary'});\n",
              "      const a = document.createElement('a');\n",
              "      a.href = window.URL.createObjectURL(blob);\n",
              "      a.download = filename;\n",
              "      div.appendChild(a);\n",
              "      a.click();\n",
              "      div.remove();\n",
              "    }\n",
              "  "
            ]
          },
          "metadata": {}
        },
        {
          "output_type": "display_data",
          "data": {
            "text/plain": [
              "<IPython.core.display.Javascript object>"
            ],
            "application/javascript": [
              "download(\"download_a813956c-723a-4cfa-99f7-db067d559d5d\", \"RF_conso_puiss_ec.pkl\", 2778369)"
            ]
          },
          "metadata": {}
        }
      ]
    },
    {
      "cell_type": "markdown",
      "metadata": {
        "id": "IYkwrjJxdC0i"
      },
      "source": [
        "**Conclusion de l'étude 1**\n",
        "\n",
        "\"conso_mixte\" est très utile et permet une classification très efficace. Si on combine cette donnée à \"puiss_max\" ou \"ec (cm3)\", on obtient 99% d'accuracy.\n",
        "La question que l'on peut se poser est : \"Est ce que la conso_mixte n'est pas trop corrélée avec la variable cible et qu'il est donc pas pertinent de faire un modèle à partir de cette variable ?\". En effet, on obtient déjà 99% d'accuracy sans essayer de perfectionner le modèle. Cependant pour nuancer cela, il faut quand même prendre en compte que en utilisant uniquement la variable, on obtient 85%. C'est donc grâce à la combinaison de cette variable avec d'autres que l'on obtient des scores élevés.\n",
        "\n",
        "De plus, j'ai testé \"conso_urb\" et \"conso_exurb\" à la place de \"conso_mixte\" par curiosité. C'est variable sont également très efficaces mais moins que \"conso_mixte\". Par exemple, on pert environ 5 à 7 % d'accuracy."
      ]
    },
    {
      "cell_type": "code",
      "execution_count": null,
      "metadata": {
        "id": "hrm8mzZRdC0j"
      },
      "outputs": [],
      "source": []
    },
    {
      "cell_type": "code",
      "execution_count": null,
      "metadata": {
        "id": "3GpCx36OdC0j"
      },
      "outputs": [],
      "source": []
    },
    {
      "cell_type": "code",
      "execution_count": null,
      "metadata": {
        "id": "nmZwmsISdC0j"
      },
      "outputs": [],
      "source": [
        "\n"
      ]
    },
    {
      "cell_type": "markdown",
      "metadata": {
        "id": "5EcDcWBpdC0k"
      },
      "source": [
        "**Etude 2**\n",
        "\n",
        "La seconde étude utilisent uniquement des variables qui sont des caractéristiques de construction de la voiture. Par exemple la masse de la voiture, ou le type de carrosserie. L'objectif est de faire une étude en se basant sur des variables qui sont connues avant de faire des tests sur la voiture."
      ]
    },
    {
      "cell_type": "code",
      "execution_count": null,
      "metadata": {
        "id": "WsEukdITdC0k"
      },
      "outputs": [],
      "source": [
        "df2 = df[['cod_cbr','hybride','masse_ordma_min','masse_ordma_max',\"puiss_max\",\"W (mm)\",\"At1 (mm)\",\"At2 (mm)\",'Carrosserie','typ_boite','nb_rapp','category']]"
      ]
    },
    {
      "cell_type": "code",
      "execution_count": null,
      "metadata": {
        "colab": {
          "base_uri": "https://localhost:8080/"
        },
        "id": "tl2sXostdC0l",
        "outputId": "eb9b1ad2-9bb1-469c-9e5e-984e28697231"
      },
      "outputs": [
        {
          "output_type": "stream",
          "name": "stderr",
          "text": [
            "<ipython-input-34-2fa32c328440>:1: FutureWarning: Downcasting behavior in `replace` is deprecated and will be removed in a future version. To retain the old behavior, explicitly call `result.infer_objects(copy=False)`. To opt-in to the future behavior, set `pd.set_option('future.no_silent_downcasting', True)`\n",
            "  df2[\"hybride\"] = df2[\"hybride\"].replace(to_replace=[\"non\",\"oui\"],value=[0,1])\n",
            "<ipython-input-34-2fa32c328440>:1: SettingWithCopyWarning: \n",
            "A value is trying to be set on a copy of a slice from a DataFrame.\n",
            "Try using .loc[row_indexer,col_indexer] = value instead\n",
            "\n",
            "See the caveats in the documentation: https://pandas.pydata.org/pandas-docs/stable/user_guide/indexing.html#returning-a-view-versus-a-copy\n",
            "  df2[\"hybride\"] = df2[\"hybride\"].replace(to_replace=[\"non\",\"oui\"],value=[0,1])\n",
            "<ipython-input-34-2fa32c328440>:2: FutureWarning: Downcasting behavior in `replace` is deprecated and will be removed in a future version. To retain the old behavior, explicitly call `result.infer_objects(copy=False)`. To opt-in to the future behavior, set `pd.set_option('future.no_silent_downcasting', True)`\n",
            "  df2[\"category\"] = df2[\"category\"].replace(to_replace=['A','B','C','D','E','F','G'],value=[0,1,2,3,4,5,6])\n",
            "<ipython-input-34-2fa32c328440>:2: SettingWithCopyWarning: \n",
            "A value is trying to be set on a copy of a slice from a DataFrame.\n",
            "Try using .loc[row_indexer,col_indexer] = value instead\n",
            "\n",
            "See the caveats in the documentation: https://pandas.pydata.org/pandas-docs/stable/user_guide/indexing.html#returning-a-view-versus-a-copy\n",
            "  df2[\"category\"] = df2[\"category\"].replace(to_replace=['A','B','C','D','E','F','G'],value=[0,1,2,3,4,5,6])\n"
          ]
        }
      ],
      "source": [
        "df2[\"hybride\"] = df2[\"hybride\"].replace(to_replace=[\"non\",\"oui\"],value=[0,1])\n",
        "df2[\"category\"] = df2[\"category\"].replace(to_replace=['A','B','C','D','E','F','G'],value=[0,1,2,3,4,5,6])"
      ]
    },
    {
      "cell_type": "code",
      "execution_count": null,
      "metadata": {
        "colab": {
          "base_uri": "https://localhost:8080/"
        },
        "id": "n8hU2MGvdC0l",
        "outputId": "c8b6352e-fb26-4a99-d13d-676a24681ecd"
      },
      "outputs": [
        {
          "output_type": "stream",
          "name": "stdout",
          "text": [
            "cod_cbr\n",
            "GO       3578\n",
            "ES       2239\n",
            "GH         57\n",
            "GP/ES       7\n",
            "ES/GP       6\n",
            "GN/ES       3\n",
            "Name: count, dtype: int64\n"
          ]
        }
      ],
      "source": [
        "print(df2[\"cod_cbr\"].value_counts())\n",
        "df2 = df2.loc[(df2[\"cod_cbr\"] == \"GO\")| (df2[\"cod_cbr\"] == \"ES\") | (df2[\"cod_cbr\"] == \"GH\")].reset_index(drop=True)\n"
      ]
    },
    {
      "cell_type": "code",
      "execution_count": null,
      "metadata": {
        "colab": {
          "base_uri": "https://localhost:8080/"
        },
        "id": "ggBDacSEdC0m",
        "outputId": "61634249-e188-48bf-aa03-c90bdab0d56d"
      },
      "outputs": [
        {
          "output_type": "stream",
          "name": "stdout",
          "text": [
            "Index(['hybride', 'masse_ordma_min', 'masse_ordma_max', 'puiss_max', 'W (mm)',\n",
            "       'At1 (mm)', 'At2 (mm)', 'nb_rapp', 'category', 'cod_cbr_ES',\n",
            "       'cod_cbr_GH', 'cod_cbr_GO', 'Carrosserie_BERLINE', 'Carrosserie_BREAK',\n",
            "       'Carrosserie_CABRIOLET', 'Carrosserie_COMBISPACE', 'Carrosserie_COUPE',\n",
            "       'Carrosserie_MINIBUS', 'Carrosserie_MINISPACE', 'Carrosserie_MONOSPACE',\n",
            "       'Carrosserie_MONOSPACE COMPACT', 'Carrosserie_TS TERRAINS/CHEMINS',\n",
            "       'typ_boite_A', 'typ_boite_D', 'typ_boite_M'],\n",
            "      dtype='object')\n"
          ]
        }
      ],
      "source": [
        "df2 = pd.get_dummies(df2)\n",
        "print(df2.columns)"
      ]
    },
    {
      "cell_type": "code",
      "execution_count": null,
      "metadata": {
        "colab": {
          "base_uri": "https://localhost:8080/"
        },
        "id": "oCQ2N4t6dC0m",
        "outputId": "355ab1b5-f655-4d35-bb70-1454768b418d"
      },
      "outputs": [
        {
          "output_type": "stream",
          "name": "stdout",
          "text": [
            "\n",
            "\n",
            "\n",
            "KNN\n",
            "KNN train :  0.9163651840817195\n",
            "KNN test :  0.88\n",
            "              precision    recall  f1-score   support\n",
            "\n",
            "           0       0.93      0.89      0.91       157\n",
            "           1       0.88      0.89      0.89       330\n",
            "           2       0.84      0.87      0.85       295\n",
            "           3       0.86      0.88      0.87       215\n",
            "           4       0.94      0.90      0.92       149\n",
            "           5       0.93      0.65      0.76        20\n",
            "           6       1.00      0.78      0.88         9\n",
            "\n",
            "    accuracy                           0.88      1175\n",
            "   macro avg       0.91      0.84      0.87      1175\n",
            "weighted avg       0.88      0.88      0.88      1175\n",
            "\n",
            "col_0       0    1    2    3    4   5  6\n",
            "category                                \n",
            "0         140   14    3    0    0   0  0\n",
            "1          10  293   24    3    0   0  0\n",
            "2           1   20  257   16    1   0  0\n",
            "3           0    3   20  190    2   0  0\n",
            "4           0    2    3   10  134   0  0\n",
            "5           0    0    0    2    5  13  0\n",
            "6           0    0    0    0    1   1  7\n",
            "\n",
            "\n",
            "\n",
            "RANDOM FOREST\n",
            "Random Forest train :  0.9838263460310704\n",
            "Random Forest test :  0.9438297872340425\n",
            "              precision    recall  f1-score   support\n",
            "\n",
            "           0       0.94      0.96      0.95       157\n",
            "           1       0.94      0.95      0.94       330\n",
            "           2       0.93      0.94      0.93       295\n",
            "           3       0.95      0.94      0.95       215\n",
            "           4       0.96      0.95      0.95       149\n",
            "           5       1.00      0.80      0.89        20\n",
            "           6       1.00      1.00      1.00         9\n",
            "\n",
            "    accuracy                           0.94      1175\n",
            "   macro avg       0.96      0.93      0.95      1175\n",
            "weighted avg       0.94      0.94      0.94      1175\n",
            "\n",
            "col_0       0    1    2    3    4   5  6\n",
            "category                                \n",
            "0         151    5    1    0    0   0  0\n",
            "1           9  313    8    0    0   0  0\n",
            "2           0   13  276    6    0   0  0\n",
            "3           0    2    8  203    2   0  0\n",
            "4           0    1    3    4  141   0  0\n",
            "5           0    0    0    0    4  16  0\n",
            "6           0    0    0    0    0   0  9\n",
            "\n",
            "\n",
            "\n",
            "                                 Importance\n",
            "Feature                                    \n",
            "masse_ordma_max                    0.181450\n",
            "masse_ordma_min                    0.180444\n",
            "puiss_max                          0.165781\n",
            "W (mm)                             0.097563\n",
            "At2 (mm)                           0.061202\n",
            "At1 (mm)                           0.051378\n",
            "cod_cbr_ES                         0.034434\n",
            "cod_cbr_GO                         0.034324\n",
            "nb_rapp                            0.030824\n",
            "typ_boite_A                        0.027655\n",
            "typ_boite_M                        0.024196\n",
            "Carrosserie_BERLINE                0.020487\n",
            "Carrosserie_COMBISPACE             0.018110\n",
            "Carrosserie_MINIBUS                0.017153\n",
            "Carrosserie_BREAK                  0.012716\n",
            "Carrosserie_TS TERRAINS/CHEMINS    0.011116\n",
            "Carrosserie_MONOSPACE COMPACT      0.007726\n",
            "Carrosserie_MONOSPACE              0.005159\n",
            "Carrosserie_COUPE                  0.005074\n",
            "Carrosserie_CABRIOLET              0.003821\n",
            "hybride                            0.003127\n",
            "Carrosserie_MINISPACE              0.002917\n",
            "cod_cbr_GH                         0.002752\n",
            "typ_boite_D                        0.000590\n"
          ]
        }
      ],
      "source": [
        "#'cod_cbr','Carrosserie',typ_boite\n",
        "X = df2.drop([\"category\"],axis=1)\n",
        "y = df2[\"category\"]\n",
        "\n",
        "#Split\n",
        "X_train, X_test, y_train, y_test = train_test_split(X,y,test_size=0.2,random_state=64)\n",
        "\n",
        "#Scaler\n",
        "scaler = StandardScaler()\n",
        "scaler.fit(X_train)\n",
        "X_train_scaler = scaler.transform(X_train)\n",
        "X_test_scaler = scaler.transform(X_test)\n",
        "\n",
        "###LogisticRegression\n",
        "'''\n",
        "clf = LogisticRegression(C=1)\n",
        "clf.fit(X_train_scaler,y_train)\n",
        "\n",
        "print(\"LOGISTIC REGRESSION\")\n",
        "print(\"Logistic Regression train: \",clf.score(X_train_scaler,y_train))\n",
        "print(\"Logistic Regression test : \",clf.score(X_test_scaler,y_test))\n",
        "\n",
        "y_pred = clf.predict(X_test_scaler)\n",
        "print(classification_report(y_test, y_pred))\n",
        "print(pd.crosstab(y_test, y_pred))\n",
        "'''\n",
        "\n",
        "#KNN\n",
        "knn = KNeighborsClassifier(n_neighbors=5)\n",
        "knn.fit(X_train_scaler,y_train)\n",
        "\n",
        "print(\"\\n\\n\")\n",
        "print(\"KNN\")\n",
        "print(\"KNN train : \",knn.score(X_train_scaler,y_train))\n",
        "print(\"KNN test : \",knn.score(X_test_scaler,y_test))\n",
        "\n",
        "y_pred = knn.predict(X_test_scaler)\n",
        "print(classification_report(y_test, y_pred))\n",
        "print(pd.crosstab(y_test, y_pred))\n",
        "\n",
        "#RandomForest\n",
        "rforest = RandomForestClassifier(n_jobs = -1,random_state = 1995)\n",
        "rforest.fit(X_train_scaler,y_train)\n",
        "\n",
        "print(\"\\n\\n\")\n",
        "print(\"RANDOM FOREST\")\n",
        "print(\"Random Forest train : \",rforest.score(X_train_scaler,y_train))\n",
        "print(\"Random Forest test : \",rforest.score(X_test_scaler,y_test))\n",
        "\n",
        "y_pred = rforest.predict(X_test_scaler)\n",
        "print(classification_report(y_test, y_pred))\n",
        "print(pd.crosstab(y_test, y_pred))\n",
        "\n",
        "\n",
        "importances = rforest.feature_importances_\n",
        "\n",
        "features = X.columns\n",
        "importance_df = pd.DataFrame({'Feature': features, 'Importance': importances})\n",
        "\n",
        "importance_df = importance_df.sort_values(by='Importance', ascending=False)\n",
        "\n",
        "importance_df = importance_df.set_index(\"Feature\")\n",
        "\n",
        "\n",
        "# Afficher les résultats\n",
        "print(\"\\n\\n\")\n",
        "print(importance_df)"
      ]
    },
    {
      "cell_type": "code",
      "source": [
        "joblib.dump(knn, \"KNN_pas_optimise.pkl\")\n",
        "joblib.dump(rforest, \"RF_pas_optimise.pkl\")\n",
        "\n",
        "files.download(\"KNN_pas_optimise.pkl\")\n",
        "files.download(\"RF_pas_optimise.pkl\")"
      ],
      "metadata": {
        "colab": {
          "base_uri": "https://localhost:8080/",
          "height": 17
        },
        "id": "3Nq_OBb51N6Q",
        "outputId": "34b2447c-ff49-4cf6-cf9b-2d642d61be2f"
      },
      "execution_count": null,
      "outputs": [
        {
          "output_type": "display_data",
          "data": {
            "text/plain": [
              "<IPython.core.display.Javascript object>"
            ],
            "application/javascript": [
              "\n",
              "    async function download(id, filename, size) {\n",
              "      if (!google.colab.kernel.accessAllowed) {\n",
              "        return;\n",
              "      }\n",
              "      const div = document.createElement('div');\n",
              "      const label = document.createElement('label');\n",
              "      label.textContent = `Downloading \"${filename}\": `;\n",
              "      div.appendChild(label);\n",
              "      const progress = document.createElement('progress');\n",
              "      progress.max = size;\n",
              "      div.appendChild(progress);\n",
              "      document.body.appendChild(div);\n",
              "\n",
              "      const buffers = [];\n",
              "      let downloaded = 0;\n",
              "\n",
              "      const channel = await google.colab.kernel.comms.open(id);\n",
              "      // Send a message to notify the kernel that we're ready.\n",
              "      channel.send({})\n",
              "\n",
              "      for await (const message of channel.messages) {\n",
              "        // Send a message to notify the kernel that we're ready.\n",
              "        channel.send({})\n",
              "        if (message.buffers) {\n",
              "          for (const buffer of message.buffers) {\n",
              "            buffers.push(buffer);\n",
              "            downloaded += buffer.byteLength;\n",
              "            progress.value = downloaded;\n",
              "          }\n",
              "        }\n",
              "      }\n",
              "      const blob = new Blob(buffers, {type: 'application/binary'});\n",
              "      const a = document.createElement('a');\n",
              "      a.href = window.URL.createObjectURL(blob);\n",
              "      a.download = filename;\n",
              "      div.appendChild(a);\n",
              "      a.click();\n",
              "      div.remove();\n",
              "    }\n",
              "  "
            ]
          },
          "metadata": {}
        },
        {
          "output_type": "display_data",
          "data": {
            "text/plain": [
              "<IPython.core.display.Javascript object>"
            ],
            "application/javascript": [
              "download(\"download_85b4fbd9-900f-4ad6-8702-4c3be33688a3\", \"KNN_pas_optimise.pkl\", 1738244)"
            ]
          },
          "metadata": {}
        },
        {
          "output_type": "display_data",
          "data": {
            "text/plain": [
              "<IPython.core.display.Javascript object>"
            ],
            "application/javascript": [
              "\n",
              "    async function download(id, filename, size) {\n",
              "      if (!google.colab.kernel.accessAllowed) {\n",
              "        return;\n",
              "      }\n",
              "      const div = document.createElement('div');\n",
              "      const label = document.createElement('label');\n",
              "      label.textContent = `Downloading \"${filename}\": `;\n",
              "      div.appendChild(label);\n",
              "      const progress = document.createElement('progress');\n",
              "      progress.max = size;\n",
              "      div.appendChild(progress);\n",
              "      document.body.appendChild(div);\n",
              "\n",
              "      const buffers = [];\n",
              "      let downloaded = 0;\n",
              "\n",
              "      const channel = await google.colab.kernel.comms.open(id);\n",
              "      // Send a message to notify the kernel that we're ready.\n",
              "      channel.send({})\n",
              "\n",
              "      for await (const message of channel.messages) {\n",
              "        // Send a message to notify the kernel that we're ready.\n",
              "        channel.send({})\n",
              "        if (message.buffers) {\n",
              "          for (const buffer of message.buffers) {\n",
              "            buffers.push(buffer);\n",
              "            downloaded += buffer.byteLength;\n",
              "            progress.value = downloaded;\n",
              "          }\n",
              "        }\n",
              "      }\n",
              "      const blob = new Blob(buffers, {type: 'application/binary'});\n",
              "      const a = document.createElement('a');\n",
              "      a.href = window.URL.createObjectURL(blob);\n",
              "      a.download = filename;\n",
              "      div.appendChild(a);\n",
              "      a.click();\n",
              "      div.remove();\n",
              "    }\n",
              "  "
            ]
          },
          "metadata": {}
        },
        {
          "output_type": "display_data",
          "data": {
            "text/plain": [
              "<IPython.core.display.Javascript object>"
            ],
            "application/javascript": [
              "download(\"download_89934d2e-f200-414b-96b4-f85d86c725e8\", \"RF_pas_optimise.pkl\", 16461729)"
            ]
          },
          "metadata": {}
        }
      ]
    },
    {
      "cell_type": "code",
      "source": [
        "print(importance_df)\n",
        "plt.figure(figsize=(10,5))\n",
        "sns.barplot(importance_df[\"Importance\"])\n",
        "plt.xticks(rotation=80)\n"
      ],
      "metadata": {
        "colab": {
          "base_uri": "https://localhost:8080/",
          "height": 1000
        },
        "id": "rdv84L8F3-K6",
        "outputId": "52f2b006-8555-41df-fdd8-ba8a379fb8ea"
      },
      "execution_count": null,
      "outputs": [
        {
          "output_type": "stream",
          "name": "stdout",
          "text": [
            "                                 Importance\n",
            "Feature                                    \n",
            "masse_ordma_max                    0.181450\n",
            "masse_ordma_min                    0.180444\n",
            "puiss_max                          0.165781\n",
            "W (mm)                             0.097563\n",
            "At2 (mm)                           0.061202\n",
            "At1 (mm)                           0.051378\n",
            "cod_cbr_ES                         0.034434\n",
            "cod_cbr_GO                         0.034324\n",
            "nb_rapp                            0.030824\n",
            "typ_boite_A                        0.027655\n",
            "typ_boite_M                        0.024196\n",
            "Carrosserie_BERLINE                0.020487\n",
            "Carrosserie_COMBISPACE             0.018110\n",
            "Carrosserie_MINIBUS                0.017153\n",
            "Carrosserie_BREAK                  0.012716\n",
            "Carrosserie_TS TERRAINS/CHEMINS    0.011116\n",
            "Carrosserie_MONOSPACE COMPACT      0.007726\n",
            "Carrosserie_MONOSPACE              0.005159\n",
            "Carrosserie_COUPE                  0.005074\n",
            "Carrosserie_CABRIOLET              0.003821\n",
            "hybride                            0.003127\n",
            "Carrosserie_MINISPACE              0.002917\n",
            "cod_cbr_GH                         0.002752\n",
            "typ_boite_D                        0.000590\n"
          ]
        },
        {
          "output_type": "execute_result",
          "data": {
            "text/plain": [
              "([0,\n",
              "  1,\n",
              "  2,\n",
              "  3,\n",
              "  4,\n",
              "  5,\n",
              "  6,\n",
              "  7,\n",
              "  8,\n",
              "  9,\n",
              "  10,\n",
              "  11,\n",
              "  12,\n",
              "  13,\n",
              "  14,\n",
              "  15,\n",
              "  16,\n",
              "  17,\n",
              "  18,\n",
              "  19,\n",
              "  20,\n",
              "  21,\n",
              "  22,\n",
              "  23],\n",
              " [Text(0, 0, 'masse_ordma_max'),\n",
              "  Text(1, 0, 'masse_ordma_min'),\n",
              "  Text(2, 0, 'puiss_max'),\n",
              "  Text(3, 0, 'W (mm)'),\n",
              "  Text(4, 0, 'At2 (mm)'),\n",
              "  Text(5, 0, 'At1 (mm)'),\n",
              "  Text(6, 0, 'cod_cbr_ES'),\n",
              "  Text(7, 0, 'cod_cbr_GO'),\n",
              "  Text(8, 0, 'nb_rapp'),\n",
              "  Text(9, 0, 'typ_boite_A'),\n",
              "  Text(10, 0, 'typ_boite_M'),\n",
              "  Text(11, 0, 'Carrosserie_BERLINE'),\n",
              "  Text(12, 0, 'Carrosserie_COMBISPACE'),\n",
              "  Text(13, 0, 'Carrosserie_MINIBUS'),\n",
              "  Text(14, 0, 'Carrosserie_BREAK'),\n",
              "  Text(15, 0, 'Carrosserie_TS TERRAINS/CHEMINS'),\n",
              "  Text(16, 0, 'Carrosserie_MONOSPACE COMPACT'),\n",
              "  Text(17, 0, 'Carrosserie_MONOSPACE'),\n",
              "  Text(18, 0, 'Carrosserie_COUPE'),\n",
              "  Text(19, 0, 'Carrosserie_CABRIOLET'),\n",
              "  Text(20, 0, 'hybride'),\n",
              "  Text(21, 0, 'Carrosserie_MINISPACE'),\n",
              "  Text(22, 0, 'cod_cbr_GH'),\n",
              "  Text(23, 0, 'typ_boite_D')])"
            ]
          },
          "metadata": {},
          "execution_count": 40
        },
        {
          "output_type": "display_data",
          "data": {
            "text/plain": [
              "<Figure size 1000x500 with 1 Axes>"
            ],
            "image/png": "[encoded data removed]"
          },
          "metadata": {}
        }
      ]
    },
    {
      "cell_type": "markdown",
      "metadata": {
        "id": "3YA_t00ydC0n"
      },
      "source": [
        "Le feature importance permet montrer quelles sont les variables les plus utiles pour l'apprentissage du modèle. Ainsi, juste pour tester, j'ai selectionné les variables les plus importantes et je me suis débarrassé des autres pour voir si le modèle était plus performant en réduisant sa complexité."
      ]
    },
    {
      "cell_type": "code",
      "execution_count": null,
      "metadata": {
        "colab": {
          "base_uri": "https://localhost:8080/"
        },
        "id": "VEWP6ToodC0n",
        "outputId": "3bcd8741-527a-412c-d186-88f9374ef59b"
      },
      "outputs": [
        {
          "output_type": "stream",
          "name": "stdout",
          "text": [
            "\n",
            "\n",
            "\n",
            "KNN\n",
            "KNN train :  0.8940200042562247\n",
            "KNN test :  0.8153191489361702\n",
            "              precision    recall  f1-score   support\n",
            "\n",
            "           0       0.83      0.83      0.83       157\n",
            "           1       0.84      0.83      0.84       330\n",
            "           2       0.79      0.81      0.80       295\n",
            "           3       0.82      0.80      0.81       215\n",
            "           4       0.76      0.79      0.77       149\n",
            "           5       0.94      0.80      0.86        20\n",
            "           6       1.00      1.00      1.00         9\n",
            "\n",
            "    accuracy                           0.82      1175\n",
            "   macro avg       0.85      0.84      0.85      1175\n",
            "weighted avg       0.82      0.82      0.82      1175\n",
            "\n",
            "col_0       0    1    2    3    4   5  6\n",
            "category                                \n",
            "0         130   23    3    1    0   0  0\n",
            "1          22  274   29    3    2   0  0\n",
            "2           3   22  239   18   13   0  0\n",
            "3           0    6   18  172   19   0  0\n",
            "4           1    0   12   17  118   1  0\n",
            "5           0    0    0    0    4  16  0\n",
            "6           0    0    0    0    0   0  9\n",
            "\n",
            "\n",
            "\n",
            "RANDOM FOREST\n",
            "Random Forest train :  0.9804213662481379\n",
            "Random Forest test :  0.9421276595744681\n",
            "              precision    recall  f1-score   support\n",
            "\n",
            "           0       0.94      0.95      0.94       157\n",
            "           1       0.93      0.94      0.93       330\n",
            "           2       0.94      0.93      0.93       295\n",
            "           3       0.96      0.95      0.96       215\n",
            "           4       0.97      0.95      0.96       149\n",
            "           5       0.90      0.90      0.90        20\n",
            "           6       1.00      1.00      1.00         9\n",
            "\n",
            "    accuracy                           0.94      1175\n",
            "   macro avg       0.95      0.95      0.95      1175\n",
            "weighted avg       0.94      0.94      0.94      1175\n",
            "\n",
            "col_0       0    1    2    3    4   5  6\n",
            "category                                \n",
            "0         149    7    1    0    0   0  0\n",
            "1          10  310   10    0    0   0  0\n",
            "2           0   15  274    6    0   0  0\n",
            "3           0    0    8  205    2   0  0\n",
            "4           0    2    0    3  142   2  0\n",
            "5           0    0    0    0    2  18  0\n",
            "6           0    0    0    0    0   0  9\n"
          ]
        }
      ],
      "source": [
        "#'cod_cbr','Carrosserie',typ_boite\n",
        "#X = df[['masse_ordma_min','masse_ordma_max',\"puiss_max\",\"W (mm)\",\"At1 (mm)\",\"At2 (mm)\",'nb_rapp']]\n",
        "X = df2[['masse_ordma_min','masse_ordma_max',\"puiss_max\",\"W (mm)\",\"At1 (mm)\",\"At2 (mm)\",'cod_cbr_ES','cod_cbr_GO',\"nb_rapp\"]]\n",
        "y = df2[\"category\"]\n",
        "\n",
        "#Split\n",
        "X_train, X_test, y_train, y_test = train_test_split(X,y,test_size=0.2,random_state=64)\n",
        "\n",
        "#Scaler\n",
        "scaler = StandardScaler()\n",
        "scaler.fit(X_train)\n",
        "X_train_scaler = scaler.transform(X_train)\n",
        "X_test_scaler = scaler.transform(X_test)\n",
        "\n",
        "###LogisticRegression\n",
        "'''\n",
        "clf = LogisticRegression(C=1)\n",
        "clf.fit(X_train_scaler,y_train)\n",
        "\n",
        "print(\"LOGISTIC REGRESSION\")\n",
        "print(\"Logistic Regression train: \",clf.score(X_train_scaler,y_train))\n",
        "print(\"Logistic Regression test : \",clf.score(X_test_scaler,y_test))\n",
        "\n",
        "y_pred = clf.predict(X_test_scaler)\n",
        "print(classification_report(y_test, y_pred))\n",
        "print(pd.crosstab(y_test, y_pred))\n",
        "'''\n",
        "\n",
        "#KNN\n",
        "knn = KNeighborsClassifier(n_neighbors=5)\n",
        "knn.fit(X_train_scaler,y_train)\n",
        "\n",
        "print(\"\\n\\n\")\n",
        "print(\"KNN\")\n",
        "print(\"KNN train : \",knn.score(X_train_scaler,y_train))\n",
        "print(\"KNN test : \",knn.score(X_test_scaler,y_test))\n",
        "\n",
        "y_pred = knn.predict(X_test_scaler)\n",
        "print(classification_report(y_test, y_pred))\n",
        "print(pd.crosstab(y_test, y_pred))\n",
        "\n",
        "#RandomForest\n",
        "rforest = RandomForestClassifier(n_jobs = -1,random_state = 64)\n",
        "rforest.fit(X_train_scaler,y_train)\n",
        "\n",
        "print(\"\\n\\n\")\n",
        "print(\"RANDOM FOREST\")\n",
        "print(\"Random Forest train : \",rforest.score(X_train_scaler,y_train))\n",
        "print(\"Random Forest test : \",rforest.score(X_test_scaler,y_test))\n",
        "\n",
        "y_pred = rforest.predict(X_test_scaler)\n",
        "print(classification_report(y_test, y_pred))\n",
        "print(pd.crosstab(y_test, y_pred))\n",
        "\n"
      ]
    },
    {
      "cell_type": "code",
      "source": [
        "importance_list = list(importance_df.index)\n",
        "print(importance_list)\n",
        "\n",
        "list_knn_train = []\n",
        "list_knn_test = []\n",
        "list_rf_train = []\n",
        "list_rf_test = []\n",
        "\n",
        "for i in range(len(importance_list)):\n",
        "  importance_sous_list = importance_list[:i+1]\n",
        "\n",
        "  X = df2[importance_sous_list]\n",
        "  y = df2[\"category\"]\n",
        "\n",
        "  #Split\n",
        "  X_train, X_test, y_train, y_test = train_test_split(X,y,test_size=0.2,random_state=64)\n",
        "\n",
        "  #Scaler\n",
        "  scaler = StandardScaler()\n",
        "  scaler.fit(X_train)\n",
        "  X_train_scaler = scaler.transform(X_train)\n",
        "  X_test_scaler = scaler.transform(X_test)\n",
        "\n",
        "\n",
        "  #KNN\n",
        "  knn = KNeighborsClassifier(n_neighbors=5)\n",
        "  knn.fit(X_train_scaler,y_train)\n",
        "\n",
        "  list_knn_train.append(knn.score(X_train_scaler,y_train))\n",
        "  list_knn_test.append(knn.score(X_test_scaler,y_test))\n",
        "\n",
        "\n",
        "  #RandomForest\n",
        "  rforest = RandomForestClassifier(n_jobs = -1,random_state = 64)\n",
        "  rforest.fit(X_train_scaler,y_train)\n",
        "\n",
        "  list_rf_train.append(rforest.score(X_train_scaler,y_train))\n",
        "  list_rf_test.append(rforest.score(X_test_scaler,y_test))\n",
        "\n"
      ],
      "metadata": {
        "colab": {
          "base_uri": "https://localhost:8080/"
        },
        "id": "fz3PO6KgBA19",
        "outputId": "8d609c05-7fa4-46d9-c9d5-5d47f7aee75d"
      },
      "execution_count": null,
      "outputs": [
        {
          "output_type": "stream",
          "name": "stdout",
          "text": [
            "['masse_ordma_max', 'masse_ordma_min', 'puiss_max', 'W (mm)', 'At2 (mm)', 'At1 (mm)', 'cod_cbr_ES', 'cod_cbr_GO', 'nb_rapp', 'typ_boite_A', 'typ_boite_M', 'Carrosserie_BERLINE', 'Carrosserie_COMBISPACE', 'Carrosserie_MINIBUS', 'Carrosserie_BREAK', 'Carrosserie_TS TERRAINS/CHEMINS', 'Carrosserie_MONOSPACE COMPACT', 'Carrosserie_MONOSPACE', 'Carrosserie_COUPE', 'Carrosserie_CABRIOLET', 'hybride', 'Carrosserie_MINISPACE', 'cod_cbr_GH', 'typ_boite_D']\n"
          ]
        }
      ]
    },
    {
      "cell_type": "code",
      "source": [
        "ticks = [i for i in range(len(importance_list))]\n",
        "\n",
        "\n",
        "accuracy_max = max(list_knn_test)\n",
        "accuracy_argmax = np.argmax(list_knn_test)\n",
        "print(accuracy_max)\n",
        "print(accuracy_argmax)\n",
        "\n",
        "plt.figure(figsize=(10,5))\n",
        "plt.plot(list_knn_train,label=\"KNN train\",color='purple')\n",
        "plt.plot(list_knn_test,label=\"KNN test\",color=\"orange\")\n",
        "plt.plot([0,len(importance_list)],[accuracy_max,accuracy_max],'r--')\n",
        "plt.title(\"KNN\")\n",
        "plt.legend()\n",
        "plt.xticks(ticks=ticks, labels = importance_list,rotation =80)\n",
        "plt.text(0,accuracy_max+0.005,round(accuracy_max,2),color='red')\n",
        "plt.show()"
      ],
      "metadata": {
        "colab": {
          "base_uri": "https://localhost:8080/",
          "height": 733
        },
        "id": "X3fCONGJHCci",
        "outputId": "01e93786-a0a4-4e0d-d170-804635945cd2"
      },
      "execution_count": null,
      "outputs": [
        {
          "output_type": "stream",
          "name": "stdout",
          "text": [
            "0.8893617021276595\n",
            "2\n"
          ]
        },
        {
          "output_type": "display_data",
          "data": {
            "text/plain": [
              "<Figure size 1000x500 with 1 Axes>"
            ],
            "image/png": "[encoded data removed]"
          },
          "metadata": {}
        }
      ]
    },
    {
      "cell_type": "code",
      "source": [
        "accuracy_max = max(list_rf_test)\n",
        "accuracy_argmax =np.argmax(list_rf_test)\n",
        "\n",
        "# plt.figure(figsize=(10,5))\n",
        "# plt.plot(list_knn_train,label=\"KNN train\")\n",
        "# plt.plot(list_knn_test,label=\"KNN test\")\n",
        "# plt.title(\"KNN\")\n",
        "# plt.legend()\n",
        "\n",
        "\n",
        "plt.figure(figsize=(10,5))\n",
        "plt.plot(list_rf_train,label=\"RF train\",color=\"purple\")\n",
        "plt.plot(list_rf_test,label=\"RF test\",color=\"orange\")\n",
        "plt.plot([0,len(importance_list)],[accuracy_max,accuracy_max],'r--')\n",
        "plt.title(\"RandomForest\")\n",
        "plt.legend()\n",
        "plt.xticks(ticks=ticks, labels = importance_list,rotation =80)\n",
        "plt.text(0,accuracy_max+0.005,round(accuracy_max,2),color='red')\n",
        "plt.show()"
      ],
      "metadata": {
        "colab": {
          "base_uri": "https://localhost:8080/",
          "height": 698
        },
        "id": "qhfnOiUyC4TC",
        "outputId": "e7f7cdaa-f92f-4d73-f232-05ad07faeea1"
      },
      "execution_count": null,
      "outputs": [
        {
          "output_type": "display_data",
          "data": {
            "text/plain": [
              "<Figure size 1000x500 with 1 Axes>"
            ],
            "image/png": "[encoded data removed]"
          },
          "metadata": {}
        }
      ]
    },
    {
      "cell_type": "markdown",
      "metadata": {
        "id": "gTH0yrhcdC0o"
      },
      "source": [
        "Le modèle n'est finalement pas plus performant. Mais j'étais curieux de voir les résultats. Ainsi je ne vais pas me débarrasser des varibles soit disant moins importantes."
      ]
    },
    {
      "cell_type": "markdown",
      "metadata": {
        "id": "giHjUq2FdC0o"
      },
      "source": [
        "Etant donné que le RandomForest est le modèle le plus performant utilisé, on va conserver ce modèle et essayer d'améliorer au maximum ce modèle. Pour cela, on va faire un GridSearchCV pour sélectionner la meilleur combinaison d'hyperparamètres.\n",
        "\n",
        "Les hyperparamètres testés seront le nombres d'estimateurs et le criterion."
      ]
    },
    {
      "cell_type": "code",
      "execution_count": null,
      "metadata": {
        "id": "XXDXASPFdC0p"
      },
      "outputs": [],
      "source": [
        "from sklearn.model_selection import GridSearchCV\n",
        "\n",
        "parametres = {\n",
        "    'n_estimators':[50,100,150,250,500]\n",
        "}\n",
        "parametres = {\n",
        "    'n_estimators':[10,50,100,150,200,300,500,750,1000],\n",
        "    'criterion':[\"gini\",\"entropy\"],\n",
        "}\n",
        "\n",
        "rforest = RandomForestClassifier(n_jobs=-1,random_state=64)\n",
        "grid_clf = GridSearchCV(estimator=rforest,param_grid = parametres)"
      ]
    },
    {
      "cell_type": "code",
      "execution_count": null,
      "metadata": {
        "colab": {
          "base_uri": "https://localhost:8080/"
        },
        "id": "fO5yY0EGdC0p",
        "outputId": "606b979a-f6a7-4268-fc52-cf87f70682ce"
      },
      "outputs": [
        {
          "output_type": "stream",
          "name": "stdout",
          "text": [
            "                                            params  mean_test_score\n",
            "0        {'criterion': 'gini', 'n_estimators': 10}         0.939987\n",
            "1        {'criterion': 'gini', 'n_estimators': 50}         0.945094\n",
            "2       {'criterion': 'gini', 'n_estimators': 100}         0.944030\n",
            "3       {'criterion': 'gini', 'n_estimators': 150}         0.944456\n",
            "4       {'criterion': 'gini', 'n_estimators': 200}         0.943605\n",
            "5       {'criterion': 'gini', 'n_estimators': 300}         0.945520\n",
            "6       {'criterion': 'gini', 'n_estimators': 500}         0.944882\n",
            "7       {'criterion': 'gini', 'n_estimators': 750}         0.944669\n",
            "8      {'criterion': 'gini', 'n_estimators': 1000}         0.944882\n",
            "9     {'criterion': 'entropy', 'n_estimators': 10}         0.938924\n",
            "10    {'criterion': 'entropy', 'n_estimators': 50}         0.942754\n",
            "11   {'criterion': 'entropy', 'n_estimators': 100}         0.944882\n",
            "12   {'criterion': 'entropy', 'n_estimators': 150}         0.944243\n",
            "13   {'criterion': 'entropy', 'n_estimators': 200}         0.944456\n",
            "14   {'criterion': 'entropy', 'n_estimators': 300}         0.945307\n",
            "15   {'criterion': 'entropy', 'n_estimators': 500}         0.945307\n",
            "16   {'criterion': 'entropy', 'n_estimators': 750}         0.945095\n",
            "17  {'criterion': 'entropy', 'n_estimators': 1000}         0.946159\n"
          ]
        }
      ],
      "source": [
        "#'cod_cbr','Carrosserie',typ_boite\n",
        "X = df2.drop([\"category\"],axis=1)\n",
        "y = df2[\"category\"]\n",
        "\n",
        "#Split\n",
        "X_train, X_test, y_train, y_test = train_test_split(X,y,test_size=0.2,random_state=64)\n",
        "\n",
        "#Scaler\n",
        "scaler = StandardScaler()\n",
        "scaler.fit(X_train)\n",
        "X_train_scaler = scaler.transform(X_train)\n",
        "X_test_scaler = scaler.transform(X_test)\n",
        "\n",
        "grille = grid_clf.fit(X_train_scaler,y_train)\n",
        "\n",
        "print(pd.DataFrame.from_dict(grille.cv_results_).loc[:,['params','mean_test_score']])"
      ]
    },
    {
      "cell_type": "raw",
      "metadata": {
        "id": "vv6lFeWcdC0p"
      },
      "source": [
        "Avec le GridSearchCV, les résultats sont pratiquement identiques quelque soit la combinaison d'hyperparamètres. Ainsi je conserve mes hyperparamètres initiaux (n_estimators = 100, criterion = 'entropy').\n"
      ]
    },
    {
      "cell_type": "code",
      "execution_count": null,
      "metadata": {
        "colab": {
          "base_uri": "https://localhost:8080/",
          "height": 623
        },
        "id": "EcCI600odC1E",
        "outputId": "881d5910-4927-4b5a-bc31-079ed0e5449e"
      },
      "outputs": [
        {
          "output_type": "stream",
          "name": "stdout",
          "text": [
            "category\n",
            "1    1571\n",
            "2    1441\n",
            "3    1154\n",
            "0     783\n",
            "4     780\n",
            "5     104\n",
            "6      41\n",
            "Name: count, dtype: int64\n"
          ]
        },
        {
          "output_type": "execute_result",
          "data": {
            "text/plain": [
              "<Axes: xlabel='category', ylabel='count'>"
            ]
          },
          "metadata": {},
          "execution_count": 43
        },
        {
          "output_type": "display_data",
          "data": {
            "text/plain": [
              "<Figure size 640x480 with 1 Axes>"
            ],
            "image/png": "[encoded data removed]"
          },
          "metadata": {}
        }
      ],
      "source": [
        "import seaborn as sns\n",
        "\n",
        "print(df2[\"category\"].value_counts())\n",
        "\n",
        "sns.barplot(df2[\"category\"].value_counts())"
      ]
    },
    {
      "cell_type": "markdown",
      "metadata": {
        "id": "W75svZh1dC1F"
      },
      "source": [
        "Etant donné que la répartition des classes n'est pas égale, il y a beaucoup moins d'éléments des classes 5 et 6 que les autres, j'essaye d'utiliser un resampling pour avoir un dataset plus balancé. Cette méthode permettra de diminuer l'oversampling présent notre modèle d'apprentissage.\n",
        "\n",
        "Pour cela on va utiliser la méthode de resampling nommée SMOTE. Comme pour l'instant je n'ai pas accès à la bibliothèque imblearn (il faut que je l'installe), j'ai mis en commentaire cette partie que je ferai plus tard."
      ]
    },
    {
      "cell_type": "code",
      "execution_count": null,
      "metadata": {
        "id": "LVMwfC2YdC1F",
        "outputId": "1fec7cd2-9fb2-4902-c81f-2fb4db5da08d",
        "colab": {
          "base_uri": "https://localhost:8080/"
        }
      },
      "outputs": [
        {
          "output_type": "stream",
          "name": "stdout",
          "text": [
            "\n",
            "\n",
            "\n",
            "KNN\n",
            "KNN train :  0.9555657879590193\n",
            "KNN test :  0.8842553191489362\n",
            "              precision    recall  f1-score   support\n",
            "\n",
            "           0       0.88      0.92      0.90       157\n",
            "           1       0.91      0.87      0.89       330\n",
            "           2       0.84      0.86      0.85       295\n",
            "           3       0.86      0.89      0.87       215\n",
            "           4       0.96      0.93      0.94       149\n",
            "           5       1.00      0.85      0.92        20\n",
            "           6       1.00      1.00      1.00         9\n",
            "\n",
            "    accuracy                           0.88      1175\n",
            "   macro avg       0.92      0.90      0.91      1175\n",
            "weighted avg       0.89      0.88      0.88      1175\n",
            "\n",
            "col_0       0    1    2    3    4   5  6\n",
            "category                                \n",
            "0         144   10    3    0    0   0  0\n",
            "1          17  286   24    3    0   0  0\n",
            "2           3   17  254   20    1   0  0\n",
            "3           0    2   19  191    3   0  0\n",
            "4           0    1    2    8  138   0  0\n",
            "5           0    0    0    1    2  17  0\n",
            "6           0    0    0    0    0   0  9\n",
            "\n",
            "\n",
            "\n",
            "RANDOM FOREST\n",
            "Random Forest train :  0.9912512950385634\n",
            "Random Forest test :  0.9472340425531914\n",
            "              precision    recall  f1-score   support\n",
            "\n",
            "           0       0.94      0.97      0.96       157\n",
            "           1       0.95      0.95      0.95       330\n",
            "           2       0.94      0.93      0.93       295\n",
            "           3       0.94      0.95      0.94       215\n",
            "           4       0.98      0.95      0.97       149\n",
            "           5       1.00      0.90      0.95        20\n",
            "           6       1.00      1.00      1.00         9\n",
            "\n",
            "    accuracy                           0.95      1175\n",
            "   macro avg       0.96      0.95      0.96      1175\n",
            "weighted avg       0.95      0.95      0.95      1175\n",
            "\n",
            "col_0       0    1    2    3    4   5  6\n",
            "category                                \n",
            "0         153    3    1    0    0   0  0\n",
            "1          10  312    8    0    0   0  0\n",
            "2           0   11  275    9    0   0  0\n",
            "3           0    2    8  204    1   0  0\n",
            "4           0    1    2    4  142   0  0\n",
            "5           0    0    0    0    2  18  0\n",
            "6           0    0    0    0    0   0  9\n"
          ]
        }
      ],
      "source": [
        "from imblearn.over_sampling import SMOTE\n",
        "\n",
        "\n",
        "\n",
        "#'cod_cbr','Carrosserie',typ_boite\n",
        "X = df2.drop([\"category\"],axis=1)\n",
        "y = df2[\"category\"]\n",
        "\n",
        "\n",
        "#Split\n",
        "X_train, X_test, y_train, y_test = train_test_split(X,y,test_size=0.2,random_state=64)\n",
        "\n",
        "#Scaler\n",
        "scaler = StandardScaler()\n",
        "scaler.fit(X_train)\n",
        "X_train_scaler = scaler.transform(X_train)\n",
        "X_test_scaler = scaler.transform(X_test)\n",
        "\n",
        "#Smote\n",
        "smote = SMOTE(random_state=64)\n",
        "X_train_smote, y_train_smote = smote.fit_resample(X_train_scaler, y_train)\n",
        "\n",
        "#KNN\n",
        "knn = KNeighborsClassifier(n_neighbors=5)\n",
        "knn.fit(X_train_smote,y_train_smote)\n",
        "\n",
        "print(\"\\n\\n\")\n",
        "print(\"KNN\")\n",
        "print(\"KNN train : \",knn.score(X_train_smote,y_train_smote))\n",
        "print(\"KNN test : \",knn.score(X_test_scaler,y_test))\n",
        "\n",
        "y_pred = knn.predict(X_test_scaler)\n",
        "print(classification_report(y_test, y_pred))\n",
        "print(pd.crosstab(y_test, y_pred))\n",
        "\n",
        "#RandomForest\n",
        "rforest = RandomForestClassifier(n_jobs = -1,random_state = 64)\n",
        "rforest.fit(X_train_smote,y_train_smote)\n",
        "\n",
        "print(\"\\n\\n\")\n",
        "print(\"RANDOM FOREST\")\n",
        "print(\"Random Forest train : \",rforest.score(X_train_smote,y_train_smote))\n",
        "print(\"Random Forest test : \",rforest.score(X_test_scaler,y_test))\n",
        "\n",
        "y_pred = rforest.predict(X_test_scaler)\n",
        "print(classification_report(y_test, y_pred))\n",
        "print(pd.crosstab(y_test, y_pred))\n"
      ]
    },
    {
      "cell_type": "raw",
      "metadata": {
        "id": "QcUU_u6LdC1G"
      },
      "source": []
    },
    {
      "cell_type": "code",
      "source": [
        "joblib.dump(knn, \"KNN_smote.pkl\")\n",
        "joblib.dump(rforest, \"RF_smote.pkl\")\n",
        "\n",
        "files.download(\"KNN_smote.pkl\")\n",
        "files.download(\"RF_smote.pkl\")"
      ],
      "metadata": {
        "id": "lWg531r50e5p",
        "colab": {
          "base_uri": "https://localhost:8080/",
          "height": 34
        },
        "outputId": "282d9875-1c4b-4b81-f9ca-094036081f8a"
      },
      "execution_count": null,
      "outputs": [
        {
          "output_type": "display_data",
          "data": {
            "text/plain": [
              "<IPython.core.display.Javascript object>"
            ],
            "application/javascript": [
              "\n",
              "    async function download(id, filename, size) {\n",
              "      if (!google.colab.kernel.accessAllowed) {\n",
              "        return;\n",
              "      }\n",
              "      const div = document.createElement('div');\n",
              "      const label = document.createElement('label');\n",
              "      label.textContent = `Downloading \"${filename}\": `;\n",
              "      div.appendChild(label);\n",
              "      const progress = document.createElement('progress');\n",
              "      progress.max = size;\n",
              "      div.appendChild(progress);\n",
              "      document.body.appendChild(div);\n",
              "\n",
              "      const buffers = [];\n",
              "      let downloaded = 0;\n",
              "\n",
              "      const channel = await google.colab.kernel.comms.open(id);\n",
              "      // Send a message to notify the kernel that we're ready.\n",
              "      channel.send({})\n",
              "\n",
              "      for await (const message of channel.messages) {\n",
              "        // Send a message to notify the kernel that we're ready.\n",
              "        channel.send({})\n",
              "        if (message.buffers) {\n",
              "          for (const buffer of message.buffers) {\n",
              "            buffers.push(buffer);\n",
              "            downloaded += buffer.byteLength;\n",
              "            progress.value = downloaded;\n",
              "          }\n",
              "        }\n",
              "      }\n",
              "      const blob = new Blob(buffers, {type: 'application/binary'});\n",
              "      const a = document.createElement('a');\n",
              "      a.href = window.URL.createObjectURL(blob);\n",
              "      a.download = filename;\n",
              "      div.appendChild(a);\n",
              "      a.click();\n",
              "      div.remove();\n",
              "    }\n",
              "  "
            ]
          },
          "metadata": {}
        },
        {
          "output_type": "display_data",
          "data": {
            "text/plain": [
              "<IPython.core.display.Javascript object>"
            ],
            "application/javascript": [
              "download(\"download_29d930e3-4008-4c9a-a681-3da8b6e69edc\", \"KNN_smote.pkl\", 1738244)"
            ]
          },
          "metadata": {}
        },
        {
          "output_type": "display_data",
          "data": {
            "text/plain": [
              "<IPython.core.display.Javascript object>"
            ],
            "application/javascript": [
              "\n",
              "    async function download(id, filename, size) {\n",
              "      if (!google.colab.kernel.accessAllowed) {\n",
              "        return;\n",
              "      }\n",
              "      const div = document.createElement('div');\n",
              "      const label = document.createElement('label');\n",
              "      label.textContent = `Downloading \"${filename}\": `;\n",
              "      div.appendChild(label);\n",
              "      const progress = document.createElement('progress');\n",
              "      progress.max = size;\n",
              "      div.appendChild(progress);\n",
              "      document.body.appendChild(div);\n",
              "\n",
              "      const buffers = [];\n",
              "      let downloaded = 0;\n",
              "\n",
              "      const channel = await google.colab.kernel.comms.open(id);\n",
              "      // Send a message to notify the kernel that we're ready.\n",
              "      channel.send({})\n",
              "\n",
              "      for await (const message of channel.messages) {\n",
              "        // Send a message to notify the kernel that we're ready.\n",
              "        channel.send({})\n",
              "        if (message.buffers) {\n",
              "          for (const buffer of message.buffers) {\n",
              "            buffers.push(buffer);\n",
              "            downloaded += buffer.byteLength;\n",
              "            progress.value = downloaded;\n",
              "          }\n",
              "        }\n",
              "      }\n",
              "      const blob = new Blob(buffers, {type: 'application/binary'});\n",
              "      const a = document.createElement('a');\n",
              "      a.href = window.URL.createObjectURL(blob);\n",
              "      a.download = filename;\n",
              "      div.appendChild(a);\n",
              "      a.click();\n",
              "      div.remove();\n",
              "    }\n",
              "  "
            ]
          },
          "metadata": {}
        },
        {
          "output_type": "display_data",
          "data": {
            "text/plain": [
              "<IPython.core.display.Javascript object>"
            ],
            "application/javascript": [
              "download(\"download_214dc8ae-0284-4c37-a876-bd3a36818eca\", \"RF_smote.pkl\", 16461729)"
            ]
          },
          "metadata": {}
        }
      ]
    },
    {
      "cell_type": "code",
      "source": [],
      "metadata": {
        "id": "89htkz1w0eqc"
      },
      "execution_count": null,
      "outputs": []
    },
    {
      "cell_type": "code",
      "source": [],
      "metadata": {
        "id": "-6vVwmX-0eaq"
      },
      "execution_count": null,
      "outputs": []
    },
    {
      "cell_type": "markdown",
      "metadata": {
        "id": "YyvCtgDFdC1G"
      },
      "source": [
        "**Deep Learning**"
      ]
    },
    {
      "cell_type": "code",
      "execution_count": null,
      "metadata": {
        "id": "4rbiDQW2dC1G"
      },
      "outputs": [],
      "source": [
        "import tensorflow as tf\n",
        "from tensorflow import keras\n",
        "from tensorflow.keras.layers import Input, Dense\n",
        "from tensorflow.keras.models import Model\n",
        "\n"
      ]
    },
    {
      "cell_type": "code",
      "source": [
        "import matplotlib.pyplot as plt\n",
        "\n",
        "def plot_loss(history):\n",
        "    plt.plot(history.history['loss'][2:], label='loss')\n",
        "    plt.plot(history.history['val_loss'][2:], label='val_loss')\n",
        "    plt.xlabel('Epoch')\n",
        "    plt.ylabel('Error [MPG]')\n",
        "    plt.legend()\n",
        "    plt.grid(True)"
      ],
      "metadata": {
        "id": "nuihtyk01Fes"
      },
      "execution_count": null,
      "outputs": []
    },
    {
      "cell_type": "code",
      "source": [
        "num_features = X_train_scaler.shape[1]\n",
        "\n",
        "input_layer = Input(shape=(num_features,))\n",
        "output_layer = Dense(units = 7,activation=\"softmax\")(input_layer)\n",
        "\n",
        "# Création du modèle\n",
        "linear_model = Model(inputs=input_layer, outputs=output_layer,metrics=['accuracy'])\n",
        "\n",
        "# Affichage du résumé du modèle\n",
        "linear_model.summary()\n",
        "\n",
        "opt = tf.optimizers.Adam(learning_rate=0.001)\n",
        "linear_model.compile(loss='sparse_categorical_crossentropy',optimizer = opt)\n",
        "\n",
        "from tensorflow.keras.callbacks import EarlyStopping\n",
        "\n",
        "early_stopping = EarlyStopping(\n",
        "    monitor='val_loss',   # Surveille la perte sur l'ensemble de validation\n",
        "    patience=100,\n",
        "    restore_best_weights=True  # Restaure les poids du meilleur modèle\n",
        ")\n",
        "\n",
        "linear_model_history = linear_model.fit(X_train_smote,y_train_smote,epochs=1000,batch_size=64,validation_split=0.2,callbacks=[early_stopping],verbose=0)\n",
        "\n",
        "plot_loss(linear_model_history)\n",
        "\n",
        "y_pred_probs = linear_model.predict(X_test_scaler)\n",
        "y_pred = np.argmax(y_pred_probs, axis=1)\n",
        "\n",
        "print(y_pred)\n",
        "\n",
        "print(classification_report(y_test, y_pred))\n",
        "print(pd.crosstab(y_test, y_pred))"
      ],
      "metadata": {
        "colab": {
          "base_uri": "https://localhost:8080/",
          "height": 1000
        },
        "id": "_CevORwH0xda",
        "outputId": "358f1203-30a2-438d-e3c4-bd10fb034a7b"
      },
      "execution_count": null,
      "outputs": [
        {
          "output_type": "display_data",
          "data": {
            "text/plain": [
              "\u001b[1mModel: \"functional_1\"\u001b[0m\n"
            ],
            "text/html": [
              "<pre style=\"white-space:pre;overflow-x:auto;line-height:normal;font-family:Menlo,'DejaVu Sans Mono',consolas,'Courier New',monospace\"><span style=\"font-weight: bold\">Model: \"functional_1\"</span>\n",
              "</pre>\n"
            ]
          },
          "metadata": {}
        },
        {
          "output_type": "display_data",
          "data": {
            "text/plain": [
              "┏━━━━━━━━━━━━━━━━━━━━━━━━━━━━━━━━━━━━━━┳━━━━━━━━━━━━━━━━━━━━━━━━━━━━━┳━━━━━━━━━━━━━━━━━┓\n",
              "┃\u001b[1m \u001b[0m\u001b[1mLayer (type)                        \u001b[0m\u001b[1m \u001b[0m┃\u001b[1m \u001b[0m\u001b[1mOutput Shape               \u001b[0m\u001b[1m \u001b[0m┃\u001b[1m \u001b[0m\u001b[1m        Param #\u001b[0m\u001b[1m \u001b[0m┃\n",
              "┡━━━━━━━━━━━━━━━━━━━━━━━━━━━━━━━━━━━━━━╇━━━━━━━━━━━━━━━━━━━━━━━━━━━━━╇━━━━━━━━━━━━━━━━━┩\n",
              "│ input_layer_1 (\u001b[38;5;33mInputLayer\u001b[0m)           │ (\u001b[38;5;45mNone\u001b[0m, \u001b[38;5;34m24\u001b[0m)                  │               \u001b[38;5;34m0\u001b[0m │\n",
              "├──────────────────────────────────────┼─────────────────────────────┼─────────────────┤\n",
              "│ dense_1 (\u001b[38;5;33mDense\u001b[0m)                      │ (\u001b[38;5;45mNone\u001b[0m, \u001b[38;5;34m7\u001b[0m)                   │             \u001b[38;5;34m175\u001b[0m │\n",
              "└──────────────────────────────────────┴─────────────────────────────┴─────────────────┘\n"
            ],
            "text/html": [
              "<pre style=\"white-space:pre;overflow-x:auto;line-height:normal;font-family:Menlo,'DejaVu Sans Mono',consolas,'Courier New',monospace\">┏━━━━━━━━━━━━━━━━━━━━━━━━━━━━━━━━━━━━━━┳━━━━━━━━━━━━━━━━━━━━━━━━━━━━━┳━━━━━━━━━━━━━━━━━┓\n",
              "┃<span style=\"font-weight: bold\"> Layer (type)                         </span>┃<span style=\"font-weight: bold\"> Output Shape                </span>┃<span style=\"font-weight: bold\">         Param # </span>┃\n",
              "┡━━━━━━━━━━━━━━━━━━━━━━━━━━━━━━━━━━━━━━╇━━━━━━━━━━━━━━━━━━━━━━━━━━━━━╇━━━━━━━━━━━━━━━━━┩\n",
              "│ input_layer_1 (<span style=\"color: #0087ff; text-decoration-color: #0087ff\">InputLayer</span>)           │ (<span style=\"color: #00d7ff; text-decoration-color: #00d7ff\">None</span>, <span style=\"color: #00af00; text-decoration-color: #00af00\">24</span>)                  │               <span style=\"color: #00af00; text-decoration-color: #00af00\">0</span> │\n",
              "├──────────────────────────────────────┼─────────────────────────────┼─────────────────┤\n",
              "│ dense_1 (<span style=\"color: #0087ff; text-decoration-color: #0087ff\">Dense</span>)                      │ (<span style=\"color: #00d7ff; text-decoration-color: #00d7ff\">None</span>, <span style=\"color: #00af00; text-decoration-color: #00af00\">7</span>)                   │             <span style=\"color: #00af00; text-decoration-color: #00af00\">175</span> │\n",
              "└──────────────────────────────────────┴─────────────────────────────┴─────────────────┘\n",
              "</pre>\n"
            ]
          },
          "metadata": {}
        },
        {
          "output_type": "display_data",
          "data": {
            "text/plain": [
              "\u001b[1m Total params: \u001b[0m\u001b[38;5;34m175\u001b[0m (700.00 B)\n"
            ],
            "text/html": [
              "<pre style=\"white-space:pre;overflow-x:auto;line-height:normal;font-family:Menlo,'DejaVu Sans Mono',consolas,'Courier New',monospace\"><span style=\"font-weight: bold\"> Total params: </span><span style=\"color: #00af00; text-decoration-color: #00af00\">175</span> (700.00 B)\n",
              "</pre>\n"
            ]
          },
          "metadata": {}
        },
        {
          "output_type": "display_data",
          "data": {
            "text/plain": [
              "\u001b[1m Trainable params: \u001b[0m\u001b[38;5;34m175\u001b[0m (700.00 B)\n"
            ],
            "text/html": [
              "<pre style=\"white-space:pre;overflow-x:auto;line-height:normal;font-family:Menlo,'DejaVu Sans Mono',consolas,'Courier New',monospace\"><span style=\"font-weight: bold\"> Trainable params: </span><span style=\"color: #00af00; text-decoration-color: #00af00\">175</span> (700.00 B)\n",
              "</pre>\n"
            ]
          },
          "metadata": {}
        },
        {
          "output_type": "display_data",
          "data": {
            "text/plain": [
              "\u001b[1m Non-trainable params: \u001b[0m\u001b[38;5;34m0\u001b[0m (0.00 B)\n"
            ],
            "text/html": [
              "<pre style=\"white-space:pre;overflow-x:auto;line-height:normal;font-family:Menlo,'DejaVu Sans Mono',consolas,'Courier New',monospace\"><span style=\"font-weight: bold\"> Non-trainable params: </span><span style=\"color: #00af00; text-decoration-color: #00af00\">0</span> (0.00 B)\n",
              "</pre>\n"
            ]
          },
          "metadata": {}
        },
        {
          "output_type": "stream",
          "name": "stdout",
          "text": [
            "\u001b[1m37/37\u001b[0m \u001b[32m━━━━━━━━━━━━━━━━━━━━\u001b[0m\u001b[37m\u001b[0m \u001b[1m0s\u001b[0m 3ms/step\n",
            "[4 2 0 ... 4 2 0]\n",
            "              precision    recall  f1-score   support\n",
            "\n",
            "           0       0.63      0.81      0.71       157\n",
            "           1       0.65      0.58      0.61       330\n",
            "           2       0.61      0.56      0.58       295\n",
            "           3       0.73      0.80      0.76       215\n",
            "           4       0.88      0.83      0.85       149\n",
            "           5       0.63      0.95      0.76        20\n",
            "           6       1.00      0.89      0.94         9\n",
            "\n",
            "    accuracy                           0.68      1175\n",
            "   macro avg       0.73      0.77      0.75      1175\n",
            "weighted avg       0.68      0.68      0.68      1175\n",
            "\n",
            "col_0       0    1    2    3    4   5  6\n",
            "category                                \n",
            "0         127   27    3    0    0   0  0\n",
            "1          65  190   74    0    1   0  0\n",
            "2          10   67  164   53    1   0  0\n",
            "3           0    8   21  172   14   0  0\n",
            "4           0    0    5   11  123  10  0\n",
            "5           0    0    0    0    1  19  0\n",
            "6           0    0    0    0    0   1  8\n"
          ]
        },
        {
          "output_type": "display_data",
          "data": {
            "text/plain": [
              "<Figure size 640x480 with 1 Axes>"
            ],
            "image/png": "[encoded data removed]"
          },
          "metadata": {}
        }
      ]
    },
    {
      "cell_type": "code",
      "source": [
        "#help(Input)\n",
        "num_features = X_train_scaler.shape[1]\n",
        "print(\"Nombre de features : \",num_features)\n",
        "\n",
        "input_layer = Input(shape=(num_features,))\n",
        "x = Dense(units = 128,activation=\"relu\")(input_layer)\n",
        "x = Dense(units = 64,activation=\"relu\")(x)\n",
        "output_layer = Dense(units = 7,activation=\"softmax\")(x)\n",
        "\n",
        "# Création du modèle\n",
        "linear_model = Model(inputs=input_layer, outputs=output_layer,metrics=['accuracy'])\n",
        "\n",
        "# Affichage du résumé du modèle\n",
        "linear_model.summary()\n"
      ],
      "metadata": {
        "colab": {
          "base_uri": "https://localhost:8080/",
          "height": 274
        },
        "id": "5bxxITkpnVT-",
        "outputId": "79caa15d-c08a-4a14-cc6b-09b366f8ea68"
      },
      "execution_count": null,
      "outputs": [
        {
          "output_type": "stream",
          "name": "stdout",
          "text": [
            "Nombre de features :  24\n"
          ]
        },
        {
          "output_type": "display_data",
          "data": {
            "text/plain": [
              "\u001b[1mModel: \"functional_35\"\u001b[0m\n"
            ],
            "text/html": [
              "<pre style=\"white-space:pre;overflow-x:auto;line-height:normal;font-family:Menlo,'DejaVu Sans Mono',consolas,'Courier New',monospace\"><span style=\"font-weight: bold\">Model: \"functional_35\"</span>\n",
              "</pre>\n"
            ]
          },
          "metadata": {}
        },
        {
          "output_type": "display_data",
          "data": {
            "text/plain": [
              "┏━━━━━━━━━━━━━━━━━━━━━━━━━━━━━━━━━━━━━━┳━━━━━━━━━━━━━━━━━━━━━━━━━━━━━┳━━━━━━━━━━━━━━━━━┓\n",
              "┃\u001b[1m \u001b[0m\u001b[1mLayer (type)                        \u001b[0m\u001b[1m \u001b[0m┃\u001b[1m \u001b[0m\u001b[1mOutput Shape               \u001b[0m\u001b[1m \u001b[0m┃\u001b[1m \u001b[0m\u001b[1m        Param #\u001b[0m\u001b[1m \u001b[0m┃\n",
              "┡━━━━━━━━━━━━━━━━━━━━━━━━━━━━━━━━━━━━━━╇━━━━━━━━━━━━━━━━━━━━━━━━━━━━━╇━━━━━━━━━━━━━━━━━┩\n",
              "│ input_layer_35 (\u001b[38;5;33mInputLayer\u001b[0m)          │ (\u001b[38;5;45mNone\u001b[0m, \u001b[38;5;34m24\u001b[0m)                  │               \u001b[38;5;34m0\u001b[0m │\n",
              "├──────────────────────────────────────┼─────────────────────────────┼─────────────────┤\n",
              "│ dense_77 (\u001b[38;5;33mDense\u001b[0m)                     │ (\u001b[38;5;45mNone\u001b[0m, \u001b[38;5;34m128\u001b[0m)                 │           \u001b[38;5;34m3,200\u001b[0m │\n",
              "├──────────────────────────────────────┼─────────────────────────────┼─────────────────┤\n",
              "│ dense_78 (\u001b[38;5;33mDense\u001b[0m)                     │ (\u001b[38;5;45mNone\u001b[0m, \u001b[38;5;34m64\u001b[0m)                  │           \u001b[38;5;34m8,256\u001b[0m │\n",
              "├──────────────────────────────────────┼─────────────────────────────┼─────────────────┤\n",
              "│ dense_79 (\u001b[38;5;33mDense\u001b[0m)                     │ (\u001b[38;5;45mNone\u001b[0m, \u001b[38;5;34m7\u001b[0m)                   │             \u001b[38;5;34m455\u001b[0m │\n",
              "└──────────────────────────────────────┴─────────────────────────────┴─────────────────┘\n"
            ],
            "text/html": [
              "<pre style=\"white-space:pre;overflow-x:auto;line-height:normal;font-family:Menlo,'DejaVu Sans Mono',consolas,'Courier New',monospace\">┏━━━━━━━━━━━━━━━━━━━━━━━━━━━━━━━━━━━━━━┳━━━━━━━━━━━━━━━━━━━━━━━━━━━━━┳━━━━━━━━━━━━━━━━━┓\n",
              "┃<span style=\"font-weight: bold\"> Layer (type)                         </span>┃<span style=\"font-weight: bold\"> Output Shape                </span>┃<span style=\"font-weight: bold\">         Param # </span>┃\n",
              "┡━━━━━━━━━━━━━━━━━━━━━━━━━━━━━━━━━━━━━━╇━━━━━━━━━━━━━━━━━━━━━━━━━━━━━╇━━━━━━━━━━━━━━━━━┩\n",
              "│ input_layer_35 (<span style=\"color: #0087ff; text-decoration-color: #0087ff\">InputLayer</span>)          │ (<span style=\"color: #00d7ff; text-decoration-color: #00d7ff\">None</span>, <span style=\"color: #00af00; text-decoration-color: #00af00\">24</span>)                  │               <span style=\"color: #00af00; text-decoration-color: #00af00\">0</span> │\n",
              "├──────────────────────────────────────┼─────────────────────────────┼─────────────────┤\n",
              "│ dense_77 (<span style=\"color: #0087ff; text-decoration-color: #0087ff\">Dense</span>)                     │ (<span style=\"color: #00d7ff; text-decoration-color: #00d7ff\">None</span>, <span style=\"color: #00af00; text-decoration-color: #00af00\">128</span>)                 │           <span style=\"color: #00af00; text-decoration-color: #00af00\">3,200</span> │\n",
              "├──────────────────────────────────────┼─────────────────────────────┼─────────────────┤\n",
              "│ dense_78 (<span style=\"color: #0087ff; text-decoration-color: #0087ff\">Dense</span>)                     │ (<span style=\"color: #00d7ff; text-decoration-color: #00d7ff\">None</span>, <span style=\"color: #00af00; text-decoration-color: #00af00\">64</span>)                  │           <span style=\"color: #00af00; text-decoration-color: #00af00\">8,256</span> │\n",
              "├──────────────────────────────────────┼─────────────────────────────┼─────────────────┤\n",
              "│ dense_79 (<span style=\"color: #0087ff; text-decoration-color: #0087ff\">Dense</span>)                     │ (<span style=\"color: #00d7ff; text-decoration-color: #00d7ff\">None</span>, <span style=\"color: #00af00; text-decoration-color: #00af00\">7</span>)                   │             <span style=\"color: #00af00; text-decoration-color: #00af00\">455</span> │\n",
              "└──────────────────────────────────────┴─────────────────────────────┴─────────────────┘\n",
              "</pre>\n"
            ]
          },
          "metadata": {}
        },
        {
          "output_type": "display_data",
          "data": {
            "text/plain": [
              "\u001b[1m Total params: \u001b[0m\u001b[38;5;34m11,911\u001b[0m (46.53 KB)\n"
            ],
            "text/html": [
              "<pre style=\"white-space:pre;overflow-x:auto;line-height:normal;font-family:Menlo,'DejaVu Sans Mono',consolas,'Courier New',monospace\"><span style=\"font-weight: bold\"> Total params: </span><span style=\"color: #00af00; text-decoration-color: #00af00\">11,911</span> (46.53 KB)\n",
              "</pre>\n"
            ]
          },
          "metadata": {}
        },
        {
          "output_type": "display_data",
          "data": {
            "text/plain": [
              "\u001b[1m Trainable params: \u001b[0m\u001b[38;5;34m11,911\u001b[0m (46.53 KB)\n"
            ],
            "text/html": [
              "<pre style=\"white-space:pre;overflow-x:auto;line-height:normal;font-family:Menlo,'DejaVu Sans Mono',consolas,'Courier New',monospace\"><span style=\"font-weight: bold\"> Trainable params: </span><span style=\"color: #00af00; text-decoration-color: #00af00\">11,911</span> (46.53 KB)\n",
              "</pre>\n"
            ]
          },
          "metadata": {}
        },
        {
          "output_type": "display_data",
          "data": {
            "text/plain": [
              "\u001b[1m Non-trainable params: \u001b[0m\u001b[38;5;34m0\u001b[0m (0.00 B)\n"
            ],
            "text/html": [
              "<pre style=\"white-space:pre;overflow-x:auto;line-height:normal;font-family:Menlo,'DejaVu Sans Mono',consolas,'Courier New',monospace\"><span style=\"font-weight: bold\"> Non-trainable params: </span><span style=\"color: #00af00; text-decoration-color: #00af00\">0</span> (0.00 B)\n",
              "</pre>\n"
            ]
          },
          "metadata": {}
        }
      ]
    },
    {
      "cell_type": "code",
      "source": [
        "opt = tf.optimizers.Adam(learning_rate=0.001)\n",
        "linear_model.compile(loss='sparse_categorical_crossentropy',optimizer = opt)\n"
      ],
      "metadata": {
        "id": "N83EyACNoRJE"
      },
      "execution_count": null,
      "outputs": []
    },
    {
      "cell_type": "code",
      "source": [
        "from tensorflow.keras.callbacks import EarlyStopping\n",
        "\n",
        "early_stopping = EarlyStopping(\n",
        "    monitor='val_loss',   # Surveille la perte sur l'ensemble de validation\n",
        "    patience=100,\n",
        "    restore_best_weights=True  # Restaure les poids du meilleur modèle\n",
        ")\n",
        "\n",
        "linear_model_history = linear_model.fit(X_train_smote,y_train_smote,epochs=1000,batch_size=64,validation_split=0.2,callbacks=[early_stopping],verbose=0)"
      ],
      "metadata": {
        "id": "KqWvLt3Isa6S"
      },
      "execution_count": null,
      "outputs": []
    },
    {
      "cell_type": "code",
      "source": [
        "plot_loss(linear_model_history)"
      ],
      "metadata": {
        "colab": {
          "base_uri": "https://localhost:8080/",
          "height": 449
        },
        "id": "9lvWFVtTs01B",
        "outputId": "7a1f16ad-6fdb-4609-f6dc-9e6b6b0ff85c"
      },
      "execution_count": null,
      "outputs": [
        {
          "output_type": "display_data",
          "data": {
            "text/plain": [
              "<Figure size 640x480 with 1 Axes>"
            ],
            "image/png": "[encoded data removed]"
          },
          "metadata": {}
        }
      ]
    },
    {
      "cell_type": "code",
      "source": [
        "y_pred_probs = linear_model.predict(X_test_scaler)\n",
        "y_pred = np.argmax(y_pred_probs, axis=1)\n",
        "\n",
        "print(y_pred)"
      ],
      "metadata": {
        "colab": {
          "base_uri": "https://localhost:8080/"
        },
        "id": "Bz_8IfxgtiOU",
        "outputId": "56ed03e4-85fb-4176-c526-72069eb8c6cc"
      },
      "execution_count": null,
      "outputs": [
        {
          "output_type": "stream",
          "name": "stdout",
          "text": [
            "\u001b[1m37/37\u001b[0m \u001b[32m━━━━━━━━━━━━━━━━━━━━\u001b[0m\u001b[37m\u001b[0m \u001b[1m0s\u001b[0m 3ms/step\n",
            "[4 2 0 ... 4 1 1]\n"
          ]
        }
      ]
    },
    {
      "cell_type": "code",
      "source": [
        "print(classification_report(y_test, y_pred))\n",
        "print(pd.crosstab(y_test, y_pred))"
      ],
      "metadata": {
        "colab": {
          "base_uri": "https://localhost:8080/"
        },
        "id": "5WAJMxjOvbkq",
        "outputId": "739c78df-71bd-4e88-9f1e-8a0191ace1f1"
      },
      "execution_count": null,
      "outputs": [
        {
          "output_type": "stream",
          "name": "stdout",
          "text": [
            "              precision    recall  f1-score   support\n",
            "\n",
            "           0       0.87      0.94      0.91       157\n",
            "           1       0.93      0.89      0.91       330\n",
            "           2       0.90      0.89      0.90       295\n",
            "           3       0.88      0.95      0.91       215\n",
            "           4       0.96      0.91      0.94       149\n",
            "           5       0.89      0.85      0.87        20\n",
            "           6       1.00      1.00      1.00         9\n",
            "\n",
            "    accuracy                           0.91      1175\n",
            "   macro avg       0.92      0.92      0.92      1175\n",
            "weighted avg       0.91      0.91      0.91      1175\n",
            "\n",
            "col_0       0    1    2    3    4   5  6\n",
            "category                                \n",
            "0         148    6    3    0    0   0  0\n",
            "1          21  293   14    2    0   0  0\n",
            "2           1   15  262   17    0   0  0\n",
            "3           0    0    9  204    2   0  0\n",
            "4           0    1    2    8  136   2  0\n",
            "5           0    0    0    0    3  17  0\n",
            "6           0    0    0    0    0   0  9\n"
          ]
        }
      ]
    }
  ],
  "metadata": {
    "kernelspec": {
      "display_name": "Python 3",
      "language": "python",
      "name": "python3"
    },
    "language_info": {
      "codemirror_mode": {
        "name": "ipython",
        "version": 3
      },
      "file_extension": ".py",
      "mimetype": "text/x-python",
      "name": "python",
      "nbconvert_exporter": "python",
      "pygments_lexer": "ipython3",
      "version": "3.6.5"
    },
    "colab": {
      "provenance": []
    }
  },
  "nbformat": 4,
  "nbformat_minor": 0
}