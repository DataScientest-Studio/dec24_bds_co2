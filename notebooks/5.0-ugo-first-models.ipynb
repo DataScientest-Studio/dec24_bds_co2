{
 "cells": [
  {
   "cell_type": "code",
   "execution_count": 2,
   "metadata": {},
   "outputs": [],
   "source": [
    "import numpy as np\n",
    "import pandas as pd"
   ]
  },
  {
   "cell_type": "code",
   "execution_count": 5,
   "metadata": {},
   "outputs": [],
   "source": [
    "from sklearn.linear_model import LogisticRegression"
   ]
  },
  {
   "cell_type": "code",
   "execution_count": 9,
   "metadata": {},
   "outputs": [
    {
     "name": "stdout",
     "output_type": "stream",
     "text": [
      "(5890, 29)\n",
      "Index(['lib_mrq', 'lib_mod_doss', 'lib_mod', 'dscom', 'cod_cbr', 'hybride',\n",
      "       'puiss_admin_98', 'puiss_max', 'conso_urb', 'conso_exurb',\n",
      "       'conso_mixte', 'co2', 'co_typ_1', 'nox', 'ptcl', 'masse_ordma_min',\n",
      "       'masse_ordma_max', 'champ_v9', 'Carrosserie', 'gamme', 'Mp', 'Ct',\n",
      "       'W (mm)', 'At1 (mm)', 'At2 (mm)', 'ec (cm3)', 'typ_boite', 'nb_rapp',\n",
      "       'category'],\n",
      "      dtype='object')\n",
      "      lib_mrq lib_mod_doss    lib_mod                        dscom cod_cbr  \\\n",
      "0  ALFA-ROMEO          159        159         159 2.0 JTDm (170ch)      GO   \n",
      "1  ALFA-ROMEO          159        159     159 2.0 JTDm (170ch) ECO      GO   \n",
      "2  ALFA-ROMEO          159        159      159 SW 2.0 JTDm (170ch)      GO   \n",
      "3  ALFA-ROMEO          159        159  159 SW 2.0 JTDm (170ch) ECO      GO   \n",
      "4  ALFA-ROMEO  AR8C SPIDER  8C SPIDER                    8C SPIDER      ES   \n",
      "\n",
      "  hybride  puiss_admin_98  puiss_max  conso_urb  conso_exurb   ...     \\\n",
      "0     non               9      125.0        6.9          4.3   ...      \n",
      "1     non               9      125.0        6.6          4.3   ...      \n",
      "2     non               9      125.0        7.1          4.4   ...      \n",
      "3     non               9      125.0        6.7          4.4   ...      \n",
      "4     non              38      331.0       24.4         11.6   ...      \n",
      "\n",
      "       gamme                          Mp  Ct  W (mm)  At1 (mm)  At2 (mm)  \\\n",
      "0  MOY-SUPER                         NaN  M1  2703.0    1579.0    1559.0   \n",
      "1  MOY-SUPER                         NaN  M1  2703.0    1593.0    1575.0   \n",
      "2  MOY-SUPER                         NaN  M1  2703.0    1579.0    1559.0   \n",
      "3  MOY-SUPER                         NaN  M1  2703.0    1593.0    1575.0   \n",
      "4       LUXE  FIAT GROUP AUTOMOBILES SPA  M1  2645.0    1590.0    1589.0   \n",
      "\n",
      "   ec (cm3) typ_boite nb_rapp category  \n",
      "0    1956.0         M       6        C  \n",
      "1    1956.0         M       6        C  \n",
      "2    1956.0         M       6        D  \n",
      "3    1956.0         M       6        C  \n",
      "4    4691.0         M       6        G  \n",
      "\n",
      "[5 rows x 29 columns]\n",
      "<class 'pandas.core.frame.DataFrame'>\n",
      "RangeIndex: 5890 entries, 0 to 5889\n",
      "Data columns (total 29 columns):\n",
      "lib_mrq            5890 non-null object\n",
      "lib_mod_doss       5890 non-null object\n",
      "lib_mod            5890 non-null object\n",
      "dscom              5890 non-null object\n",
      "cod_cbr            5890 non-null object\n",
      "hybride            5890 non-null object\n",
      "puiss_admin_98     5890 non-null int64\n",
      "puiss_max          5890 non-null float64\n",
      "conso_urb          5890 non-null float64\n",
      "conso_exurb        5890 non-null float64\n",
      "conso_mixte        5890 non-null float64\n",
      "co2                5890 non-null float64\n",
      "co_typ_1           5878 non-null float64\n",
      "nox                5878 non-null float64\n",
      "ptcl               4484 non-null float64\n",
      "masse_ordma_min    5890 non-null int64\n",
      "masse_ordma_max    5890 non-null int64\n",
      "champ_v9           5890 non-null object\n",
      "Carrosserie        5890 non-null object\n",
      "gamme              5890 non-null object\n",
      "Mp                 3001 non-null object\n",
      "Ct                 5890 non-null object\n",
      "W (mm)             5890 non-null float64\n",
      "At1 (mm)           5890 non-null float64\n",
      "At2 (mm)           5890 non-null float64\n",
      "ec (cm3)           5890 non-null float64\n",
      "typ_boite          5890 non-null object\n",
      "nb_rapp            5890 non-null int64\n",
      "category           5890 non-null object\n",
      "dtypes: float64(12), int64(4), object(13)\n",
      "memory usage: 1.0+ MB\n",
      "None\n"
     ]
    }
   ],
   "source": [
    "df = pd.read_csv(\"../data/Processed/data_merge_v2.csv\")\n",
    "\n",
    "print(df.shape)\n",
    "print(df.columns)\n",
    "print(df.head())\n",
    "print(df.info())"
   ]
  },
  {
   "cell_type": "code",
   "execution_count": 71,
   "metadata": {},
   "outputs": [
    {
     "name": "stdout",
     "output_type": "stream",
     "text": [
      "   puiss_max  conso_mixte\n",
      "0      125.0     5.300000\n",
      "1      125.0     5.100000\n",
      "2      125.0     5.400000\n",
      "3      125.0     5.200000\n",
      "4      331.0    16.299999\n",
      "0    2\n",
      "1    2\n",
      "2    3\n",
      "3    2\n",
      "4    6\n",
      "Name: category, dtype: int64\n"
     ]
    }
   ],
   "source": [
    "X = df[[\"puiss_max\",\"conso_mixte\"]]\n",
    "y = df[\"category\"].replace(to_replace=['A','B','C','D','E','F','G'],value=[0,1,2,3,4,5,6])\n",
    "\n",
    "print(X.head())\n",
    "print(y.head())"
   ]
  },
  {
   "cell_type": "code",
   "execution_count": 72,
   "metadata": {},
   "outputs": [],
   "source": [
    "from sklearn.model_selection import train_test_split\n",
    "\n",
    "X_train, X_test, y_train, y_test = train_test_split(X,y,test_size=0.2,random_state=19)"
   ]
  },
  {
   "cell_type": "code",
   "execution_count": 73,
   "metadata": {},
   "outputs": [],
   "source": [
    "from sklearn.preprocessing import StandardScaler\n",
    "\n",
    "scaler = StandardScaler()\n",
    "scaler.fit(X_train)\n",
    "X_train_scaler = scaler.transform(X_train)\n",
    "X_test_scaler = scaler.transform(X_test)"
   ]
  },
  {
   "cell_type": "code",
   "execution_count": 74,
   "metadata": {},
   "outputs": [
    {
     "data": {
      "text/plain": [
       "LogisticRegression(C=1.0, class_weight=None, dual=False, fit_intercept=True,\n",
       "          intercept_scaling=1, max_iter=100, multi_class='ovr', n_jobs=1,\n",
       "          penalty='l2', random_state=None, solver='liblinear', tol=0.0001,\n",
       "          verbose=0, warm_start=False)"
      ]
     },
     "execution_count": 74,
     "metadata": {},
     "output_type": "execute_result"
    }
   ],
   "source": [
    "clf = LogisticRegression(C=1.0)\n",
    "clf.fit(X_train_scaler,y_train)"
   ]
  },
  {
   "cell_type": "code",
   "execution_count": 75,
   "metadata": {},
   "outputs": [
    {
     "name": "stdout",
     "output_type": "stream",
     "text": [
      "0.6438879456706282\n",
      "0.6595925297113752\n"
     ]
    }
   ],
   "source": [
    "print(clf.score(X_train_scaler,y_train))\n",
    "print(clf.score(X_test_scaler,y_test))"
   ]
  },
  {
   "cell_type": "markdown",
   "metadata": {},
   "source": [
    "**KNN**"
   ]
  },
  {
   "cell_type": "code",
   "execution_count": 76,
   "metadata": {},
   "outputs": [
    {
     "data": {
      "text/plain": [
       "KNeighborsClassifier(algorithm='auto', leaf_size=30, metric='minkowski',\n",
       "           metric_params=None, n_jobs=1, n_neighbors=5, p=2,\n",
       "           weights='uniform')"
      ]
     },
     "execution_count": 76,
     "metadata": {},
     "output_type": "execute_result"
    }
   ],
   "source": [
    "from sklearn.neighbors import KNeighborsClassifier\n",
    "\n",
    "knn = KNeighborsClassifier(n_neighbors=5)\n",
    "knn.fit(X_train_scaler,y_train)"
   ]
  },
  {
   "cell_type": "code",
   "execution_count": 78,
   "metadata": {},
   "outputs": [
    {
     "name": "stdout",
     "output_type": "stream",
     "text": [
      "0.9893887945670629\n",
      "0.9898132427843803\n"
     ]
    }
   ],
   "source": [
    "print(knn.score(X_train_scaler,y_train))\n",
    "print(knn.score(X_test_scaler,y_test))"
   ]
  }
 ],
 "metadata": {
  "kernelspec": {
   "display_name": "Python 3",
   "language": "python",
   "name": "python3"
  },
  "language_info": {
   "codemirror_mode": {
    "name": "ipython",
    "version": 3
   },
   "file_extension": ".py",
   "mimetype": "text/x-python",
   "name": "python",
   "nbconvert_exporter": "python",
   "pygments_lexer": "ipython3",
   "version": "3.6.5"
  }
 },
 "nbformat": 4,
 "nbformat_minor": 2
}
